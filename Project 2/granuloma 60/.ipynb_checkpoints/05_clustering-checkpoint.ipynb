{
 "cells": [
  {
   "cell_type": "markdown",
   "metadata": {},
   "source": [
    "# Clustering\n",
    "\n",
    "Perform clustering. Typically use Leiden algorithms. Also implemented K-means clustering, Hierarchical clustering, but have inactivated."
   ]
  },
  {
   "cell_type": "code",
   "execution_count": null,
   "metadata": {
    "execution": {
     "iopub.execute_input": "2023-01-16T19:57:27.947399Z",
     "iopub.status.busy": "2023-01-16T19:57:27.947399Z",
     "iopub.status.idle": "2023-01-16T19:57:32.590766Z",
     "shell.execute_reply": "2023-01-16T19:57:32.590656Z"
    }
   },
   "outputs": [],
   "source": [
    "import numpy as np\n",
    "import pandas as pd\n",
    "import scanpy as sc\n",
    "import matplotlib.pyplot as plt\n",
    "from matplotlib import rcParams\n",
    "%matplotlib inline\n",
    "import scipy.sparse\n",
    "import sys \n",
    "import os\n",
    "sys.path.append(os.path.abspath(\"D:\\jupyter_3_10\\jl_modules\"))\n",
    "import sc_module as sm\n",
    "\n",
    "sc.settings.verbosity = 3             # verbosity: errors (0), warnings (1), info (2), hints (3)\n",
    "sc.logging.print_header()\n",
    "sc.settings.set_figure_params(dpi=80)\n",
    "\n",
    "# *** Input File ***  h5 file  \n",
    "sample_name = r'sc92'\n",
    "h5_file_path = r'results/'\n",
    "\n",
    "# integration = 'combat'\n",
    "# integration = 'harmony'\n",
    "integration = 'scanorama'\n",
    "if integration == 'combat':\n",
    "    h5_file = h5_file_path + sample_name + '_combat_corrected_scran.h5ad'\n",
    "elif integration == 'harmony':\n",
    "    h5_file = h5_file_path + sample_name + '_harmony_corrected_scran.h5ad'\n",
    "elif integration == 'scanorama':\n",
    "    h5_file = h5_file_path + sample_name + '_scanorama_corrected_scran.h5ad'\n",
    "\n",
    "\n",
    "# use if batch correction is in question or single sample\n",
    "# h5_file = h5_file_path + sample_name + '_lognorm_scran.h5ad'   \n",
    "lognorm = True  # set true if using lognorm data\n",
    "lognorm = False\n",
    "\n",
    "# filtered data to be updated with cluster information\n",
    "filtered_file = h5_file_path + sample_name + '_filt.h5ad'\n",
    "\n",
    "# Path to output data\n",
    "results_file_path = r'results/'\n",
    "clustered_file = results_file_path + sample_name + r'_clustered.h5ad'\n",
    "clustered_filtered_file = results_file_path + sample_name + r'_filt_clustered.h5ad'  # the file that will store the raw counts plus cluster data\n"
   ]
  },
  {
   "cell_type": "code",
   "execution_count": null,
   "metadata": {
    "execution": {
     "iopub.execute_input": "2023-01-16T19:57:32.592794Z",
     "iopub.status.busy": "2023-01-16T19:57:32.592794Z",
     "iopub.status.idle": "2023-01-16T19:57:35.612687Z",
     "shell.execute_reply": "2023-01-16T19:57:35.612589Z"
    },
    "scrolled": true
   },
   "outputs": [],
   "source": [
    "adata = sc.read_h5ad(h5_file)\n",
    "adata.uns['log1p'][\"base\"] = None    # bug fix\n",
    "\n",
    "# adata.obs_names_make_unique()\n",
    "print(adata.obs['sample'].value_counts())\n",
    "print()\n",
    "print(adata)\n",
    "print()\n",
    "print('X matrix is sparse:', scipy.sparse.issparse(adata.X))\n",
    "print('X size =', adata.X.shape)"
   ]
  },
  {
   "cell_type": "markdown",
   "metadata": {},
   "source": [
    "Flip y-axis to place macrophages at top of plot."
   ]
  },
  {
   "cell_type": "code",
   "execution_count": null,
   "metadata": {},
   "outputs": [],
   "source": [
    "adata.obsm['X_umap'][:,1] = adata.obsm['X_umap'][:,1]*-1"
   ]
  },
  {
   "cell_type": "markdown",
   "metadata": {},
   "source": [
    "#### Check input data"
   ]
  },
  {
   "cell_type": "code",
   "execution_count": null,
   "metadata": {
    "execution": {
     "iopub.execute_input": "2023-01-16T19:57:35.614729Z",
     "iopub.status.busy": "2023-01-16T19:57:35.614729Z",
     "iopub.status.idle": "2023-01-16T19:57:35.976789Z",
     "shell.execute_reply": "2023-01-16T19:57:35.976673Z"
    }
   },
   "outputs": [],
   "source": [
    "# sc.pp.highly_variable_genes(adata)\n",
    "\n",
    "\n",
    "# if integration == 'combat':\n",
    "#     pass\n",
    "# elif integration == 'harmony':\n",
    "#     pass\n",
    "# elif integration == 'scanorama':\n",
    "#     sc.pp.neighbors(adata, n_pcs = 30, use_rep = \"Scanorama\")\n",
    "#     sc.tl.umap(adata)\n",
    "\n",
    "if lognorm:\n",
    "    sc.pp.pca(adata, n_comps=30, use_highly_variable=True, svd_solver='arpack')\n",
    "    sc.pp.neighbors(adata, n_pcs =30)\n",
    "    sc.tl.umap(adata)\n",
    "\n",
    "rcParams['figure.figsize'] = 5, 5\n",
    "sc.pl.umap(adata, color=\"sample\")"
   ]
  },
  {
   "cell_type": "markdown",
   "metadata": {},
   "source": [
    "## Graph clustering\n",
    "The procedure of clustering on a Graph can be generalized as 3 main steps:\n",
    "\n",
    "1) Build a kNN graph from the data\n",
    "\n",
    "2) Prune spurious connections from kNN graph (optional step). This is a SNN graph.\n",
    "\n",
    "3) Find groups of cells that maximizes the connections within the group compared other groups.\n",
    "\n",
    "The modularity optimization algorithms in Scanpy are Leiden and Louvain. They generally give similar results. Leiden is generally considered better."
   ]
  },
  {
   "cell_type": "markdown",
   "metadata": {},
   "source": [
    "### Leiden"
   ]
  },
  {
   "cell_type": "code",
   "execution_count": null,
   "metadata": {
    "execution": {
     "iopub.execute_input": "2023-01-16T19:57:35.978828Z",
     "iopub.status.busy": "2023-01-16T19:57:35.978828Z",
     "iopub.status.idle": "2023-01-16T19:58:57.435712Z",
     "shell.execute_reply": "2023-01-16T19:58:57.435590Z"
    }
   },
   "outputs": [],
   "source": [
    "sc.tl.leiden(adata, resolution = 0.2, key_added = \"leiden_0.2\")\n",
    "sc.tl.leiden(adata, resolution = 0.3, key_added = \"leiden_0.3\")\n",
    "sc.tl.leiden(adata, resolution = 0.4, key_added = \"leiden_0.4\")\n",
    "sc.tl.leiden(adata, resolution = 0.6, key_added = \"leiden_0.6\")\n",
    "sc.tl.leiden(adata, resolution = 0.8, key_added = \"leiden_0.8\")\n",
    "sc.tl.leiden(adata, resolution = 1.0, key_added = \"leiden_1.0\")   # default resolution in 1.0\n",
    "sc.tl.leiden(adata, resolution = 1.4, key_added = \"leiden_1.4\")\n",
    "sc.tl.leiden(adata, resolution = 1.7, key_added = \"leiden_1.7\")\n",
    "sc.tl.leiden(adata, resolution = 2.0, key_added = \"leiden_2.0\")\n",
    "sc.tl.leiden(adata, resolution = 2.5, key_added = \"leiden_2.5\")\n",
    "sc.tl.leiden(adata, resolution = 3.0, key_added = \"leiden_3.0\")\n",
    "sc.tl.leiden(adata, resolution = 3.5, key_added = \"leiden_3.5\")\n",
    "sc.tl.leiden(adata, resolution = 4.0, key_added = \"leiden_4.0\")\n",
    "sc.tl.leiden(adata, resolution = 4.5, key_added = \"leiden_4.5\")"
   ]
  },
  {
   "cell_type": "markdown",
   "metadata": {},
   "source": [
    "Plot the clusters with increased resolution."
   ]
  },
  {
   "cell_type": "code",
   "execution_count": null,
   "metadata": {
    "execution": {
     "iopub.execute_input": "2023-01-16T19:58:57.437765Z",
     "iopub.status.busy": "2023-01-16T19:58:57.437765Z",
     "iopub.status.idle": "2023-01-16T19:58:58.267977Z",
     "shell.execute_reply": "2023-01-16T19:58:58.267873Z"
    }
   },
   "outputs": [],
   "source": [
    "rcParams['figure.figsize'] = 6, 6\n",
    "sc.pl.umap(adata, color=['leiden_0.2', 'leiden_0.3'], size=15)"
   ]
  },
  {
   "cell_type": "code",
   "execution_count": null,
   "metadata": {
    "execution": {
     "iopub.execute_input": "2023-01-16T19:58:58.270026Z",
     "iopub.status.busy": "2023-01-16T19:58:58.270026Z",
     "iopub.status.idle": "2023-01-16T19:58:59.140728Z",
     "shell.execute_reply": "2023-01-16T19:58:59.140728Z"
    }
   },
   "outputs": [],
   "source": [
    "sc.pl.umap(adata, color=['leiden_0.4', 'leiden_0.6'], size=15)"
   ]
  },
  {
   "cell_type": "code",
   "execution_count": null,
   "metadata": {
    "execution": {
     "iopub.execute_input": "2023-01-16T19:58:59.142785Z",
     "iopub.status.busy": "2023-01-16T19:58:59.142785Z",
     "iopub.status.idle": "2023-01-16T19:59:00.120640Z",
     "shell.execute_reply": "2023-01-16T19:59:00.120526Z"
    }
   },
   "outputs": [],
   "source": [
    "sc.pl.umap(adata, color=['leiden_0.8','leiden_1.0'], size=15)"
   ]
  },
  {
   "cell_type": "code",
   "execution_count": null,
   "metadata": {
    "execution": {
     "iopub.execute_input": "2023-01-16T19:59:00.122667Z",
     "iopub.status.busy": "2023-01-16T19:59:00.122667Z",
     "iopub.status.idle": "2023-01-16T19:59:01.325509Z",
     "shell.execute_reply": "2023-01-16T19:59:01.325207Z"
    }
   },
   "outputs": [],
   "source": [
    "sc.pl.umap(adata, color=['leiden_1.4','leiden_1.7'], size=15, legend_loc='on data', palette=sm.wes)"
   ]
  },
  {
   "cell_type": "code",
   "execution_count": null,
   "metadata": {
    "execution": {
     "iopub.execute_input": "2023-01-16T19:59:01.327559Z",
     "iopub.status.busy": "2023-01-16T19:59:01.327559Z",
     "iopub.status.idle": "2023-01-16T19:59:02.546026Z",
     "shell.execute_reply": "2023-01-16T19:59:02.545594Z"
    }
   },
   "outputs": [],
   "source": [
    "sc.pl.umap(adata, color=['leiden_2.0','leiden_2.5'], size=15, legend_loc='on data', palette=sm.wes)"
   ]
  },
  {
   "cell_type": "code",
   "execution_count": null,
   "metadata": {},
   "outputs": [],
   "source": [
    "sc.pl.umap(adata, color=['leiden_3.0','leiden_3.5'], size=15, legend_loc='on data', palette=sm.wes)"
   ]
  },
  {
   "cell_type": "code",
   "execution_count": null,
   "metadata": {},
   "outputs": [],
   "source": [
    "sc.pl.umap(adata, color=['leiden_4.0','leiden_4.5'], size=15, legend_loc='on data', palette=sm.wes)"
   ]
  },
  {
   "cell_type": "code",
   "execution_count": null,
   "metadata": {},
   "outputs": [],
   "source": [
    "sc.tl.leiden(adata, resolution = 8, key_added = \"leiden_8\")"
   ]
  },
  {
   "cell_type": "code",
   "execution_count": null,
   "metadata": {},
   "outputs": [],
   "source": [
    "sc.pl.umap(adata, color=['leiden_8','leiden_4.5'], size=15, legend_loc='on data', palette=sm.wes)"
   ]
  },
  {
   "cell_type": "markdown",
   "metadata": {},
   "source": [
    "Plot proportion of cells from each condition or sample per cluster."
   ]
  },
  {
   "cell_type": "code",
   "execution_count": null,
   "metadata": {
    "execution": {
     "iopub.execute_input": "2023-01-16T19:59:02.548063Z",
     "iopub.status.busy": "2023-01-16T19:59:02.548063Z",
     "iopub.status.idle": "2023-01-16T19:59:03.448370Z",
     "shell.execute_reply": "2023-01-16T19:59:03.448370Z"
    }
   },
   "outputs": [],
   "source": [
    "cluster_type = 'leiden_1.4'\n",
    "rcParams['figure.figsize'] = 10, 6\n",
    "tmp = pd.crosstab(adata.obs[cluster_type],adata.obs['sample'], normalize='index')\n",
    "tmp.plot.bar(stacked=True).legend(loc='center left', bbox_to_anchor=(1, 0.5))\n",
    "rcParams['figure.figsize'] = 8, 8\n",
    "sc.pl.umap(adata, color=cluster_type, size=15, legend_loc='on data')"
   ]
  },
  {
   "cell_type": "code",
   "execution_count": null,
   "metadata": {
    "execution": {
     "iopub.execute_input": "2023-01-16T19:59:03.448370Z",
     "iopub.status.busy": "2023-01-16T19:59:03.448370Z",
     "iopub.status.idle": "2023-01-16T19:59:04.212021Z",
     "shell.execute_reply": "2023-01-16T19:59:04.212021Z"
    },
    "scrolled": true
   },
   "outputs": [],
   "source": [
    "clusters = adata.obs[cluster_type].cat.categories.tolist()\n",
    "samples = adata.obs['sample'].cat.categories.tolist()\n",
    "count_matrix = []\n",
    "\n",
    "for cluster in clusters:\n",
    "    c = adata[adata.obs[cluster_type] == cluster,:]\n",
    "    count_list = []\n",
    "    for sample in samples:\n",
    "        count_list.append(len(c[c.obs['sample'] == sample,:]))\n",
    "    count_matrix.append(count_list)\n",
    "\n",
    "df = pd.DataFrame(count_matrix, columns=samples, index=clusters)\n",
    "#Total sum per row: \n",
    "df.loc[:,'Total'] = df.sum(axis=1)\n",
    "#Total sum per column: \n",
    "df.loc['Total',:]= df.sum(axis=0)\n",
    "df"
   ]
  },
  {
   "cell_type": "markdown",
   "metadata": {},
   "source": [
    "### Hierarchical clustering\n",
    "Use only if necessary to isolate a specific cluster not recognized by the Leiden clustering. Can be applied to either the PCA or UMAP reduced dimension representation of the data. Usually PCA, because of the interpretability of the low-dimensional distances."
   ]
  },
  {
   "cell_type": "code",
   "execution_count": null,
   "metadata": {},
   "outputs": [],
   "source": [
    "from sklearn.cluster import AgglomerativeClustering\n",
    "# extract pca or UMAP coordinates\n",
    "X_pca = adata.obsm['X_pca']\n",
    "X_umap = adata.obsm['X_umap']"
   ]
  },
  {
   "cell_type": "code",
   "execution_count": null,
   "metadata": {},
   "outputs": [],
   "source": [
    "n_clusters = 120 # set as needed\n",
    "cluster = AgglomerativeClustering(n_clusters=n_clusters, affinity='euclidean', linkage='ward')\n",
    "# adata.obs['hclust'] = cluster.fit_predict(X_pca).astype(str)\n",
    "adata.obs['hclust'] = cluster.fit_predict(X_umap).astype(str)"
   ]
  },
  {
   "cell_type": "code",
   "execution_count": null,
   "metadata": {},
   "outputs": [],
   "source": [
    "rcParams['figure.figsize'] = 8, 8\n",
    "sc.pl.umap(adata, color=['hclust'], legend_loc='on data', size=10, palette=sm.wes)"
   ]
  },
  {
   "cell_type": "markdown",
   "metadata": {},
   "source": [
    "### K-means clustering\n",
    "Use only if necessary to pick out a different cluster."
   ]
  },
  {
   "cell_type": "code",
   "execution_count": null,
   "metadata": {},
   "outputs": [],
   "source": [
    "from sklearn.cluster import KMeans\n",
    "from sklearn.metrics import adjusted_rand_score"
   ]
  },
  {
   "cell_type": "code",
   "execution_count": null,
   "metadata": {},
   "outputs": [],
   "source": [
    "n_clusters = 80 # set as needed\n",
    "kmeans = KMeans(n_clusters=n_clusters, random_state=0).fit(X_umap) \n",
    "adata.obs['kmeans'] = kmeans.labels_.astype(str)"
   ]
  },
  {
   "cell_type": "code",
   "execution_count": null,
   "metadata": {},
   "outputs": [],
   "source": [
    "rcParams['figure.figsize'] = 8, 8\n",
    "sc.pl.umap(adata, color=['kmeans'], legend_loc='on data', size=10, palette=sm.wes)"
   ]
  },
  {
   "cell_type": "markdown",
   "metadata": {},
   "source": [
    "### Plot QC metrics by cluster"
   ]
  },
  {
   "cell_type": "markdown",
   "metadata": {},
   "source": [
    "Plot QC metrics per cluster using the clustering method of choice. Check for bias in how data is separated due to quality metrics. Can it be explained biologically, or by technical bias? "
   ]
  },
  {
   "cell_type": "code",
   "execution_count": null,
   "metadata": {
    "execution": {
     "iopub.execute_input": "2023-01-16T19:59:05.301096Z",
     "iopub.status.busy": "2023-01-16T19:59:05.301096Z",
     "iopub.status.idle": "2023-01-16T19:59:06.518859Z",
     "shell.execute_reply": "2023-01-16T19:59:06.518758Z"
    }
   },
   "outputs": [],
   "source": [
    "sc.pl.violin(adata, ['n_genes_by_counts', 'total_counts'], jitter=0.4, groupby='leiden_1.0')"
   ]
  },
  {
   "cell_type": "code",
   "execution_count": null,
   "metadata": {
    "execution": {
     "iopub.execute_input": "2023-01-16T19:59:06.520904Z",
     "iopub.status.busy": "2023-01-16T19:59:06.520904Z",
     "iopub.status.idle": "2023-01-16T19:59:07.079666Z",
     "shell.execute_reply": "2023-01-16T19:59:07.079219Z"
    }
   },
   "outputs": [],
   "source": [
    "sc.pl.violin(adata, ['pct_counts_mt'], jitter=0.4, groupby='leiden_1.0')"
   ]
  },
  {
   "cell_type": "markdown",
   "metadata": {},
   "source": [
    "### Add clustering information to the filtered data set"
   ]
  },
  {
   "cell_type": "code",
   "execution_count": null,
   "metadata": {
    "execution": {
     "iopub.execute_input": "2023-01-16T19:59:07.081719Z",
     "iopub.status.busy": "2023-01-16T19:59:07.081719Z",
     "iopub.status.idle": "2023-01-16T19:59:10.323291Z",
     "shell.execute_reply": "2023-01-16T19:59:10.323291Z"
    }
   },
   "outputs": [],
   "source": [
    "filtered_data = sc.read_h5ad(filtered_file)\n",
    "# create a new object with raw counts\n",
    "count_data = sc.AnnData(X = filtered_data.X, var = filtered_data.var, obs = adata.obs)"
   ]
  },
  {
   "cell_type": "markdown",
   "metadata": {},
   "source": [
    "## Save Data\n",
    "Save the data for further analysis."
   ]
  },
  {
   "cell_type": "code",
   "execution_count": null,
   "metadata": {
    "execution": {
     "iopub.execute_input": "2023-01-16T19:59:10.323291Z",
     "iopub.status.busy": "2023-01-16T19:59:10.323291Z",
     "iopub.status.idle": "2023-01-16T20:00:15.257842Z",
     "shell.execute_reply": "2023-01-16T20:00:15.257842Z"
    }
   },
   "outputs": [],
   "source": [
    "adata.write_h5ad(clustered_file)"
   ]
  },
  {
   "cell_type": "code",
   "execution_count": null,
   "metadata": {
    "execution": {
     "iopub.execute_input": "2023-01-16T20:00:15.257842Z",
     "iopub.status.busy": "2023-01-16T20:00:15.257842Z",
     "iopub.status.idle": "2023-01-16T20:00:15.781397Z",
     "shell.execute_reply": "2023-01-16T20:00:15.781397Z"
    }
   },
   "outputs": [],
   "source": [
    "count_data.write_h5ad(clustered_filtered_file)"
   ]
  },
  {
   "cell_type": "code",
   "execution_count": null,
   "metadata": {},
   "outputs": [],
   "source": []
  }
 ],
 "metadata": {
  "anaconda-cloud": {},
  "kernelspec": {
   "display_name": "env",
   "language": "python",
   "name": "python3"
  },
  "language_info": {
   "codemirror_mode": {
    "name": "ipython",
    "version": 3
   },
   "file_extension": ".py",
   "mimetype": "text/x-python",
   "name": "python",
   "nbconvert_exporter": "python",
   "pygments_lexer": "ipython3",
   "version": "3.11.3"
  }
 },
 "nbformat": 4,
 "nbformat_minor": 4
}
