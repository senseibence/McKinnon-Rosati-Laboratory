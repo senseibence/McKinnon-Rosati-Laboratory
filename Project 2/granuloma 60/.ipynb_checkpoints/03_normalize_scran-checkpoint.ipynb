{
 "cells": [
  {
   "cell_type": "markdown",
   "metadata": {},
   "source": [
    "# Scanpy: Scran Normalize\n",
    "\n",
    "Use the Scran R package to normalize the data for later analysis."
   ]
  },
  {
   "cell_type": "markdown",
   "metadata": {},
   "source": [
    "### Setup and Load Data"
   ]
  },
  {
   "cell_type": "code",
   "execution_count": 1,
   "metadata": {
    "execution": {
     "iopub.execute_input": "2023-01-16T19:28:57.137685Z",
     "iopub.status.busy": "2023-01-16T19:28:57.137685Z",
     "iopub.status.idle": "2023-01-16T19:29:02.414957Z",
     "shell.execute_reply": "2023-01-16T19:29:02.414957Z"
    }
   },
   "outputs": [
    {
     "name": "stdout",
     "output_type": "stream",
     "text": [
      "scanpy==1.10.1 anndata==0.8.0 umap==0.5.3 numpy==1.26.4 scipy==1.11.4 pandas==2.2.2 scikit-learn==1.1.1 statsmodels==0.14.2 igraph==0.10.8 louvain==0.8.2 pynndescent==0.5.7\n"
     ]
    }
   ],
   "source": [
    "import scanpy as sc\n",
    "import numpy as np\n",
    "import scipy as sp\n",
    "import matplotlib.pyplot as plt\n",
    "from matplotlib import rcParams\n",
    "import seaborn as sb\n",
    "import pandas as pd\n",
    "\n",
    "import os\n",
    "os.environ['R_HOME'] = r\"C:\\Program Files\\R\\R-4.4.1\"   \n",
    "import anndata2ri # order matters, comes after defining 'R_HOME'\n",
    "\n",
    "import rpy2.rinterface_lib.callbacks\n",
    "import logging\n",
    "\n",
    "from rpy2.robjects import pandas2ri\n",
    "\n",
    "sc.settings.verbosity = 3             # verbosity: errors (0), warnings (1), info (2), hints (3)\n",
    "sc.logging.print_header()\n",
    "sc.settings.set_figure_params(dpi=80)\n",
    "\n",
    "# *** Input File ***  h5 file after filtering \n",
    "sample_name = r'sc92'\n",
    "h5_file_path = r'results/'\n",
    "h5_file = h5_file_path + sample_name + '_final_raw.h5ad'\n",
    "\n",
    "# *** Output Files ***  \n",
    "results_file_path = r'results/'\n",
    "lognorm_results_file = results_file_path + sample_name + r'_lognorm_scran.h5ad'  #  file to store the log normalized data"
   ]
  },
  {
   "cell_type": "code",
   "execution_count": 2,
   "metadata": {
    "execution": {
     "iopub.execute_input": "2023-01-16T19:29:02.414957Z",
     "iopub.status.busy": "2023-01-16T19:29:02.414957Z",
     "iopub.status.idle": "2023-01-16T19:29:03.149337Z",
     "shell.execute_reply": "2023-01-16T19:29:03.149337Z"
    }
   },
   "outputs": [
    {
     "name": "stderr",
     "output_type": "stream",
     "text": [
      "C:\\Users\\david\\AppData\\Local\\Temp\\ipykernel_67000\\2438674924.py:7: DeprecationWarning: The global conversion available with activate() is deprecated and will be removed in the next major release. Use a local converter.\n",
      "  anndata2ri.activate()\n",
      "D:\\jupyter_3_10\\jl\\lib\\site-packages\\rpy2\\robjects\\packages.py:367: UserWarning: The symbol 'quartz' is not in this R namespace/package.\n",
      "  warnings.warn(\n"
     ]
    }
   ],
   "source": [
    "# Ignore R warning messages\n",
    "#Note: this can be commented out to get more verbose R output\n",
    "rpy2.rinterface_lib.callbacks.logger.setLevel(logging.ERROR)\n",
    "\n",
    "# Automatically convert rpy2 outputs to pandas dataframes\n",
    "pandas2ri.activate()\n",
    "anndata2ri.activate()\n",
    "%load_ext rpy2.ipython\n",
    "\n",
    "plt.rcParams['figure.figsize']=(6,6) #rescale figures\n",
    "sc.settings.verbosity = 3\n",
    "#sc.set_figure_params(dpi=200, dpi_save=300)\n",
    "# sc.logging.print_versions()"
   ]
  },
  {
   "cell_type": "code",
   "execution_count": 3,
   "metadata": {
    "execution": {
     "iopub.execute_input": "2023-01-16T19:29:03.149337Z",
     "iopub.status.busy": "2023-01-16T19:29:03.149337Z",
     "iopub.status.idle": "2023-01-16T19:29:07.793230Z",
     "shell.execute_reply": "2023-01-16T19:29:07.793230Z"
    }
   },
   "outputs": [
    {
     "data": {
      "text/plain": [
       "Loading required package: SingleCellExperiment\n",
       "Loading required package: SummarizedExperiment\n",
       "Loading required package: MatrixGenerics\n",
       "Loading required package: matrixStats\n",
       "\n",
       "Attaching package: 'MatrixGenerics'\n",
       "\n",
       "The following objects are masked from 'package:matrixStats':\n",
       "\n",
       "    colAlls, colAnyNAs, colAnys, colAvgsPerRowSet, colCollapse,\n",
       "    colCounts, colCummaxs, colCummins, colCumprods, colCumsums,\n",
       "    colDiffs, colIQRDiffs, colIQRs, colLogSumExps, colMadDiffs,\n",
       "    colMads, colMaxs, colMeans2, colMedians, colMins, colOrderStats,\n",
       "    colProds, colQuantiles, colRanges, colRanks, colSdDiffs, colSds,\n",
       "    colSums2, colTabulates, colVarDiffs, colVars, colWeightedMads,\n",
       "    colWeightedMeans, colWeightedMedians, colWeightedSds,\n",
       "    colWeightedVars, rowAlls, rowAnyNAs, rowAnys, rowAvgsPerColSet,\n",
       "    rowCollapse, rowCounts, rowCummaxs, rowCummins, rowCumprods,\n",
       "    rowCumsums, rowDiffs, rowIQRDiffs, rowIQRs, rowLogSumExps,\n",
       "    rowMadDiffs, rowMads, rowMaxs, rowMeans2, rowMedians, rowMins,\n",
       "    rowOrderStats, rowProds, rowQuantiles, rowRanges, rowRanks,\n",
       "    rowSdDiffs, rowSds, rowSums2, rowTabulates, rowVarDiffs, rowVars,\n",
       "    rowWeightedMads, rowWeightedMeans, rowWeightedMedians,\n",
       "    rowWeightedSds, rowWeightedVars\n",
       "\n",
       "Loading required package: GenomicRanges\n",
       "Loading required package: stats4\n",
       "Loading required package: BiocGenerics\n",
       "\n",
       "Attaching package: 'BiocGenerics'\n",
       "\n",
       "The following objects are masked from 'package:stats':\n",
       "\n",
       "    IQR, mad, sd, var, xtabs\n",
       "\n",
       "The following objects are masked from 'package:base':\n",
       "\n",
       "    anyDuplicated, aperm, append, as.data.frame, basename, cbind,\n",
       "    colnames, dirname, do.call, duplicated, eval, evalq, Filter, Find,\n",
       "    get, grep, grepl, intersect, is.unsorted, lapply, Map, mapply,\n",
       "    match, mget, order, paste, pmax, pmax.int, pmin, pmin.int,\n",
       "    Position, rank, rbind, Reduce, rownames, sapply, setdiff, table,\n",
       "    tapply, union, unique, unsplit, which.max, which.min\n",
       "\n",
       "Loading required package: S4Vectors\n",
       "\n",
       "Attaching package: 'S4Vectors'\n",
       "\n",
       "The following object is masked from 'package:utils':\n",
       "\n",
       "    findMatches\n",
       "\n",
       "The following objects are masked from 'package:base':\n",
       "\n",
       "    expand.grid, I, unname\n",
       "\n",
       "Loading required package: IRanges\n",
       "\n",
       "Attaching package: 'IRanges'\n",
       "\n",
       "The following object is masked from 'package:grDevices':\n",
       "\n",
       "    windows\n",
       "\n",
       "Loading required package: GenomeInfoDb\n",
       "Loading required package: Biobase\n",
       "Welcome to Bioconductor\n",
       "\n",
       "    Vignettes contain introductory material; view with\n",
       "    'browseVignettes()'. To cite Bioconductor, see\n",
       "    'citation(\"Biobase\")', and for packages 'citation(\"pkgname\")'.\n",
       "\n",
       "\n",
       "Attaching package: 'Biobase'\n",
       "\n",
       "The following object is masked from 'package:MatrixGenerics':\n",
       "\n",
       "    rowMedians\n",
       "\n",
       "The following objects are masked from 'package:matrixStats':\n",
       "\n",
       "    anyMissing, rowMedians\n",
       "\n",
       "Loading required package: scuttle\n"
      ]
     },
     "metadata": {},
     "output_type": "display_data"
    }
   ],
   "source": [
    "%%R\n",
    "# Load R libraries\n",
    "library(scran)"
   ]
  },
  {
   "cell_type": "code",
   "execution_count": 4,
   "metadata": {
    "execution": {
     "iopub.execute_input": "2023-01-16T19:29:07.793230Z",
     "iopub.status.busy": "2023-01-16T19:29:07.793230Z",
     "iopub.status.idle": "2023-01-16T19:29:09.121357Z",
     "shell.execute_reply": "2023-01-16T19:29:09.121357Z"
    }
   },
   "outputs": [
    {
     "name": "stdout",
     "output_type": "stream",
     "text": [
      "sample\n",
      "60day3    12058\n",
      "60day1    10254\n",
      "60day2     9609\n",
      "Name: count, dtype: int64\n",
      "\n",
      "Data matrix is sparse: False\n",
      "\n",
      "X size = (31921, 24178)\n"
     ]
    }
   ],
   "source": [
    "adata = sc.read_h5ad(h5_file)\n",
    "adata.X = adata.X.toarray() # convert to full matrix\n",
    "\n",
    "print(adata.obs['sample'].value_counts())\n",
    "print()\n",
    "print('Data matrix is sparse:', sp.sparse.issparse(adata.X))\n",
    "print()\n",
    "print('X size =', adata.X.shape)"
   ]
  },
  {
   "cell_type": "code",
   "execution_count": 5,
   "metadata": {
    "execution": {
     "iopub.execute_input": "2023-01-16T19:29:09.121357Z",
     "iopub.status.busy": "2023-01-16T19:29:09.121357Z",
     "iopub.status.idle": "2023-01-16T19:29:10.778349Z",
     "shell.execute_reply": "2023-01-16T19:29:10.778349Z"
    }
   },
   "outputs": [
    {
     "data": {
      "text/html": [
       "<div>\n",
       "<style scoped>\n",
       "    .dataframe tbody tr th:only-of-type {\n",
       "        vertical-align: middle;\n",
       "    }\n",
       "\n",
       "    .dataframe tbody tr th {\n",
       "        vertical-align: top;\n",
       "    }\n",
       "\n",
       "    .dataframe thead th {\n",
       "        text-align: right;\n",
       "    }\n",
       "</style>\n",
       "<table border=\"1\" class=\"dataframe\">\n",
       "  <thead>\n",
       "    <tr style=\"text-align: right;\">\n",
       "      <th></th>\n",
       "      <th>Number of cells</th>\n",
       "      <th>Number of genes</th>\n",
       "      <th>Number of reads</th>\n",
       "    </tr>\n",
       "  </thead>\n",
       "  <tbody>\n",
       "    <tr>\n",
       "      <th>60day1</th>\n",
       "      <td>10254</td>\n",
       "      <td>24178</td>\n",
       "      <td>47785892.0</td>\n",
       "    </tr>\n",
       "    <tr>\n",
       "      <th>60day2</th>\n",
       "      <td>9609</td>\n",
       "      <td>24178</td>\n",
       "      <td>56768236.0</td>\n",
       "    </tr>\n",
       "    <tr>\n",
       "      <th>60day3</th>\n",
       "      <td>12058</td>\n",
       "      <td>24178</td>\n",
       "      <td>57285870.0</td>\n",
       "    </tr>\n",
       "  </tbody>\n",
       "</table>\n",
       "</div>"
      ],
      "text/plain": [
       "        Number of cells  Number of genes Number of reads\n",
       "60day1            10254            24178      47785892.0\n",
       "60day2             9609            24178      56768236.0\n",
       "60day3            12058            24178      57285870.0"
      ]
     },
     "execution_count": 5,
     "metadata": {},
     "output_type": "execute_result"
    }
   ],
   "source": [
    "samples = set(adata.obs['sample'])\n",
    "samples = sorted(samples, key=str.lower)\n",
    "num_cells = []\n",
    "num_genes = []\n",
    "num_reads = []\n",
    "for sample in samples:\n",
    "    num_cells.append(adata[adata.obs['sample'] == sample].n_obs)\n",
    "    num_genes.append(adata[adata.obs['sample'] == sample].n_vars)\n",
    "    num_reads.append(adata[adata.obs['sample'] == sample].X.sum())\n",
    "    \n",
    "df = pd.DataFrame(list(zip(num_cells,num_genes,num_reads)), columns = ['Number of cells', 'Number of genes', 'Number of reads'], index = samples)\n",
    "df "
   ]
  },
  {
   "cell_type": "markdown",
   "metadata": {},
   "source": [
    "#### Principal Component Analysis"
   ]
  },
  {
   "cell_type": "code",
   "execution_count": null,
   "metadata": {
    "execution": {
     "iopub.execute_input": "2023-01-16T19:29:10.778349Z",
     "iopub.status.busy": "2023-01-16T19:29:10.778349Z",
     "iopub.status.idle": "2023-01-16T19:29:42.577325Z",
     "shell.execute_reply": "2023-01-16T19:29:42.577325Z"
    }
   },
   "outputs": [
    {
     "name": "stdout",
     "output_type": "stream",
     "text": [
      "computing PCA\n",
      "    with n_comps=50\n"
     ]
    }
   ],
   "source": [
    "sc.tl.pca(adata)"
   ]
  },
  {
   "cell_type": "code",
   "execution_count": null,
   "metadata": {
    "execution": {
     "iopub.execute_input": "2023-01-16T19:29:42.577325Z",
     "iopub.status.busy": "2023-01-16T19:29:42.577325Z",
     "iopub.status.idle": "2023-01-16T19:29:43.108344Z",
     "shell.execute_reply": "2023-01-16T19:29:43.108344Z"
    }
   },
   "outputs": [],
   "source": [
    "sc.pl.pca(adata, color=\"sample\")"
   ]
  },
  {
   "cell_type": "markdown",
   "metadata": {},
   "source": [
    "#### Examine initial distribution of total counts."
   ]
  },
  {
   "cell_type": "code",
   "execution_count": null,
   "metadata": {
    "execution": {
     "iopub.execute_input": "2023-01-16T19:29:43.108344Z",
     "iopub.status.busy": "2023-01-16T19:29:43.108344Z",
     "iopub.status.idle": "2023-01-16T19:29:44.225719Z",
     "shell.execute_reply": "2023-01-16T19:29:44.225719Z"
    }
   },
   "outputs": [],
   "source": [
    "adata.obs['n_counts'] = adata.X.sum(1)\n",
    "sb.distplot(adata.obs['n_counts'] , bins=50, kde=False)"
   ]
  },
  {
   "cell_type": "markdown",
   "metadata": {},
   "source": [
    "### Scran Normalization\n",
    "Scran calculates the cell normalization values."
   ]
  },
  {
   "cell_type": "code",
   "execution_count": null,
   "metadata": {
    "execution": {
     "iopub.execute_input": "2023-01-16T19:29:44.225719Z",
     "iopub.status.busy": "2023-01-16T19:29:44.225719Z",
     "iopub.status.idle": "2023-01-16T19:32:11.887437Z",
     "shell.execute_reply": "2023-01-16T19:32:11.887437Z"
    }
   },
   "outputs": [],
   "source": [
    "#Perform a clustering for scran normalization in clusters\n",
    "adata_pp = adata.copy()\n",
    "sc.pp.normalize_per_cell(adata_pp, counts_per_cell_after=1e6)\n",
    "sc.pp.log1p(adata_pp)\n",
    "sc.pp.pca(adata_pp, n_comps=15)\n",
    "sc.pp.neighbors(adata_pp)\n",
    "sc.tl.louvain(adata_pp, key_added='groups', resolution=0.5)"
   ]
  },
  {
   "cell_type": "code",
   "execution_count": null,
   "metadata": {
    "execution": {
     "iopub.execute_input": "2023-01-16T19:32:11.887437Z",
     "iopub.status.busy": "2023-01-16T19:32:11.887437Z",
     "iopub.status.idle": "2023-01-16T19:32:11.903062Z",
     "shell.execute_reply": "2023-01-16T19:32:11.903062Z"
    }
   },
   "outputs": [],
   "source": [
    "#Preprocess variables for scran normalization\n",
    "input_groups = adata_pp.obs['groups']\n",
    "data_mat = adata.X.T"
   ]
  },
  {
   "cell_type": "markdown",
   "metadata": {},
   "source": [
    "Slow step"
   ]
  },
  {
   "cell_type": "code",
   "execution_count": null,
   "metadata": {
    "execution": {
     "iopub.execute_input": "2023-01-16T19:32:11.903062Z",
     "iopub.status.busy": "2023-01-16T19:32:11.903062Z",
     "iopub.status.idle": "2023-01-16T19:47:03.839765Z",
     "shell.execute_reply": "2023-01-16T19:47:03.839645Z"
    }
   },
   "outputs": [],
   "source": [
    "%%R -i data_mat -i input_groups -o size_factors\n",
    "\n",
    "size_factors = sizeFactors(computeSumFactors(SingleCellExperiment(list(counts=data_mat)), clusters=input_groups, min.mean=0.1))"
   ]
  },
  {
   "cell_type": "code",
   "execution_count": null,
   "metadata": {
    "execution": {
     "iopub.execute_input": "2023-01-16T19:47:03.843043Z",
     "iopub.status.busy": "2023-01-16T19:47:03.843043Z",
     "iopub.status.idle": "2023-01-16T19:47:03.855044Z",
     "shell.execute_reply": "2023-01-16T19:47:03.855044Z"
    }
   },
   "outputs": [],
   "source": [
    "#Delete adata_pp\n",
    "del adata_pp"
   ]
  },
  {
   "cell_type": "code",
   "execution_count": null,
   "metadata": {
    "execution": {
     "iopub.execute_input": "2023-01-16T19:47:03.858048Z",
     "iopub.status.busy": "2023-01-16T19:47:03.858048Z",
     "iopub.status.idle": "2023-01-16T19:47:05.456540Z",
     "shell.execute_reply": "2023-01-16T19:47:05.456164Z"
    }
   },
   "outputs": [],
   "source": [
    "# Visualize the estimated size factors\n",
    "adata.obs['size_factors'] = size_factors\n",
    "adata.obs['n_counts'] =  adata.X.sum(1)\n",
    "\n",
    "sc.pl.scatter(adata, 'size_factors', 'n_counts')\n",
    "sc.pl.scatter(adata, 'size_factors', 'n_genes')\n",
    "\n",
    "sb.distplot(size_factors, bins=50, kde=False)\n",
    "plt.show()"
   ]
  },
  {
   "cell_type": "code",
   "execution_count": null,
   "metadata": {
    "execution": {
     "iopub.execute_input": "2023-01-16T19:47:05.456540Z",
     "iopub.status.busy": "2023-01-16T19:47:05.456540Z",
     "iopub.status.idle": "2023-01-16T19:47:06.039376Z",
     "shell.execute_reply": "2023-01-16T19:47:06.038375Z"
    }
   },
   "outputs": [],
   "source": [
    "#Keep the count data in a counts layer\n",
    "adata.layers[\"counts\"] = adata.X.copy()"
   ]
  },
  {
   "cell_type": "code",
   "execution_count": null,
   "metadata": {
    "execution": {
     "iopub.execute_input": "2023-01-16T19:47:06.041376Z",
     "iopub.status.busy": "2023-01-16T19:47:06.041376Z",
     "iopub.status.idle": "2023-01-16T19:47:07.088569Z",
     "shell.execute_reply": "2023-01-16T19:47:07.088407Z"
    }
   },
   "outputs": [],
   "source": [
    "#Normalize adata \n",
    "adata.X /= adata.obs['size_factors'].values[:,None]"
   ]
  },
  {
   "cell_type": "code",
   "execution_count": null,
   "metadata": {
    "execution": {
     "iopub.execute_input": "2023-01-16T19:47:07.091568Z",
     "iopub.status.busy": "2023-01-16T19:47:07.091568Z",
     "iopub.status.idle": "2023-01-16T19:47:08.154525Z",
     "shell.execute_reply": "2023-01-16T19:47:08.154525Z"
    },
    "scrolled": false
   },
   "outputs": [],
   "source": [
    "adata.obs['n_counts'] = adata.X.sum(1)\n",
    "print(adata.obs['n_counts'])\n",
    "sb.distplot(adata.obs['n_counts'] , bins=50, kde=False)"
   ]
  },
  {
   "cell_type": "markdown",
   "metadata": {},
   "source": [
    "#### Principal Component Analysis"
   ]
  },
  {
   "cell_type": "code",
   "execution_count": null,
   "metadata": {
    "execution": {
     "iopub.execute_input": "2023-01-16T19:47:08.157525Z",
     "iopub.status.busy": "2023-01-16T19:47:08.157525Z",
     "iopub.status.idle": "2023-01-16T19:47:41.273195Z",
     "shell.execute_reply": "2023-01-16T19:47:41.273195Z"
    },
    "scrolled": false
   },
   "outputs": [],
   "source": [
    "sc.tl.pca(adata)"
   ]
  },
  {
   "cell_type": "code",
   "execution_count": null,
   "metadata": {
    "execution": {
     "iopub.execute_input": "2023-01-16T19:47:41.276196Z",
     "iopub.status.busy": "2023-01-16T19:47:41.276196Z",
     "iopub.status.idle": "2023-01-16T19:47:41.888218Z",
     "shell.execute_reply": "2023-01-16T19:47:41.888218Z"
    },
    "scrolled": false
   },
   "outputs": [],
   "source": [
    "sc.pl.pca(adata, color=\"sample\")"
   ]
  },
  {
   "cell_type": "markdown",
   "metadata": {},
   "source": [
    "### Log Transform"
   ]
  },
  {
   "cell_type": "code",
   "execution_count": null,
   "metadata": {
    "execution": {
     "iopub.execute_input": "2023-01-16T19:47:41.891219Z",
     "iopub.status.busy": "2023-01-16T19:47:41.891219Z",
     "iopub.status.idle": "2023-01-16T19:47:46.138812Z",
     "shell.execute_reply": "2023-01-16T19:47:46.138723Z"
    }
   },
   "outputs": [],
   "source": [
    "sc.pp.log1p(adata)"
   ]
  },
  {
   "cell_type": "code",
   "execution_count": null,
   "metadata": {
    "execution": {
     "iopub.execute_input": "2023-01-16T19:47:46.141914Z",
     "iopub.status.busy": "2023-01-16T19:47:46.141914Z",
     "iopub.status.idle": "2023-01-16T19:47:47.206576Z",
     "shell.execute_reply": "2023-01-16T19:47:47.206576Z"
    }
   },
   "outputs": [],
   "source": [
    "adata.obs['n_counts'] = adata.X.sum(1)\n",
    "print(adata.obs['n_counts'])\n",
    "sb.distplot(adata.obs['n_counts'] , bins=50, kde=False)"
   ]
  },
  {
   "cell_type": "markdown",
   "metadata": {},
   "source": [
    "#### Principal Component Analysis\n",
    "Differences in sequencing depth may reemerge after log transform"
   ]
  },
  {
   "cell_type": "code",
   "execution_count": null,
   "metadata": {
    "execution": {
     "iopub.execute_input": "2023-01-16T19:47:47.209576Z",
     "iopub.status.busy": "2023-01-16T19:47:47.209576Z",
     "iopub.status.idle": "2023-01-16T19:48:32.607025Z",
     "shell.execute_reply": "2023-01-16T19:48:32.607025Z"
    },
    "scrolled": false
   },
   "outputs": [],
   "source": [
    "sc.tl.pca(adata)"
   ]
  },
  {
   "cell_type": "code",
   "execution_count": null,
   "metadata": {
    "execution": {
     "iopub.execute_input": "2023-01-16T19:48:32.610025Z",
     "iopub.status.busy": "2023-01-16T19:48:32.610025Z",
     "iopub.status.idle": "2023-01-16T19:48:33.305732Z",
     "shell.execute_reply": "2023-01-16T19:48:33.305732Z"
    },
    "scrolled": false
   },
   "outputs": [],
   "source": [
    "sc.pl.pca(adata, color=\"sample\")"
   ]
  },
  {
   "cell_type": "markdown",
   "metadata": {},
   "source": [
    "### Save Data"
   ]
  },
  {
   "cell_type": "code",
   "execution_count": null,
   "metadata": {
    "execution": {
     "iopub.execute_input": "2023-01-16T19:48:33.309060Z",
     "iopub.status.busy": "2023-01-16T19:48:33.309060Z",
     "iopub.status.idle": "2023-01-16T19:49:16.279603Z",
     "shell.execute_reply": "2023-01-16T19:49:16.279603Z"
    }
   },
   "outputs": [],
   "source": [
    "# save\n",
    "adata.write_h5ad(lognorm_results_file)"
   ]
  },
  {
   "cell_type": "code",
   "execution_count": null,
   "metadata": {},
   "outputs": [],
   "source": []
  }
 ],
 "metadata": {
  "anaconda-cloud": {},
  "hide_input": false,
  "kernelspec": {
   "display_name": "Python 3 (ipykernel)",
   "language": "python",
   "name": "python3"
  },
  "language_info": {
   "codemirror_mode": {
    "name": "ipython",
    "version": 3
   },
   "file_extension": ".py",
   "mimetype": "text/x-python",
   "name": "python",
   "nbconvert_exporter": "python",
   "pygments_lexer": "ipython3",
   "version": "3.10.5"
  }
 },
 "nbformat": 4,
 "nbformat_minor": 4
}
