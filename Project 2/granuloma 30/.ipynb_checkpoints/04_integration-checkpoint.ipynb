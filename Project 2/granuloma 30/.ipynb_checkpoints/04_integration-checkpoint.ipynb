{
 "cells": [
  {
   "cell_type": "markdown",
   "metadata": {},
   "source": [
    "# Scanpy: Data integration"
   ]
  },
  {
   "cell_type": "markdown",
   "metadata": {},
   "source": [
    "Three data integration methods are compared: Combat, Harmony and Scanorama.\n",
    "\n",
    "Li J, Yu C, Ma L, Wang J, Guo G. Comparison of Scanpy-based algorithms to remove the batch effect from single-cell RNA-seq data. Cell Regen. 2020;9(1):10. "
   ]
  },
  {
   "cell_type": "markdown",
   "metadata": {},
   "source": [
    "### Setup and Load Data"
   ]
  },
  {
   "cell_type": "code",
   "execution_count": 1,
   "metadata": {
    "execution": {
     "iopub.execute_input": "2023-01-13T23:47:20.674772Z",
     "iopub.status.busy": "2023-01-13T23:47:20.674772Z",
     "iopub.status.idle": "2023-01-13T23:47:29.417168Z",
     "shell.execute_reply": "2023-01-13T23:47:29.417168Z"
    }
   },
   "outputs": [
    {
     "name": "stdout",
     "output_type": "stream",
     "text": [
      "scanpy==1.10.1 anndata==0.8.0 umap==0.5.3 numpy==1.26.4 scipy==1.11.4 pandas==2.2.2 scikit-learn==1.1.1 statsmodels==0.14.2 igraph==0.10.8 louvain==0.8.2 pynndescent==0.5.7\n"
     ]
    }
   ],
   "source": [
    "import numpy as np\n",
    "import pandas as pd\n",
    "import scanpy as sc\n",
    "import scanpy.external as sce\n",
    "import matplotlib.pyplot as plt\n",
    "from matplotlib import rcParams\n",
    "%matplotlib inline\n",
    "import scipy.sparse\n",
    "import harmonypy\n",
    "import scanorama\n",
    "\n",
    "sc.settings.verbosity = 3             # verbosity: errors (0), warnings (1), info (2), hints (3)\n",
    "sc.logging.print_header()\n",
    "sc.settings.set_figure_params(dpi=80)\n",
    "\n",
    "sample_name = r'granulomas'\n",
    "# Path to h5 file after normalization \n",
    "h5_file_path = r'results/'\n",
    "# h5_file = h5_file_path + sample_name + '_lognorm_cpm.h5ad'\n",
    "h5_file = h5_file_path + sample_name + '_lognorm_scran.h5ad'\n",
    "\n",
    "# switch to scale data\n",
    "scaleit = False \n",
    "# scaleit = True \n",
    "\n",
    "# Path to output data\n",
    "results_file_path = r'results/'\n",
    "if not scaleit:\n",
    "    combat_file = results_file_path + sample_name + r'_combat_corrected_scran.h5ad'  \n",
    "    harmony_file = results_file_path + sample_name + r'_harmony_corrected_scran.h5ad'  \n",
    "    scanorama_file = results_file_path + sample_name + r'_scanorama_corrected_scran.h5ad'\n",
    "else:\n",
    "    combat_file = results_file_path + sample_name + r'_scaled_combat_corrected_scran.h5ad'  \n",
    "    harmony_file = results_file_path + sample_name + r'_scaled_harmony_corrected_scran.h5ad'  \n",
    "    scanorama_file = results_file_path + sample_name + r'_scaled_scanorama_corrected_scran.h5ad'"
   ]
  },
  {
   "cell_type": "code",
   "execution_count": null,
   "metadata": {
    "execution": {
     "iopub.execute_input": "2023-01-13T23:47:29.417168Z",
     "iopub.status.busy": "2023-01-13T23:47:29.417168Z",
     "iopub.status.idle": "2023-01-13T23:47:31.349209Z",
     "shell.execute_reply": "2023-01-13T23:47:31.349209Z"
    }
   },
   "outputs": [],
   "source": [
    "adata = sc.read_h5ad(h5_file)\n",
    "adata.uns['log1p'][\"base\"] = None    # bug fix\n",
    "\n",
    "print(adata.obs['sample'].value_counts())\n",
    "print()\n",
    "print(adata)\n",
    "print()\n",
    "if scipy.sparse.issparse(adata.X):\n",
    "    adata.X = scipy.sparse.csr_matrix.todense(adata.X)\n",
    "print('Data matrix is sparse:', scipy.sparse.issparse(adata.X))\n",
    "print()\n",
    "print('X size =', adata.X.shape)"
   ]
  },
  {
   "cell_type": "markdown",
   "metadata": {},
   "source": [
    "### Zero center and standardize data\n",
    "It is standard practice to zero center (subtract the mean) the features in a dataset and scale to unit variance before performing principal component analysis. \n",
    "\n",
    "The standard score of sample x is calculated as: z = (x - u) / s\n",
    "\n",
    "It is debatebable whether this is a good idea for the analysis of gene expression data. Standardization is typically used when the features were measured on very different scales. The goal is not have any feature or features dominate the subsequent analysis. This is less of a problem with gene expression analysis since all features (gene expression) are measured on the same scale. If you don't standardize, high expression genes will have a greater impact than low expression and you may wish to standardize to eliminate this effect. However, the expression levels of high expression genes will have been measured more accurately than low expression genes so it makes sense to give them greater weight in the analysis. The effect usually relatively small either way due to the log1p transformation of the count data.\n",
    "\n",
    "From best practices: https://www.embopress.org/doi/full/10.15252/msb.20188746\n",
    "\n",
    "\n",
    "\"In the same way that cellular count data can be normalized to make them comparable between cells, gene counts can be scaled to improve comparisons between genes. Gene normalization constitutes scaling gene counts to have zero mean and unit variance (z scores). This scaling has the effect that all genes are weighted equally for downstream analysis. There is currently no consensus on whether or not to perform normalization over genes. While the popular Seurat tutorials (Butler et al, 2018) generally apply gene scaling, the authors of the Slingshot method opt against scaling over genes in their tutorial (Street et al, 2018). The preference between the two choices revolves around whether all genes should be weighted equally for downstream analysis, or whether the magnitude of expression of a gene is an informative proxy for the importance of the gene. In order to retain as much biological information as possible from the data, we opt to refrain from scaling over genes.\""
   ]
  },
  {
   "cell_type": "code",
   "execution_count": null,
   "metadata": {
    "execution": {
     "iopub.execute_input": "2023-01-13T23:47:31.349209Z",
     "iopub.status.busy": "2023-01-13T23:47:31.349209Z",
     "iopub.status.idle": "2023-01-13T23:47:31.365064Z",
     "shell.execute_reply": "2023-01-13T23:47:31.365064Z"
    },
    "scrolled": true
   },
   "outputs": [],
   "source": [
    "if scaleit:\n",
    "    # scale data, clip values exceeding standard deviation 10.\n",
    "    sc.pp.scale(adata, max_value=10)"
   ]
  },
  {
   "cell_type": "markdown",
   "metadata": {},
   "source": [
    "### Plot distribution of X\n",
    "X will be either scaled on log normalized"
   ]
  },
  {
   "cell_type": "code",
   "execution_count": null,
   "metadata": {
    "execution": {
     "iopub.execute_input": "2023-01-13T23:47:31.365064Z",
     "iopub.status.busy": "2023-01-13T23:47:31.365064Z",
     "iopub.status.idle": "2023-01-13T23:47:39.131318Z",
     "shell.execute_reply": "2023-01-13T23:47:39.131318Z"
    },
    "scrolled": false
   },
   "outputs": [],
   "source": [
    "x=adata.X \n",
    "\n",
    "fig, axs = plt.subplots(1, 2, figsize=(8,4),constrained_layout=True)\n",
    "hist, bins = np.histogram(x, bins=50)\n",
    "width = bins[1] - bins[0]\n",
    "center = (bins[:-1] + bins[1:]) / 2\n",
    "axs[0].bar(center, hist, align='center', width=width)\n",
    "\n",
    "y_limit = 1e7 # set to see counts better\n",
    "plt.ylim((0,y_limit))\n",
    "axs[1].bar(center, hist, align='center', width=width)\n",
    "plt.show()\n",
    "del x # remove dense matrix"
   ]
  },
  {
   "cell_type": "markdown",
   "metadata": {},
   "source": [
    "## ComBat batch correction\n",
    "\n",
    "ComBat batch correction requires a dense matrix format as input.\n",
    "\n",
    "The procedure crashes sometimes. May be a memory resources error. Restarting JupyterLab fixes problem."
   ]
  },
  {
   "cell_type": "code",
   "execution_count": null,
   "metadata": {
    "execution": {
     "iopub.execute_input": "2023-01-13T23:47:39.131318Z",
     "iopub.status.busy": "2023-01-13T23:47:39.131318Z",
     "iopub.status.idle": "2023-01-13T23:50:41.057949Z",
     "shell.execute_reply": "2023-01-13T23:50:41.057949Z"
    }
   },
   "outputs": [],
   "source": [
    "adata_combat = adata.copy() # copy with either scaled or lognorm data in X\n",
    "sc.pp.combat(adata_combat, key='sample')"
   ]
  },
  {
   "cell_type": "markdown",
   "metadata": {},
   "source": [
    "## Harmony batch correction"
   ]
  },
  {
   "cell_type": "code",
   "execution_count": null,
   "metadata": {
    "execution": {
     "iopub.execute_input": "2023-01-13T23:50:41.057949Z",
     "iopub.status.busy": "2023-01-13T23:50:41.057949Z",
     "iopub.status.idle": "2023-01-13T23:52:36.913279Z",
     "shell.execute_reply": "2023-01-13T23:52:36.913279Z"
    }
   },
   "outputs": [],
   "source": [
    "adata_harmony = adata.copy()\n",
    "sc.tl.pca(adata_harmony) # harmony requires pca components, has to be redone for scaled data\n",
    "sce.pp.harmony_integrate(adata_harmony, 'sample')\n",
    "adata_harmony.obsm['X_pca'] = adata_harmony.obsm['X_pca_harmony']  # replace X_pca it harmony pcas"
   ]
  },
  {
   "cell_type": "markdown",
   "metadata": {},
   "source": [
    "## Scanorama Batch Correction"
   ]
  },
  {
   "cell_type": "code",
   "execution_count": null,
   "metadata": {
    "execution": {
     "iopub.execute_input": "2023-01-13T23:52:36.915337Z",
     "iopub.status.busy": "2023-01-13T23:52:36.915337Z",
     "iopub.status.idle": "2023-01-13T23:52:37.978765Z",
     "shell.execute_reply": "2023-01-13T23:52:37.978765Z"
    }
   },
   "outputs": [],
   "source": [
    "adata_scanorama = adata.copy()"
   ]
  },
  {
   "cell_type": "markdown",
   "metadata": {},
   "source": [
    "Select a subset of variable genes that are identified in all batches."
   ]
  },
  {
   "cell_type": "code",
   "execution_count": null,
   "metadata": {
    "execution": {
     "iopub.execute_input": "2023-01-13T23:52:37.978765Z",
     "iopub.status.busy": "2023-01-13T23:52:37.978765Z",
     "iopub.status.idle": "2023-01-13T23:52:52.610080Z",
     "shell.execute_reply": "2023-01-13T23:52:52.610080Z"
    }
   },
   "outputs": [],
   "source": [
    "samples = adata.obs['sample'].cat.categories.tolist()\n",
    "sc.pp.highly_variable_genes(adata_scanorama, min_mean=0.0125, max_mean=3, min_disp=0.5, batch_key = 'sample')\n",
    "var_select = adata_scanorama.var.highly_variable_nbatches == len(samples)\n",
    "var_genes = var_select.index[var_select]\n",
    "print('Number of genes variable in all samples', len(var_genes))"
   ]
  },
  {
   "cell_type": "markdown",
   "metadata": {},
   "source": [
    " Create individual AnnData objects from each of the datasets"
   ]
  },
  {
   "cell_type": "code",
   "execution_count": null,
   "metadata": {
    "execution": {
     "iopub.execute_input": "2023-01-13T23:52:52.610080Z",
     "iopub.status.busy": "2023-01-13T23:52:52.610080Z",
     "iopub.status.idle": "2023-01-13T23:52:52.641331Z",
     "shell.execute_reply": "2023-01-13T23:52:52.641331Z"
    }
   },
   "outputs": [],
   "source": [
    "# split per batch into new objects.\n",
    "batches = adata_scanorama.obs['sample'].cat.categories.tolist()\n",
    "alldata = {}\n",
    "for batch in batches:\n",
    "    alldata[batch] = adata_scanorama[adata_scanorama.obs['sample'] == batch,]"
   ]
  },
  {
   "cell_type": "code",
   "execution_count": null,
   "metadata": {
    "execution": {
     "iopub.execute_input": "2023-01-13T23:52:52.641331Z",
     "iopub.status.busy": "2023-01-13T23:52:52.641331Z",
     "iopub.status.idle": "2023-01-13T23:54:51.220891Z",
     "shell.execute_reply": "2023-01-13T23:54:51.220891Z"
    }
   },
   "outputs": [],
   "source": [
    "#subset the individual dataset to the variable genes\n",
    "alldata2 = dict()\n",
    "for ds in alldata.keys():\n",
    "    print(ds)\n",
    "    alldata2[ds] = alldata[ds][:,var_genes]\n",
    "#convert to list of AnnData objects\n",
    "adatas = list(alldata2.values())\n",
    "# run scanorama.integrate\n",
    "scanorama.integrate_scanpy(adatas, dimred = 50)"
   ]
  },
  {
   "cell_type": "code",
   "execution_count": null,
   "metadata": {
    "execution": {
     "iopub.execute_input": "2023-01-13T23:54:51.220891Z",
     "iopub.status.busy": "2023-01-13T23:54:51.220891Z",
     "iopub.status.idle": "2023-01-13T23:54:51.236508Z",
     "shell.execute_reply": "2023-01-13T23:54:51.236508Z"
    }
   },
   "outputs": [],
   "source": [
    "#scanorama adds the corrected matrix to adata.obsm in each of the datasets in adatas.\n",
    "adatas[0].obsm['X_scanorama'].shape"
   ]
  },
  {
   "cell_type": "code",
   "execution_count": null,
   "metadata": {
    "execution": {
     "iopub.execute_input": "2023-01-13T23:54:51.236508Z",
     "iopub.status.busy": "2023-01-13T23:54:51.236508Z",
     "iopub.status.idle": "2023-01-13T23:54:51.252133Z",
     "shell.execute_reply": "2023-01-13T23:54:51.252133Z"
    }
   },
   "outputs": [],
   "source": [
    "# Get all the integrated matrices.\n",
    "scanorama_int = [ad.obsm['X_scanorama'] for ad in adatas]\n",
    "# make into one matrix.\n",
    "all_s = np.concatenate(scanorama_int)\n",
    "print(all_s.shape)\n",
    "# add to the AnnData object\n",
    "adata_scanorama.obsm[\"Scanorama\"] = all_s"
   ]
  },
  {
   "cell_type": "markdown",
   "metadata": {},
   "source": [
    "### Select highly variable genes"
   ]
  },
  {
   "cell_type": "markdown",
   "metadata": {},
   "source": [
    "Select for uncorrected data"
   ]
  },
  {
   "cell_type": "code",
   "execution_count": null,
   "metadata": {
    "execution": {
     "iopub.execute_input": "2023-01-13T23:54:51.252133Z",
     "iopub.status.busy": "2023-01-13T23:54:51.252133Z",
     "iopub.status.idle": "2023-01-13T23:54:58.763393Z",
     "shell.execute_reply": "2023-01-13T23:54:58.763393Z"
    },
    "scrolled": false
   },
   "outputs": [],
   "source": [
    "sc.pp.highly_variable_genes(adata)\n",
    "sc.pl.highly_variable_genes(adata)"
   ]
  },
  {
   "cell_type": "markdown",
   "metadata": {},
   "source": [
    "Select for combat corrected data"
   ]
  },
  {
   "cell_type": "code",
   "execution_count": null,
   "metadata": {
    "execution": {
     "iopub.execute_input": "2023-01-13T23:54:58.766395Z",
     "iopub.status.busy": "2023-01-13T23:54:58.766395Z",
     "iopub.status.idle": "2023-01-13T23:55:09.044957Z",
     "shell.execute_reply": "2023-01-13T23:55:09.044957Z"
    },
    "scrolled": false
   },
   "outputs": [],
   "source": [
    "sc.pp.highly_variable_genes(adata_combat)\n",
    "sc.pl.highly_variable_genes(adata_combat)"
   ]
  },
  {
   "cell_type": "markdown",
   "metadata": {},
   "source": [
    "Select for harmony corrected data"
   ]
  },
  {
   "cell_type": "code",
   "execution_count": null,
   "metadata": {
    "execution": {
     "iopub.execute_input": "2023-01-13T23:55:09.048019Z",
     "iopub.status.busy": "2023-01-13T23:55:09.048019Z",
     "iopub.status.idle": "2023-01-13T23:55:16.351645Z",
     "shell.execute_reply": "2023-01-13T23:55:16.351645Z"
    },
    "scrolled": false
   },
   "outputs": [],
   "source": [
    "sc.pp.highly_variable_genes(adata_harmony)\n",
    "sc.pl.highly_variable_genes(adata_harmony)"
   ]
  },
  {
   "cell_type": "code",
   "execution_count": null,
   "metadata": {
    "execution": {
     "iopub.execute_input": "2023-01-13T23:55:16.351645Z",
     "iopub.status.busy": "2023-01-13T23:55:16.351645Z",
     "iopub.status.idle": "2023-01-13T23:55:16.367270Z",
     "shell.execute_reply": "2023-01-13T23:55:16.367270Z"
    }
   },
   "outputs": [],
   "source": [
    "# compare var_genes\n",
    "var_genes_all = adata.var.highly_variable\n",
    "var_genes_combat = adata_combat.var.highly_variable\n",
    "var_genes_harmony = adata_harmony.var.highly_variable\n",
    "print(\"Number of Variable Genes:\")\n",
    "print(\"Uncorrected : %d\"%sum(var_genes_all))\n",
    "print(\"Combat corrected : %d\"%sum(var_genes_combat))\n",
    "print(\"Harmony corrected : %d\"%sum(var_genes_harmony))\n",
    "print()\n",
    "print(\"Overlap %d\"%sum(var_genes_all & var_genes_combat & var_genes_harmony))"
   ]
  },
  {
   "cell_type": "markdown",
   "metadata": {},
   "source": [
    "### PCA, UMAP, tSNE\n",
    "tSNE is slow on big data sets, so skip"
   ]
  },
  {
   "cell_type": "code",
   "execution_count": null,
   "metadata": {
    "execution": {
     "iopub.execute_input": "2023-01-13T23:57:59.947819Z",
     "iopub.status.busy": "2023-01-13T23:57:59.947819Z",
     "iopub.status.idle": "2023-01-14T00:00:39.310927Z",
     "shell.execute_reply": "2023-01-14T00:00:39.310927Z"
    }
   },
   "outputs": [],
   "source": [
    "sc.pp.pca(adata, n_comps=30, use_highly_variable=True, svd_solver='arpack')\n",
    "sc.pp.neighbors(adata, n_pcs =30)\n",
    "sc.tl.umap(adata)\n",
    "# sc.tl.tsne(adata, n_pcs = 30)"
   ]
  },
  {
   "cell_type": "code",
   "execution_count": null,
   "metadata": {
    "execution": {
     "iopub.execute_input": "2023-01-14T00:00:39.313932Z",
     "iopub.status.busy": "2023-01-14T00:00:39.313932Z",
     "iopub.status.idle": "2023-01-14T00:01:20.984496Z",
     "shell.execute_reply": "2023-01-14T00:01:20.984496Z"
    },
    "scrolled": false
   },
   "outputs": [],
   "source": [
    "sc.pp.pca(adata_combat, n_comps=30, use_highly_variable=True, svd_solver='arpack')\n",
    "sc.pp.neighbors(adata_combat, n_pcs =30)\n",
    "sc.tl.umap(adata_combat)\n",
    "# sc.tl.tsne(adata_combat, n_pcs = 30)"
   ]
  },
  {
   "cell_type": "code",
   "execution_count": null,
   "metadata": {
    "execution": {
     "iopub.execute_input": "2023-01-14T00:01:20.987500Z",
     "iopub.status.busy": "2023-01-14T00:01:20.987500Z",
     "iopub.status.idle": "2023-01-14T00:01:50.039870Z",
     "shell.execute_reply": "2023-01-14T00:01:50.039870Z"
    },
    "scrolled": true
   },
   "outputs": [],
   "source": [
    "# don't redo pca or will overwrite harmony pcas\n",
    "sc.pp.neighbors(adata_harmony, n_pcs =30)\n",
    "sc.tl.umap(adata_harmony)\n",
    "# sc.tl.tsne(adata_harmony, n_pcs = 30)"
   ]
  },
  {
   "cell_type": "code",
   "execution_count": null,
   "metadata": {
    "execution": {
     "iopub.execute_input": "2023-01-14T00:01:50.039870Z",
     "iopub.status.busy": "2023-01-14T00:01:50.039870Z",
     "iopub.status.idle": "2023-01-14T00:02:16.615117Z",
     "shell.execute_reply": "2023-01-14T00:02:16.615117Z"
    }
   },
   "outputs": [],
   "source": [
    "# Scanarama\n",
    "sc.pp.neighbors(adata_scanorama, n_pcs = 30, use_rep = \"Scanorama\")\n",
    "sc.tl.umap(adata_scanorama)\n",
    "# sc.tl.tsne(adata_scanorama, n_pcs = 30, use_rep = \"Scanorama\")"
   ]
  },
  {
   "cell_type": "markdown",
   "metadata": {},
   "source": [
    "### Plot uncorrected and corrected data\n",
    "Check integration of samples"
   ]
  },
  {
   "cell_type": "code",
   "execution_count": null,
   "metadata": {
    "execution": {
     "iopub.execute_input": "2023-01-14T00:02:16.615117Z",
     "iopub.status.busy": "2023-01-14T00:02:16.615117Z",
     "iopub.status.idle": "2023-01-14T00:02:18.027068Z",
     "shell.execute_reply": "2023-01-14T00:02:18.027068Z"
    }
   },
   "outputs": [],
   "source": [
    "rcParams['figure.figsize'] = 15, 15\n",
    "plt.rc('figure', facecolor='w')\n",
    "fig, axs = plt.subplots(2, 2, figsize=(14,12),constrained_layout=True)\n",
    "sc.pl.umap(adata, color=\"sample\", title=\"Uncorrected umap\", ax=axs[0,0], show=False)\n",
    "sc.pl.umap(adata_combat, color=\"sample\", title=\"Combat umap\", ax=axs[1,0], show=False)\n",
    "sc.pl.umap(adata_harmony, color=\"sample\", title=\"Harmony umap\", ax=axs[0,1], show=False)\n",
    "sc.pl.umap(adata_scanorama, color=\"sample\", title=\"Scanorama umap\", ax=axs[1,1], show=False)"
   ]
  },
  {
   "cell_type": "markdown",
   "metadata": {},
   "source": [
    "Check integration of experimental types"
   ]
  },
  {
   "cell_type": "code",
   "execution_count": null,
   "metadata": {
    "execution": {
     "iopub.execute_input": "2023-01-14T00:02:18.027068Z",
     "iopub.status.busy": "2023-01-14T00:02:18.027068Z",
     "iopub.status.idle": "2023-01-14T00:02:19.277780Z",
     "shell.execute_reply": "2023-01-14T00:02:19.277780Z"
    }
   },
   "outputs": [],
   "source": [
    "fig, axs = plt.subplots(2, 2, figsize=(14,12),constrained_layout=True)\n",
    "sc.pl.umap(adata, color=\"type\", ax=axs[0,0], show=False)\n",
    "sc.pl.umap(adata_combat, color=\"type\", title=\"Combat umap\", ax=axs[1,0], show=False)\n",
    "sc.pl.umap(adata_harmony, color=\"type\", title=\"Harmony umap\", ax=axs[0,1], show=False)\n",
    "sc.pl.umap(adata_scanorama, color=\"type\", title=\"Scanorama umap\", ax=axs[1,1], show=False)"
   ]
  },
  {
   "cell_type": "markdown",
   "metadata": {},
   "source": [
    "### PCA Plot uncorrected and corrected data\n",
    "Check integration of samples"
   ]
  },
  {
   "cell_type": "code",
   "execution_count": null,
   "metadata": {
    "execution": {
     "iopub.execute_input": "2023-01-14T00:02:19.277780Z",
     "iopub.status.busy": "2023-01-14T00:02:19.277780Z",
     "iopub.status.idle": "2023-01-14T00:02:20.673340Z",
     "shell.execute_reply": "2023-01-14T00:02:20.673340Z"
    }
   },
   "outputs": [],
   "source": [
    "fig, axs = plt.subplots(2, 2, figsize=(14,12),constrained_layout=True)\n",
    "sc.pl.pca(adata, color=\"sample\", title=\"Uncorrected pca\", ax=axs[0,0], show=False)\n",
    "sc.pl.pca(adata_combat, color=\"sample\", title=\"Combat pca\", ax=axs[1,0], show=False)\n",
    "sc.pl.pca(adata_harmony, color=\"sample\", title=\"Harmony pca\", ax=axs[0,1], show=False)\n",
    "sc.pl.pca(adata_scanorama, color=\"sample\", title=\"Scanorama pca\", ax=axs[1,1], show=False)"
   ]
  },
  {
   "cell_type": "markdown",
   "metadata": {},
   "source": [
    "Check integration of experimental types"
   ]
  },
  {
   "cell_type": "code",
   "execution_count": null,
   "metadata": {
    "execution": {
     "iopub.execute_input": "2023-01-14T00:02:20.673340Z",
     "iopub.status.busy": "2023-01-14T00:02:20.673340Z",
     "iopub.status.idle": "2023-01-14T00:02:21.892095Z",
     "shell.execute_reply": "2023-01-14T00:02:21.892095Z"
    }
   },
   "outputs": [],
   "source": [
    "fig, axs = plt.subplots(2, 2, figsize=(14,12),constrained_layout=True)\n",
    "sc.pl.pca(adata, color=\"type\", title=\"Uncorrected pca\", ax=axs[0,0], show=False)\n",
    "sc.pl.pca(adata_combat, color=\"type\", title=\"Combat pca\", ax=axs[1,0], show=False)\n",
    "sc.pl.pca(adata_harmony, color=\"type\", title=\"Harmony pca\", ax=axs[0,1], show=False)\n",
    "sc.pl.pca(adata_scanorama, color=\"type\", title=\"Scanorama  pca\", ax=axs[1,1], show=False)"
   ]
  },
  {
   "cell_type": "markdown",
   "metadata": {},
   "source": [
    "### Save data"
   ]
  },
  {
   "cell_type": "code",
   "execution_count": null,
   "metadata": {
    "execution": {
     "iopub.execute_input": "2023-01-13T23:55:16.367270Z",
     "iopub.status.busy": "2023-01-13T23:55:16.367270Z",
     "iopub.status.idle": "2023-01-13T23:56:24.773542Z",
     "shell.execute_reply": "2023-01-13T23:56:24.773542Z"
    }
   },
   "outputs": [],
   "source": [
    "adata_combat.write_h5ad(combat_file)\n",
    "print('X size =', adata_combat.X.shape)"
   ]
  },
  {
   "cell_type": "code",
   "execution_count": null,
   "metadata": {
    "execution": {
     "iopub.execute_input": "2023-01-13T23:56:24.773542Z",
     "iopub.status.busy": "2023-01-13T23:56:24.773542Z",
     "iopub.status.idle": "2023-01-13T23:57:12.666539Z",
     "shell.execute_reply": "2023-01-13T23:57:12.666539Z"
    }
   },
   "outputs": [],
   "source": [
    "adata_harmony.write_h5ad(harmony_file)\n",
    "print('X size =', adata_combat.X.shape)"
   ]
  },
  {
   "cell_type": "code",
   "execution_count": null,
   "metadata": {
    "execution": {
     "iopub.execute_input": "2023-01-13T23:57:12.666539Z",
     "iopub.status.busy": "2023-01-13T23:57:12.666539Z",
     "iopub.status.idle": "2023-01-13T23:57:59.943314Z",
     "shell.execute_reply": "2023-01-13T23:57:59.943314Z"
    }
   },
   "outputs": [],
   "source": [
    "adata_scanorama.write_h5ad(scanorama_file)\n",
    "print('X size =', adata_scanorama.X.shape)"
   ]
  },
  {
   "cell_type": "code",
   "execution_count": null,
   "metadata": {},
   "outputs": [],
   "source": []
  }
 ],
 "metadata": {
  "kernelspec": {
   "display_name": "env",
   "language": "python",
   "name": "python3"
  },
  "language_info": {
   "codemirror_mode": {
    "name": "ipython",
    "version": 3
   },
   "file_extension": ".py",
   "mimetype": "text/x-python",
   "name": "python",
   "nbconvert_exporter": "python",
   "pygments_lexer": "ipython3",
   "version": "3.11.3"
  }
 },
 "nbformat": 4,
 "nbformat_minor": 4
}
