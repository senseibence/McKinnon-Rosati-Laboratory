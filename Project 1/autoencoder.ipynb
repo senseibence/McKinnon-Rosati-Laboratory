{
 "cells": [
  {
   "cell_type": "code",
   "execution_count": 1,
   "metadata": {},
   "outputs": [
    {
     "name": "stderr",
     "output_type": "stream",
     "text": [
      "c:\\Users\\bence\\Projects\\BIO446\\env\\Lib\\site-packages\\anndata\\utils.py:429: FutureWarning: Importing read_csv from `anndata` is deprecated. Import anndata.io.read_csv instead.\n",
      "  warnings.warn(msg, FutureWarning)\n",
      "c:\\Users\\bence\\Projects\\BIO446\\env\\Lib\\site-packages\\anndata\\utils.py:429: FutureWarning: Importing read_excel from `anndata` is deprecated. Import anndata.io.read_excel instead.\n",
      "  warnings.warn(msg, FutureWarning)\n",
      "c:\\Users\\bence\\Projects\\BIO446\\env\\Lib\\site-packages\\anndata\\utils.py:429: FutureWarning: Importing read_hdf from `anndata` is deprecated. Import anndata.io.read_hdf instead.\n",
      "  warnings.warn(msg, FutureWarning)\n",
      "c:\\Users\\bence\\Projects\\BIO446\\env\\Lib\\site-packages\\anndata\\utils.py:429: FutureWarning: Importing read_loom from `anndata` is deprecated. Import anndata.io.read_loom instead.\n",
      "  warnings.warn(msg, FutureWarning)\n",
      "c:\\Users\\bence\\Projects\\BIO446\\env\\Lib\\site-packages\\anndata\\utils.py:429: FutureWarning: Importing read_mtx from `anndata` is deprecated. Import anndata.io.read_mtx instead.\n",
      "  warnings.warn(msg, FutureWarning)\n",
      "c:\\Users\\bence\\Projects\\BIO446\\env\\Lib\\site-packages\\anndata\\utils.py:429: FutureWarning: Importing read_text from `anndata` is deprecated. Import anndata.io.read_text instead.\n",
      "  warnings.warn(msg, FutureWarning)\n",
      "c:\\Users\\bence\\Projects\\BIO446\\env\\Lib\\site-packages\\anndata\\utils.py:429: FutureWarning: Importing read_umi_tools from `anndata` is deprecated. Import anndata.io.read_umi_tools instead.\n",
      "  warnings.warn(msg, FutureWarning)\n"
     ]
    },
    {
     "name": "stdout",
     "output_type": "stream",
     "text": [
      "scanpy==1.10.3 anndata==0.11.0 umap==0.5.7 numpy==1.26.4 scipy==1.14.1 pandas==2.2.3 scikit-learn==1.5.2 statsmodels==0.14.4 pynndescent==0.5.13\n"
     ]
    }
   ],
   "source": [
    "import numpy as np\n",
    "import pandas as pd\n",
    "import scanpy as sc\n",
    "import seaborn as sb\n",
    "import matplotlib.pyplot as plt\n",
    "from matplotlib import rcParams\n",
    "%matplotlib inline\n",
    "import seaborn as sns\n",
    "import scipy.sparse\n",
    "import cmasher as cmr\n",
    "from natsort import natsorted\n",
    "import sys \n",
    "import os\n",
    "\n",
    "# some visualization tool\n",
    "# import sc_module as sm\n",
    "\n",
    "from collections import OrderedDict\n",
    "import decoupler as dc\n",
    "\n",
    "sc.settings.verbosity = 3 # verbosity: errors (0), warnings (1), info (2), hints (3)\n",
    "sc.logging.print_header()\n",
    "sc.settings.set_figure_params(dpi=80)"
   ]
  },
  {
   "cell_type": "code",
   "execution_count": 2,
   "metadata": {},
   "outputs": [],
   "source": [
    "sys.path.append(os.path.abspath(r\"C:\\\\Users\\\\bence\\\\Projects\\\\BIO446\\\\McKinnon-Rosati-Laboratory\\\\Project 2\\\\jl_modules\"))"
   ]
  },
  {
   "cell_type": "code",
   "execution_count": 3,
   "metadata": {},
   "outputs": [],
   "source": [
    "clustered_file = \"C:\\\\Users\\\\bence\\\\Projects\\\\BIO446\\\\McKinnon-Rosati-Laboratory\\\\Project 1\\\\granulomas_final.h5ad\""
   ]
  },
  {
   "cell_type": "code",
   "execution_count": 4,
   "metadata": {},
   "outputs": [
    {
     "name": "stdout",
     "output_type": "stream",
     "text": [
      "sample\n",
      "granuloma2    9392\n",
      "granuloma1    9302\n",
      "granuloma3    8909\n",
      "Name: count, dtype: int64\n",
      "\n",
      "X matrix is sparse: False\n",
      "X size = (27603, 23693)\n"
     ]
    }
   ],
   "source": [
    "# clustered data\n",
    "adata = sc.read_h5ad(clustered_file)\n",
    "adata.uns['log1p'][\"base\"] = None # bug fix\n",
    "\n",
    "print(adata.obs['sample'].value_counts())\n",
    "print()\n",
    "print('X matrix is sparse:', scipy.sparse.issparse(adata.X))\n",
    "print('X size =', adata.X.shape)"
   ]
  }
 ],
 "metadata": {
  "kernelspec": {
   "display_name": "env",
   "language": "python",
   "name": "python3"
  },
  "language_info": {
   "codemirror_mode": {
    "name": "ipython",
    "version": 3
   },
   "file_extension": ".py",
   "mimetype": "text/x-python",
   "name": "python",
   "nbconvert_exporter": "python",
   "pygments_lexer": "ipython3",
   "version": "3.11.3"
  }
 },
 "nbformat": 4,
 "nbformat_minor": 2
}
