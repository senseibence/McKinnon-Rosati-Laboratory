{
 "cells": [
  {
   "cell_type": "code",
   "execution_count": null,
   "metadata": {},
   "outputs": [],
   "source": [
    "import numpy as np\n",
    "# import pandas as pd\n",
    "import scanpy as sc\n",
    "import seaborn as sb\n",
    "import matplotlib.pyplot as plt\n",
    "# from matplotlib import rcParams\n",
    "%matplotlib inline\n",
    "# import seaborn as sns\n",
    "import scipy.sparse\n",
    "# import cmasher as cmr\n",
    "# from natsort import natsorted\n",
    "import sys \n",
    "import os\n",
    "import joblib\n",
    "# from imblearn.over_sampling import SMOTE\n",
    "# from collections import Counter\n",
    "# import sc_module as sm\n",
    "import xgboost as xgb\n",
    "from sklearn.model_selection import train_test_split\n",
    "from sklearn.utils.class_weight import compute_sample_weight\n",
    "from sklearn.metrics import accuracy_score, precision_score, recall_score, f1_score\n",
    "from sklearn.metrics import confusion_matrix\n",
    "# from collections import OrderedDict\n",
    "# import decoupler as dc\n",
    "\n",
    "sc.settings.verbosity = 3 # verbosity: errors (0), warnings (1), info (2), hints (3)\n",
    "sc.logging.print_header()\n",
    "sc.settings.set_figure_params(dpi=80)"
   ]
  },
  {
   "cell_type": "code",
   "execution_count": null,
   "metadata": {},
   "outputs": [],
   "source": [
    "sys.path.append(os.path.abspath(r\"C:\\\\Users\\\\bence\\\\Projects\\\\BIO446\\\\McKinnon-Rosati-Laboratory\\\\Project 2\\\\jl_modules\"))"
   ]
  },
  {
   "cell_type": "code",
   "execution_count": null,
   "metadata": {},
   "outputs": [],
   "source": [
    "clustered_file = \"C:\\\\Users\\\\bence\\\\Projects\\\\BIO446\\\\McKinnon-Rosati-Laboratory\\\\Project 1\\\\granulomas_final.h5ad\""
   ]
  },
  {
   "cell_type": "code",
   "execution_count": null,
   "metadata": {},
   "outputs": [],
   "source": [
    "# clustered data\n",
    "adata = sc.read_h5ad(clustered_file)\n",
    "adata.uns['log1p'][\"base\"] = None # bug fix\n",
    "\n",
    "print(adata.obs['sample'].value_counts())\n",
    "print()\n",
    "print('X matrix is sparse:', scipy.sparse.issparse(adata.X))\n",
    "print('X size =', adata.X.shape)"
   ]
  },
  {
   "cell_type": "code",
   "execution_count": null,
   "metadata": {},
   "outputs": [],
   "source": [
    "adata"
   ]
  },
  {
   "cell_type": "code",
   "execution_count": null,
   "metadata": {},
   "outputs": [],
   "source": [
    "cluster_type = 'my_clust_1'"
   ]
  },
  {
   "cell_type": "code",
   "execution_count": null,
   "metadata": {},
   "outputs": [],
   "source": [
    "adata.obs[cluster_type]"
   ]
  },
  {
   "cell_type": "code",
   "execution_count": null,
   "metadata": {},
   "outputs": [],
   "source": [
    "annotation_dict= {\n",
    "'9': 'CAP1',\n",
    "'24': 'CAP2',\n",
    "'9b': 'VEC',\n",
    "'27': 'LEC',\n",
    "    \n",
    "'17': 'Ciliated',\n",
    "'15': 'Secretory',\n",
    "'22': 'AT1',\n",
    "'6': 'AT2',\n",
    "'12': 'AT2-t1',\n",
    "'19': 'AT2-t2',\n",
    "    \n",
    "'18': 'AF1',\n",
    "'14': 'AF2',\n",
    "'25': 'Pericyte',\n",
    "    \n",
    "'20': 'Mesothelial',\n",
    "    \n",
    "'3': 'B1',\n",
    "'3b': 'B2',\n",
    "    \n",
    "'0': 'Th1',\n",
    "'8': 'T_naive',\n",
    "'11': 'T_ex',\n",
    "'77': 'Treg',\n",
    "    \n",
    "'11b': 'NK',\n",
    "    \n",
    "'4a': 'AM',\n",
    "'4': 'M-t1',\n",
    "'10': 'M-lc',\n",
    "'7': 'M-t2',\n",
    "'7b': 'M-C1q',\n",
    "'7c': 'iMon',\n",
    "    \n",
    "'23': 'pDC',\n",
    "'13': 'DC',\n",
    "'5b': 'N1',\n",
    "'5': 'N2',\n",
    "}"
   ]
  },
  {
   "cell_type": "code",
   "execution_count": null,
   "metadata": {},
   "outputs": [],
   "source": [
    "# Add cell type column based on annotation\n",
    "adata.obs['cell_type_edit'] = [annotation_dict[clust] for clust in adata.obs[cluster_type]]\n",
    "\n",
    "# Error checking\n",
    "dict_list = list(annotation_dict.keys())\n",
    "adata_list = list(adata.obs['my_clust_1'].unique())\n",
    "print('Keys in dictionary not in adata:', [item for item in dict_list if item not in adata_list] )\n",
    "print('Keys in adata not in dictionary:', [item for item in adata_list if item not in dict_list] )"
   ]
  },
  {
   "cell_type": "code",
   "execution_count": null,
   "metadata": {},
   "outputs": [],
   "source": [
    "adata.obs['cell_type_edit']"
   ]
  },
  {
   "cell_type": "code",
   "execution_count": null,
   "metadata": {},
   "outputs": [],
   "source": [
    "# collect unique cells\n",
    "unique_celltype_sub = adata.obs['cell_type_edit'].unique()\n",
    "print(unique_celltype_sub)\n",
    "\n",
    "# count num unique cells\n",
    "num_unique_celltype_sub = adata.obs['cell_type_edit'].nunique()\n",
    "print(f\"Number of unique sub cell types: {num_unique_celltype_sub}\")"
   ]
  },
  {
   "cell_type": "code",
   "execution_count": null,
   "metadata": {},
   "outputs": [],
   "source": [
    "# map cell types to integers\n",
    "replacement_dict = {\n",
    "    'AT2': 0,\n",
    "    'B1': 1,\n",
    "    'M-t1': 2,\n",
    "    'DC': 3,\n",
    "    'Th1': 4,\n",
    "    'M-t2': 5,\n",
    "    'Secretory': 6,\n",
    "    'AM': 7,\n",
    "    'N1': 8,\n",
    "    'M-C1q': 9,\n",
    "    'AT2-t2': 10,\n",
    "    'AF2': 11,\n",
    "    'VEC': 12,\n",
    "    'CAP1': 13,\n",
    "    'N2': 14,\n",
    "    'AT2-t1': 15,\n",
    "    'Pericyte': 16,\n",
    "    'pDC': 17,\n",
    "    'Ciliated': 18,\n",
    "    'NK': 19,\n",
    "    'AT1': 20,\n",
    "    'T_naive': 21,\n",
    "    'Treg': 22,\n",
    "    'M-lc': 23,\n",
    "    'Mesothelial': 24,\n",
    "    'T_ex': 25,\n",
    "    'CAP2': 26,\n",
    "    'LEC': 27,\n",
    "    'iMon': 28,\n",
    "    'B2': 29\n",
    "}"
   ]
  },
  {
   "cell_type": "code",
   "execution_count": null,
   "metadata": {},
   "outputs": [],
   "source": [
    "adata.obs['cell_type_edit2'] = adata.obs['cell_type_edit']\n",
    "adata.obs['celltype'] = adata.obs['cell_type_edit'].replace(replacement_dict)"
   ]
  },
  {
   "cell_type": "code",
   "execution_count": null,
   "metadata": {},
   "outputs": [],
   "source": [
    "adata.obs['celltype']"
   ]
  },
  {
   "cell_type": "code",
   "execution_count": null,
   "metadata": {},
   "outputs": [],
   "source": [
    "print(\"Unique values in 'celltype' column after replacement:\", adata.obs['celltype'].unique())"
   ]
  },
  {
   "cell_type": "code",
   "execution_count": null,
   "metadata": {},
   "outputs": [],
   "source": [
    "# number of cells in each cell type\n",
    "cell_type_counts = adata.obs['cell_type_edit2'].value_counts()\n",
    "\n",
    "print(\"Number of cells in each cell type:\")\n",
    "print(cell_type_counts)"
   ]
  },
  {
   "cell_type": "code",
   "execution_count": null,
   "metadata": {},
   "outputs": [],
   "source": [
    "# cell distribution with cell types (hard to see)\n",
    "y = adata.obs['cell_type_edit2']\n",
    "plt.figure(figsize=(35, 18))\n",
    "plt.title('Cell Distribution with Cell Types')\n",
    "y.value_counts().plot(kind='bar', rot=0)\n",
    "plt.show()"
   ]
  },
  {
   "cell_type": "code",
   "execution_count": null,
   "metadata": {},
   "outputs": [],
   "source": [
    "# cell distribution with int mappings (easy to see)\n",
    "y = adata.obs['celltype']\n",
    "plt.figure(figsize=(14, 8))\n",
    "plt.title('Cell Distribution with Integer Mappings')\n",
    "y.value_counts().plot(kind='bar', rot=0)\n",
    "plt.show()"
   ]
  },
  {
   "cell_type": "code",
   "execution_count": null,
   "metadata": {},
   "outputs": [],
   "source": [
    "# Extract gene expression values (X) and cell types (y) from the adata object\n",
    "# If adata.X is already a numpy array, just use it directly\n",
    "\n",
    "X = adata.X  # No need for .toarray() if it's already a numpy array\n",
    "y = adata.obs['celltype'].values  # Extract the cell types as a numpy array\n",
    "\n",
    "train_features, test_features, train_labels, test_labels = train_test_split(X, y, test_size = 0.2, random_state=42)\n",
    "train_features, val_features, train_labels, val_labels = train_test_split(train_features, train_labels, test_size = 0.25, random_state=42)\n",
    "\n",
    "train_features = np.array(train_features)\n",
    "test_features = np.array(test_features)\n",
    "val_features = np.array(val_features)\n",
    "\n",
    "train_labels = np.array(train_labels)\n",
    "test_labels = np.array(test_labels)\n",
    "val_labels = np.array(val_labels)\n",
    "\n",
    "# Print the shape of the training and testing sets\n",
    "print('Training features shape:', train_features.shape)\n",
    "print('Validation features shape:', val_features.shape)\n",
    "print('Test features shape:', test_features.shape)\n",
    "\n",
    "print('Training labels shape:', train_labels.shape)\n",
    "print('Validation labels shape:', val_labels.shape)\n",
    "print('Test labels shape:', test_labels.shape)"
   ]
  },
  {
   "cell_type": "code",
   "execution_count": null,
   "metadata": {},
   "outputs": [],
   "source": [
    "print(y)\n",
    "print(len(y))"
   ]
  },
  {
   "cell_type": "code",
   "execution_count": null,
   "metadata": {},
   "outputs": [],
   "source": [
    "print(X)\n",
    "print(len(X))"
   ]
  },
  {
   "cell_type": "code",
   "execution_count": null,
   "metadata": {},
   "outputs": [],
   "source": [
    "adata.obs['celltype']"
   ]
  },
  {
   "cell_type": "code",
   "execution_count": null,
   "metadata": {},
   "outputs": [],
   "source": [
    "sample_weights = compute_sample_weight(\n",
    "    class_weight='balanced',\n",
    "    y=train_labels\n",
    ")"
   ]
  },
  {
   "cell_type": "code",
   "execution_count": null,
   "metadata": {},
   "outputs": [],
   "source": [
    "print(train_labels)\n",
    "print(sample_weights)\n",
    "print(len(sample_weights))"
   ]
  },
  {
   "cell_type": "code",
   "execution_count": null,
   "metadata": {},
   "outputs": [],
   "source": [
    "# https://xgboost.readthedocs.io/en/latest/python/python_api.html\n",
    "\n",
    "XGB_decisionTree = xgb.XGBClassifier(\n",
    "    n_estimators=500,              # More trees for better performance\n",
    "    learning_rate=0.05,            # Slower learning rate\n",
    "    max_depth=8,                   # Moderate depth for balance\n",
    "    colsample_bytree=0.8,          # Feature sampling for generalization\n",
    "    subsample=0.8,                 # Row sampling for generalization\n",
    "    gamma=0.1,                     # Loss reduction threshold\n",
    "    objective='multi:softmax',     # Multiclass classification\n",
    "    early_stopping_rounds=25\n",
    ")\n",
    "\n",
    "XGB_decisionTree = XGB_decisionTree.fit(X=train_features, y=train_labels, eval_set=[(val_features, val_labels)], sample_weight=sample_weights)"
   ]
  },
  {
   "cell_type": "code",
   "execution_count": null,
   "metadata": {},
   "outputs": [],
   "source": [
    "XGB_decisionTree_pred = XGB_decisionTree.predict(test_features)"
   ]
  },
  {
   "cell_type": "code",
   "execution_count": null,
   "metadata": {},
   "outputs": [],
   "source": [
    "def evaluate_model(y_true, y_pred, model_name):\n",
    "    accuracy = accuracy_score(y_true, y_pred)\n",
    "    precision = precision_score(y_true, y_pred, average='weighted')\n",
    "    recall = recall_score(y_true, y_pred, average='weighted')\n",
    "    f1 = f1_score(y_true, y_pred, average='weighted')\n",
    "\n",
    "    print(f\"------ {model_name} ------\")\n",
    "    print(f\"Accuracy: {accuracy:.4f}\")\n",
    "    print(f\"Precision: {precision:.4f}\")\n",
    "    print(f\"Recall: {recall:.4f}\")\n",
    "    print(f\"F1-score: {f1:.4f}\")"
   ]
  },
  {
   "cell_type": "code",
   "execution_count": null,
   "metadata": {},
   "outputs": [],
   "source": [
    "evaluate_model(test_labels, XGB_decisionTree_pred, \"XGBoost Decision Tree\")"
   ]
  },
  {
   "cell_type": "code",
   "execution_count": null,
   "metadata": {},
   "outputs": [],
   "source": [
    "def plot_confusion_matrix(y_true, y_pred, model_name):\n",
    "    cm = confusion_matrix(y_true, y_pred)\n",
    "    plt.figure(figsize=(7.7, 6))\n",
    "    sb.heatmap(cm, annot=False, cmap='Blues', cbar=True,\n",
    "                xticklabels=np.unique(y), yticklabels=np.unique(y))\n",
    "    plt.title(f'Confusion Matrix - {model_name}')\n",
    "    plt.xlabel('Predicted Label')\n",
    "    plt.ylabel('True Label')\n",
    "    plt.show()"
   ]
  },
  {
   "cell_type": "code",
   "execution_count": null,
   "metadata": {},
   "outputs": [],
   "source": [
    "plot_confusion_matrix(test_labels, XGB_decisionTree_pred, \"XGBoost Decision Tree\")"
   ]
  },
  {
   "cell_type": "code",
   "execution_count": null,
   "metadata": {},
   "outputs": [],
   "source": [
    "joblib.dump(XGB_decisionTree, 'XGBmodel.pkl')"
   ]
  }
 ],
 "metadata": {
  "kernelspec": {
   "display_name": "env",
   "language": "python",
   "name": "python3"
  },
  "language_info": {
   "codemirror_mode": {
    "name": "ipython",
    "version": 3
   },
   "file_extension": ".py",
   "mimetype": "text/x-python",
   "name": "python",
   "nbconvert_exporter": "python",
   "pygments_lexer": "ipython3",
   "version": "3.11.3"
  }
 },
 "nbformat": 4,
 "nbformat_minor": 2
}
