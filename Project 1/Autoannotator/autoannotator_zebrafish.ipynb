{
  "cells": [
    {
      "cell_type": "code",
      "execution_count": 2,
      "metadata": {
        "id": "i2yoTKcZ5Zwa"
      },
      "outputs": [],
      "source": [
        "import numpy as np\n",
        "import scanpy as sc\n",
        "import matplotlib.pyplot as plt\n",
        "import scipy.sparse\n",
        "from sklearn.model_selection import train_test_split\n",
        "from sklearn.utils.class_weight import compute_sample_weight"
      ]
    },
    {
      "cell_type": "code",
      "execution_count": 3,
      "metadata": {
        "id": "Uypby1TzN3V1"
      },
      "outputs": [],
      "source": [
        "zebrafish = \"../Data/danio_training_set.h5ad\""
      ]
    },
    {
      "cell_type": "code",
      "execution_count": 4,
      "metadata": {
        "id": "HlZ-Sjxv57_V"
      },
      "outputs": [],
      "source": [
        "adata = sc.read_h5ad(zebrafish)"
      ]
    },
    {
      "cell_type": "code",
      "execution_count": 5,
      "metadata": {
        "colab": {
          "base_uri": "https://localhost:8080/"
        },
        "id": "I7r7Z4th6Csx",
        "outputId": "c13ec5e9-a0dc-4ca2-fe36-7b99ed03061d"
      },
      "outputs": [
        {
          "data": {
            "text/plain": [
              "AnnData object with n_obs × n_vars = 43223 × 36250\n",
              "    obs: 'nCount_RNA', 'nFeature_RNA', 'percent.mt', 'percent.ribo', 'nCount_MS', 'nFeature_MS', 'MS_class_SNR', 'MS_class_Seurat', 'method', 'sample', 'hpf', 'hpf.nice', 'stage.group', 'subset.full', 'subset', 'cluster', 'tissue', 'identity.super', 'identity.sub', 'identity.super.short', 'identity.sub.short', 'zfin'\n",
              "    var: 'vst.mean', 'vst.variance', 'vst.variance.expected', 'vst.variance.standardized', 'vst.variable'\n",
              "    uns: 'identity.super.short_colors', 'identity.super_colors', 'tissue_colors'\n",
              "    obsm: 'X_umap'"
            ]
          },
          "execution_count": 5,
          "metadata": {},
          "output_type": "execute_result"
        }
      ],
      "source": [
        "adata"
      ]
    },
    {
      "cell_type": "code",
      "execution_count": 49,
      "metadata": {},
      "outputs": [
        {
          "data": {
            "text/html": [
              "<div>\n",
              "<style scoped>\n",
              "    .dataframe tbody tr th:only-of-type {\n",
              "        vertical-align: middle;\n",
              "    }\n",
              "\n",
              "    .dataframe tbody tr th {\n",
              "        vertical-align: top;\n",
              "    }\n",
              "\n",
              "    .dataframe thead th {\n",
              "        text-align: right;\n",
              "    }\n",
              "</style>\n",
              "<table border=\"1\" class=\"dataframe\">\n",
              "  <thead>\n",
              "    <tr style=\"text-align: right;\">\n",
              "      <th></th>\n",
              "      <th>nCount_RNA</th>\n",
              "      <th>nFeature_RNA</th>\n",
              "      <th>percent.mt</th>\n",
              "      <th>percent.ribo</th>\n",
              "      <th>nCount_MS</th>\n",
              "      <th>nFeature_MS</th>\n",
              "      <th>MS_class_SNR</th>\n",
              "      <th>MS_class_Seurat</th>\n",
              "      <th>method</th>\n",
              "      <th>sample</th>\n",
              "      <th>...</th>\n",
              "      <th>subset.full</th>\n",
              "      <th>subset</th>\n",
              "      <th>cluster</th>\n",
              "      <th>tissue</th>\n",
              "      <th>identity.super</th>\n",
              "      <th>identity.sub</th>\n",
              "      <th>identity.super.short</th>\n",
              "      <th>identity.sub.short</th>\n",
              "      <th>zfin</th>\n",
              "      <th>identity.super_numeric</th>\n",
              "    </tr>\n",
              "  </thead>\n",
              "  <tbody>\n",
              "    <tr>\n",
              "      <th>TC1-24-AAACCCAGTATGGAGC</th>\n",
              "      <td>3728.0</td>\n",
              "      <td>984</td>\n",
              "      <td>0.348712</td>\n",
              "      <td>38.090129</td>\n",
              "      <td>NaN</td>\n",
              "      <td>-2147483648</td>\n",
              "      <td>NA</td>\n",
              "      <td>NA</td>\n",
              "      <td>10X</td>\n",
              "      <td>TC1-24</td>\n",
              "      <td>...</td>\n",
              "      <td>mesenchyme</td>\n",
              "      <td>mese</td>\n",
              "      <td>mese.10</td>\n",
              "      <td>mesenchyme</td>\n",
              "      <td>pharyngeal arch</td>\n",
              "      <td>intermediate (incl. jaw joint)</td>\n",
              "      <td>pharyngeal arch</td>\n",
              "      <td>intermediate (incl. jaw joint)</td>\n",
              "      <td></td>\n",
              "      <td>0</td>\n",
              "    </tr>\n",
              "    <tr>\n",
              "      <th>TC1-24-AAACGAAAGCGGGTAT</th>\n",
              "      <td>9892.0</td>\n",
              "      <td>2166</td>\n",
              "      <td>0.849171</td>\n",
              "      <td>26.496159</td>\n",
              "      <td>NaN</td>\n",
              "      <td>-2147483648</td>\n",
              "      <td>NA</td>\n",
              "      <td>NA</td>\n",
              "      <td>10X</td>\n",
              "      <td>TC1-24</td>\n",
              "      <td>...</td>\n",
              "      <td>glial</td>\n",
              "      <td>glia</td>\n",
              "      <td>glia.20</td>\n",
              "      <td>glial</td>\n",
              "      <td>oligodendrocytes</td>\n",
              "      <td>spinal cord, precursors</td>\n",
              "      <td>oligodendrocytes</td>\n",
              "      <td>spinal cord, precursors</td>\n",
              "      <td>ZFA:0009076,ZFA:0000075</td>\n",
              "      <td>1</td>\n",
              "    </tr>\n",
              "    <tr>\n",
              "      <th>TC1-24-AAACGCTAGCTTAGTC</th>\n",
              "      <td>7182.0</td>\n",
              "      <td>1459</td>\n",
              "      <td>0.111390</td>\n",
              "      <td>40.740741</td>\n",
              "      <td>NaN</td>\n",
              "      <td>-2147483648</td>\n",
              "      <td>NA</td>\n",
              "      <td>NA</td>\n",
              "      <td>10X</td>\n",
              "      <td>TC1-24</td>\n",
              "      <td>...</td>\n",
              "      <td>neural</td>\n",
              "      <td>neur</td>\n",
              "      <td>neur.2</td>\n",
              "      <td>neural</td>\n",
              "      <td>progenitors</td>\n",
              "      <td>unknown, incl. some retina</td>\n",
              "      <td>progenitors</td>\n",
              "      <td>unknown, incl. some retina</td>\n",
              "      <td></td>\n",
              "      <td>2</td>\n",
              "    </tr>\n",
              "    <tr>\n",
              "      <th>TC1-24-AAACGCTCAGAATGTA</th>\n",
              "      <td>3400.0</td>\n",
              "      <td>941</td>\n",
              "      <td>0.058824</td>\n",
              "      <td>40.235294</td>\n",
              "      <td>NaN</td>\n",
              "      <td>-2147483648</td>\n",
              "      <td>NA</td>\n",
              "      <td>NA</td>\n",
              "      <td>10X</td>\n",
              "      <td>TC1-24</td>\n",
              "      <td>...</td>\n",
              "      <td>mesenchyme</td>\n",
              "      <td>mese</td>\n",
              "      <td>mese.12</td>\n",
              "      <td>mesenchyme</td>\n",
              "      <td>pharyngeal arch</td>\n",
              "      <td>progenitors</td>\n",
              "      <td>pharyngeal arch</td>\n",
              "      <td>progenitors</td>\n",
              "      <td></td>\n",
              "      <td>0</td>\n",
              "    </tr>\n",
              "    <tr>\n",
              "      <th>TC1-24-AAACGCTCAGCTACTA</th>\n",
              "      <td>5777.0</td>\n",
              "      <td>1173</td>\n",
              "      <td>0.034620</td>\n",
              "      <td>45.577289</td>\n",
              "      <td>NaN</td>\n",
              "      <td>-2147483648</td>\n",
              "      <td>NA</td>\n",
              "      <td>NA</td>\n",
              "      <td>10X</td>\n",
              "      <td>TC1-24</td>\n",
              "      <td>...</td>\n",
              "      <td>endoderm</td>\n",
              "      <td>endo</td>\n",
              "      <td>endo.9</td>\n",
              "      <td>gut</td>\n",
              "      <td>intestine</td>\n",
              "      <td>progenitors, early + absorptive</td>\n",
              "      <td>intestine</td>\n",
              "      <td>progenitors, early + absorptive</td>\n",
              "      <td></td>\n",
              "      <td>3</td>\n",
              "    </tr>\n",
              "    <tr>\n",
              "      <th>...</th>\n",
              "      <td>...</td>\n",
              "      <td>...</td>\n",
              "      <td>...</td>\n",
              "      <td>...</td>\n",
              "      <td>...</td>\n",
              "      <td>...</td>\n",
              "      <td>...</td>\n",
              "      <td>...</td>\n",
              "      <td>...</td>\n",
              "      <td>...</td>\n",
              "      <td>...</td>\n",
              "      <td>...</td>\n",
              "      <td>...</td>\n",
              "      <td>...</td>\n",
              "      <td>...</td>\n",
              "      <td>...</td>\n",
              "      <td>...</td>\n",
              "      <td>...</td>\n",
              "      <td>...</td>\n",
              "      <td>...</td>\n",
              "      <td>...</td>\n",
              "    </tr>\n",
              "    <tr>\n",
              "      <th>TC4-36-L-TTTGGTTTCACGACTA</th>\n",
              "      <td>9193.0</td>\n",
              "      <td>2248</td>\n",
              "      <td>1.490264</td>\n",
              "      <td>37.648211</td>\n",
              "      <td>1383.0</td>\n",
              "      <td>10</td>\n",
              "      <td>Bar4</td>\n",
              "      <td>Bar4</td>\n",
              "      <td>10X</td>\n",
              "      <td>TC4-36-L</td>\n",
              "      <td>...</td>\n",
              "      <td>glial</td>\n",
              "      <td>glia</td>\n",
              "      <td>glia.6</td>\n",
              "      <td>spinal cord</td>\n",
              "      <td>motor neurons</td>\n",
              "      <td>primary motor neurons (olig2+)</td>\n",
              "      <td>motor neurons</td>\n",
              "      <td>primary motor neurons (olig2+)</td>\n",
              "      <td>ZFA:0000075,ZFA:0009052,ZFA:0009244</td>\n",
              "      <td>32</td>\n",
              "    </tr>\n",
              "    <tr>\n",
              "      <th>TC4-36-L-TTTGTTGAGCGTCAGA</th>\n",
              "      <td>3088.0</td>\n",
              "      <td>1381</td>\n",
              "      <td>1.101036</td>\n",
              "      <td>18.037565</td>\n",
              "      <td>2237.0</td>\n",
              "      <td>9</td>\n",
              "      <td>Bar7</td>\n",
              "      <td>Bar7</td>\n",
              "      <td>10X</td>\n",
              "      <td>TC4-36-L</td>\n",
              "      <td>...</td>\n",
              "      <td>neural</td>\n",
              "      <td>neur</td>\n",
              "      <td>neur.28</td>\n",
              "      <td>neural</td>\n",
              "      <td>hindbrain</td>\n",
              "      <td>rhombomere 7-8, [glycinergic]</td>\n",
              "      <td>hindbrain</td>\n",
              "      <td>rhombomere 7-8, [glycinergic]</td>\n",
              "      <td></td>\n",
              "      <td>5</td>\n",
              "    </tr>\n",
              "    <tr>\n",
              "      <th>TC4-36-L-TTTGTTGAGTATGCAA</th>\n",
              "      <td>4528.0</td>\n",
              "      <td>1563</td>\n",
              "      <td>1.082155</td>\n",
              "      <td>29.196113</td>\n",
              "      <td>2416.0</td>\n",
              "      <td>10</td>\n",
              "      <td>Bar3</td>\n",
              "      <td>Bar3</td>\n",
              "      <td>10X</td>\n",
              "      <td>TC4-36-L</td>\n",
              "      <td>...</td>\n",
              "      <td>eye</td>\n",
              "      <td>eye</td>\n",
              "      <td>eye.14</td>\n",
              "      <td>eye</td>\n",
              "      <td>photoreceptors</td>\n",
              "      <td>precursors</td>\n",
              "      <td>photoreceptors</td>\n",
              "      <td>precursors</td>\n",
              "      <td>ZFA:0009154</td>\n",
              "      <td>65</td>\n",
              "    </tr>\n",
              "    <tr>\n",
              "      <th>TC4-36-L-TTTGTTGTCCGCATAA</th>\n",
              "      <td>8318.0</td>\n",
              "      <td>2492</td>\n",
              "      <td>1.562876</td>\n",
              "      <td>24.356817</td>\n",
              "      <td>2920.0</td>\n",
              "      <td>10</td>\n",
              "      <td>Bar3</td>\n",
              "      <td>Bar3</td>\n",
              "      <td>10X</td>\n",
              "      <td>TC4-36-L</td>\n",
              "      <td>...</td>\n",
              "      <td>neural</td>\n",
              "      <td>neur</td>\n",
              "      <td>neur.41</td>\n",
              "      <td>neural</td>\n",
              "      <td>Purkinje neurons</td>\n",
              "      <td>gabaergic (gad2+)</td>\n",
              "      <td>Purkinje neurons</td>\n",
              "      <td>gabaergic (gad2+)</td>\n",
              "      <td></td>\n",
              "      <td>59</td>\n",
              "    </tr>\n",
              "    <tr>\n",
              "      <th>TC4-36-L-TTTGTTGTCGCGCCAA</th>\n",
              "      <td>11634.0</td>\n",
              "      <td>2675</td>\n",
              "      <td>1.538594</td>\n",
              "      <td>29.250473</td>\n",
              "      <td>2571.0</td>\n",
              "      <td>10</td>\n",
              "      <td>Bar2</td>\n",
              "      <td>Bar2</td>\n",
              "      <td>10X</td>\n",
              "      <td>TC4-36-L</td>\n",
              "      <td>...</td>\n",
              "      <td>neural</td>\n",
              "      <td>neur</td>\n",
              "      <td>neur.16</td>\n",
              "      <td>neural</td>\n",
              "      <td>hindbrain</td>\n",
              "      <td>rhombic lip</td>\n",
              "      <td>hindbrain</td>\n",
              "      <td>rhombic lip</td>\n",
              "      <td></td>\n",
              "      <td>5</td>\n",
              "    </tr>\n",
              "  </tbody>\n",
              "</table>\n",
              "<p>43223 rows × 23 columns</p>\n",
              "</div>"
            ],
            "text/plain": [
              "                           nCount_RNA  nFeature_RNA  percent.mt  percent.ribo  \\\n",
              "TC1-24-AAACCCAGTATGGAGC        3728.0           984    0.348712     38.090129   \n",
              "TC1-24-AAACGAAAGCGGGTAT        9892.0          2166    0.849171     26.496159   \n",
              "TC1-24-AAACGCTAGCTTAGTC        7182.0          1459    0.111390     40.740741   \n",
              "TC1-24-AAACGCTCAGAATGTA        3400.0           941    0.058824     40.235294   \n",
              "TC1-24-AAACGCTCAGCTACTA        5777.0          1173    0.034620     45.577289   \n",
              "...                               ...           ...         ...           ...   \n",
              "TC4-36-L-TTTGGTTTCACGACTA      9193.0          2248    1.490264     37.648211   \n",
              "TC4-36-L-TTTGTTGAGCGTCAGA      3088.0          1381    1.101036     18.037565   \n",
              "TC4-36-L-TTTGTTGAGTATGCAA      4528.0          1563    1.082155     29.196113   \n",
              "TC4-36-L-TTTGTTGTCCGCATAA      8318.0          2492    1.562876     24.356817   \n",
              "TC4-36-L-TTTGTTGTCGCGCCAA     11634.0          2675    1.538594     29.250473   \n",
              "\n",
              "                           nCount_MS  nFeature_MS MS_class_SNR  \\\n",
              "TC1-24-AAACCCAGTATGGAGC          NaN  -2147483648           NA   \n",
              "TC1-24-AAACGAAAGCGGGTAT          NaN  -2147483648           NA   \n",
              "TC1-24-AAACGCTAGCTTAGTC          NaN  -2147483648           NA   \n",
              "TC1-24-AAACGCTCAGAATGTA          NaN  -2147483648           NA   \n",
              "TC1-24-AAACGCTCAGCTACTA          NaN  -2147483648           NA   \n",
              "...                              ...          ...          ...   \n",
              "TC4-36-L-TTTGGTTTCACGACTA     1383.0           10         Bar4   \n",
              "TC4-36-L-TTTGTTGAGCGTCAGA     2237.0            9         Bar7   \n",
              "TC4-36-L-TTTGTTGAGTATGCAA     2416.0           10         Bar3   \n",
              "TC4-36-L-TTTGTTGTCCGCATAA     2920.0           10         Bar3   \n",
              "TC4-36-L-TTTGTTGTCGCGCCAA     2571.0           10         Bar2   \n",
              "\n",
              "                          MS_class_Seurat method    sample  ...  subset.full  \\\n",
              "TC1-24-AAACCCAGTATGGAGC                NA    10X    TC1-24  ...   mesenchyme   \n",
              "TC1-24-AAACGAAAGCGGGTAT                NA    10X    TC1-24  ...        glial   \n",
              "TC1-24-AAACGCTAGCTTAGTC                NA    10X    TC1-24  ...       neural   \n",
              "TC1-24-AAACGCTCAGAATGTA                NA    10X    TC1-24  ...   mesenchyme   \n",
              "TC1-24-AAACGCTCAGCTACTA                NA    10X    TC1-24  ...     endoderm   \n",
              "...                                   ...    ...       ...  ...          ...   \n",
              "TC4-36-L-TTTGGTTTCACGACTA            Bar4    10X  TC4-36-L  ...        glial   \n",
              "TC4-36-L-TTTGTTGAGCGTCAGA            Bar7    10X  TC4-36-L  ...       neural   \n",
              "TC4-36-L-TTTGTTGAGTATGCAA            Bar3    10X  TC4-36-L  ...          eye   \n",
              "TC4-36-L-TTTGTTGTCCGCATAA            Bar3    10X  TC4-36-L  ...       neural   \n",
              "TC4-36-L-TTTGTTGTCGCGCCAA            Bar2    10X  TC4-36-L  ...       neural   \n",
              "\n",
              "                           subset  cluster       tissue    identity.super  \\\n",
              "TC1-24-AAACCCAGTATGGAGC      mese  mese.10   mesenchyme   pharyngeal arch   \n",
              "TC1-24-AAACGAAAGCGGGTAT      glia  glia.20        glial  oligodendrocytes   \n",
              "TC1-24-AAACGCTAGCTTAGTC      neur   neur.2       neural       progenitors   \n",
              "TC1-24-AAACGCTCAGAATGTA      mese  mese.12   mesenchyme   pharyngeal arch   \n",
              "TC1-24-AAACGCTCAGCTACTA      endo   endo.9          gut         intestine   \n",
              "...                           ...      ...          ...               ...   \n",
              "TC4-36-L-TTTGGTTTCACGACTA    glia   glia.6  spinal cord     motor neurons   \n",
              "TC4-36-L-TTTGTTGAGCGTCAGA    neur  neur.28       neural         hindbrain   \n",
              "TC4-36-L-TTTGTTGAGTATGCAA     eye   eye.14          eye    photoreceptors   \n",
              "TC4-36-L-TTTGTTGTCCGCATAA    neur  neur.41       neural  Purkinje neurons   \n",
              "TC4-36-L-TTTGTTGTCGCGCCAA    neur  neur.16       neural         hindbrain   \n",
              "\n",
              "                                              identity.sub  \\\n",
              "TC1-24-AAACCCAGTATGGAGC     intermediate (incl. jaw joint)   \n",
              "TC1-24-AAACGAAAGCGGGTAT            spinal cord, precursors   \n",
              "TC1-24-AAACGCTAGCTTAGTC         unknown, incl. some retina   \n",
              "TC1-24-AAACGCTCAGAATGTA                        progenitors   \n",
              "TC1-24-AAACGCTCAGCTACTA    progenitors, early + absorptive   \n",
              "...                                                    ...   \n",
              "TC4-36-L-TTTGGTTTCACGACTA   primary motor neurons (olig2+)   \n",
              "TC4-36-L-TTTGTTGAGCGTCAGA    rhombomere 7-8, [glycinergic]   \n",
              "TC4-36-L-TTTGTTGAGTATGCAA                       precursors   \n",
              "TC4-36-L-TTTGTTGTCCGCATAA                gabaergic (gad2+)   \n",
              "TC4-36-L-TTTGTTGTCGCGCCAA                      rhombic lip   \n",
              "\n",
              "                          identity.super.short  \\\n",
              "TC1-24-AAACCCAGTATGGAGC        pharyngeal arch   \n",
              "TC1-24-AAACGAAAGCGGGTAT       oligodendrocytes   \n",
              "TC1-24-AAACGCTAGCTTAGTC            progenitors   \n",
              "TC1-24-AAACGCTCAGAATGTA        pharyngeal arch   \n",
              "TC1-24-AAACGCTCAGCTACTA              intestine   \n",
              "...                                        ...   \n",
              "TC4-36-L-TTTGGTTTCACGACTA        motor neurons   \n",
              "TC4-36-L-TTTGTTGAGCGTCAGA            hindbrain   \n",
              "TC4-36-L-TTTGTTGAGTATGCAA       photoreceptors   \n",
              "TC4-36-L-TTTGTTGTCCGCATAA     Purkinje neurons   \n",
              "TC4-36-L-TTTGTTGTCGCGCCAA            hindbrain   \n",
              "\n",
              "                                        identity.sub.short  \\\n",
              "TC1-24-AAACCCAGTATGGAGC     intermediate (incl. jaw joint)   \n",
              "TC1-24-AAACGAAAGCGGGTAT            spinal cord, precursors   \n",
              "TC1-24-AAACGCTAGCTTAGTC         unknown, incl. some retina   \n",
              "TC1-24-AAACGCTCAGAATGTA                        progenitors   \n",
              "TC1-24-AAACGCTCAGCTACTA    progenitors, early + absorptive   \n",
              "...                                                    ...   \n",
              "TC4-36-L-TTTGGTTTCACGACTA   primary motor neurons (olig2+)   \n",
              "TC4-36-L-TTTGTTGAGCGTCAGA    rhombomere 7-8, [glycinergic]   \n",
              "TC4-36-L-TTTGTTGAGTATGCAA                       precursors   \n",
              "TC4-36-L-TTTGTTGTCCGCATAA                gabaergic (gad2+)   \n",
              "TC4-36-L-TTTGTTGTCGCGCCAA                      rhombic lip   \n",
              "\n",
              "                                                          zfin  \\\n",
              "TC1-24-AAACCCAGTATGGAGC                                          \n",
              "TC1-24-AAACGAAAGCGGGTAT                ZFA:0009076,ZFA:0000075   \n",
              "TC1-24-AAACGCTAGCTTAGTC                                          \n",
              "TC1-24-AAACGCTCAGAATGTA                                          \n",
              "TC1-24-AAACGCTCAGCTACTA                                          \n",
              "...                                                        ...   \n",
              "TC4-36-L-TTTGGTTTCACGACTA  ZFA:0000075,ZFA:0009052,ZFA:0009244   \n",
              "TC4-36-L-TTTGTTGAGCGTCAGA                                        \n",
              "TC4-36-L-TTTGTTGAGTATGCAA                          ZFA:0009154   \n",
              "TC4-36-L-TTTGTTGTCCGCATAA                                        \n",
              "TC4-36-L-TTTGTTGTCGCGCCAA                                        \n",
              "\n",
              "                          identity.super_numeric  \n",
              "TC1-24-AAACCCAGTATGGAGC                        0  \n",
              "TC1-24-AAACGAAAGCGGGTAT                        1  \n",
              "TC1-24-AAACGCTAGCTTAGTC                        2  \n",
              "TC1-24-AAACGCTCAGAATGTA                        0  \n",
              "TC1-24-AAACGCTCAGCTACTA                        3  \n",
              "...                                          ...  \n",
              "TC4-36-L-TTTGGTTTCACGACTA                     32  \n",
              "TC4-36-L-TTTGTTGAGCGTCAGA                      5  \n",
              "TC4-36-L-TTTGTTGAGTATGCAA                     65  \n",
              "TC4-36-L-TTTGTTGTCCGCATAA                     59  \n",
              "TC4-36-L-TTTGTTGTCGCGCCAA                      5  \n",
              "\n",
              "[43223 rows x 23 columns]"
            ]
          },
          "execution_count": 49,
          "metadata": {},
          "output_type": "execute_result"
        }
      ],
      "source": [
        "adata.obs"
      ]
    },
    {
      "cell_type": "code",
      "execution_count": 7,
      "metadata": {
        "colab": {
          "base_uri": "https://localhost:8080/"
        },
        "id": "7Y4iWjAEO8Qh",
        "outputId": "b887c446-04c1-4b8a-bc54-b1ac1b03eb12"
      },
      "outputs": [
        {
          "name": "stdout",
          "output_type": "stream",
          "text": [
            "sample\n",
            "TC4-36-H    15131\n",
            "TC4-24-H    11998\n",
            "TC4-36-L     4781\n",
            "TC4-24-L     4510\n",
            "TC2-36       4433\n",
            "TC1-24       2370\n",
            "Name: count, dtype: int64\n",
            "\n",
            "X matrix is sparse: True\n",
            "X size = (43223, 36250)\n"
          ]
        }
      ],
      "source": [
        "print(adata.obs['sample'].value_counts())\n",
        "print()\n",
        "print('X matrix is sparse:', scipy.sparse.issparse(adata.X))\n",
        "print('X size =', adata.X.shape)"
      ]
    },
    {
      "cell_type": "code",
      "execution_count": 8,
      "metadata": {
        "colab": {
          "base_uri": "https://localhost:8080/"
        },
        "id": "JTj5Q04ttvo6",
        "outputId": "46b42a41-af1d-4535-cf6d-a7e6cd2f6586"
      },
      "outputs": [
        {
          "data": {
            "text/plain": [
              "['pharyngeal arch', 'oligodendrocytes', 'progenitors', 'intestine', 'telencephalon', ..., 'preoptic area', 'medial fin mesenchyme', 'retinal bipolar cells', 'mural cell', 'cerebellum']\n",
              "Length: 95\n",
              "Categories (95, object): ['Kolmer-Agduhr / CSF-contacting neurons', 'Purkinje neurons', 'adaxial cells', 'adenohypophysis', ..., 'vasculature', 'ventral forebrain', 'xanthoblasts', 'xanthophores']"
            ]
          },
          "execution_count": 8,
          "metadata": {},
          "output_type": "execute_result"
        }
      ],
      "source": [
        "adata.obs[\"identity.super\"].unique() #Going off with this as cell names"
      ]
    },
    {
      "cell_type": "code",
      "execution_count": 10,
      "metadata": {
        "colab": {
          "base_uri": "https://localhost:8080/"
        },
        "collapsed": true,
        "id": "Il_3BVmk6u3y",
        "outputId": "b17b8fdb-fa4b-4df0-a1cd-6098c62d5c78"
      },
      "outputs": [
        {
          "data": {
            "text/plain": [
              "{'pharyngeal arch': 0,\n",
              " 'oligodendrocytes': 1,\n",
              " 'progenitors': 2,\n",
              " 'intestine': 3,\n",
              " 'telencephalon': 4,\n",
              " 'hindbrain': 5,\n",
              " 'sensory neurons': 6,\n",
              " 'erythroblasts (primitive)': 7,\n",
              " 'periderm': 8,\n",
              " 'iridoblasts': 9,\n",
              " 'lateral line primordium': 10,\n",
              " 'cardiac mesenchyme': 11,\n",
              " 'neurons': 12,\n",
              " 'midbrain-hindbrain boundary': 13,\n",
              " 'spinal cord': 14,\n",
              " 'sclerotome': 15,\n",
              " 'vasculature': 16,\n",
              " 'xanthoblasts': 17,\n",
              " 'diencephalon': 18,\n",
              " 'heart': 19,\n",
              " 'retinal progenitors': 20,\n",
              " 'slow muscle': 21,\n",
              " 'midbrain': 22,\n",
              " 'somite': 23,\n",
              " 'epidermis/placodal ectoderm': 24,\n",
              " 'Kolmer-Agduhr / CSF-contacting neurons': 25,\n",
              " 'otic': 26,\n",
              " 'epidermis': 27,\n",
              " 'ionocytes': 28,\n",
              " 'sclerotome/satellite cells': 29,\n",
              " 'somitic mesoderm': 30,\n",
              " 'ventral forebrain': 31,\n",
              " 'motor neurons': 32,\n",
              " 'floor plate': 33,\n",
              " 'presomitic/somitic mesoderm': 34,\n",
              " 'liver': 35,\n",
              " 'optic primordia': 36,\n",
              " 'xanthophores': 37,\n",
              " 'proximal convoluted tubule': 38,\n",
              " 'fin epidermis': 39,\n",
              " 'optic cup': 40,\n",
              " 'placodal ectoderm': 41,\n",
              " 'neural crest': 42,\n",
              " 'satellite cells': 43,\n",
              " 'meninges': 44,\n",
              " 'erythrocytes (primitive)': 45,\n",
              " 'melanoblasts': 46,\n",
              " 'notochord': 47,\n",
              " 'lens': 48,\n",
              " 'migratory muscle precursors': 49,\n",
              " 'hemangioblasts': 50,\n",
              " 'cartilage/tendon': 51,\n",
              " 'hematopoietic stem cell': 52,\n",
              " 'periocular mesenchyme': 53,\n",
              " 'olfactory epithelium': 54,\n",
              " 'pharyngeal pouch': 55,\n",
              " 'optic tectum': 56,\n",
              " 'olfactory sensory receptor neurons': 57,\n",
              " 'mucous secreting': 58,\n",
              " 'Purkinje neurons': 59,\n",
              " 'epiphysis photoreceptor cells': 60,\n",
              " 'neural plate': 61,\n",
              " 'granulocytes': 62,\n",
              " 'distal late tubule': 63,\n",
              " 'hatching gland': 64,\n",
              " 'photoreceptors': 65,\n",
              " 'endocrine pancreas': 66,\n",
              " 'fibroblasts': 67,\n",
              " 'radial glia': 68,\n",
              " 'ciliated cells': 69,\n",
              " 'adenohypophysis': 70,\n",
              " 'ionocytes/mucous': 71,\n",
              " 'fast muscle cell': 72,\n",
              " 'parachordal cartilage': 73,\n",
              " 'retinal pigmented epithelium': 74,\n",
              " 'mesenchyme': 75,\n",
              " 'melanocytes': 76,\n",
              " 'macrophages': 77,\n",
              " 'adaxial cells': 78,\n",
              " 'endocardium': 79,\n",
              " 'head mesenchyme': 80,\n",
              " 'hemogenic endothelium': 81,\n",
              " 'cephalic muscles': 82,\n",
              " 'retinal ganglion cells': 83,\n",
              " 'taste epithelium': 84,\n",
              " 'cardiac muscle': 85,\n",
              " 'fin epidermis + mesenchyme': 86,\n",
              " 'pectoral fin bud': 87,\n",
              " 'tail': 88,\n",
              " 'retinal interneurons': 89,\n",
              " 'preoptic area': 90,\n",
              " 'medial fin mesenchyme': 91,\n",
              " 'retinal bipolar cells': 92,\n",
              " 'mural cell': 93,\n",
              " 'cerebellum': 94}"
            ]
          },
          "execution_count": 10,
          "metadata": {},
          "output_type": "execute_result"
        }
      ],
      "source": [
        "cell_types = adata.obs[\"identity.super\"].unique()\n",
        "\n",
        "replacement_dict = {cell: i for i, cell in enumerate(cell_types)}\n",
        "\n",
        "adata.obs[\"identity.super_numeric\"] = adata.obs[\"identity.super\"].map(replacement_dict)\n",
        "\n",
        "replacement_dict"
      ]
    },
    {
      "cell_type": "code",
      "execution_count": 11,
      "metadata": {
        "colab": {
          "base_uri": "https://localhost:8080/",
          "height": 459
        },
        "id": "4TPqDz187j_g",
        "outputId": "306bb786-39bd-473d-87e9-78a44d7915f8"
      },
      "outputs": [
        {
          "data": {
            "text/plain": [
              "TC1-24-AAACCCAGTATGGAGC       0\n",
              "TC1-24-AAACGAAAGCGGGTAT       1\n",
              "TC1-24-AAACGCTAGCTTAGTC       2\n",
              "TC1-24-AAACGCTCAGAATGTA       0\n",
              "TC1-24-AAACGCTCAGCTACTA       3\n",
              "                             ..\n",
              "TC4-36-L-TTTGGTTTCACGACTA    32\n",
              "TC4-36-L-TTTGTTGAGCGTCAGA     5\n",
              "TC4-36-L-TTTGTTGAGTATGCAA    65\n",
              "TC4-36-L-TTTGTTGTCCGCATAA    59\n",
              "TC4-36-L-TTTGTTGTCGCGCCAA     5\n",
              "Name: identity.super_numeric, Length: 43223, dtype: category\n",
              "Categories (95, int64): [25, 59, 78, 70, ..., 16, 31, 17, 37]"
            ]
          },
          "execution_count": 11,
          "metadata": {},
          "output_type": "execute_result"
        }
      ],
      "source": [
        "adata.obs[\"identity.super_numeric\"]"
      ]
    },
    {
      "cell_type": "code",
      "execution_count": 12,
      "metadata": {
        "colab": {
          "base_uri": "https://localhost:8080/"
        },
        "id": "EHFdNu_t74qx",
        "outputId": "cd95c319-278c-4aab-e219-079e07794a36"
      },
      "outputs": [
        {
          "name": "stdout",
          "output_type": "stream",
          "text": [
            "Unique values in 'celltype' column after replacement: [0, 1, 2, 3, 4, ..., 90, 91, 92, 93, 94]\n",
            "Length: 95\n",
            "Categories (95, int64): [25, 59, 78, 70, ..., 16, 31, 17, 37]\n"
          ]
        }
      ],
      "source": [
        "print(\"Unique values in 'celltype' column after replacement:\", adata.obs['identity.super_numeric'].unique())"
      ]
    },
    {
      "cell_type": "code",
      "execution_count": 13,
      "metadata": {
        "colab": {
          "base_uri": "https://localhost:8080/"
        },
        "id": "y8RLrk8u8ETY",
        "outputId": "51db21e5-aa3e-4812-96b3-4df3ec60b8ba"
      },
      "outputs": [
        {
          "name": "stdout",
          "output_type": "stream",
          "text": [
            "Number of cells in each cell type:\n",
            "identity.super\n",
            "hindbrain                8412\n",
            "spinal cord              2631\n",
            "progenitors              2292\n",
            "diencephalon             2007\n",
            "midbrain                 1915\n",
            "                         ... \n",
            "taste epithelium           14\n",
            "hemogenic endothelium      14\n",
            "cardiac muscle             14\n",
            "adenohypophysis            13\n",
            "retinal bipolar cells      13\n",
            "Name: count, Length: 95, dtype: int64\n"
          ]
        }
      ],
      "source": [
        "cell_type_counts = adata.obs['identity.super'].value_counts()\n",
        "\n",
        "print(\"Number of cells in each cell type:\")\n",
        "print(cell_type_counts)"
      ]
    },
    {
      "cell_type": "code",
      "execution_count": 14,
      "metadata": {
        "colab": {
          "base_uri": "https://localhost:8080/",
          "height": 975
        },
        "id": "LJyzG8bn9I6V",
        "outputId": "246f2130-372a-4f7e-d850-92b16a763ed5"
      },
      "outputs": [
        {
          "data": {
            "image/png": "[encoded data removed]",
            "text/plain": [
              "<Figure size 3500x1800 with 1 Axes>"
            ]
          },
          "metadata": {},
          "output_type": "display_data"
        }
      ],
      "source": [
        "# cell distribution with cell types\n",
        "y = adata.obs['identity.super_numeric']\n",
        "plt.figure(figsize=(35, 18))\n",
        "plt.title('Cell Distribution with Cell Types')\n",
        "y.value_counts().plot(kind='bar', rot=0)\n",
        "plt.show()"
      ]
    },
    {
      "cell_type": "code",
      "execution_count": 50,
      "metadata": {},
      "outputs": [
        {
          "data": {
            "text/plain": [
              "[0, 1, 2, 0, 3, ..., 32, 5, 65, 59, 5]\n",
              "Length: 43223\n",
              "Categories (95, int64): [25, 59, 78, 70, ..., 16, 31, 17, 37]"
            ]
          },
          "execution_count": 50,
          "metadata": {},
          "output_type": "execute_result"
        }
      ],
      "source": [
        "adata.obs['identity.super_numeric'].values"
      ]
    },
    {
      "cell_type": "code",
      "execution_count": null,
      "metadata": {
        "colab": {
          "base_uri": "https://localhost:8080/",
          "height": 454
        },
        "id": "85G-kMww9a6U",
        "outputId": "96061e7c-041e-4369-f8fb-66585d68f842"
      },
      "outputs": [
        {
          "name": "stdout",
          "output_type": "stream",
          "text": [
            "Training features shape: (25933, 36250)\n",
            "Validation features shape: (8645, 36250)\n",
            "Test features shape: (8645, 36250)\n",
            "Training labels shape: (25933,)\n",
            "Validation labels shape: (8645,)\n",
            "Test labels shape: (8645,)\n",
            "Sample weights shape: (25933,)\n"
          ]
        }
      ],
      "source": [
        "if scipy.sparse.issparse(adata.X):\n",
        "    X = adata.X.toarray()\n",
        "else:\n",
        "    X = adata.X\n",
        "    \n",
        "y = adata.obs['identity.super_numeric'].values\n",
        "\n",
        "# random states (completely arbitrary):\n",
        "# adata.X -> (19, 30)\n",
        "# adata.obsm[\"Scanorama\"] -> (8, 3)\n",
        "# adata.obsm[\"X_pca\"] -> (3, 13)\n",
        "# adata.obsm[\"X_umap\"] -> (34, 90)\n",
        "# adata_hv.X -> (6, 7)\n",
        "\n",
        "train_features, test_features, train_labels, test_labels = train_test_split(X, y, test_size = 0.2, random_state=19)\n",
        "train_features, val_features, train_labels, val_labels = train_test_split(train_features, train_labels, test_size = 0.25, random_state=30)\n",
        "\n",
        "train_features = np.array(train_features)\n",
        "test_features = np.array(test_features)\n",
        "val_features = np.array(val_features)\n",
        "\n",
        "train_labels = np.array(train_labels)\n",
        "test_labels = np.array(test_labels)\n",
        "val_labels = np.array(val_labels)\n",
        "\n",
        "print('Training features shape:', train_features.shape)\n",
        "print('Validation features shape:', val_features.shape)\n",
        "print('Test features shape:', test_features.shape)\n",
        "\n",
        "print('Training labels shape:', train_labels.shape)\n",
        "print('Validation labels shape:', val_labels.shape)\n",
        "print('Test labels shape:', test_labels.shape)\n",
        "\n",
        "sample_weights = compute_sample_weight(\n",
        "    class_weight='balanced',\n",
        "    y=train_labels\n",
        ")\n",
        "\n",
        "print('Sample weights shape:', sample_weights.shape)\n",
        "\n",
        "np.save('../Arrays/train_features_zebrafish.npy', train_features)\n",
        "np.save('../Arrays/test_features_zebrafish.npy', test_features)\n",
        "np.save('../Arrays/val_features_zebrafish.npy', val_features)\n",
        "np.save('../Arrays/train_labels_zebrafish.npy', train_labels)\n",
        "np.save('../Arrays/test_labels_zebrafish.npy', test_labels)\n",
        "np.save('../Arrays/val_labels_zebrafish.npy', val_labels)\n",
        "np.save('../Arrays/sample_weights_zebrafish.npy', sample_weights)"
      ]
    }
  ],
  "metadata": {
    "colab": {
      "provenance": []
    },
    "kernelspec": {
      "display_name": "env",
      "language": "python",
      "name": "python3"
    },
    "language_info": {
      "codemirror_mode": {
        "name": "ipython",
        "version": 3
      },
      "file_extension": ".py",
      "mimetype": "text/x-python",
      "name": "python",
      "nbconvert_exporter": "python",
      "pygments_lexer": "ipython3",
      "version": "3.11.3"
    }
  },
  "nbformat": 4,
  "nbformat_minor": 0
}
