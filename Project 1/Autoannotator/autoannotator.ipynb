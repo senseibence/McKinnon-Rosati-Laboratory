{
 "cells": [
  {
   "cell_type": "code",
   "execution_count": null,
   "metadata": {},
   "outputs": [],
   "source": [
    "import numpy as np\n",
    "import scanpy as sc\n",
    "import matplotlib.pyplot as plt\n",
    "import scipy.sparse\n",
    "from sklearn.model_selection import train_test_split\n",
    "from sklearn.utils.class_weight import compute_class_weight"
   ]
  },
  {
   "cell_type": "code",
   "execution_count": 3,
   "metadata": {},
   "outputs": [],
   "source": [
    "data = \"C:\\\\Users\\\\bence\\\\Projects\\\\BIO446\\\\McKinnon-Rosati-Laboratory\\\\Project 1\\\\Data\\\\granulomas_final.h5ad\""
   ]
  },
  {
   "cell_type": "code",
   "execution_count": 4,
   "metadata": {},
   "outputs": [
    {
     "name": "stdout",
     "output_type": "stream",
     "text": [
      "sample\n",
      "granuloma2    9392\n",
      "granuloma1    9302\n",
      "granuloma3    8909\n",
      "Name: count, dtype: int64\n",
      "\n",
      "X matrix is sparse: False\n",
      "X size = (27603, 23693)\n"
     ]
    }
   ],
   "source": [
    "adata = sc.read_h5ad(data)\n",
    "adata.uns['log1p'][\"base\"] = None # bug fix\n",
    "\n",
    "print(adata.obs['sample'].value_counts())\n",
    "print()\n",
    "print('X matrix is sparse:', scipy.sparse.issparse(adata.X))\n",
    "print('X size =', adata.X.shape)"
   ]
  },
  {
   "cell_type": "code",
   "execution_count": 5,
   "metadata": {},
   "outputs": [
    {
     "data": {
      "text/plain": [
       "AnnData object with n_obs × n_vars = 27603 × 23693\n",
       "    obs: 'scDblFinder_score', 'scDblFinder_class', 'doublet', 'n_genes_by_counts', 'total_counts', 'type', 'sample', 'batch_type', 'batch', 'log1p_n_genes_by_counts', 'log1p_total_counts', 'pct_counts_in_top_50_genes', 'pct_counts_in_top_100_genes', 'pct_counts_in_top_200_genes', 'pct_counts_in_top_500_genes', 'total_counts_mt', 'pct_counts_mt', 'total_counts_ribo', 'pct_counts_ribo', 'total_counts_hb', 'pct_counts_hb', 'n_genes', 'n_counts', 'size_factors', 'leiden_0.2', 'leiden_0.3', 'leiden_0.4', 'leiden_0.6', 'leiden_0.8', 'leiden_1.0', 'leiden_1.4', 'leiden_1.7', 'leiden_2.0', 'leiden_2.5', 'leiden_3.0', 'leiden_3.5', 'leiden_4.0', 'leiden_4.5', 'hclust', 'kmeans', 'my_clust_1', 'immune', 'mesothelial', 'stromal', 'endothelial', 'epithelial', 'muscle', 'Immune', 'Myeloid', 'Lymphoid', 'Mesenchyme', 'Mesothelial', 'Stromal', 'SMC', 'Endothelial', 'Blood vessels', 'LEC', 'Epithelial', 'Ciliated', 'Secretory'\n",
       "    var: 'gene_ids', 'feature_types', 'n_cells-0', 'n_cells_by_counts-0', 'mean_counts-0', 'pct_dropout_by_counts-0', 'total_counts-0', 'n_cells-1', 'n_cells_by_counts-1', 'mean_counts-1', 'pct_dropout_by_counts-1', 'total_counts-1', 'n_cells-2', 'n_cells_by_counts-2', 'mean_counts-2', 'pct_dropout_by_counts-2', 'total_counts-2', 'n_cells_by_counts', 'mean_counts', 'log1p_mean_counts', 'pct_dropout_by_counts', 'total_counts', 'log1p_total_counts', 'mt', 'ribo', 'hb', 'n_cells', 'highly_variable', 'means', 'dispersions', 'dispersions_norm', 'highly_variable_nbatches', 'highly_variable_intersection'\n",
       "    uns: 'hvg', 'kmeans_colors', 'leiden_0.2', 'leiden_0.2_colors', 'leiden_0.3', 'leiden_0.3_colors', 'leiden_0.4', 'leiden_0.4_colors', 'leiden_0.6', 'leiden_0.6_colors', 'leiden_0.8', 'leiden_0.8_colors', 'leiden_1.0', 'leiden_1.0_colors', 'leiden_1.4', 'leiden_1.4_colors', 'leiden_1.7', 'leiden_1.7_colors', 'leiden_2.0', 'leiden_2.0_colors', 'leiden_2.5', 'leiden_2.5_colors', 'leiden_3.0', 'leiden_3.0_colors', 'leiden_3.5', 'leiden_3.5_colors', 'leiden_4.0', 'leiden_4.0_colors', 'leiden_4.5', 'leiden_4.5_colors', 'log1p', 'my_clust_1_colors', 'neighbors', 'pca', 'sample_colors', 'type_colors', 'umap'\n",
       "    obsm: 'Scanorama', 'X_pca', 'X_umap'\n",
       "    varm: 'PCs'\n",
       "    layers: 'counts'\n",
       "    obsp: 'connectivities', 'distances'"
      ]
     },
     "execution_count": 5,
     "metadata": {},
     "output_type": "execute_result"
    }
   ],
   "source": [
    "adata"
   ]
  },
  {
   "cell_type": "code",
   "execution_count": 6,
   "metadata": {},
   "outputs": [
    {
     "name": "stdout",
     "output_type": "stream",
     "text": [
      "0.0\n",
      "10.413485\n"
     ]
    }
   ],
   "source": [
    "print(adata.X.min())\n",
    "print(adata.X.max())"
   ]
  },
  {
   "cell_type": "code",
   "execution_count": 7,
   "metadata": {},
   "outputs": [
    {
     "name": "stdout",
     "output_type": "stream",
     "text": [
      "[[0.         0.         0.         ... 0.         0.         0.65802306]\n",
      " [0.         0.         0.         ... 0.         0.         0.        ]\n",
      " [0.         0.         0.         ... 0.         0.         0.9530956 ]\n",
      " ...\n",
      " [0.         0.         0.         ... 0.         0.         0.40804082]\n",
      " [0.         0.         0.         ... 0.         0.39723676 1.0820873 ]\n",
      " [0.         0.         0.         ... 0.         0.         0.        ]]\n",
      "(27603, 23693)\n",
      "<class 'numpy.ndarray'>\n",
      "float32\n"
     ]
    }
   ],
   "source": [
    "print(adata.X)\n",
    "print(adata.X.shape)\n",
    "print(type(adata.X))\n",
    "print(adata.X.dtype)"
   ]
  },
  {
   "cell_type": "code",
   "execution_count": 8,
   "metadata": {},
   "outputs": [
    {
     "name": "stdout",
     "output_type": "stream",
     "text": [
      "[[ 0.58992589 -0.26769783 -0.26269878 ... -0.01582297 -0.02266166\n",
      "   0.00788249]\n",
      " [-0.00743494  0.29018616  0.08258069 ... -0.07953958  0.01775138\n",
      "  -0.0069333 ]\n",
      " [-0.40344681 -0.24987528 -0.01690571 ... -0.00592834  0.02497448\n",
      "  -0.01926762]\n",
      " ...\n",
      " [-0.3524236  -0.21243754 -0.01924228 ...  0.0493639  -0.02140122\n",
      "   0.00352806]\n",
      " [-0.32979603 -0.19551272 -0.03088744 ...  0.09084291  0.01512568\n",
      "   0.01934566]\n",
      " [ 0.47350463 -0.18986388  0.01997843 ...  0.00566134 -0.01109202\n",
      "   0.02572758]]\n",
      "(27603, 50)\n",
      "<class 'numpy.ndarray'>\n",
      "float64\n"
     ]
    }
   ],
   "source": [
    "print(adata.obsm[\"Scanorama\"])\n",
    "print(adata.obsm[\"Scanorama\"].shape)\n",
    "print(type(adata.obsm[\"Scanorama\"]))\n",
    "print(adata.obsm[\"Scanorama\"].dtype)"
   ]
  },
  {
   "cell_type": "code",
   "execution_count": 9,
   "metadata": {},
   "outputs": [
    {
     "name": "stdout",
     "output_type": "stream",
     "text": [
      "[[ 17.307089   -11.130295     1.1432601  ...   0.59524584   0.4014443\n",
      "   -0.4701157 ]\n",
      " [  0.9274318   10.485543    -2.4561436  ...  -0.67351097   0.07114162\n",
      "    0.12941273]\n",
      " [-11.716776    -8.405116    -4.0588236  ...  -0.5449608    0.41608697\n",
      "    0.5671016 ]\n",
      " ...\n",
      " [-11.368391    -8.290096    -3.8318138  ...  -0.6790315    0.65028805\n",
      "    1.1272278 ]\n",
      " [-10.556316    -6.9145007   -3.5173697  ...  -1.2921613   -0.2270886\n",
      "    0.05970043]\n",
      " [ 15.709713    -9.668256    -0.49220935 ...   0.41312394  -0.3948734\n",
      "   -1.2376893 ]]\n",
      "(27603, 50)\n",
      "<class 'numpy.ndarray'>\n",
      "float32\n"
     ]
    }
   ],
   "source": [
    "print(adata.obsm[\"X_pca\"])\n",
    "print(adata.obsm[\"X_pca\"].shape)\n",
    "print(type(adata.obsm[\"X_pca\"]))\n",
    "print(adata.obsm[\"X_pca\"].dtype)"
   ]
  },
  {
   "cell_type": "code",
   "execution_count": 10,
   "metadata": {},
   "outputs": [
    {
     "name": "stdout",
     "output_type": "stream",
     "text": [
      "[[ 14.361583     8.54048   ]\n",
      " [-10.530832     6.9218864 ]\n",
      " [  0.8628857   17.302029  ]\n",
      " ...\n",
      " [  0.05311546  13.411682  ]\n",
      " [  3.1276064   13.098338  ]\n",
      " [ 16.013266    13.819617  ]]\n",
      "(27603, 2)\n",
      "<class 'numpy.ndarray'>\n",
      "float32\n"
     ]
    }
   ],
   "source": [
    "print(adata.obsm[\"X_umap\"])\n",
    "print(adata.obsm[\"X_umap\"].shape)\n",
    "print(type(adata.obsm[\"X_umap\"]))\n",
    "print(adata.obsm[\"X_umap\"].dtype)"
   ]
  },
  {
   "cell_type": "code",
   "execution_count": 11,
   "metadata": {},
   "outputs": [],
   "source": [
    "cluster_type = 'my_clust_1'"
   ]
  },
  {
   "cell_type": "code",
   "execution_count": 12,
   "metadata": {},
   "outputs": [
    {
     "data": {
      "text/plain": [
       "AAACCTGAGCGTAGTG_sc69_1     6\n",
       "AAACCTGAGCTGATAA_sc69_1     3\n",
       "AAACCTGCAAATCCGT_sc69_1     4\n",
       "AAACCTGCAAGGGTCA_sc69_1    13\n",
       "AAACCTGCACATCCGG_sc69_1     4\n",
       "                           ..\n",
       "TTTGTCAGTTCAACCA_sc72_1     4\n",
       "TTTGTCAGTTCAGTAC_sc72_1     8\n",
       "TTTGTCATCACAAACC_sc72_1     4\n",
       "TTTGTCATCAGCACAT_sc72_1     4\n",
       "TTTGTCATCTCGAGTA_sc72_1    22\n",
       "Name: my_clust_1, Length: 27603, dtype: category\n",
       "Categories (30, object): ['0', '10', '11', '11b', ..., '7c', '8', '9', '9b']"
      ]
     },
     "execution_count": 12,
     "metadata": {},
     "output_type": "execute_result"
    }
   ],
   "source": [
    "adata.obs[cluster_type]"
   ]
  },
  {
   "cell_type": "code",
   "execution_count": 13,
   "metadata": {},
   "outputs": [],
   "source": [
    "annotation_dict= {\n",
    "    '9': 'CAP1',\n",
    "    '24': 'CAP2',\n",
    "    '9b': 'VEC',\n",
    "    '27': 'LEC',\n",
    "        \n",
    "    '17': 'Ciliated',\n",
    "    '15': 'Secretory',\n",
    "    '22': 'AT1',\n",
    "    '6': 'AT2',\n",
    "    '12': 'AT2-t1',\n",
    "    '19': 'AT2-t2',\n",
    "        \n",
    "    '14': 'AF',\n",
    "    '25': 'Pericyte',\n",
    "        \n",
    "    '20': 'Mesothelial',\n",
    "        \n",
    "    '3': 'B1',\n",
    "    '3b': 'B2',\n",
    "        \n",
    "    '0': 'Th1',\n",
    "    '8': 'Tnaive',\n",
    "    '11': 'Tex',\n",
    "    '77': 'Treg',\n",
    "        \n",
    "    '11b': 'NK',\n",
    "        \n",
    "    '4a': 'AM',\n",
    "    '4': 'M-t1',\n",
    "    '10': 'M-lc',\n",
    "    '7': 'M-t2',\n",
    "    '7b': 'M-C1q',\n",
    "    '7c': 'iMon',\n",
    "        \n",
    "    '23': 'pDC',\n",
    "    '13': 'DC',\n",
    "    '5b': 'N1',\n",
    "    '5': 'N2',\n",
    "}"
   ]
  },
  {
   "cell_type": "code",
   "execution_count": 14,
   "metadata": {},
   "outputs": [
    {
     "name": "stdout",
     "output_type": "stream",
     "text": [
      "Keys in dictionary not in adata: []\n",
      "Keys in adata not in dictionary: []\n"
     ]
    }
   ],
   "source": [
    "adata.obs['cell_type_edit'] = [annotation_dict[clust] for clust in adata.obs[cluster_type]]\n",
    "\n",
    "dict_list = list(annotation_dict.keys())\n",
    "adata_list = list(adata.obs[cluster_type].unique())\n",
    "print('Keys in dictionary not in adata:', [item for item in dict_list if item not in adata_list] )\n",
    "print('Keys in adata not in dictionary:', [item for item in adata_list if item not in dict_list] )"
   ]
  },
  {
   "cell_type": "code",
   "execution_count": 15,
   "metadata": {},
   "outputs": [
    {
     "data": {
      "text/plain": [
       "AAACCTGAGCGTAGTG_sc69_1       AT2\n",
       "AAACCTGAGCTGATAA_sc69_1        B1\n",
       "AAACCTGCAAATCCGT_sc69_1      M-t1\n",
       "AAACCTGCAAGGGTCA_sc69_1        DC\n",
       "AAACCTGCACATCCGG_sc69_1      M-t1\n",
       "                            ...  \n",
       "TTTGTCAGTTCAACCA_sc72_1      M-t1\n",
       "TTTGTCAGTTCAGTAC_sc72_1    Tnaive\n",
       "TTTGTCATCACAAACC_sc72_1      M-t1\n",
       "TTTGTCATCAGCACAT_sc72_1      M-t1\n",
       "TTTGTCATCTCGAGTA_sc72_1       AT1\n",
       "Name: cell_type_edit, Length: 27603, dtype: object"
      ]
     },
     "execution_count": 15,
     "metadata": {},
     "output_type": "execute_result"
    }
   ],
   "source": [
    "adata.obs['cell_type_edit']"
   ]
  },
  {
   "cell_type": "code",
   "execution_count": 16,
   "metadata": {},
   "outputs": [
    {
     "name": "stdout",
     "output_type": "stream",
     "text": [
      "['AT2' 'B1' 'M-t1' 'DC' 'Th1' 'M-t2' 'Secretory' 'AM' 'N1' 'M-C1q'\n",
      " 'AT2-t2' 'AF' 'VEC' 'CAP1' 'N2' 'AT2-t1' 'Pericyte' 'pDC' 'Ciliated' 'NK'\n",
      " 'AT1' 'Tnaive' 'Treg' 'M-lc' 'Mesothelial' 'Tex' 'CAP2' 'LEC' 'iMon' 'B2']\n",
      "Number of unique sub cell types: 30\n"
     ]
    }
   ],
   "source": [
    "unique_celltype_sub = adata.obs['cell_type_edit'].unique()\n",
    "print(unique_celltype_sub)\n",
    "\n",
    "num_unique_celltype_sub = adata.obs['cell_type_edit'].nunique()\n",
    "print(f\"Number of unique sub cell types: {num_unique_celltype_sub}\")"
   ]
  },
  {
   "cell_type": "code",
   "execution_count": 17,
   "metadata": {},
   "outputs": [],
   "source": [
    "replacement_dict = {\n",
    "    'AT2': 0,\n",
    "    'B1': 1,\n",
    "    'M-t1': 2,\n",
    "    'DC': 3,\n",
    "    'Th1': 4,\n",
    "    'M-t2': 5,\n",
    "    'Secretory': 6,\n",
    "    'AM': 7,\n",
    "    'N1': 8,\n",
    "    'M-C1q': 9,\n",
    "    'AT2-t2': 10,\n",
    "    'AF': 11,\n",
    "    'VEC': 12,\n",
    "    'CAP1': 13,\n",
    "    'N2': 14,\n",
    "    'AT2-t1': 15,\n",
    "    'Pericyte': 16,\n",
    "    'pDC': 17,\n",
    "    'Ciliated': 18,\n",
    "    'NK': 19,\n",
    "    'AT1': 20,\n",
    "    'Tnaive': 21,\n",
    "    'Treg': 22,\n",
    "    'M-lc': 23,\n",
    "    'Mesothelial': 24,\n",
    "    'Tex': 25,\n",
    "    'CAP2': 26,\n",
    "    'LEC': 27,\n",
    "    'iMon': 28,\n",
    "    'B2': 29\n",
    "}"
   ]
  },
  {
   "cell_type": "code",
   "execution_count": 18,
   "metadata": {},
   "outputs": [
    {
     "name": "stderr",
     "output_type": "stream",
     "text": [
      "C:\\Users\\bence\\AppData\\Local\\Temp\\ipykernel_126572\\975682991.py:1: FutureWarning: Downcasting behavior in `replace` is deprecated and will be removed in a future version. To retain the old behavior, explicitly call `result.infer_objects(copy=False)`. To opt-in to the future behavior, set `pd.set_option('future.no_silent_downcasting', True)`\n",
      "  adata.obs['celltype'] = adata.obs['cell_type_edit'].replace(replacement_dict)\n"
     ]
    }
   ],
   "source": [
    "adata.obs['celltype'] = adata.obs['cell_type_edit'].replace(replacement_dict)"
   ]
  },
  {
   "cell_type": "code",
   "execution_count": 58,
   "metadata": {},
   "outputs": [
    {
     "data": {
      "text/plain": [
       "AAACCTGAGCGTAGTG_sc69_1     0\n",
       "AAACCTGAGCTGATAA_sc69_1     1\n",
       "AAACCTGCAAATCCGT_sc69_1     2\n",
       "AAACCTGCAAGGGTCA_sc69_1     3\n",
       "AAACCTGCACATCCGG_sc69_1     2\n",
       "                           ..\n",
       "TTTGTCAGTTCAACCA_sc72_1     2\n",
       "TTTGTCAGTTCAGTAC_sc72_1    21\n",
       "TTTGTCATCACAAACC_sc72_1     2\n",
       "TTTGTCATCAGCACAT_sc72_1     2\n",
       "TTTGTCATCTCGAGTA_sc72_1    20\n",
       "Name: celltype, Length: 27603, dtype: int64"
      ]
     },
     "execution_count": 58,
     "metadata": {},
     "output_type": "execute_result"
    }
   ],
   "source": [
    "adata.obs['celltype']"
   ]
  },
  {
   "cell_type": "code",
   "execution_count": 59,
   "metadata": {},
   "outputs": [
    {
     "name": "stdout",
     "output_type": "stream",
     "text": [
      "Unique values in 'celltype' column after replacement: [ 0  1  2  3  4  5  6  7  8  9 10 11 12 13 14 15 16 17 18 19 20 21 22 23\n",
      " 24 25 26 27 28 29]\n"
     ]
    }
   ],
   "source": [
    "print(\"Unique values in 'celltype' column after replacement:\", adata.obs['celltype'].unique())"
   ]
  },
  {
   "cell_type": "code",
   "execution_count": 60,
   "metadata": {},
   "outputs": [
    {
     "name": "stdout",
     "output_type": "stream",
     "text": [
      "Number of cells in each cell type:\n",
      "cell_type_edit\n",
      "M-t1           5692\n",
      "Th1            3420\n",
      "B1             2068\n",
      "AT2            1821\n",
      "N2             1819\n",
      "Tnaive         1226\n",
      "M-lc           1162\n",
      "M-t2           1094\n",
      "AF             1091\n",
      "AM              996\n",
      "AT2-t1          871\n",
      "DC              774\n",
      "CAP1            740\n",
      "Secretory       696\n",
      "VEC             439\n",
      "Ciliated        401\n",
      "AT2-t2          379\n",
      "Mesothelial     362\n",
      "M-C1q           357\n",
      "AT1             340\n",
      "Tex             296\n",
      "pDC             286\n",
      "NK              251\n",
      "CAP2            213\n",
      "Treg            203\n",
      "N1              160\n",
      "B2              140\n",
      "Pericyte        138\n",
      "iMon            111\n",
      "LEC              57\n",
      "Name: count, dtype: int64\n"
     ]
    }
   ],
   "source": [
    "cell_type_counts = adata.obs['cell_type_edit'].value_counts()\n",
    "\n",
    "print(\"Number of cells in each cell type:\")\n",
    "print(cell_type_counts)"
   ]
  },
  {
   "cell_type": "code",
   "execution_count": 22,
   "metadata": {},
   "outputs": [
    {
     "data": {
      "image/png": "[encoded data removed]",
      "text/plain": [
       "<Figure size 3500x1800 with 1 Axes>"
      ]
     },
     "metadata": {},
     "output_type": "display_data"
    }
   ],
   "source": [
    "# cell distribution with cell types\n",
    "y = adata.obs['cell_type_edit']\n",
    "plt.figure(figsize=(35, 18))\n",
    "plt.title('Cell Distribution with Cell Types')\n",
    "y.value_counts().plot(kind='bar', rot=0)\n",
    "plt.show()"
   ]
  },
  {
   "cell_type": "code",
   "execution_count": 23,
   "metadata": {},
   "outputs": [
    {
     "data": {
      "image/png": "[encoded data removed]",
      "text/plain": [
       "<Figure size 1400x800 with 1 Axes>"
      ]
     },
     "metadata": {},
     "output_type": "display_data"
    }
   ],
   "source": [
    "# cell distribution with int mappings\n",
    "y = adata.obs['celltype']\n",
    "plt.figure(figsize=(14, 8))\n",
    "plt.title('Cell Distribution with Integer Mappings')\n",
    "y.value_counts().plot(kind='bar', rot=0)\n",
    "plt.show()"
   ]
  },
  {
   "cell_type": "code",
   "execution_count": 24,
   "metadata": {},
   "outputs": [
    {
     "name": "stdout",
     "output_type": "stream",
     "text": [
      "Correlation: 0.9996135210465931\n"
     ]
    }
   ],
   "source": [
    "# trying to confirm that adata.X indices correspond to adata.obs indices\n",
    "# the idea is that the gene expression levels should correlate to the total counts of each cell\n",
    "# not accurate with adata.X because those sums have been log transformed\n",
    "\n",
    "row_sums_X = np.array(adata.layers[\"counts\"].sum(axis=1)).flatten() # adata.layers[\"counts\"] should be the raw counts matrix (maybe check granulomas_final_raw.h5ad's adata.X for equality)\n",
    "\n",
    "obs_sums = adata.obs[\"total_counts\"].values\n",
    "\n",
    "corr = np.corrcoef(row_sums_X, obs_sums)[0,1]\n",
    "print(\"Correlation:\", corr)"
   ]
  },
  {
   "cell_type": "code",
   "execution_count": null,
   "metadata": {},
   "outputs": [],
   "source": [
    "fourth_dict = {\n",
    "    'Blood vessels': ['CAP1','CAP2','VEC','AEC'],\n",
    "    'Lymphatic EC': ['LEC'],\n",
    "    'Airway epithelium': ['Ciliated','Secretory'],\n",
    "    'Alveolar epithelium': ['AT1','AT2','AT2-t1','AT2-t2'],\n",
    "    'Fibroblast': ['AF','Pericyte'],\n",
    "    'Smooth muscle': ['SMC'],\n",
    "    'Mesothelial': ['Mesothelial'],\n",
    "    'B lineage': ['B1','B2'],\n",
    "    'T lineage': ['Th1','Tnaive','Treg','Tex'],\n",
    "    'NK': ['NK'],\n",
    "    'Macrophage': ['AM','M-t1','M-t2','M-C1q','M-lc'],        \n",
    "    'mononuclear': ['iMon','DC','pDC'],\n",
    "    'Neutrophil': ['N1','N2']\n",
    "}\n",
    "\n",
    "group_lookup = {}\n",
    "for broad_cat, fine_types in fourth_dict.items():\n",
    "    for ft in fine_types:\n",
    "        group_lookup[ft] = broad_cat"
   ]
  },
  {
   "cell_type": "code",
   "execution_count": null,
   "metadata": {},
   "outputs": [],
   "source": [
    "group_lookup"
   ]
  },
  {
   "cell_type": "code",
   "execution_count": null,
   "metadata": {},
   "outputs": [],
   "source": [
    "adata.obs[\"fourth_annotation\"] = adata.obs['cell_type_edit'].map(group_lookup)"
   ]
  },
  {
   "cell_type": "code",
   "execution_count": null,
   "metadata": {},
   "outputs": [],
   "source": [
    "adata.obs[\"fourth_annotation\"]"
   ]
  },
  {
   "cell_type": "code",
   "execution_count": null,
   "metadata": {},
   "outputs": [],
   "source": [
    "print(\"Broad celltype value counts:\")\n",
    "print(adata.obs[\"fourth_annotation\"].value_counts())\n",
    "print(adata.obs[\"fourth_annotation\"].unique())"
   ]
  },
  {
   "cell_type": "code",
   "execution_count": null,
   "metadata": {},
   "outputs": [],
   "source": [
    "fourth_level = adata.obs[\"fourth_annotation\"].unique()\n",
    "cell_type_subsets = {}\n",
    "\n",
    "for cell_group in fourth_level:\n",
    "    \n",
    "    adata_sub = adata[adata.obs[\"fourth_annotation\"] == cell_group].copy()\n",
    "    cell_type_subsets[cell_group] = adata_sub\n",
    "    \n",
    "    print(f\"\\nCreated subset for broad cell type '{cell_group}' \"f\"with {adata_sub.n_obs} cells.\")"
   ]
  },
  {
   "cell_type": "code",
   "execution_count": null,
   "metadata": {},
   "outputs": [],
   "source": [
    "adata_alveolar_epithelium = cell_type_subsets['Alveolar epithelium']\n",
    "adata_b_lineage = cell_type_subsets['B lineage']\n",
    "adata_macrophage = cell_type_subsets['Macrophage']\n",
    "adata_mononuclear = cell_type_subsets['mononuclear']\n",
    "adata_t_lineage = cell_type_subsets['T lineage']\n",
    "adata_airway_epithelium = cell_type_subsets['Airway epithelium']\n",
    "adata_neutrophil = cell_type_subsets['Neutrophil']\n",
    "adata_fibroblast = cell_type_subsets['Fibroblast']\n",
    "adata_blood_vessels = cell_type_subsets['Blood vessels']\n",
    "adata_nk = cell_type_subsets['NK']\n",
    "adata_mesothelial = cell_type_subsets['Mesothelial']\n",
    "adata_lymphatic_ec = cell_type_subsets['Lymphatic EC']"
   ]
  },
  {
   "cell_type": "code",
   "execution_count": null,
   "metadata": {},
   "outputs": [],
   "source": [
    "adata_alveolar_epithelium.write(\"C:\\\\Users\\\\bence\\\\Projects\\\\BIO446\\\\McKinnon-Rosati-Laboratory\\\\Project 1\\\\Data\\\\adata_alveolar_epithelium.h5ad\") \n",
    "adata_b_lineage.write(\"C:\\\\Users\\\\bence\\\\Projects\\\\BIO446\\\\McKinnon-Rosati-Laboratory\\\\Project 1\\\\Data\\\\adata_b_lineage.h5ad\")\n",
    "adata_macrophage.write(\"C:\\\\Users\\\\bence\\\\Projects\\\\BIO446\\\\McKinnon-Rosati-Laboratory\\\\Project 1\\\\Data\\\\adata_macrophage.h5ad\")\n",
    "adata_mononuclear.write(\"C:\\\\Users\\\\bence\\\\Projects\\\\BIO446\\\\McKinnon-Rosati-Laboratory\\\\Project 1\\\\Data\\\\adata_mononuclear.h5ad\")\n",
    "adata_t_lineage.write(\"C:\\\\Users\\\\bence\\\\Projects\\\\BIO446\\\\McKinnon-Rosati-Laboratory\\\\Project 1\\\\Data\\\\adata_t_lineage.h5ad\")\n",
    "adata_airway_epithelium.write(\"C:\\\\Users\\\\bence\\\\Projects\\\\BIO446\\\\McKinnon-Rosati-Laboratory\\\\Project 1\\\\Data\\\\adata_airway_epithelium.h5ad\")\n",
    "adata_neutrophil.write(\"C:\\\\Users\\\\bence\\\\Projects\\\\BIO446\\\\McKinnon-Rosati-Laboratory\\\\Project 1\\\\Data\\\\adata_neutrophil.h5ad\")\n",
    "adata_fibroblast.write(\"C:\\\\Users\\\\bence\\\\Projects\\\\BIO446\\\\McKinnon-Rosati-Laboratory\\\\Project 1\\\\Data\\\\adata_fibroblast.h5ad\")\n",
    "adata_blood_vessels.write(\"C:\\\\Users\\\\bence\\\\Projects\\\\BIO446\\\\McKinnon-Rosati-Laboratory\\\\Project 1\\\\Data\\\\adata_blood_vessels.h5ad\")\n",
    "adata_nk.write(\"C:\\\\Users\\\\bence\\\\Projects\\\\BIO446\\\\McKinnon-Rosati-Laboratory\\\\Project 1\\\\Data\\\\adata_nk.h5ad\")\n",
    "adata_mesothelial.write(\"C:\\\\Users\\\\bence\\\\Projects\\\\BIO446\\\\McKinnon-Rosati-Laboratory\\\\Project 1\\\\Data\\\\adata_mesothelial.h5ad\")\n",
    "adata_lymphatic_ec.write(\"C:\\\\Users\\\\bence\\\\Projects\\\\BIO446\\\\McKinnon-Rosati-Laboratory\\\\Project 1\\\\Data\\\\adata_lymphatic_ec.h5ad\")"
   ]
  },
  {
   "cell_type": "code",
   "execution_count": 25,
   "metadata": {},
   "outputs": [
    {
     "name": "stdout",
     "output_type": "stream",
     "text": [
      "# highly variable genes: 3475\n",
      "shape: (27603, 3475)\n"
     ]
    }
   ],
   "source": [
    "# highly variable genes\n",
    "\n",
    "adata_hvg = adata[:, adata.var['highly_variable'] ].copy()\n",
    "print(\"# highly variable genes:\", adata.var['highly_variable'].sum())\n",
    "print(\"shape:\", adata_hvg.shape)"
   ]
  },
  {
   "cell_type": "code",
   "execution_count": 26,
   "metadata": {},
   "outputs": [
    {
     "data": {
      "text/plain": [
       "AnnData object with n_obs × n_vars = 27603 × 3475\n",
       "    obs: 'scDblFinder_score', 'scDblFinder_class', 'doublet', 'n_genes_by_counts', 'total_counts', 'type', 'sample', 'batch_type', 'batch', 'log1p_n_genes_by_counts', 'log1p_total_counts', 'pct_counts_in_top_50_genes', 'pct_counts_in_top_100_genes', 'pct_counts_in_top_200_genes', 'pct_counts_in_top_500_genes', 'total_counts_mt', 'pct_counts_mt', 'total_counts_ribo', 'pct_counts_ribo', 'total_counts_hb', 'pct_counts_hb', 'n_genes', 'n_counts', 'size_factors', 'leiden_0.2', 'leiden_0.3', 'leiden_0.4', 'leiden_0.6', 'leiden_0.8', 'leiden_1.0', 'leiden_1.4', 'leiden_1.7', 'leiden_2.0', 'leiden_2.5', 'leiden_3.0', 'leiden_3.5', 'leiden_4.0', 'leiden_4.5', 'hclust', 'kmeans', 'my_clust_1', 'immune', 'mesothelial', 'stromal', 'endothelial', 'epithelial', 'muscle', 'Immune', 'Myeloid', 'Lymphoid', 'Mesenchyme', 'Mesothelial', 'Stromal', 'SMC', 'Endothelial', 'Blood vessels', 'LEC', 'Epithelial', 'Ciliated', 'Secretory', 'cell_type_edit', 'celltype'\n",
       "    var: 'gene_ids', 'feature_types', 'n_cells-0', 'n_cells_by_counts-0', 'mean_counts-0', 'pct_dropout_by_counts-0', 'total_counts-0', 'n_cells-1', 'n_cells_by_counts-1', 'mean_counts-1', 'pct_dropout_by_counts-1', 'total_counts-1', 'n_cells-2', 'n_cells_by_counts-2', 'mean_counts-2', 'pct_dropout_by_counts-2', 'total_counts-2', 'n_cells_by_counts', 'mean_counts', 'log1p_mean_counts', 'pct_dropout_by_counts', 'total_counts', 'log1p_total_counts', 'mt', 'ribo', 'hb', 'n_cells', 'highly_variable', 'means', 'dispersions', 'dispersions_norm', 'highly_variable_nbatches', 'highly_variable_intersection'\n",
       "    uns: 'hvg', 'kmeans_colors', 'leiden_0.2', 'leiden_0.2_colors', 'leiden_0.3', 'leiden_0.3_colors', 'leiden_0.4', 'leiden_0.4_colors', 'leiden_0.6', 'leiden_0.6_colors', 'leiden_0.8', 'leiden_0.8_colors', 'leiden_1.0', 'leiden_1.0_colors', 'leiden_1.4', 'leiden_1.4_colors', 'leiden_1.7', 'leiden_1.7_colors', 'leiden_2.0', 'leiden_2.0_colors', 'leiden_2.5', 'leiden_2.5_colors', 'leiden_3.0', 'leiden_3.0_colors', 'leiden_3.5', 'leiden_3.5_colors', 'leiden_4.0', 'leiden_4.0_colors', 'leiden_4.5', 'leiden_4.5_colors', 'log1p', 'my_clust_1_colors', 'neighbors', 'pca', 'sample_colors', 'type_colors', 'umap'\n",
       "    obsm: 'Scanorama', 'X_pca', 'X_umap'\n",
       "    varm: 'PCs'\n",
       "    layers: 'counts'\n",
       "    obsp: 'connectivities', 'distances'"
      ]
     },
     "execution_count": 26,
     "metadata": {},
     "output_type": "execute_result"
    }
   ],
   "source": [
    "adata_hvg"
   ]
  },
  {
   "cell_type": "code",
   "execution_count": null,
   "metadata": {},
   "outputs": [],
   "source": [
    "# scGNN imputed matrix\n",
    "scGNN_matrix = sc.read_csv(\"../Data/granuloma_recon.csv\")"
   ]
  },
  {
   "cell_type": "code",
   "execution_count": null,
   "metadata": {},
   "outputs": [],
   "source": [
    "scGNN_matrix"
   ]
  },
  {
   "cell_type": "code",
   "execution_count": null,
   "metadata": {},
   "outputs": [],
   "source": [
    "scGNN_matrix.obs[\"celltype\"] = adata.obs[\"celltype\"]"
   ]
  },
  {
   "cell_type": "code",
   "execution_count": null,
   "metadata": {},
   "outputs": [],
   "source": [
    "scGNN_matrix.obs[\"celltype\"]"
   ]
  },
  {
   "cell_type": "code",
   "execution_count": null,
   "metadata": {},
   "outputs": [],
   "source": [
    "# not accurate because scGNN_matrix.X has transformed the sums in some way\n",
    "\n",
    "row_sums_X = np.array(scGNN_matrix.X.sum(axis=1)).flatten()\n",
    "\n",
    "obs_sums = adata.obs[\"total_counts\"].values\n",
    "\n",
    "corr = np.corrcoef(row_sums_X, obs_sums)[0,1]\n",
    "print(\"Correlation:\", corr)"
   ]
  },
  {
   "cell_type": "code",
   "execution_count": null,
   "metadata": {},
   "outputs": [],
   "source": [
    "scGNN_matrix.write(\"../Data/scGNN_matrix.h5ad\") "
   ]
  },
  {
   "cell_type": "code",
   "execution_count": null,
   "metadata": {},
   "outputs": [],
   "source": [
    "scGNN_embedding = sc.read_csv(\"../Data/granuloma_embedding.csv\")"
   ]
  },
  {
   "cell_type": "code",
   "execution_count": null,
   "metadata": {},
   "outputs": [],
   "source": [
    "scGNN_embedding"
   ]
  },
  {
   "cell_type": "code",
   "execution_count": null,
   "metadata": {},
   "outputs": [],
   "source": [
    "scGNN_embedding.obs"
   ]
  },
  {
   "cell_type": "code",
   "execution_count": null,
   "metadata": {},
   "outputs": [],
   "source": [
    "scGNN_embedding.var"
   ]
  },
  {
   "cell_type": "code",
   "execution_count": 56,
   "metadata": {},
   "outputs": [
    {
     "name": "stdout",
     "output_type": "stream",
     "text": [
      "Training features shape: (22082, 23693)\n",
      "Validation features shape: (2761, 23693)\n",
      "Test features shape: (2760, 23693)\n",
      "Training labels shape: (22082,)\n",
      "Validation labels shape: (2761,)\n",
      "Test labels shape: (2760,)\n",
      "Weights shape: (30,)\n"
     ]
    }
   ],
   "source": [
    "X = adata.X\n",
    "y = adata.obs['celltype'].values\n",
    "\n",
    "train_features, test_features, train_labels, test_labels = train_test_split(X, y, test_size = 0.2, random_state=52, stratify=y)\n",
    "test_features, val_features, test_labels, val_labels = train_test_split(test_features, test_labels, test_size = 0.5, random_state=70, stratify=test_labels)\n",
    "weights = compute_class_weight(class_weight='balanced', classes=np.unique(train_labels), y=train_labels)  \n",
    "\n",
    "train_features = np.array(train_features)\n",
    "test_features = np.array(test_features)\n",
    "val_features = np.array(val_features)\n",
    "train_labels = np.array(train_labels)\n",
    "test_labels = np.array(test_labels)\n",
    "val_labels = np.array(val_labels)\n",
    "weights = np.array(weights)                  \n",
    "       \n",
    "print('Training features shape:', train_features.shape)\n",
    "print('Validation features shape:', val_features.shape)\n",
    "print('Test features shape:', test_features.shape)\n",
    "print('Training labels shape:', train_labels.shape)\n",
    "print('Validation labels shape:', val_labels.shape)\n",
    "print('Test labels shape:', test_labels.shape)\n",
    "print('Weights shape:', weights.shape)\n",
    "\n",
    "np.save('../Arrays/train_features.npy', train_features)\n",
    "np.save('../Arrays/test_features.npy', test_features)\n",
    "np.save('../Arrays/val_features.npy', val_features)\n",
    "np.save('../Arrays/train_labels.npy', train_labels)\n",
    "np.save('../Arrays/test_labels.npy', test_labels)\n",
    "np.save('../Arrays/val_labels.npy', val_labels)\n",
    "np.save('../Arrays/weights.npy', weights)"
   ]
  },
  {
   "cell_type": "code",
   "execution_count": 57,
   "metadata": {},
   "outputs": [],
   "source": [
    "# 5 GB\n",
    "adata_hvg.write(\"C:\\\\Users\\\\bence\\\\Projects\\\\BIO446\\\\McKinnon-Rosati-Laboratory\\\\Project 1\\\\Data\\\\adata_hvg.h5ad\")"
   ]
  },
  {
   "cell_type": "code",
   "execution_count": 62,
   "metadata": {},
   "outputs": [],
   "source": [
    "adata = sc.read_h5ad(\"C:\\\\Users\\\\bence\\\\Projects\\\\BIO446\\\\McKinnon-Rosati-Laboratory\\\\Project 1\\\\Data\\\\adata_subset.h5ad\")"
   ]
  },
  {
   "cell_type": "code",
   "execution_count": 63,
   "metadata": {},
   "outputs": [
    {
     "data": {
      "text/plain": [
       "AnnData object with n_obs × n_vars = 22082 × 23693\n",
       "    obs: 'scDblFinder_score', 'scDblFinder_class', 'doublet', 'n_genes_by_counts', 'total_counts', 'type', 'sample', 'batch_type', 'batch', 'log1p_n_genes_by_counts', 'log1p_total_counts', 'pct_counts_in_top_50_genes', 'pct_counts_in_top_100_genes', 'pct_counts_in_top_200_genes', 'pct_counts_in_top_500_genes', 'total_counts_mt', 'pct_counts_mt', 'total_counts_ribo', 'pct_counts_ribo', 'total_counts_hb', 'pct_counts_hb', 'n_genes', 'n_counts', 'size_factors', 'leiden_0.2', 'leiden_0.3', 'leiden_0.4', 'leiden_0.6', 'leiden_0.8', 'leiden_1.0', 'leiden_1.4', 'leiden_1.7', 'leiden_2.0', 'leiden_2.5', 'leiden_3.0', 'leiden_3.5', 'leiden_4.0', 'leiden_4.5', 'hclust', 'kmeans', 'my_clust_1', 'immune', 'mesothelial', 'stromal', 'endothelial', 'epithelial', 'muscle', 'Immune', 'Myeloid', 'Lymphoid', 'Mesenchyme', 'Mesothelial', 'Stromal', 'SMC', 'Endothelial', 'Blood vessels', 'LEC', 'Epithelial', 'Ciliated', 'Secretory', 'cell_type_edit', 'celltype'\n",
       "    var: 'gene_ids', 'feature_types', 'n_cells-0', 'n_cells_by_counts-0', 'mean_counts-0', 'pct_dropout_by_counts-0', 'total_counts-0', 'n_cells-1', 'n_cells_by_counts-1', 'mean_counts-1', 'pct_dropout_by_counts-1', 'total_counts-1', 'n_cells-2', 'n_cells_by_counts-2', 'mean_counts-2', 'pct_dropout_by_counts-2', 'total_counts-2', 'n_cells_by_counts', 'mean_counts', 'log1p_mean_counts', 'pct_dropout_by_counts', 'total_counts', 'log1p_total_counts', 'mt', 'ribo', 'hb', 'n_cells', 'highly_variable', 'means', 'dispersions', 'dispersions_norm', 'highly_variable_nbatches', 'highly_variable_intersection'\n",
       "    uns: 'hvg', 'kmeans_colors', 'leiden_0.2', 'leiden_0.2_colors', 'leiden_0.3', 'leiden_0.3_colors', 'leiden_0.4', 'leiden_0.4_colors', 'leiden_0.6', 'leiden_0.6_colors', 'leiden_0.8', 'leiden_0.8_colors', 'leiden_1.0', 'leiden_1.0_colors', 'leiden_1.4', 'leiden_1.4_colors', 'leiden_1.7', 'leiden_1.7_colors', 'leiden_2.0', 'leiden_2.0_colors', 'leiden_2.5', 'leiden_2.5_colors', 'leiden_3.0', 'leiden_3.0_colors', 'leiden_3.5', 'leiden_3.5_colors', 'leiden_4.0', 'leiden_4.0_colors', 'leiden_4.5', 'leiden_4.5_colors', 'log1p', 'my_clust_1_colors', 'neighbors', 'pca', 'sample_colors', 'type_colors', 'umap'\n",
       "    obsm: 'Scanorama', 'X_pca', 'X_umap'\n",
       "    varm: 'PCs'\n",
       "    layers: 'counts'\n",
       "    obsp: 'connectivities', 'distances'"
      ]
     },
     "execution_count": 63,
     "metadata": {},
     "output_type": "execute_result"
    }
   ],
   "source": [
    "adata"
   ]
  },
  {
   "cell_type": "code",
   "execution_count": 64,
   "metadata": {},
   "outputs": [],
   "source": [
    "adata_hvg = adata[:, adata.var['highly_variable'] ].copy()"
   ]
  },
  {
   "cell_type": "code",
   "execution_count": 65,
   "metadata": {},
   "outputs": [
    {
     "data": {
      "text/plain": [
       "AnnData object with n_obs × n_vars = 22082 × 3475\n",
       "    obs: 'scDblFinder_score', 'scDblFinder_class', 'doublet', 'n_genes_by_counts', 'total_counts', 'type', 'sample', 'batch_type', 'batch', 'log1p_n_genes_by_counts', 'log1p_total_counts', 'pct_counts_in_top_50_genes', 'pct_counts_in_top_100_genes', 'pct_counts_in_top_200_genes', 'pct_counts_in_top_500_genes', 'total_counts_mt', 'pct_counts_mt', 'total_counts_ribo', 'pct_counts_ribo', 'total_counts_hb', 'pct_counts_hb', 'n_genes', 'n_counts', 'size_factors', 'leiden_0.2', 'leiden_0.3', 'leiden_0.4', 'leiden_0.6', 'leiden_0.8', 'leiden_1.0', 'leiden_1.4', 'leiden_1.7', 'leiden_2.0', 'leiden_2.5', 'leiden_3.0', 'leiden_3.5', 'leiden_4.0', 'leiden_4.5', 'hclust', 'kmeans', 'my_clust_1', 'immune', 'mesothelial', 'stromal', 'endothelial', 'epithelial', 'muscle', 'Immune', 'Myeloid', 'Lymphoid', 'Mesenchyme', 'Mesothelial', 'Stromal', 'SMC', 'Endothelial', 'Blood vessels', 'LEC', 'Epithelial', 'Ciliated', 'Secretory', 'cell_type_edit', 'celltype'\n",
       "    var: 'gene_ids', 'feature_types', 'n_cells-0', 'n_cells_by_counts-0', 'mean_counts-0', 'pct_dropout_by_counts-0', 'total_counts-0', 'n_cells-1', 'n_cells_by_counts-1', 'mean_counts-1', 'pct_dropout_by_counts-1', 'total_counts-1', 'n_cells-2', 'n_cells_by_counts-2', 'mean_counts-2', 'pct_dropout_by_counts-2', 'total_counts-2', 'n_cells_by_counts', 'mean_counts', 'log1p_mean_counts', 'pct_dropout_by_counts', 'total_counts', 'log1p_total_counts', 'mt', 'ribo', 'hb', 'n_cells', 'highly_variable', 'means', 'dispersions', 'dispersions_norm', 'highly_variable_nbatches', 'highly_variable_intersection'\n",
       "    uns: 'hvg', 'kmeans_colors', 'leiden_0.2', 'leiden_0.2_colors', 'leiden_0.3', 'leiden_0.3_colors', 'leiden_0.4', 'leiden_0.4_colors', 'leiden_0.6', 'leiden_0.6_colors', 'leiden_0.8', 'leiden_0.8_colors', 'leiden_1.0', 'leiden_1.0_colors', 'leiden_1.4', 'leiden_1.4_colors', 'leiden_1.7', 'leiden_1.7_colors', 'leiden_2.0', 'leiden_2.0_colors', 'leiden_2.5', 'leiden_2.5_colors', 'leiden_3.0', 'leiden_3.0_colors', 'leiden_3.5', 'leiden_3.5_colors', 'leiden_4.0', 'leiden_4.0_colors', 'leiden_4.5', 'leiden_4.5_colors', 'log1p', 'my_clust_1_colors', 'neighbors', 'pca', 'sample_colors', 'type_colors', 'umap'\n",
       "    obsm: 'Scanorama', 'X_pca', 'X_umap'\n",
       "    varm: 'PCs'\n",
       "    layers: 'counts'\n",
       "    obsp: 'connectivities', 'distances'"
      ]
     },
     "execution_count": 65,
     "metadata": {},
     "output_type": "execute_result"
    }
   ],
   "source": [
    "adata_hvg"
   ]
  },
  {
   "cell_type": "code",
   "execution_count": 67,
   "metadata": {},
   "outputs": [
    {
     "name": "stdout",
     "output_type": "stream",
     "text": [
      "Training features shape: (15456, 3475)\n",
      "Validation features shape: (2209, 3475)\n",
      "Test features shape: (4417, 3475)\n",
      "Training labels shape: (15456,)\n",
      "Validation labels shape: (2209,)\n",
      "Test labels shape: (4417,)\n",
      "Weights shape: (30,)\n"
     ]
    }
   ],
   "source": [
    "X = adata_hvg.X\n",
    "y = adata_hvg.obs['celltype'].values\n",
    "\n",
    "train_features, test_features, train_labels, test_labels = train_test_split(X, y, test_size = 0.2, random_state=711, stratify=y)\n",
    "train_features, val_features, train_labels, val_labels = train_test_split(train_features, train_labels, test_size = 0.125, random_state=136, stratify=train_labels)\n",
    "weights = compute_class_weight(class_weight='balanced', classes=np.unique(train_labels), y=train_labels)  \n",
    "\n",
    "train_features = np.array(train_features)\n",
    "test_features = np.array(test_features)\n",
    "val_features = np.array(val_features)\n",
    "train_labels = np.array(train_labels)\n",
    "test_labels = np.array(test_labels)\n",
    "val_labels = np.array(val_labels)\n",
    "weights = np.array(weights)                  \n",
    "       \n",
    "print('Training features shape:', train_features.shape)\n",
    "print('Validation features shape:', val_features.shape)\n",
    "print('Test features shape:', test_features.shape)\n",
    "print('Training labels shape:', train_labels.shape)\n",
    "print('Validation labels shape:', val_labels.shape)\n",
    "print('Test labels shape:', test_labels.shape)\n",
    "print('Weights shape:', weights.shape)\n",
    "\n",
    "np.save('../Arrays/train_features_hvg_subset.npy', train_features)\n",
    "np.save('../Arrays/test_features_hvg_subset.npy', test_features)\n",
    "np.save('../Arrays/val_features_hvg_subset.npy', val_features)\n",
    "np.save('../Arrays/train_labels_hvg_subset.npy', train_labels)\n",
    "np.save('../Arrays/test_labels_hvg_subset.npy', test_labels)\n",
    "np.save('../Arrays/val_labels_hvg_subset.npy', val_labels)\n",
    "np.save('../Arrays/weights_hvg_subset.npy', weights)"
   ]
  }
 ],
 "metadata": {
  "kernelspec": {
   "display_name": "env",
   "language": "python",
   "name": "python3"
  },
  "language_info": {
   "codemirror_mode": {
    "name": "ipython",
    "version": 3
   },
   "file_extension": ".py",
   "mimetype": "text/x-python",
   "name": "python",
   "nbconvert_exporter": "python",
   "pygments_lexer": "ipython3",
   "version": "3.11.3"
  }
 },
 "nbformat": 4,
 "nbformat_minor": 2
}
