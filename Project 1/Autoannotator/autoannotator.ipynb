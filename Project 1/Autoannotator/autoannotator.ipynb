{
 "cells": [
  {
   "cell_type": "code",
   "execution_count": 2,
   "metadata": {},
   "outputs": [
    {
     "name": "stderr",
     "output_type": "stream",
     "text": [
      "c:\\Users\\bence\\Projects\\BIO446\\McKinnon-Rosati-Laboratory\\env\\Lib\\site-packages\\anndata\\utils.py:429: FutureWarning: Importing read_csv from `anndata` is deprecated. Import anndata.io.read_csv instead.\n",
      "  warnings.warn(msg, FutureWarning)\n",
      "c:\\Users\\bence\\Projects\\BIO446\\McKinnon-Rosati-Laboratory\\env\\Lib\\site-packages\\anndata\\utils.py:429: FutureWarning: Importing read_excel from `anndata` is deprecated. Import anndata.io.read_excel instead.\n",
      "  warnings.warn(msg, FutureWarning)\n",
      "c:\\Users\\bence\\Projects\\BIO446\\McKinnon-Rosati-Laboratory\\env\\Lib\\site-packages\\anndata\\utils.py:429: FutureWarning: Importing read_hdf from `anndata` is deprecated. Import anndata.io.read_hdf instead.\n",
      "  warnings.warn(msg, FutureWarning)\n",
      "c:\\Users\\bence\\Projects\\BIO446\\McKinnon-Rosati-Laboratory\\env\\Lib\\site-packages\\anndata\\utils.py:429: FutureWarning: Importing read_loom from `anndata` is deprecated. Import anndata.io.read_loom instead.\n",
      "  warnings.warn(msg, FutureWarning)\n",
      "c:\\Users\\bence\\Projects\\BIO446\\McKinnon-Rosati-Laboratory\\env\\Lib\\site-packages\\anndata\\utils.py:429: FutureWarning: Importing read_mtx from `anndata` is deprecated. Import anndata.io.read_mtx instead.\n",
      "  warnings.warn(msg, FutureWarning)\n",
      "c:\\Users\\bence\\Projects\\BIO446\\McKinnon-Rosati-Laboratory\\env\\Lib\\site-packages\\anndata\\utils.py:429: FutureWarning: Importing read_text from `anndata` is deprecated. Import anndata.io.read_text instead.\n",
      "  warnings.warn(msg, FutureWarning)\n",
      "c:\\Users\\bence\\Projects\\BIO446\\McKinnon-Rosati-Laboratory\\env\\Lib\\site-packages\\anndata\\utils.py:429: FutureWarning: Importing read_umi_tools from `anndata` is deprecated. Import anndata.io.read_umi_tools instead.\n",
      "  warnings.warn(msg, FutureWarning)\n"
     ]
    }
   ],
   "source": [
    "import numpy as np\n",
    "import scanpy as sc\n",
    "import matplotlib.pyplot as plt\n",
    "import scipy.sparse\n",
    "from sklearn.model_selection import train_test_split\n",
    "from sklearn.utils.class_weight import compute_sample_weight"
   ]
  },
  {
   "cell_type": "code",
   "execution_count": 2,
   "metadata": {},
   "outputs": [],
   "source": [
    "data = \"C:\\\\Users\\\\bence\\\\Projects\\\\BIO446\\\\McKinnon-Rosati-Laboratory\\\\Project 1\\\\Data\\\\granulomas_final.h5ad\""
   ]
  },
  {
   "cell_type": "code",
   "execution_count": 3,
   "metadata": {},
   "outputs": [
    {
     "name": "stdout",
     "output_type": "stream",
     "text": [
      "sample\n",
      "granuloma2    9392\n",
      "granuloma1    9302\n",
      "granuloma3    8909\n",
      "Name: count, dtype: int64\n",
      "\n",
      "X matrix is sparse: False\n",
      "X size = (27603, 23693)\n"
     ]
    }
   ],
   "source": [
    "adata = sc.read_h5ad(data)\n",
    "adata.uns['log1p'][\"base\"] = None # bug fix\n",
    "\n",
    "print(adata.obs['sample'].value_counts())\n",
    "print()\n",
    "print('X matrix is sparse:', scipy.sparse.issparse(adata.X))\n",
    "print('X size =', adata.X.shape)"
   ]
  },
  {
   "cell_type": "code",
   "execution_count": 23,
   "metadata": {},
   "outputs": [
    {
     "data": {
      "text/plain": [
       "AnnData object with n_obs × n_vars = 27603 × 23693\n",
       "    obs: 'scDblFinder_score', 'scDblFinder_class', 'doublet', 'n_genes_by_counts', 'total_counts', 'type', 'sample', 'batch_type', 'batch', 'log1p_n_genes_by_counts', 'log1p_total_counts', 'pct_counts_in_top_50_genes', 'pct_counts_in_top_100_genes', 'pct_counts_in_top_200_genes', 'pct_counts_in_top_500_genes', 'total_counts_mt', 'pct_counts_mt', 'total_counts_ribo', 'pct_counts_ribo', 'total_counts_hb', 'pct_counts_hb', 'n_genes', 'n_counts', 'size_factors', 'leiden_0.2', 'leiden_0.3', 'leiden_0.4', 'leiden_0.6', 'leiden_0.8', 'leiden_1.0', 'leiden_1.4', 'leiden_1.7', 'leiden_2.0', 'leiden_2.5', 'leiden_3.0', 'leiden_3.5', 'leiden_4.0', 'leiden_4.5', 'hclust', 'kmeans', 'my_clust_1', 'immune', 'mesothelial', 'stromal', 'endothelial', 'epithelial', 'muscle', 'Immune', 'Myeloid', 'Lymphoid', 'Mesenchyme', 'Mesothelial', 'Stromal', 'SMC', 'Endothelial', 'Blood vessels', 'LEC', 'Epithelial', 'Ciliated', 'Secretory', 'cell_type_edit', 'celltype'\n",
       "    var: 'gene_ids', 'feature_types', 'n_cells-0', 'n_cells_by_counts-0', 'mean_counts-0', 'pct_dropout_by_counts-0', 'total_counts-0', 'n_cells-1', 'n_cells_by_counts-1', 'mean_counts-1', 'pct_dropout_by_counts-1', 'total_counts-1', 'n_cells-2', 'n_cells_by_counts-2', 'mean_counts-2', 'pct_dropout_by_counts-2', 'total_counts-2', 'n_cells_by_counts', 'mean_counts', 'log1p_mean_counts', 'pct_dropout_by_counts', 'total_counts', 'log1p_total_counts', 'mt', 'ribo', 'hb', 'n_cells', 'highly_variable', 'means', 'dispersions', 'dispersions_norm', 'highly_variable_nbatches', 'highly_variable_intersection'\n",
       "    uns: 'hvg', 'kmeans_colors', 'leiden_0.2', 'leiden_0.2_colors', 'leiden_0.3', 'leiden_0.3_colors', 'leiden_0.4', 'leiden_0.4_colors', 'leiden_0.6', 'leiden_0.6_colors', 'leiden_0.8', 'leiden_0.8_colors', 'leiden_1.0', 'leiden_1.0_colors', 'leiden_1.4', 'leiden_1.4_colors', 'leiden_1.7', 'leiden_1.7_colors', 'leiden_2.0', 'leiden_2.0_colors', 'leiden_2.5', 'leiden_2.5_colors', 'leiden_3.0', 'leiden_3.0_colors', 'leiden_3.5', 'leiden_3.5_colors', 'leiden_4.0', 'leiden_4.0_colors', 'leiden_4.5', 'leiden_4.5_colors', 'log1p', 'my_clust_1_colors', 'neighbors', 'pca', 'sample_colors', 'type_colors', 'umap'\n",
       "    obsm: 'Scanorama', 'X_pca', 'X_umap'\n",
       "    varm: 'PCs'\n",
       "    layers: 'counts'\n",
       "    obsp: 'connectivities', 'distances'"
      ]
     },
     "execution_count": 23,
     "metadata": {},
     "output_type": "execute_result"
    }
   ],
   "source": [
    "adata"
   ]
  },
  {
   "cell_type": "code",
   "execution_count": 24,
   "metadata": {},
   "outputs": [
    {
     "name": "stdout",
     "output_type": "stream",
     "text": [
      "[[0.         0.         0.         ... 0.         0.         0.65802306]\n",
      " [0.         0.         0.         ... 0.         0.         0.        ]\n",
      " [0.         0.         0.         ... 0.         0.         0.9530956 ]\n",
      " ...\n",
      " [0.         0.         0.         ... 0.         0.         0.40804082]\n",
      " [0.         0.         0.         ... 0.         0.39723676 1.0820873 ]\n",
      " [0.         0.         0.         ... 0.         0.         0.        ]]\n",
      "(27603, 23693)\n",
      "<class 'numpy.ndarray'>\n",
      "float32\n"
     ]
    }
   ],
   "source": [
    "print(adata.X)\n",
    "print(adata.X.shape)\n",
    "print(type(adata.X))\n",
    "print(adata.X.dtype)"
   ]
  },
  {
   "cell_type": "code",
   "execution_count": null,
   "metadata": {},
   "outputs": [],
   "source": [
    "print(adata.obsm[\"Scanorama\"])\n",
    "print(adata.obsm[\"Scanorama\"].shape)\n",
    "print(type(adata.obsm[\"Scanorama\"]))\n",
    "print(adata.obsm[\"Scanorama\"].dtype)"
   ]
  },
  {
   "cell_type": "code",
   "execution_count": null,
   "metadata": {},
   "outputs": [],
   "source": [
    "print(adata.obsm[\"X_pca\"])\n",
    "print(adata.obsm[\"X_pca\"].shape)\n",
    "print(type(adata.obsm[\"X_pca\"]))\n",
    "print(adata.obsm[\"X_pca\"].dtype)"
   ]
  },
  {
   "cell_type": "code",
   "execution_count": null,
   "metadata": {},
   "outputs": [],
   "source": [
    "print(adata.obsm[\"X_umap\"])\n",
    "print(adata.obsm[\"X_umap\"].shape)\n",
    "print(type(adata.obsm[\"X_umap\"]))\n",
    "print(adata.obsm[\"X_umap\"].dtype)"
   ]
  },
  {
   "cell_type": "code",
   "execution_count": 4,
   "metadata": {},
   "outputs": [],
   "source": [
    "cluster_type = 'my_clust_1'"
   ]
  },
  {
   "cell_type": "code",
   "execution_count": 5,
   "metadata": {},
   "outputs": [
    {
     "data": {
      "text/plain": [
       "AAACCTGAGCGTAGTG_sc69_1     6\n",
       "AAACCTGAGCTGATAA_sc69_1     3\n",
       "AAACCTGCAAATCCGT_sc69_1     4\n",
       "AAACCTGCAAGGGTCA_sc69_1    13\n",
       "AAACCTGCACATCCGG_sc69_1     4\n",
       "                           ..\n",
       "TTTGTCAGTTCAACCA_sc72_1     4\n",
       "TTTGTCAGTTCAGTAC_sc72_1     8\n",
       "TTTGTCATCACAAACC_sc72_1     4\n",
       "TTTGTCATCAGCACAT_sc72_1     4\n",
       "TTTGTCATCTCGAGTA_sc72_1    22\n",
       "Name: my_clust_1, Length: 27603, dtype: category\n",
       "Categories (30, object): ['0', '10', '11', '11b', ..., '7c', '8', '9', '9b']"
      ]
     },
     "execution_count": 5,
     "metadata": {},
     "output_type": "execute_result"
    }
   ],
   "source": [
    "adata.obs[cluster_type]"
   ]
  },
  {
   "cell_type": "code",
   "execution_count": 6,
   "metadata": {},
   "outputs": [],
   "source": [
    "annotation_dict= {\n",
    "    '9': 'CAP1',\n",
    "    '24': 'CAP2',\n",
    "    '9b': 'VEC',\n",
    "    '27': 'LEC',\n",
    "        \n",
    "    '17': 'Ciliated',\n",
    "    '15': 'Secretory',\n",
    "    '22': 'AT1',\n",
    "    '6': 'AT2',\n",
    "    '12': 'AT2-t1',\n",
    "    '19': 'AT2-t2',\n",
    "        \n",
    "    '14': 'AF',\n",
    "    '25': 'Pericyte',\n",
    "        \n",
    "    '20': 'Mesothelial',\n",
    "        \n",
    "    '3': 'B1',\n",
    "    '3b': 'B2',\n",
    "        \n",
    "    '0': 'Th1',\n",
    "    '8': 'Tnaive',\n",
    "    '11': 'Tex',\n",
    "    '77': 'Treg',\n",
    "        \n",
    "    '11b': 'NK',\n",
    "        \n",
    "    '4a': 'AM',\n",
    "    '4': 'M-t1',\n",
    "    '10': 'M-lc',\n",
    "    '7': 'M-t2',\n",
    "    '7b': 'M-C1q',\n",
    "    '7c': 'iMon',\n",
    "        \n",
    "    '23': 'pDC',\n",
    "    '13': 'DC',\n",
    "    '5b': 'N1',\n",
    "    '5': 'N2',\n",
    "}"
   ]
  },
  {
   "cell_type": "code",
   "execution_count": 7,
   "metadata": {},
   "outputs": [
    {
     "name": "stdout",
     "output_type": "stream",
     "text": [
      "Keys in dictionary not in adata: []\n",
      "Keys in adata not in dictionary: []\n"
     ]
    }
   ],
   "source": [
    "adata.obs['cell_type_edit'] = [annotation_dict[clust] for clust in adata.obs[cluster_type]]\n",
    "\n",
    "dict_list = list(annotation_dict.keys())\n",
    "adata_list = list(adata.obs[cluster_type].unique())\n",
    "print('Keys in dictionary not in adata:', [item for item in dict_list if item not in adata_list] )\n",
    "print('Keys in adata not in dictionary:', [item for item in adata_list if item not in dict_list] )"
   ]
  },
  {
   "cell_type": "code",
   "execution_count": 8,
   "metadata": {},
   "outputs": [
    {
     "data": {
      "text/plain": [
       "AAACCTGAGCGTAGTG_sc69_1       AT2\n",
       "AAACCTGAGCTGATAA_sc69_1        B1\n",
       "AAACCTGCAAATCCGT_sc69_1      M-t1\n",
       "AAACCTGCAAGGGTCA_sc69_1        DC\n",
       "AAACCTGCACATCCGG_sc69_1      M-t1\n",
       "                            ...  \n",
       "TTTGTCAGTTCAACCA_sc72_1      M-t1\n",
       "TTTGTCAGTTCAGTAC_sc72_1    Tnaive\n",
       "TTTGTCATCACAAACC_sc72_1      M-t1\n",
       "TTTGTCATCAGCACAT_sc72_1      M-t1\n",
       "TTTGTCATCTCGAGTA_sc72_1       AT1\n",
       "Name: cell_type_edit, Length: 27603, dtype: object"
      ]
     },
     "execution_count": 8,
     "metadata": {},
     "output_type": "execute_result"
    }
   ],
   "source": [
    "adata.obs['cell_type_edit']"
   ]
  },
  {
   "cell_type": "code",
   "execution_count": 9,
   "metadata": {},
   "outputs": [
    {
     "name": "stdout",
     "output_type": "stream",
     "text": [
      "['AT2' 'B1' 'M-t1' 'DC' 'Th1' 'M-t2' 'Secretory' 'AM' 'N1' 'M-C1q'\n",
      " 'AT2-t2' 'AF' 'VEC' 'CAP1' 'N2' 'AT2-t1' 'Pericyte' 'pDC' 'Ciliated' 'NK'\n",
      " 'AT1' 'Tnaive' 'Treg' 'M-lc' 'Mesothelial' 'Tex' 'CAP2' 'LEC' 'iMon' 'B2']\n",
      "Number of unique sub cell types: 30\n"
     ]
    }
   ],
   "source": [
    "unique_celltype_sub = adata.obs['cell_type_edit'].unique()\n",
    "print(unique_celltype_sub)\n",
    "\n",
    "num_unique_celltype_sub = adata.obs['cell_type_edit'].nunique()\n",
    "print(f\"Number of unique sub cell types: {num_unique_celltype_sub}\")"
   ]
  },
  {
   "cell_type": "code",
   "execution_count": 10,
   "metadata": {},
   "outputs": [],
   "source": [
    "replacement_dict = {\n",
    "    'AT2': 0,\n",
    "    'B1': 1,\n",
    "    'M-t1': 2,\n",
    "    'DC': 3,\n",
    "    'Th1': 4,\n",
    "    'M-t2': 5,\n",
    "    'Secretory': 6,\n",
    "    'AM': 7,\n",
    "    'N1': 8,\n",
    "    'M-C1q': 9,\n",
    "    'AT2-t2': 10,\n",
    "    'AF': 11,\n",
    "    'VEC': 12,\n",
    "    'CAP1': 13,\n",
    "    'N2': 14,\n",
    "    'AT2-t1': 15,\n",
    "    'Pericyte': 16,\n",
    "    'pDC': 17,\n",
    "    'Ciliated': 18,\n",
    "    'NK': 19,\n",
    "    'AT1': 20,\n",
    "    'Tnaive': 21,\n",
    "    'Treg': 22,\n",
    "    'M-lc': 23,\n",
    "    'Mesothelial': 24,\n",
    "    'Tex': 25,\n",
    "    'CAP2': 26,\n",
    "    'LEC': 27,\n",
    "    'iMon': 28,\n",
    "    'B2': 29\n",
    "}"
   ]
  },
  {
   "cell_type": "code",
   "execution_count": 11,
   "metadata": {},
   "outputs": [
    {
     "name": "stderr",
     "output_type": "stream",
     "text": [
      "C:\\Users\\bence\\AppData\\Local\\Temp\\ipykernel_60976\\975682991.py:1: FutureWarning: Downcasting behavior in `replace` is deprecated and will be removed in a future version. To retain the old behavior, explicitly call `result.infer_objects(copy=False)`. To opt-in to the future behavior, set `pd.set_option('future.no_silent_downcasting', True)`\n",
      "  adata.obs['celltype'] = adata.obs['cell_type_edit'].replace(replacement_dict)\n"
     ]
    }
   ],
   "source": [
    "adata.obs['celltype'] = adata.obs['cell_type_edit'].replace(replacement_dict)"
   ]
  },
  {
   "cell_type": "code",
   "execution_count": 12,
   "metadata": {},
   "outputs": [
    {
     "data": {
      "text/plain": [
       "AAACCTGAGCGTAGTG_sc69_1     0\n",
       "AAACCTGAGCTGATAA_sc69_1     1\n",
       "AAACCTGCAAATCCGT_sc69_1     2\n",
       "AAACCTGCAAGGGTCA_sc69_1     3\n",
       "AAACCTGCACATCCGG_sc69_1     2\n",
       "                           ..\n",
       "TTTGTCAGTTCAACCA_sc72_1     2\n",
       "TTTGTCAGTTCAGTAC_sc72_1    21\n",
       "TTTGTCATCACAAACC_sc72_1     2\n",
       "TTTGTCATCAGCACAT_sc72_1     2\n",
       "TTTGTCATCTCGAGTA_sc72_1    20\n",
       "Name: celltype, Length: 27603, dtype: int64"
      ]
     },
     "execution_count": 12,
     "metadata": {},
     "output_type": "execute_result"
    }
   ],
   "source": [
    "adata.obs['celltype']"
   ]
  },
  {
   "cell_type": "code",
   "execution_count": 13,
   "metadata": {},
   "outputs": [
    {
     "name": "stdout",
     "output_type": "stream",
     "text": [
      "Unique values in 'celltype' column after replacement: [ 0  1  2  3  4  5  6  7  8  9 10 11 12 13 14 15 16 17 18 19 20 21 22 23\n",
      " 24 25 26 27 28 29]\n"
     ]
    }
   ],
   "source": [
    "print(\"Unique values in 'celltype' column after replacement:\", adata.obs['celltype'].unique())"
   ]
  },
  {
   "cell_type": "code",
   "execution_count": 14,
   "metadata": {},
   "outputs": [
    {
     "name": "stdout",
     "output_type": "stream",
     "text": [
      "Number of cells in each cell type:\n",
      "cell_type_edit\n",
      "M-t1           5692\n",
      "Th1            3420\n",
      "B1             2068\n",
      "AT2            1821\n",
      "N2             1819\n",
      "Tnaive         1226\n",
      "M-lc           1162\n",
      "M-t2           1094\n",
      "AF             1091\n",
      "AM              996\n",
      "AT2-t1          871\n",
      "DC              774\n",
      "CAP1            740\n",
      "Secretory       696\n",
      "VEC             439\n",
      "Ciliated        401\n",
      "AT2-t2          379\n",
      "Mesothelial     362\n",
      "M-C1q           357\n",
      "AT1             340\n",
      "Tex             296\n",
      "pDC             286\n",
      "NK              251\n",
      "CAP2            213\n",
      "Treg            203\n",
      "N1              160\n",
      "B2              140\n",
      "Pericyte        138\n",
      "iMon            111\n",
      "LEC              57\n",
      "Name: count, dtype: int64\n"
     ]
    }
   ],
   "source": [
    "cell_type_counts = adata.obs['cell_type_edit'].value_counts()\n",
    "\n",
    "print(\"Number of cells in each cell type:\")\n",
    "print(cell_type_counts)"
   ]
  },
  {
   "cell_type": "code",
   "execution_count": null,
   "metadata": {},
   "outputs": [],
   "source": [
    "# cell distribution with cell types\n",
    "y = adata.obs['cell_type_edit']\n",
    "plt.figure(figsize=(35, 18))\n",
    "plt.title('Cell Distribution with Cell Types')\n",
    "y.value_counts().plot(kind='bar', rot=0)\n",
    "plt.show()"
   ]
  },
  {
   "cell_type": "code",
   "execution_count": null,
   "metadata": {},
   "outputs": [],
   "source": [
    "# cell distribution with int mappings\n",
    "y = adata.obs['celltype']\n",
    "plt.figure(figsize=(14, 8))\n",
    "plt.title('Cell Distribution with Integer Mappings')\n",
    "y.value_counts().plot(kind='bar', rot=0)\n",
    "plt.show()"
   ]
  },
  {
   "cell_type": "code",
   "execution_count": null,
   "metadata": {},
   "outputs": [
    {
     "name": "stdout",
     "output_type": "stream",
     "text": [
      "Correlation: 0.9996135210465931\n"
     ]
    }
   ],
   "source": [
    "# trying to confirm that adata.X indices correspond to adata.obs indices\n",
    "# the idea is that the gene expression levels should correlate to the total counts of each cell\n",
    "# not accurate with adata.X because those sums have been log transformed\n",
    "\n",
    "row_sums_X = np.array(adata.layers[\"counts\"].sum(axis=1)).flatten() # adata.layers[\"counts\"] should be the raw counts matrix (maybe check granulomas_final_raw.h5ad's adata.X for equality)\n",
    "\n",
    "obs_sums = adata.obs[\"total_counts\"].values\n",
    "\n",
    "corr = np.corrcoef(row_sums_X, obs_sums)[0,1]\n",
    "print(\"Correlation:\", corr)"
   ]
  },
  {
   "cell_type": "code",
   "execution_count": null,
   "metadata": {},
   "outputs": [],
   "source": [
    "fourth_dict = {\n",
    "    'Blood vessels': ['CAP1','CAP2','VEC','AEC'],\n",
    "    'Lymphatic EC': ['LEC'],\n",
    "    'Airway epithelium': ['Ciliated','Secretory'],\n",
    "    'Alveolar epithelium': ['AT1','AT2','AT2-t1','AT2-t2'],\n",
    "    'Fibroblast': ['AF','Pericyte'],\n",
    "    'Smooth muscle': ['SMC'],\n",
    "    'Mesothelial': ['Mesothelial'],\n",
    "    'B lineage': ['B1','B2'],\n",
    "    'T lineage': ['Th1','Tnaive','Treg','Tex'],\n",
    "    'NK': ['NK'],\n",
    "    'Macrophage': ['AM','M-t1','M-t2','M-C1q','M-lc'],        \n",
    "    'mononuclear': ['iMon','DC','pDC'],\n",
    "    'Neutrophil': ['N1','N2']\n",
    "}\n",
    "\n",
    "group_lookup = {}\n",
    "for broad_cat, fine_types in fourth_dict.items():\n",
    "    for ft in fine_types:\n",
    "        group_lookup[ft] = broad_cat"
   ]
  },
  {
   "cell_type": "code",
   "execution_count": null,
   "metadata": {},
   "outputs": [],
   "source": [
    "group_lookup"
   ]
  },
  {
   "cell_type": "code",
   "execution_count": null,
   "metadata": {},
   "outputs": [],
   "source": [
    "adata.obs['broad_celltype'] = adata.obs['cell_type_edit'].map(group_lookup)"
   ]
  },
  {
   "cell_type": "code",
   "execution_count": null,
   "metadata": {},
   "outputs": [],
   "source": [
    "adata.obs['broad_celltype']"
   ]
  },
  {
   "cell_type": "code",
   "execution_count": null,
   "metadata": {},
   "outputs": [],
   "source": [
    "print(\"Broad celltype value counts:\")\n",
    "print(adata.obs['broad_celltype'].value_counts())\n",
    "print(adata.obs['broad_celltype'].unique())"
   ]
  },
  {
   "cell_type": "code",
   "execution_count": null,
   "metadata": {},
   "outputs": [],
   "source": [
    "broad_types = adata.obs['broad_celltype'].unique()\n",
    "cell_type_subsets = {}\n",
    "\n",
    "for cat in broad_types:\n",
    "    \n",
    "    adata_sub = adata[adata.obs['broad_celltype'] == cat].copy()\n",
    "    cell_type_subsets[cat] = adata_sub\n",
    "    \n",
    "    print(f\"\\nCreated subset for broad cell type '{cat}' \"f\"with {adata_sub.n_obs} cells.\")"
   ]
  },
  {
   "cell_type": "code",
   "execution_count": null,
   "metadata": {},
   "outputs": [],
   "source": [
    "adata_alveolar_epithelium = cell_type_subsets['Alveolar epithelium']\n",
    "adata_b_lineage = cell_type_subsets['B lineage']\n",
    "adata_macrophage = cell_type_subsets['Macrophage']\n",
    "adata_mononuclear = cell_type_subsets['mononuclear']\n",
    "adata_t_lineage = cell_type_subsets['T lineage']\n",
    "adata_airway_epithelium = cell_type_subsets['Airway epithelium']\n",
    "adata_neutrophil = cell_type_subsets['Neutrophil']\n",
    "adata_fibroblast = cell_type_subsets['Fibroblast']\n",
    "adata_blood_vessels = cell_type_subsets['Blood vessels']\n",
    "adata_nk = cell_type_subsets['NK']\n",
    "adata_mesothelial = cell_type_subsets['Mesothelial']\n",
    "adata_lymphatic_ec = cell_type_subsets['Lymphatic EC']"
   ]
  },
  {
   "cell_type": "code",
   "execution_count": null,
   "metadata": {},
   "outputs": [],
   "source": [
    "adata_alveolar_epithelium.write(\"C:\\\\Users\\\\bence\\\\Projects\\\\BIO446\\\\McKinnon-Rosati-Laboratory\\\\Project 1\\\\Data\\\\adata_alveolar_epithelium.h5ad\") \n",
    "adata_b_lineage.write(\"C:\\\\Users\\\\bence\\\\Projects\\\\BIO446\\\\McKinnon-Rosati-Laboratory\\\\Project 1\\\\Data\\\\adata_b_lineage.h5ad\")\n",
    "adata_macrophage.write(\"C:\\\\Users\\\\bence\\\\Projects\\\\BIO446\\\\McKinnon-Rosati-Laboratory\\\\Project 1\\\\Data\\\\adata_macrophage.h5ad\")\n",
    "adata_mononuclear.write(\"C:\\\\Users\\\\bence\\\\Projects\\\\BIO446\\\\McKinnon-Rosati-Laboratory\\\\Project 1\\\\Data\\\\adata_mononuclear.h5ad\")\n",
    "adata_t_lineage.write(\"C:\\\\Users\\\\bence\\\\Projects\\\\BIO446\\\\McKinnon-Rosati-Laboratory\\\\Project 1\\\\Data\\\\adata_t_lineage.h5ad\")\n",
    "adata_airway_epithelium.write(\"C:\\\\Users\\\\bence\\\\Projects\\\\BIO446\\\\McKinnon-Rosati-Laboratory\\\\Project 1\\\\Data\\\\adata_airway_epithelium.h5ad\")\n",
    "adata_neutrophil.write(\"C:\\\\Users\\\\bence\\\\Projects\\\\BIO446\\\\McKinnon-Rosati-Laboratory\\\\Project 1\\\\Data\\\\adata_neutrophil.h5ad\")\n",
    "adata_fibroblast.write(\"C:\\\\Users\\\\bence\\\\Projects\\\\BIO446\\\\McKinnon-Rosati-Laboratory\\\\Project 1\\\\Data\\\\adata_fibroblast.h5ad\")\n",
    "adata_blood_vessels.write(\"C:\\\\Users\\\\bence\\\\Projects\\\\BIO446\\\\McKinnon-Rosati-Laboratory\\\\Project 1\\\\Data\\\\adata_blood_vessels.h5ad\")\n",
    "adata_nk.write(\"C:\\\\Users\\\\bence\\\\Projects\\\\BIO446\\\\McKinnon-Rosati-Laboratory\\\\Project 1\\\\Data\\\\adata_nk.h5ad\")\n",
    "adata_mesothelial.write(\"C:\\\\Users\\\\bence\\\\Projects\\\\BIO446\\\\McKinnon-Rosati-Laboratory\\\\Project 1\\\\Data\\\\adata_mesothelial.h5ad\")\n",
    "adata_lymphatic_ec.write(\"C:\\\\Users\\\\bence\\\\Projects\\\\BIO446\\\\McKinnon-Rosati-Laboratory\\\\Project 1\\\\Data\\\\adata_lymphatic_ec.h5ad\")"
   ]
  },
  {
   "cell_type": "code",
   "execution_count": null,
   "metadata": {},
   "outputs": [],
   "source": [
    "# highly variable genes\n",
    "\n",
    "adata_hv = adata[:, adata.var['highly_variable'] ].copy()\n",
    "print(\"# highly variable genes:\", adata.var['highly_variable'].sum())\n",
    "print(\"shape:\", adata_hv.shape)"
   ]
  },
  {
   "cell_type": "code",
   "execution_count": 16,
   "metadata": {},
   "outputs": [],
   "source": [
    "# scGNN imputed matrix\n",
    "scGNN_matrix = sc.read_csv(\"../Data/granuloma_recon.csv\")"
   ]
  },
  {
   "cell_type": "code",
   "execution_count": 17,
   "metadata": {},
   "outputs": [
    {
     "data": {
      "text/plain": [
       "AnnData object with n_obs × n_vars = 27603 × 23693"
      ]
     },
     "execution_count": 17,
     "metadata": {},
     "output_type": "execute_result"
    }
   ],
   "source": [
    "scGNN_matrix"
   ]
  },
  {
   "cell_type": "code",
   "execution_count": 18,
   "metadata": {},
   "outputs": [],
   "source": [
    "scGNN_matrix.obs[\"celltype\"] = adata.obs[\"celltype\"]"
   ]
  },
  {
   "cell_type": "code",
   "execution_count": 20,
   "metadata": {},
   "outputs": [
    {
     "data": {
      "text/plain": [
       "AAACCTGAGCGTAGTG_sc69_1     0\n",
       "AAACCTGAGCTGATAA_sc69_1     1\n",
       "AAACCTGCAAATCCGT_sc69_1     2\n",
       "AAACCTGCAAGGGTCA_sc69_1     3\n",
       "AAACCTGCACATCCGG_sc69_1     2\n",
       "                           ..\n",
       "TTTGTCAGTTCAACCA_sc72_1     2\n",
       "TTTGTCAGTTCAGTAC_sc72_1    21\n",
       "TTTGTCATCACAAACC_sc72_1     2\n",
       "TTTGTCATCAGCACAT_sc72_1     2\n",
       "TTTGTCATCTCGAGTA_sc72_1    20\n",
       "Name: celltype, Length: 27603, dtype: int64"
      ]
     },
     "execution_count": 20,
     "metadata": {},
     "output_type": "execute_result"
    }
   ],
   "source": [
    "scGNN_matrix.obs[\"celltype\"]"
   ]
  },
  {
   "cell_type": "code",
   "execution_count": 21,
   "metadata": {},
   "outputs": [
    {
     "name": "stdout",
     "output_type": "stream",
     "text": [
      "Correlation: 0.6252261824452869\n"
     ]
    }
   ],
   "source": [
    "# not accurate because scGNN_matrix.X has transformed the sums in some way\n",
    "\n",
    "row_sums_X = np.array(scGNN_matrix.X.sum(axis=1)).flatten()\n",
    "\n",
    "obs_sums = adata.obs[\"total_counts\"].values\n",
    "\n",
    "corr = np.corrcoef(row_sums_X, obs_sums)[0,1]\n",
    "print(\"Correlation:\", corr)"
   ]
  },
  {
   "cell_type": "code",
   "execution_count": 22,
   "metadata": {},
   "outputs": [],
   "source": [
    "scGNN_matrix.write(\"../Data/scGNN_matrix.h5ad\") "
   ]
  },
  {
   "cell_type": "code",
   "execution_count": 17,
   "metadata": {},
   "outputs": [],
   "source": [
    "scGNN_embedding = sc.read_csv(\"../Data/granuloma_embedding.csv\")"
   ]
  },
  {
   "cell_type": "code",
   "execution_count": 18,
   "metadata": {},
   "outputs": [
    {
     "data": {
      "text/plain": [
       "AnnData object with n_obs × n_vars = 23693 × 128"
      ]
     },
     "execution_count": 18,
     "metadata": {},
     "output_type": "execute_result"
    }
   ],
   "source": [
    "scGNN_embedding"
   ]
  },
  {
   "cell_type": "code",
   "execution_count": 29,
   "metadata": {},
   "outputs": [
    {
     "data": {
      "text/html": [
       "<div>\n",
       "<style scoped>\n",
       "    .dataframe tbody tr th:only-of-type {\n",
       "        vertical-align: middle;\n",
       "    }\n",
       "\n",
       "    .dataframe tbody tr th {\n",
       "        vertical-align: top;\n",
       "    }\n",
       "\n",
       "    .dataframe thead th {\n",
       "        text-align: right;\n",
       "    }\n",
       "</style>\n",
       "<table border=\"1\" class=\"dataframe\">\n",
       "  <thead>\n",
       "    <tr style=\"text-align: right;\">\n",
       "      <th></th>\n",
       "    </tr>\n",
       "  </thead>\n",
       "  <tbody>\n",
       "    <tr>\n",
       "      <th>Xkr4</th>\n",
       "    </tr>\n",
       "    <tr>\n",
       "      <th>Gm1992</th>\n",
       "    </tr>\n",
       "    <tr>\n",
       "      <th>Gm19938</th>\n",
       "    </tr>\n",
       "    <tr>\n",
       "      <th>Gm37381</th>\n",
       "    </tr>\n",
       "    <tr>\n",
       "      <th>Rp1</th>\n",
       "    </tr>\n",
       "    <tr>\n",
       "      <th>...</th>\n",
       "    </tr>\n",
       "    <tr>\n",
       "      <th>CR974586.2</th>\n",
       "    </tr>\n",
       "    <tr>\n",
       "      <th>CR974586.4</th>\n",
       "    </tr>\n",
       "    <tr>\n",
       "      <th>4933409K07Rik</th>\n",
       "    </tr>\n",
       "    <tr>\n",
       "      <th>CAAA01147332.1</th>\n",
       "    </tr>\n",
       "    <tr>\n",
       "      <th>AC149090.1</th>\n",
       "    </tr>\n",
       "  </tbody>\n",
       "</table>\n",
       "<p>23693 rows × 0 columns</p>\n",
       "</div>"
      ],
      "text/plain": [
       "Empty DataFrame\n",
       "Columns: []\n",
       "Index: [Xkr4, Gm1992, Gm19938, Gm37381, Rp1, Sox17, Gm37587, Mrpl15, Lypla1, Tcea1, Rgs20, Atp6v1h, Rb1cc1, 4732440D04Rik, Alkal1, St18, Pcmtd1, Gm26901, Gm30414, Sntg1, Rrs1, Adhfe1, 2610203C22Rik, Vxn, Mybl1, Vcpip1, 1700034P13Rik, Sgk3, Mcmdc2, Snhg6, Tcf24, Ppp1r42, Cops5, Cspp1, Arfgef1, Cpa6, Prex2, A830018L16Rik, Sulf1, Slco5a1, Prdm14, Ncoa2, Gm29570, Tram1, Lactb2, Xkr9, Eya1, Gm9947, Msc, Trpa1, Kcnb2, Terf1, Sbspon, 4930444P10Rik, Rpl7, Rdh10, Gm28095, Stau2, Gm7568, Ube2w, Eloc, D030040B21Rik, Tmem70, Ly96, Gm28376, Jph1, Pi15, Gm28154, Gm16070, Crispld1, Gm28153, Gm28756, Defb41, Gm15825, Tfap2d, Pkhd1, 4930486I03Rik, Il17a, Il17f, Mcm3, Gm28065, 6720483E21Rik, Paqr8, Efhc1, Tram2, Tmem14a, Gsta3, Gm28836, Kcnq5, Rims1, Gm29506, Gm27028, Gm29107, Ogfrl1, B3gat2, Smap1, Sdhaf4, Fam135a, Col9a1, Col19a1, ...]\n",
       "\n",
       "[23693 rows x 0 columns]"
      ]
     },
     "execution_count": 29,
     "metadata": {},
     "output_type": "execute_result"
    }
   ],
   "source": [
    "scGNN_embedding.obs"
   ]
  },
  {
   "cell_type": "code",
   "execution_count": 30,
   "metadata": {},
   "outputs": [
    {
     "data": {
      "text/html": [
       "<div>\n",
       "<style scoped>\n",
       "    .dataframe tbody tr th:only-of-type {\n",
       "        vertical-align: middle;\n",
       "    }\n",
       "\n",
       "    .dataframe tbody tr th {\n",
       "        vertical-align: top;\n",
       "    }\n",
       "\n",
       "    .dataframe thead th {\n",
       "        text-align: right;\n",
       "    }\n",
       "</style>\n",
       "<table border=\"1\" class=\"dataframe\">\n",
       "  <thead>\n",
       "    <tr style=\"text-align: right;\">\n",
       "      <th></th>\n",
       "    </tr>\n",
       "  </thead>\n",
       "  <tbody>\n",
       "    <tr>\n",
       "      <th>embedding0</th>\n",
       "    </tr>\n",
       "    <tr>\n",
       "      <th>embedding1</th>\n",
       "    </tr>\n",
       "    <tr>\n",
       "      <th>embedding2</th>\n",
       "    </tr>\n",
       "    <tr>\n",
       "      <th>embedding3</th>\n",
       "    </tr>\n",
       "    <tr>\n",
       "      <th>embedding4</th>\n",
       "    </tr>\n",
       "    <tr>\n",
       "      <th>...</th>\n",
       "    </tr>\n",
       "    <tr>\n",
       "      <th>embedding123</th>\n",
       "    </tr>\n",
       "    <tr>\n",
       "      <th>embedding124</th>\n",
       "    </tr>\n",
       "    <tr>\n",
       "      <th>embedding125</th>\n",
       "    </tr>\n",
       "    <tr>\n",
       "      <th>embedding126</th>\n",
       "    </tr>\n",
       "    <tr>\n",
       "      <th>embedding127</th>\n",
       "    </tr>\n",
       "  </tbody>\n",
       "</table>\n",
       "<p>128 rows × 0 columns</p>\n",
       "</div>"
      ],
      "text/plain": [
       "Empty DataFrame\n",
       "Columns: []\n",
       "Index: [embedding0, embedding1, embedding2, embedding3, embedding4, embedding5, embedding6, embedding7, embedding8, embedding9, embedding10, embedding11, embedding12, embedding13, embedding14, embedding15, embedding16, embedding17, embedding18, embedding19, embedding20, embedding21, embedding22, embedding23, embedding24, embedding25, embedding26, embedding27, embedding28, embedding29, embedding30, embedding31, embedding32, embedding33, embedding34, embedding35, embedding36, embedding37, embedding38, embedding39, embedding40, embedding41, embedding42, embedding43, embedding44, embedding45, embedding46, embedding47, embedding48, embedding49, embedding50, embedding51, embedding52, embedding53, embedding54, embedding55, embedding56, embedding57, embedding58, embedding59, embedding60, embedding61, embedding62, embedding63, embedding64, embedding65, embedding66, embedding67, embedding68, embedding69, embedding70, embedding71, embedding72, embedding73, embedding74, embedding75, embedding76, embedding77, embedding78, embedding79, embedding80, embedding81, embedding82, embedding83, embedding84, embedding85, embedding86, embedding87, embedding88, embedding89, embedding90, embedding91, embedding92, embedding93, embedding94, embedding95, embedding96, embedding97, embedding98, embedding99, ...]\n",
       "\n",
       "[128 rows x 0 columns]"
      ]
     },
     "execution_count": 30,
     "metadata": {},
     "output_type": "execute_result"
    }
   ],
   "source": [
    "scGNN_embedding.var"
   ]
  },
  {
   "cell_type": "code",
   "execution_count": null,
   "metadata": {},
   "outputs": [],
   "source": [
    "X = adata.X\n",
    "y = adata.obs['celltype'].values\n",
    "\n",
    "# random states (completely arbitrary):\n",
    "# adata.X -> (19, 30)\n",
    "# adata.obsm[\"Scanorama\"] -> (8, 3)\n",
    "# adata.obsm[\"X_pca\"] -> (3, 13)\n",
    "# adata.obsm[\"X_umap\"] -> (34, 90)\n",
    "# adata_hv.X -> (6, 7)\n",
    "\n",
    "train_features, test_features, train_labels, test_labels = train_test_split(X, y, test_size = 0.2, random_state=19)\n",
    "train_features, val_features, train_labels, val_labels = train_test_split(train_features, train_labels, test_size = 0.25, random_state=30)\n",
    "\n",
    "train_features = np.array(train_features)\n",
    "test_features = np.array(test_features)\n",
    "val_features = np.array(val_features)\n",
    "\n",
    "train_labels = np.array(train_labels)\n",
    "test_labels = np.array(test_labels)\n",
    "val_labels = np.array(val_labels)\n",
    "\n",
    "print('Training features shape:', train_features.shape)\n",
    "print('Validation features shape:', val_features.shape)\n",
    "print('Test features shape:', test_features.shape)\n",
    "\n",
    "print('Training labels shape:', train_labels.shape)\n",
    "print('Validation labels shape:', val_labels.shape)\n",
    "print('Test labels shape:', test_labels.shape)\n",
    "\n",
    "sample_weights = compute_sample_weight(\n",
    "    class_weight='balanced',\n",
    "    y=train_labels\n",
    ")\n",
    "\n",
    "print('Sample weights shape:', sample_weights.shape)\n",
    "\n",
    "np.save('../Arrays/train_features.npy', train_features)\n",
    "np.save('../Arrays/test_features.npy', test_features)\n",
    "np.save('../Arrays/val_features.npy', val_features)\n",
    "np.save('../Arrays/train_labels.npy', train_labels)\n",
    "np.save('../Arrays/test_labels.npy', test_labels)\n",
    "np.save('../Arrays/val_labels.npy', val_labels)\n",
    "np.save('../Arrays/sample_weights.npy', sample_weights)"
   ]
  },
  {
   "cell_type": "code",
   "execution_count": null,
   "metadata": {},
   "outputs": [],
   "source": [
    "# 5 GB\n",
    "adata.write(\"C:\\\\Users\\\\bence\\\\Projects\\\\BIO446\\\\McKinnon-Rosati-Laboratory\\\\Project 1\\\\Data\\\\adata.h5ad\")"
   ]
  },
  {
   "cell_type": "code",
   "execution_count": null,
   "metadata": {},
   "outputs": [],
   "source": [
    "# for umap display\n",
    "indices = train_test_split(adata.obs.index, test_size=0.2, random_state=19)[1]\n",
    "indices = np.array(indices)\n",
    "np.save('../Arrays/indices.npy', indices)"
   ]
  },
  {
   "cell_type": "code",
   "execution_count": 26,
   "metadata": {},
   "outputs": [
    {
     "data": {
      "text/plain": [
       "10.413485"
      ]
     },
     "execution_count": 26,
     "metadata": {},
     "output_type": "execute_result"
    }
   ],
   "source": [
    "adata.X.max()"
   ]
  }
 ],
 "metadata": {
  "kernelspec": {
   "display_name": "env",
   "language": "python",
   "name": "python3"
  },
  "language_info": {
   "codemirror_mode": {
    "name": "ipython",
    "version": 3
   },
   "file_extension": ".py",
   "mimetype": "text/x-python",
   "name": "python",
   "nbconvert_exporter": "python",
   "pygments_lexer": "ipython3",
   "version": "3.11.3"
  }
 },
 "nbformat": 4,
 "nbformat_minor": 2
}
