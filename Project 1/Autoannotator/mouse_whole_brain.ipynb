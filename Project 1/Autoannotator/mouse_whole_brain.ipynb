{
 "cells": [
  {
   "cell_type": "code",
   "execution_count": 1,
   "id": "818f0256-715b-4d5d-833f-dc219ba1b418",
   "metadata": {},
   "outputs": [],
   "source": [
    "import pandas as pd\n",
    "import numpy as np\n",
    "from pathlib import Path\n",
    "from abc_atlas_access.abc_atlas_cache.abc_project_cache import AbcProjectCache\n",
    "from sklearn.model_selection import train_test_split\n",
    "from sklearn.utils.class_weight import compute_class_weight\n",
    "import anndata\n",
    "import scipy.sparse\n",
    "import scanpy as sc\n",
    "import os"
   ]
  },
  {
   "cell_type": "code",
   "execution_count": 2,
   "id": "65049662-fbe2-4f7e-a136-7dd5e14c4501",
   "metadata": {},
   "outputs": [
    {
     "name": "stdout",
     "output_type": "stream",
     "text": [
      "Current manifest: releases/20250531/manifest.json\n"
     ]
    }
   ],
   "source": [
    "download_base = Path('/gpfs/scratch/blukacsy/abc_atlas')\n",
    "abc_cache = AbcProjectCache.from_cache_dir(download_base)\n",
    "print(f\"Current manifest: {abc_cache.current_manifest}\")"
   ]
  },
  {
   "cell_type": "code",
   "execution_count": 3,
   "id": "e45f896e-e47d-4590-b8eb-92a49ea8c024",
   "metadata": {},
   "outputs": [
    {
     "data": {
      "text/plain": [
       "['ASAP-PMDBS-10X',\n",
       " 'ASAP-PMDBS-taxonomy',\n",
       " 'Allen-CCF-2020',\n",
       " 'HMBA-10xMultiome-BG',\n",
       " 'HMBA-10xMultiome-BG-Aligned',\n",
       " 'HMBA-BG-taxonomy-CCN20250428',\n",
       " 'MERFISH-C57BL6J-638850',\n",
       " 'MERFISH-C57BL6J-638850-CCF',\n",
       " 'MERFISH-C57BL6J-638850-imputed',\n",
       " 'MERFISH-C57BL6J-638850-sections',\n",
       " 'SEAAD',\n",
       " 'SEAAD-taxonomy',\n",
       " 'WHB-10Xv3',\n",
       " 'WHB-taxonomy',\n",
       " 'WMB-10X',\n",
       " 'WMB-10XMulti',\n",
       " 'WMB-10Xv2',\n",
       " 'WMB-10Xv3',\n",
       " 'WMB-neighborhoods',\n",
       " 'WMB-taxonomy',\n",
       " 'Zeng-Aging-Mouse-10Xv3',\n",
       " 'Zeng-Aging-Mouse-WMB-taxonomy',\n",
       " 'Zhuang-ABCA-1',\n",
       " 'Zhuang-ABCA-1-CCF',\n",
       " 'Zhuang-ABCA-2',\n",
       " 'Zhuang-ABCA-2-CCF',\n",
       " 'Zhuang-ABCA-3',\n",
       " 'Zhuang-ABCA-3-CCF',\n",
       " 'Zhuang-ABCA-4',\n",
       " 'Zhuang-ABCA-4-CCF']"
      ]
     },
     "execution_count": 3,
     "metadata": {},
     "output_type": "execute_result"
    }
   ],
   "source": [
    "abc_cache.list_directories"
   ]
  },
  {
   "cell_type": "code",
   "execution_count": 4,
   "id": "dc3fb815-e15e-4062-a3fe-113ea33aa579",
   "metadata": {},
   "outputs": [
    {
     "data": {
      "text/plain": [
       "['cell_metadata',\n",
       " 'cell_metadata_with_cluster_annotation',\n",
       " 'example_genes_all_cells_expression',\n",
       " 'gene',\n",
       " 'region_of_interest_metadata']"
      ]
     },
     "execution_count": 4,
     "metadata": {},
     "output_type": "execute_result"
    }
   ],
   "source": [
    "abc_cache.list_metadata_files('WMB-10X')"
   ]
  },
  {
   "cell_type": "code",
   "execution_count": 5,
   "id": "dfdef493-345e-478b-a816-039b811752de",
   "metadata": {},
   "outputs": [
    {
     "name": "stderr",
     "output_type": "stream",
     "text": [
      "cell_metadata.csv: 100%|██████████| 1.01G/1.01G [00:45<00:00, 22.1MMB/s]   \n"
     ]
    },
    {
     "name": "stdout",
     "output_type": "stream",
     "text": [
      "Number of cells =  4042976\n"
     ]
    }
   ],
   "source": [
    "cell = abc_cache.get_metadata_dataframe(\n",
    "    directory='WMB-10X',\n",
    "    file_name='cell_metadata',\n",
    "    dtype={'cell_label': str}\n",
    ")\n",
    "cell.set_index('cell_label', inplace=True)\n",
    "print(\"Number of cells = \", len(cell))"
   ]
  },
  {
   "cell_type": "code",
   "execution_count": 6,
   "id": "f2334f31-eaef-48a2-bf42-aab28091cd7b",
   "metadata": {},
   "outputs": [
    {
     "data": {
      "text/plain": [
       "dataset_label\n",
       "WMB-10Xv3       2341350\n",
       "WMB-10Xv2       1699939\n",
       "WMB-10XMulti       1687\n",
       "Name: count, dtype: int64"
      ]
     },
     "execution_count": 6,
     "metadata": {},
     "output_type": "execute_result"
    }
   ],
   "source": [
    "cell[\"dataset_label\"].value_counts()"
   ]
  },
  {
   "cell_type": "code",
   "execution_count": 7,
   "id": "608547f0-88f9-4a47-b2c7-e8c1d9151f01",
   "metadata": {},
   "outputs": [
    {
     "data": {
      "text/plain": [
       "feature_matrix_label\n",
       "WMB-10Xv3-MB             337101\n",
       "WMB-10Xv3-STR            283782\n",
       "WMB-10Xv2-Isocortex-2    249360\n",
       "WMB-10Xv2-Isocortex-3    249356\n",
       "WMB-10Xv2-Isocortex-4    248784\n",
       "WMB-10Xv2-Isocortex-1    248776\n",
       "WMB-10Xv3-Isocortex-1    227670\n",
       "WMB-10Xv3-Isocortex-2    227537\n",
       "WMB-10Xv2-HPF            207281\n",
       "WMB-10Xv2-OLF            192182\n",
       "WMB-10Xv3-MY             191746\n",
       "WMB-10Xv3-CB             181723\n",
       "WMB-10Xv3-HPF            181055\n",
       "WMB-10Xv3-HY             162296\n",
       "WMB-10Xv3-P              143157\n",
       "WMB-10Xv2-TH             130555\n",
       "WMB-10Xv3-TH             130454\n",
       "WMB-10Xv3-PAL            108046\n",
       "WMB-10Xv2-HY              99879\n",
       "WMB-10Xv3-OLF             88560\n",
       "WMB-10Xv3-CTXsp           78223\n",
       "WMB-10Xv2-CTXsp           43985\n",
       "WMB-10Xv2-MB              29781\n",
       "WMB-10XMulti               1687\n",
       "Name: count, dtype: int64"
      ]
     },
     "execution_count": 7,
     "metadata": {},
     "output_type": "execute_result"
    }
   ],
   "source": [
    "cell[\"feature_matrix_label\"].value_counts()"
   ]
  },
  {
   "cell_type": "code",
   "execution_count": 8,
   "id": "cedc16b7-2944-4f4c-9be2-160f91abfa4f",
   "metadata": {},
   "outputs": [
    {
     "data": {
      "text/plain": [
       "['WMB-10XMulti/log2', 'WMB-10XMulti/raw']"
      ]
     },
     "execution_count": 8,
     "metadata": {},
     "output_type": "execute_result"
    }
   ],
   "source": [
    "abc_cache.list_data_files('WMB-10XMulti')"
   ]
  },
  {
   "cell_type": "code",
   "execution_count": 9,
   "id": "e42e2359-3d88-4f7c-ac99-fcd27be88131",
   "metadata": {},
   "outputs": [
    {
     "data": {
      "text/plain": [
       "['WMB-10Xv2-CTXsp/log2',\n",
       " 'WMB-10Xv2-CTXsp/raw',\n",
       " 'WMB-10Xv2-HPF/log2',\n",
       " 'WMB-10Xv2-HPF/raw',\n",
       " 'WMB-10Xv2-HY/log2',\n",
       " 'WMB-10Xv2-HY/raw',\n",
       " 'WMB-10Xv2-Isocortex-1/log2',\n",
       " 'WMB-10Xv2-Isocortex-1/raw',\n",
       " 'WMB-10Xv2-Isocortex-2/log2',\n",
       " 'WMB-10Xv2-Isocortex-2/raw',\n",
       " 'WMB-10Xv2-Isocortex-3/log2',\n",
       " 'WMB-10Xv2-Isocortex-3/raw',\n",
       " 'WMB-10Xv2-Isocortex-4/log2',\n",
       " 'WMB-10Xv2-Isocortex-4/raw',\n",
       " 'WMB-10Xv2-MB/log2',\n",
       " 'WMB-10Xv2-MB/raw',\n",
       " 'WMB-10Xv2-OLF/log2',\n",
       " 'WMB-10Xv2-OLF/raw',\n",
       " 'WMB-10Xv2-TH/log2',\n",
       " 'WMB-10Xv2-TH/raw']"
      ]
     },
     "execution_count": 9,
     "metadata": {},
     "output_type": "execute_result"
    }
   ],
   "source": [
    "abc_cache.list_data_files('WMB-10Xv2')"
   ]
  },
  {
   "cell_type": "code",
   "execution_count": 10,
   "id": "0f62b840-5ea2-470c-a8e1-7c2cb237d04f",
   "metadata": {},
   "outputs": [
    {
     "data": {
      "text/plain": [
       "['WMB-10Xv3-CB/log2',\n",
       " 'WMB-10Xv3-CB/raw',\n",
       " 'WMB-10Xv3-CTXsp/log2',\n",
       " 'WMB-10Xv3-CTXsp/raw',\n",
       " 'WMB-10Xv3-HPF/log2',\n",
       " 'WMB-10Xv3-HPF/raw',\n",
       " 'WMB-10Xv3-HY/log2',\n",
       " 'WMB-10Xv3-HY/raw',\n",
       " 'WMB-10Xv3-Isocortex-1/log2',\n",
       " 'WMB-10Xv3-Isocortex-1/raw',\n",
       " 'WMB-10Xv3-Isocortex-2/log2',\n",
       " 'WMB-10Xv3-Isocortex-2/raw',\n",
       " 'WMB-10Xv3-MB/log2',\n",
       " 'WMB-10Xv3-MB/raw',\n",
       " 'WMB-10Xv3-MY/log2',\n",
       " 'WMB-10Xv3-MY/raw',\n",
       " 'WMB-10Xv3-OLF/log2',\n",
       " 'WMB-10Xv3-OLF/raw',\n",
       " 'WMB-10Xv3-P/log2',\n",
       " 'WMB-10Xv3-P/raw',\n",
       " 'WMB-10Xv3-PAL/log2',\n",
       " 'WMB-10Xv3-PAL/raw',\n",
       " 'WMB-10Xv3-STR/log2',\n",
       " 'WMB-10Xv3-STR/raw',\n",
       " 'WMB-10Xv3-TH/log2',\n",
       " 'WMB-10Xv3-TH/raw']"
      ]
     },
     "execution_count": 10,
     "metadata": {},
     "output_type": "execute_result"
    }
   ],
   "source": [
    "abc_cache.list_data_files('WMB-10Xv3')"
   ]
  },
  {
   "cell_type": "code",
   "execution_count": 11,
   "id": "62e5ae63-e383-4c80-9da8-724be5c27f5e",
   "metadata": {},
   "outputs": [],
   "source": [
    "# get all log gene expression matrices\n",
    "def get_matrices(dir_name):\n",
    "    return [matrix for matrix in abc_cache.list_data_files(dir_name) if (matrix.endswith('Isocortex-1/log2') or matrix.endswith('Isocortex-2/log2') or matrix.endswith('STR/log2'))]\n",
    "\n",
    "# all_matrices = sorted(get_matrices('WMB-10XMulti') + get_matrices('WMB-10Xv2') + get_matrices('WMB-10Xv3'))\n",
    "all_matrices = sorted(get_matrices('WMB-10Xv3'))"
   ]
  },
  {
   "cell_type": "code",
   "execution_count": 12,
   "id": "229accf0-64d7-45ce-8010-4de2f3e37028",
   "metadata": {},
   "outputs": [
    {
     "data": {
      "text/plain": [
       "['WMB-10Xv3-Isocortex-1/log2',\n",
       " 'WMB-10Xv3-Isocortex-2/log2',\n",
       " 'WMB-10Xv3-STR/log2']"
      ]
     },
     "execution_count": 12,
     "metadata": {},
     "output_type": "execute_result"
    }
   ],
   "source": [
    "all_matrices"
   ]
  },
  {
   "cell_type": "code",
   "execution_count": 13,
   "id": "57e75431-f8bd-40f8-9cc8-3b81ede829e3",
   "metadata": {},
   "outputs": [
    {
     "name": "stderr",
     "output_type": "stream",
     "text": [
      "WMB-10Xv3-Isocortex-1-log2.h5ad: 100%|██████████| 11.8G/11.8G [10:21<00:00, 18.9MMB/s]    \n",
      "WMB-10Xv3-Isocortex-2-log2.h5ad: 100%|██████████| 8.36G/8.36G [06:20<00:00, 22.0MMB/s]    \n",
      "WMB-10Xv3-STR-log2.h5ad: 100%|██████████| 11.9G/11.9G [09:13<00:00, 21.5MMB/s]    \n"
     ]
    }
   ],
   "source": [
    "all_adata = []\n",
    "for matrix in all_matrices:\n",
    "    directory = 'WMB-10Xv3'\n",
    "    # directory = \"WMB-10XMulti\"\n",
    "    # if ('10Xv3' in matrix): directory = 'WMB-10Xv3'\n",
    "    # if ('10Xv2' in matrix): directory = 'WMB-10Xv2'\n",
    "    file = abc_cache.get_data_path(directory=directory, file_name=matrix)\n",
    "    temp_adata = anndata.read_h5ad(file)\n",
    "    all_adata.append(temp_adata)"
   ]
  },
  {
   "cell_type": "code",
   "execution_count": 14,
   "id": "a60af722-0f93-45f5-a14b-f96fd698086c",
   "metadata": {},
   "outputs": [
    {
     "data": {
      "text/plain": [
       "3"
      ]
     },
     "execution_count": 14,
     "metadata": {},
     "output_type": "execute_result"
    }
   ],
   "source": [
    "len(all_adata)"
   ]
  },
  {
   "cell_type": "code",
   "execution_count": 15,
   "id": "702f7c9d-f1f6-4eb9-aced-079f79830666",
   "metadata": {},
   "outputs": [
    {
     "name": "stdout",
     "output_type": "stream",
     "text": [
      "done\n"
     ]
    }
   ],
   "source": [
    "adata = anndata.concat(all_adata, axis=0, join='outer')\n",
    "print(\"done\")"
   ]
  },
  {
   "cell_type": "code",
   "execution_count": 17,
   "id": "712c26ca-43ef-4d52-8c37-cefd3cdfabcb",
   "metadata": {},
   "outputs": [
    {
     "data": {
      "text/plain": [
       "AnnData object with n_obs × n_vars = 741624 × 32285\n",
       "    obs: 'cell_barcode', 'library_label', 'anatomical_division_label'"
      ]
     },
     "execution_count": 17,
     "metadata": {},
     "output_type": "execute_result"
    }
   ],
   "source": [
    "adata"
   ]
  },
  {
   "cell_type": "code",
   "execution_count": 18,
   "id": "6acb51e2-5c43-464e-a90f-236b5c725e1c",
   "metadata": {},
   "outputs": [],
   "source": [
    "adata.write(\"/gpfs/scratch/blukacsy/abc_atlas/data/adata.h5ad\")"
   ]
  },
  {
   "cell_type": "code",
   "execution_count": 19,
   "id": "2c8db763-0746-453b-ad67-fdc7c8d5673f",
   "metadata": {},
   "outputs": [],
   "source": [
    "adata = anndata.read_h5ad(\"/gpfs/scratch/blukacsy/abc_atlas/data/adata.h5ad\")"
   ]
  },
  {
   "cell_type": "code",
   "execution_count": 20,
   "id": "5e76e416-b544-46b4-84eb-2d0d024041d6",
   "metadata": {},
   "outputs": [
    {
     "data": {
      "text/plain": [
       "AnnData object with n_obs × n_vars = 741624 × 32285\n",
       "    obs: 'cell_barcode', 'library_label', 'anatomical_division_label'"
      ]
     },
     "execution_count": 20,
     "metadata": {},
     "output_type": "execute_result"
    }
   ],
   "source": [
    "adata"
   ]
  },
  {
   "cell_type": "code",
   "execution_count": 21,
   "id": "42e047e1-4b24-4897-8396-924d08391eff",
   "metadata": {},
   "outputs": [
    {
     "name": "stdout",
     "output_type": "stream",
     "text": [
      "Total cells: 4042976\n"
     ]
    },
    {
     "name": "stderr",
     "output_type": "stream",
     "text": [
      "cluster_to_cluster_annotation_membership_pivoted.csv: 100%|██████████| 531k/531k [00:00<00:00, 1.12MMB/s] \n"
     ]
    }
   ],
   "source": [
    "cell = abc_cache.get_metadata_dataframe(\n",
    "    directory='WMB-10X',\n",
    "    file_name='cell_metadata',\n",
    "    dtype={'cell_label': str}\n",
    ")\n",
    "cell.set_index('cell_label', inplace=True)\n",
    "print(f\"Total cells: {len(cell)}\")\n",
    "\n",
    "cluster_details = abc_cache.get_metadata_dataframe(\n",
    "    directory='WMB-taxonomy',\n",
    "    file_name='cluster_to_cluster_annotation_membership_pivoted',\n",
    "    keep_default_na=False\n",
    ")\n",
    "cluster_details.set_index('cluster_alias', inplace=True)"
   ]
  },
  {
   "cell_type": "code",
   "execution_count": 22,
   "id": "4d75d685-95be-4f7b-9d6e-03b14432e2b5",
   "metadata": {},
   "outputs": [
    {
     "data": {
      "text/html": [
       "<div>\n",
       "<style scoped>\n",
       "    .dataframe tbody tr th:only-of-type {\n",
       "        vertical-align: middle;\n",
       "    }\n",
       "\n",
       "    .dataframe tbody tr th {\n",
       "        vertical-align: top;\n",
       "    }\n",
       "\n",
       "    .dataframe thead th {\n",
       "        text-align: right;\n",
       "    }\n",
       "</style>\n",
       "<table border=\"1\" class=\"dataframe\">\n",
       "  <thead>\n",
       "    <tr style=\"text-align: right;\">\n",
       "      <th></th>\n",
       "      <th>cell_barcode</th>\n",
       "      <th>barcoded_cell_sample_label</th>\n",
       "      <th>library_label</th>\n",
       "      <th>feature_matrix_label</th>\n",
       "      <th>entity</th>\n",
       "      <th>brain_section_label</th>\n",
       "      <th>library_method</th>\n",
       "      <th>region_of_interest_acronym</th>\n",
       "      <th>donor_label</th>\n",
       "      <th>donor_genotype</th>\n",
       "      <th>donor_sex</th>\n",
       "      <th>dataset_label</th>\n",
       "      <th>x</th>\n",
       "      <th>y</th>\n",
       "      <th>cluster_alias</th>\n",
       "      <th>abc_sample_id</th>\n",
       "    </tr>\n",
       "    <tr>\n",
       "      <th>cell_label</th>\n",
       "      <th></th>\n",
       "      <th></th>\n",
       "      <th></th>\n",
       "      <th></th>\n",
       "      <th></th>\n",
       "      <th></th>\n",
       "      <th></th>\n",
       "      <th></th>\n",
       "      <th></th>\n",
       "      <th></th>\n",
       "      <th></th>\n",
       "      <th></th>\n",
       "      <th></th>\n",
       "      <th></th>\n",
       "      <th></th>\n",
       "      <th></th>\n",
       "    </tr>\n",
       "  </thead>\n",
       "  <tbody>\n",
       "    <tr>\n",
       "      <th>GCGAGAAGTTAAGGGC-410_B05</th>\n",
       "      <td>GCGAGAAGTTAAGGGC</td>\n",
       "      <td>410_B05</td>\n",
       "      <td>L8TX_201030_01_C12</td>\n",
       "      <td>WMB-10Xv3-HPF</td>\n",
       "      <td>cell</td>\n",
       "      <td>NaN</td>\n",
       "      <td>10Xv3</td>\n",
       "      <td>RHP</td>\n",
       "      <td>Snap25-IRES2-Cre;Ai14-550850</td>\n",
       "      <td>Ai14(RCL-tdT)/wt</td>\n",
       "      <td>F</td>\n",
       "      <td>WMB-10Xv3</td>\n",
       "      <td>23.146826</td>\n",
       "      <td>-3.086639</td>\n",
       "      <td>1</td>\n",
       "      <td>484be5df-5d44-4bfe-9652-7b5bc739c211</td>\n",
       "    </tr>\n",
       "    <tr>\n",
       "      <th>AATGGCTCAGCTCCTT-411_B06</th>\n",
       "      <td>AATGGCTCAGCTCCTT</td>\n",
       "      <td>411_B06</td>\n",
       "      <td>L8TX_201029_01_E10</td>\n",
       "      <td>WMB-10Xv3-HPF</td>\n",
       "      <td>cell</td>\n",
       "      <td>NaN</td>\n",
       "      <td>10Xv3</td>\n",
       "      <td>RHP</td>\n",
       "      <td>Snap25-IRES2-Cre;Ai14-550851</td>\n",
       "      <td>Ai14(RCL-tdT)/wt</td>\n",
       "      <td>F</td>\n",
       "      <td>WMB-10Xv3</td>\n",
       "      <td>23.138481</td>\n",
       "      <td>-3.022000</td>\n",
       "      <td>1</td>\n",
       "      <td>5638505d-e1e8-457f-9e5b-59e3e2302417</td>\n",
       "    </tr>\n",
       "    <tr>\n",
       "      <th>AACACACGTTGCTTGA-410_B05</th>\n",
       "      <td>AACACACGTTGCTTGA</td>\n",
       "      <td>410_B05</td>\n",
       "      <td>L8TX_201030_01_C12</td>\n",
       "      <td>WMB-10Xv3-HPF</td>\n",
       "      <td>cell</td>\n",
       "      <td>NaN</td>\n",
       "      <td>10Xv3</td>\n",
       "      <td>RHP</td>\n",
       "      <td>Snap25-IRES2-Cre;Ai14-550850</td>\n",
       "      <td>Ai14(RCL-tdT)/wt</td>\n",
       "      <td>F</td>\n",
       "      <td>WMB-10Xv3</td>\n",
       "      <td>23.472557</td>\n",
       "      <td>-2.992709</td>\n",
       "      <td>1</td>\n",
       "      <td>a0544e29-194f-4d34-9af4-13e7377b648f</td>\n",
       "    </tr>\n",
       "    <tr>\n",
       "      <th>CACAGATAGAGGCGGA-410_A05</th>\n",
       "      <td>CACAGATAGAGGCGGA</td>\n",
       "      <td>410_A05</td>\n",
       "      <td>L8TX_201029_01_A10</td>\n",
       "      <td>WMB-10Xv3-HPF</td>\n",
       "      <td>cell</td>\n",
       "      <td>NaN</td>\n",
       "      <td>10Xv3</td>\n",
       "      <td>RHP</td>\n",
       "      <td>Snap25-IRES2-Cre;Ai14-550850</td>\n",
       "      <td>Ai14(RCL-tdT)/wt</td>\n",
       "      <td>F</td>\n",
       "      <td>WMB-10Xv3</td>\n",
       "      <td>23.379622</td>\n",
       "      <td>-3.043442</td>\n",
       "      <td>1</td>\n",
       "      <td>c777ac0b-77e1-4d76-bf8e-2b3d9e08b253</td>\n",
       "    </tr>\n",
       "    <tr>\n",
       "      <th>AAAGTGAAGCATTTCG-410_B05</th>\n",
       "      <td>AAAGTGAAGCATTTCG</td>\n",
       "      <td>410_B05</td>\n",
       "      <td>L8TX_201030_01_C12</td>\n",
       "      <td>WMB-10Xv3-HPF</td>\n",
       "      <td>cell</td>\n",
       "      <td>NaN</td>\n",
       "      <td>10Xv3</td>\n",
       "      <td>RHP</td>\n",
       "      <td>Snap25-IRES2-Cre;Ai14-550850</td>\n",
       "      <td>Ai14(RCL-tdT)/wt</td>\n",
       "      <td>F</td>\n",
       "      <td>WMB-10Xv3</td>\n",
       "      <td>23.909480</td>\n",
       "      <td>-2.601536</td>\n",
       "      <td>1</td>\n",
       "      <td>49860925-e82b-46df-a228-fd2f97e75d39</td>\n",
       "    </tr>\n",
       "    <tr>\n",
       "      <th>...</th>\n",
       "      <td>...</td>\n",
       "      <td>...</td>\n",
       "      <td>...</td>\n",
       "      <td>...</td>\n",
       "      <td>...</td>\n",
       "      <td>...</td>\n",
       "      <td>...</td>\n",
       "      <td>...</td>\n",
       "      <td>...</td>\n",
       "      <td>...</td>\n",
       "      <td>...</td>\n",
       "      <td>...</td>\n",
       "      <td>...</td>\n",
       "      <td>...</td>\n",
       "      <td>...</td>\n",
       "      <td>...</td>\n",
       "    </tr>\n",
       "    <tr>\n",
       "      <th>GTGTGAGCAAACGCGA-1350_C05</th>\n",
       "      <td>GTGTGAGCAAACGCGA</td>\n",
       "      <td>1350_C05</td>\n",
       "      <td>L8XR_220728_01_A05</td>\n",
       "      <td>WMB-10XMulti</td>\n",
       "      <td>cell</td>\n",
       "      <td>NaN</td>\n",
       "      <td>10xRSeq_Mult</td>\n",
       "      <td>MB</td>\n",
       "      <td>C57BL6J-641405</td>\n",
       "      <td>wt/wt</td>\n",
       "      <td>M</td>\n",
       "      <td>WMB-10XMulti</td>\n",
       "      <td>-7.716915</td>\n",
       "      <td>0.223654</td>\n",
       "      <td>8861</td>\n",
       "      <td>ba1d0e38-bea7-4d4f-bfcd-49121938e743</td>\n",
       "    </tr>\n",
       "    <tr>\n",
       "      <th>TTAGCAATCCCTGTTA-1350_C05</th>\n",
       "      <td>TTAGCAATCCCTGTTA</td>\n",
       "      <td>1350_C05</td>\n",
       "      <td>L8XR_220728_01_A05</td>\n",
       "      <td>WMB-10XMulti</td>\n",
       "      <td>cell</td>\n",
       "      <td>NaN</td>\n",
       "      <td>10xRSeq_Mult</td>\n",
       "      <td>MB</td>\n",
       "      <td>C57BL6J-641405</td>\n",
       "      <td>wt/wt</td>\n",
       "      <td>M</td>\n",
       "      <td>WMB-10XMulti</td>\n",
       "      <td>-3.115098</td>\n",
       "      <td>-3.024478</td>\n",
       "      <td>8215</td>\n",
       "      <td>342bd0bb-cbe5-479b-9c70-fef59a730255</td>\n",
       "    </tr>\n",
       "    <tr>\n",
       "      <th>TTTGGCTGTCGCGCAA-1350_C05</th>\n",
       "      <td>TTTGGCTGTCGCGCAA</td>\n",
       "      <td>1350_C05</td>\n",
       "      <td>L8XR_220728_01_A05</td>\n",
       "      <td>WMB-10XMulti</td>\n",
       "      <td>cell</td>\n",
       "      <td>NaN</td>\n",
       "      <td>10xRSeq_Mult</td>\n",
       "      <td>MB</td>\n",
       "      <td>C57BL6J-641405</td>\n",
       "      <td>wt/wt</td>\n",
       "      <td>M</td>\n",
       "      <td>WMB-10XMulti</td>\n",
       "      <td>-7.950964</td>\n",
       "      <td>0.409335</td>\n",
       "      <td>8798</td>\n",
       "      <td>4634de09-d8e0-4e40-a49b-eba311de08b5</td>\n",
       "    </tr>\n",
       "    <tr>\n",
       "      <th>ATCCACCTCACAGACT-1320_B04</th>\n",
       "      <td>ATCCACCTCACAGACT</td>\n",
       "      <td>1320_B04</td>\n",
       "      <td>L8XR_220630_02_B10</td>\n",
       "      <td>WMB-10XMulti</td>\n",
       "      <td>cell</td>\n",
       "      <td>NaN</td>\n",
       "      <td>10xRSeq_Mult</td>\n",
       "      <td>OLF</td>\n",
       "      <td>C57BL6J-625156</td>\n",
       "      <td>wt/wt</td>\n",
       "      <td>F</td>\n",
       "      <td>WMB-10XMulti</td>\n",
       "      <td>4.579441</td>\n",
       "      <td>12.135833</td>\n",
       "      <td>8798</td>\n",
       "      <td>5b3061de-1cb8-47b6-9368-52824e1031ce</td>\n",
       "    </tr>\n",
       "    <tr>\n",
       "      <th>TCGTTAGCATTGTCCT-1320_B04</th>\n",
       "      <td>TCGTTAGCATTGTCCT</td>\n",
       "      <td>1320_B04</td>\n",
       "      <td>L8XR_220630_02_B10</td>\n",
       "      <td>WMB-10XMulti</td>\n",
       "      <td>cell</td>\n",
       "      <td>NaN</td>\n",
       "      <td>10xRSeq_Mult</td>\n",
       "      <td>OLF</td>\n",
       "      <td>C57BL6J-625156</td>\n",
       "      <td>wt/wt</td>\n",
       "      <td>F</td>\n",
       "      <td>WMB-10XMulti</td>\n",
       "      <td>4.643559</td>\n",
       "      <td>12.206171</td>\n",
       "      <td>8798</td>\n",
       "      <td>88332ec5-20b7-483f-a4e5-7a89100c84b4</td>\n",
       "    </tr>\n",
       "  </tbody>\n",
       "</table>\n",
       "<p>4042976 rows × 16 columns</p>\n",
       "</div>"
      ],
      "text/plain": [
       "                               cell_barcode barcoded_cell_sample_label  \\\n",
       "cell_label                                                               \n",
       "GCGAGAAGTTAAGGGC-410_B05   GCGAGAAGTTAAGGGC                    410_B05   \n",
       "AATGGCTCAGCTCCTT-411_B06   AATGGCTCAGCTCCTT                    411_B06   \n",
       "AACACACGTTGCTTGA-410_B05   AACACACGTTGCTTGA                    410_B05   \n",
       "CACAGATAGAGGCGGA-410_A05   CACAGATAGAGGCGGA                    410_A05   \n",
       "AAAGTGAAGCATTTCG-410_B05   AAAGTGAAGCATTTCG                    410_B05   \n",
       "...                                     ...                        ...   \n",
       "GTGTGAGCAAACGCGA-1350_C05  GTGTGAGCAAACGCGA                   1350_C05   \n",
       "TTAGCAATCCCTGTTA-1350_C05  TTAGCAATCCCTGTTA                   1350_C05   \n",
       "TTTGGCTGTCGCGCAA-1350_C05  TTTGGCTGTCGCGCAA                   1350_C05   \n",
       "ATCCACCTCACAGACT-1320_B04  ATCCACCTCACAGACT                   1320_B04   \n",
       "TCGTTAGCATTGTCCT-1320_B04  TCGTTAGCATTGTCCT                   1320_B04   \n",
       "\n",
       "                                library_label feature_matrix_label entity  \\\n",
       "cell_label                                                                  \n",
       "GCGAGAAGTTAAGGGC-410_B05   L8TX_201030_01_C12        WMB-10Xv3-HPF   cell   \n",
       "AATGGCTCAGCTCCTT-411_B06   L8TX_201029_01_E10        WMB-10Xv3-HPF   cell   \n",
       "AACACACGTTGCTTGA-410_B05   L8TX_201030_01_C12        WMB-10Xv3-HPF   cell   \n",
       "CACAGATAGAGGCGGA-410_A05   L8TX_201029_01_A10        WMB-10Xv3-HPF   cell   \n",
       "AAAGTGAAGCATTTCG-410_B05   L8TX_201030_01_C12        WMB-10Xv3-HPF   cell   \n",
       "...                                       ...                  ...    ...   \n",
       "GTGTGAGCAAACGCGA-1350_C05  L8XR_220728_01_A05         WMB-10XMulti   cell   \n",
       "TTAGCAATCCCTGTTA-1350_C05  L8XR_220728_01_A05         WMB-10XMulti   cell   \n",
       "TTTGGCTGTCGCGCAA-1350_C05  L8XR_220728_01_A05         WMB-10XMulti   cell   \n",
       "ATCCACCTCACAGACT-1320_B04  L8XR_220630_02_B10         WMB-10XMulti   cell   \n",
       "TCGTTAGCATTGTCCT-1320_B04  L8XR_220630_02_B10         WMB-10XMulti   cell   \n",
       "\n",
       "                           brain_section_label library_method  \\\n",
       "cell_label                                                      \n",
       "GCGAGAAGTTAAGGGC-410_B05                   NaN          10Xv3   \n",
       "AATGGCTCAGCTCCTT-411_B06                   NaN          10Xv3   \n",
       "AACACACGTTGCTTGA-410_B05                   NaN          10Xv3   \n",
       "CACAGATAGAGGCGGA-410_A05                   NaN          10Xv3   \n",
       "AAAGTGAAGCATTTCG-410_B05                   NaN          10Xv3   \n",
       "...                                        ...            ...   \n",
       "GTGTGAGCAAACGCGA-1350_C05                  NaN   10xRSeq_Mult   \n",
       "TTAGCAATCCCTGTTA-1350_C05                  NaN   10xRSeq_Mult   \n",
       "TTTGGCTGTCGCGCAA-1350_C05                  NaN   10xRSeq_Mult   \n",
       "ATCCACCTCACAGACT-1320_B04                  NaN   10xRSeq_Mult   \n",
       "TCGTTAGCATTGTCCT-1320_B04                  NaN   10xRSeq_Mult   \n",
       "\n",
       "                          region_of_interest_acronym  \\\n",
       "cell_label                                             \n",
       "GCGAGAAGTTAAGGGC-410_B05                         RHP   \n",
       "AATGGCTCAGCTCCTT-411_B06                         RHP   \n",
       "AACACACGTTGCTTGA-410_B05                         RHP   \n",
       "CACAGATAGAGGCGGA-410_A05                         RHP   \n",
       "AAAGTGAAGCATTTCG-410_B05                         RHP   \n",
       "...                                              ...   \n",
       "GTGTGAGCAAACGCGA-1350_C05                         MB   \n",
       "TTAGCAATCCCTGTTA-1350_C05                         MB   \n",
       "TTTGGCTGTCGCGCAA-1350_C05                         MB   \n",
       "ATCCACCTCACAGACT-1320_B04                        OLF   \n",
       "TCGTTAGCATTGTCCT-1320_B04                        OLF   \n",
       "\n",
       "                                            donor_label    donor_genotype  \\\n",
       "cell_label                                                                  \n",
       "GCGAGAAGTTAAGGGC-410_B05   Snap25-IRES2-Cre;Ai14-550850  Ai14(RCL-tdT)/wt   \n",
       "AATGGCTCAGCTCCTT-411_B06   Snap25-IRES2-Cre;Ai14-550851  Ai14(RCL-tdT)/wt   \n",
       "AACACACGTTGCTTGA-410_B05   Snap25-IRES2-Cre;Ai14-550850  Ai14(RCL-tdT)/wt   \n",
       "CACAGATAGAGGCGGA-410_A05   Snap25-IRES2-Cre;Ai14-550850  Ai14(RCL-tdT)/wt   \n",
       "AAAGTGAAGCATTTCG-410_B05   Snap25-IRES2-Cre;Ai14-550850  Ai14(RCL-tdT)/wt   \n",
       "...                                                 ...               ...   \n",
       "GTGTGAGCAAACGCGA-1350_C05                C57BL6J-641405             wt/wt   \n",
       "TTAGCAATCCCTGTTA-1350_C05                C57BL6J-641405             wt/wt   \n",
       "TTTGGCTGTCGCGCAA-1350_C05                C57BL6J-641405             wt/wt   \n",
       "ATCCACCTCACAGACT-1320_B04                C57BL6J-625156             wt/wt   \n",
       "TCGTTAGCATTGTCCT-1320_B04                C57BL6J-625156             wt/wt   \n",
       "\n",
       "                          donor_sex dataset_label          x          y  \\\n",
       "cell_label                                                                \n",
       "GCGAGAAGTTAAGGGC-410_B05          F     WMB-10Xv3  23.146826  -3.086639   \n",
       "AATGGCTCAGCTCCTT-411_B06          F     WMB-10Xv3  23.138481  -3.022000   \n",
       "AACACACGTTGCTTGA-410_B05          F     WMB-10Xv3  23.472557  -2.992709   \n",
       "CACAGATAGAGGCGGA-410_A05          F     WMB-10Xv3  23.379622  -3.043442   \n",
       "AAAGTGAAGCATTTCG-410_B05          F     WMB-10Xv3  23.909480  -2.601536   \n",
       "...                             ...           ...        ...        ...   \n",
       "GTGTGAGCAAACGCGA-1350_C05         M  WMB-10XMulti  -7.716915   0.223654   \n",
       "TTAGCAATCCCTGTTA-1350_C05         M  WMB-10XMulti  -3.115098  -3.024478   \n",
       "TTTGGCTGTCGCGCAA-1350_C05         M  WMB-10XMulti  -7.950964   0.409335   \n",
       "ATCCACCTCACAGACT-1320_B04         F  WMB-10XMulti   4.579441  12.135833   \n",
       "TCGTTAGCATTGTCCT-1320_B04         F  WMB-10XMulti   4.643559  12.206171   \n",
       "\n",
       "                           cluster_alias                         abc_sample_id  \n",
       "cell_label                                                                      \n",
       "GCGAGAAGTTAAGGGC-410_B05               1  484be5df-5d44-4bfe-9652-7b5bc739c211  \n",
       "AATGGCTCAGCTCCTT-411_B06               1  5638505d-e1e8-457f-9e5b-59e3e2302417  \n",
       "AACACACGTTGCTTGA-410_B05               1  a0544e29-194f-4d34-9af4-13e7377b648f  \n",
       "CACAGATAGAGGCGGA-410_A05               1  c777ac0b-77e1-4d76-bf8e-2b3d9e08b253  \n",
       "AAAGTGAAGCATTTCG-410_B05               1  49860925-e82b-46df-a228-fd2f97e75d39  \n",
       "...                                  ...                                   ...  \n",
       "GTGTGAGCAAACGCGA-1350_C05           8861  ba1d0e38-bea7-4d4f-bfcd-49121938e743  \n",
       "TTAGCAATCCCTGTTA-1350_C05           8215  342bd0bb-cbe5-479b-9c70-fef59a730255  \n",
       "TTTGGCTGTCGCGCAA-1350_C05           8798  4634de09-d8e0-4e40-a49b-eba311de08b5  \n",
       "ATCCACCTCACAGACT-1320_B04           8798  5b3061de-1cb8-47b6-9368-52824e1031ce  \n",
       "TCGTTAGCATTGTCCT-1320_B04           8798  88332ec5-20b7-483f-a4e5-7a89100c84b4  \n",
       "\n",
       "[4042976 rows x 16 columns]"
      ]
     },
     "execution_count": 22,
     "metadata": {},
     "output_type": "execute_result"
    }
   ],
   "source": [
    "cell"
   ]
  },
  {
   "cell_type": "code",
   "execution_count": 23,
   "id": "ed2425b9-7f94-401f-8c11-a1d22004cad8",
   "metadata": {},
   "outputs": [
    {
     "data": {
      "text/html": [
       "<div>\n",
       "<style scoped>\n",
       "    .dataframe tbody tr th:only-of-type {\n",
       "        vertical-align: middle;\n",
       "    }\n",
       "\n",
       "    .dataframe tbody tr th {\n",
       "        vertical-align: top;\n",
       "    }\n",
       "\n",
       "    .dataframe thead th {\n",
       "        text-align: right;\n",
       "    }\n",
       "</style>\n",
       "<table border=\"1\" class=\"dataframe\">\n",
       "  <thead>\n",
       "    <tr style=\"text-align: right;\">\n",
       "      <th></th>\n",
       "      <th>neurotransmitter</th>\n",
       "      <th>class</th>\n",
       "      <th>subclass</th>\n",
       "      <th>supertype</th>\n",
       "      <th>cluster</th>\n",
       "    </tr>\n",
       "    <tr>\n",
       "      <th>cluster_alias</th>\n",
       "      <th></th>\n",
       "      <th></th>\n",
       "      <th></th>\n",
       "      <th></th>\n",
       "      <th></th>\n",
       "    </tr>\n",
       "  </thead>\n",
       "  <tbody>\n",
       "    <tr>\n",
       "      <th>1</th>\n",
       "      <td>Glut</td>\n",
       "      <td>01 IT-ET Glut</td>\n",
       "      <td>018 L2 IT PPP-APr Glut</td>\n",
       "      <td>0082 L2 IT PPP-APr Glut_3</td>\n",
       "      <td>0326 L2 IT PPP-APr Glut_3</td>\n",
       "    </tr>\n",
       "    <tr>\n",
       "      <th>2</th>\n",
       "      <td>Glut</td>\n",
       "      <td>01 IT-ET Glut</td>\n",
       "      <td>018 L2 IT PPP-APr Glut</td>\n",
       "      <td>0082 L2 IT PPP-APr Glut_3</td>\n",
       "      <td>0327 L2 IT PPP-APr Glut_3</td>\n",
       "    </tr>\n",
       "    <tr>\n",
       "      <th>3</th>\n",
       "      <td>Glut</td>\n",
       "      <td>01 IT-ET Glut</td>\n",
       "      <td>018 L2 IT PPP-APr Glut</td>\n",
       "      <td>0081 L2 IT PPP-APr Glut_2</td>\n",
       "      <td>0322 L2 IT PPP-APr Glut_2</td>\n",
       "    </tr>\n",
       "    <tr>\n",
       "      <th>4</th>\n",
       "      <td>Glut</td>\n",
       "      <td>01 IT-ET Glut</td>\n",
       "      <td>018 L2 IT PPP-APr Glut</td>\n",
       "      <td>0081 L2 IT PPP-APr Glut_2</td>\n",
       "      <td>0323 L2 IT PPP-APr Glut_2</td>\n",
       "    </tr>\n",
       "    <tr>\n",
       "      <th>5</th>\n",
       "      <td>Glut</td>\n",
       "      <td>01 IT-ET Glut</td>\n",
       "      <td>018 L2 IT PPP-APr Glut</td>\n",
       "      <td>0081 L2 IT PPP-APr Glut_2</td>\n",
       "      <td>0325 L2 IT PPP-APr Glut_2</td>\n",
       "    </tr>\n",
       "    <tr>\n",
       "      <th>...</th>\n",
       "      <td>...</td>\n",
       "      <td>...</td>\n",
       "      <td>...</td>\n",
       "      <td>...</td>\n",
       "      <td>...</td>\n",
       "    </tr>\n",
       "    <tr>\n",
       "      <th>34368</th>\n",
       "      <td>GABA-Glyc</td>\n",
       "      <td>27 MY GABA</td>\n",
       "      <td>288 MDRN Hoxb5 Ebf2 Gly-Gaba</td>\n",
       "      <td>1102 MDRN Hoxb5 Ebf2 Gly-Gaba_1</td>\n",
       "      <td>4955 MDRN Hoxb5 Ebf2 Gly-Gaba_1</td>\n",
       "    </tr>\n",
       "    <tr>\n",
       "      <th>34372</th>\n",
       "      <td>GABA-Glyc</td>\n",
       "      <td>27 MY GABA</td>\n",
       "      <td>285 MY Lhx1 Gly-Gaba</td>\n",
       "      <td>1091 MY Lhx1 Gly-Gaba_3</td>\n",
       "      <td>4901 MY Lhx1 Gly-Gaba_3</td>\n",
       "    </tr>\n",
       "    <tr>\n",
       "      <th>34374</th>\n",
       "      <td>GABA-Glyc</td>\n",
       "      <td>27 MY GABA</td>\n",
       "      <td>285 MY Lhx1 Gly-Gaba</td>\n",
       "      <td>1091 MY Lhx1 Gly-Gaba_3</td>\n",
       "      <td>4902 MY Lhx1 Gly-Gaba_3</td>\n",
       "    </tr>\n",
       "    <tr>\n",
       "      <th>34376</th>\n",
       "      <td>GABA-Glyc</td>\n",
       "      <td>27 MY GABA</td>\n",
       "      <td>285 MY Lhx1 Gly-Gaba</td>\n",
       "      <td>1091 MY Lhx1 Gly-Gaba_3</td>\n",
       "      <td>4903 MY Lhx1 Gly-Gaba_3</td>\n",
       "    </tr>\n",
       "    <tr>\n",
       "      <th>34380</th>\n",
       "      <td>GABA-Glyc</td>\n",
       "      <td>27 MY GABA</td>\n",
       "      <td>285 MY Lhx1 Gly-Gaba</td>\n",
       "      <td>1095 MY Lhx1 Gly-Gaba_7</td>\n",
       "      <td>4924 MY Lhx1 Gly-Gaba_7</td>\n",
       "    </tr>\n",
       "  </tbody>\n",
       "</table>\n",
       "<p>5322 rows × 5 columns</p>\n",
       "</div>"
      ],
      "text/plain": [
       "              neurotransmitter          class                      subclass  \\\n",
       "cluster_alias                                                                 \n",
       "1                         Glut  01 IT-ET Glut        018 L2 IT PPP-APr Glut   \n",
       "2                         Glut  01 IT-ET Glut        018 L2 IT PPP-APr Glut   \n",
       "3                         Glut  01 IT-ET Glut        018 L2 IT PPP-APr Glut   \n",
       "4                         Glut  01 IT-ET Glut        018 L2 IT PPP-APr Glut   \n",
       "5                         Glut  01 IT-ET Glut        018 L2 IT PPP-APr Glut   \n",
       "...                        ...            ...                           ...   \n",
       "34368                GABA-Glyc     27 MY GABA  288 MDRN Hoxb5 Ebf2 Gly-Gaba   \n",
       "34372                GABA-Glyc     27 MY GABA          285 MY Lhx1 Gly-Gaba   \n",
       "34374                GABA-Glyc     27 MY GABA          285 MY Lhx1 Gly-Gaba   \n",
       "34376                GABA-Glyc     27 MY GABA          285 MY Lhx1 Gly-Gaba   \n",
       "34380                GABA-Glyc     27 MY GABA          285 MY Lhx1 Gly-Gaba   \n",
       "\n",
       "                                     supertype  \\\n",
       "cluster_alias                                    \n",
       "1                    0082 L2 IT PPP-APr Glut_3   \n",
       "2                    0082 L2 IT PPP-APr Glut_3   \n",
       "3                    0081 L2 IT PPP-APr Glut_2   \n",
       "4                    0081 L2 IT PPP-APr Glut_2   \n",
       "5                    0081 L2 IT PPP-APr Glut_2   \n",
       "...                                        ...   \n",
       "34368          1102 MDRN Hoxb5 Ebf2 Gly-Gaba_1   \n",
       "34372                  1091 MY Lhx1 Gly-Gaba_3   \n",
       "34374                  1091 MY Lhx1 Gly-Gaba_3   \n",
       "34376                  1091 MY Lhx1 Gly-Gaba_3   \n",
       "34380                  1095 MY Lhx1 Gly-Gaba_7   \n",
       "\n",
       "                                       cluster  \n",
       "cluster_alias                                   \n",
       "1                    0326 L2 IT PPP-APr Glut_3  \n",
       "2                    0327 L2 IT PPP-APr Glut_3  \n",
       "3                    0322 L2 IT PPP-APr Glut_2  \n",
       "4                    0323 L2 IT PPP-APr Glut_2  \n",
       "5                    0325 L2 IT PPP-APr Glut_2  \n",
       "...                                        ...  \n",
       "34368          4955 MDRN Hoxb5 Ebf2 Gly-Gaba_1  \n",
       "34372                  4901 MY Lhx1 Gly-Gaba_3  \n",
       "34374                  4902 MY Lhx1 Gly-Gaba_3  \n",
       "34376                  4903 MY Lhx1 Gly-Gaba_3  \n",
       "34380                  4924 MY Lhx1 Gly-Gaba_7  \n",
       "\n",
       "[5322 rows x 5 columns]"
      ]
     },
     "execution_count": 23,
     "metadata": {},
     "output_type": "execute_result"
    }
   ],
   "source": [
    "cluster_details"
   ]
  },
  {
   "cell_type": "code",
   "execution_count": 24,
   "id": "5eb34f75-ce46-4fc1-89ac-cd05708c8fd8",
   "metadata": {},
   "outputs": [
    {
     "name": "stdout",
     "output_type": "stream",
     "text": [
      "Cells with annotations: 4042976\n"
     ]
    }
   ],
   "source": [
    "cell_extended = cell.join(cluster_details, on='cluster_alias')\n",
    "print(f\"Cells with annotations: {len(cell_extended)}\")"
   ]
  },
  {
   "cell_type": "code",
   "execution_count": 25,
   "id": "20f3b060-7f00-42e5-b440-f6a100fec67d",
   "metadata": {
    "scrolled": true
   },
   "outputs": [
    {
     "data": {
      "text/html": [
       "<div>\n",
       "<style scoped>\n",
       "    .dataframe tbody tr th:only-of-type {\n",
       "        vertical-align: middle;\n",
       "    }\n",
       "\n",
       "    .dataframe tbody tr th {\n",
       "        vertical-align: top;\n",
       "    }\n",
       "\n",
       "    .dataframe thead th {\n",
       "        text-align: right;\n",
       "    }\n",
       "</style>\n",
       "<table border=\"1\" class=\"dataframe\">\n",
       "  <thead>\n",
       "    <tr style=\"text-align: right;\">\n",
       "      <th></th>\n",
       "      <th>cell_barcode</th>\n",
       "      <th>barcoded_cell_sample_label</th>\n",
       "      <th>library_label</th>\n",
       "      <th>feature_matrix_label</th>\n",
       "      <th>entity</th>\n",
       "      <th>brain_section_label</th>\n",
       "      <th>library_method</th>\n",
       "      <th>region_of_interest_acronym</th>\n",
       "      <th>donor_label</th>\n",
       "      <th>donor_genotype</th>\n",
       "      <th>...</th>\n",
       "      <th>dataset_label</th>\n",
       "      <th>x</th>\n",
       "      <th>y</th>\n",
       "      <th>cluster_alias</th>\n",
       "      <th>abc_sample_id</th>\n",
       "      <th>neurotransmitter</th>\n",
       "      <th>class</th>\n",
       "      <th>subclass</th>\n",
       "      <th>supertype</th>\n",
       "      <th>cluster</th>\n",
       "    </tr>\n",
       "    <tr>\n",
       "      <th>cell_label</th>\n",
       "      <th></th>\n",
       "      <th></th>\n",
       "      <th></th>\n",
       "      <th></th>\n",
       "      <th></th>\n",
       "      <th></th>\n",
       "      <th></th>\n",
       "      <th></th>\n",
       "      <th></th>\n",
       "      <th></th>\n",
       "      <th></th>\n",
       "      <th></th>\n",
       "      <th></th>\n",
       "      <th></th>\n",
       "      <th></th>\n",
       "      <th></th>\n",
       "      <th></th>\n",
       "      <th></th>\n",
       "      <th></th>\n",
       "      <th></th>\n",
       "      <th></th>\n",
       "    </tr>\n",
       "  </thead>\n",
       "  <tbody>\n",
       "    <tr>\n",
       "      <th>GCGAGAAGTTAAGGGC-410_B05</th>\n",
       "      <td>GCGAGAAGTTAAGGGC</td>\n",
       "      <td>410_B05</td>\n",
       "      <td>L8TX_201030_01_C12</td>\n",
       "      <td>WMB-10Xv3-HPF</td>\n",
       "      <td>cell</td>\n",
       "      <td>NaN</td>\n",
       "      <td>10Xv3</td>\n",
       "      <td>RHP</td>\n",
       "      <td>Snap25-IRES2-Cre;Ai14-550850</td>\n",
       "      <td>Ai14(RCL-tdT)/wt</td>\n",
       "      <td>...</td>\n",
       "      <td>WMB-10Xv3</td>\n",
       "      <td>23.146826</td>\n",
       "      <td>-3.086639</td>\n",
       "      <td>1</td>\n",
       "      <td>484be5df-5d44-4bfe-9652-7b5bc739c211</td>\n",
       "      <td>Glut</td>\n",
       "      <td>01 IT-ET Glut</td>\n",
       "      <td>018 L2 IT PPP-APr Glut</td>\n",
       "      <td>0082 L2 IT PPP-APr Glut_3</td>\n",
       "      <td>0326 L2 IT PPP-APr Glut_3</td>\n",
       "    </tr>\n",
       "    <tr>\n",
       "      <th>AATGGCTCAGCTCCTT-411_B06</th>\n",
       "      <td>AATGGCTCAGCTCCTT</td>\n",
       "      <td>411_B06</td>\n",
       "      <td>L8TX_201029_01_E10</td>\n",
       "      <td>WMB-10Xv3-HPF</td>\n",
       "      <td>cell</td>\n",
       "      <td>NaN</td>\n",
       "      <td>10Xv3</td>\n",
       "      <td>RHP</td>\n",
       "      <td>Snap25-IRES2-Cre;Ai14-550851</td>\n",
       "      <td>Ai14(RCL-tdT)/wt</td>\n",
       "      <td>...</td>\n",
       "      <td>WMB-10Xv3</td>\n",
       "      <td>23.138481</td>\n",
       "      <td>-3.022000</td>\n",
       "      <td>1</td>\n",
       "      <td>5638505d-e1e8-457f-9e5b-59e3e2302417</td>\n",
       "      <td>Glut</td>\n",
       "      <td>01 IT-ET Glut</td>\n",
       "      <td>018 L2 IT PPP-APr Glut</td>\n",
       "      <td>0082 L2 IT PPP-APr Glut_3</td>\n",
       "      <td>0326 L2 IT PPP-APr Glut_3</td>\n",
       "    </tr>\n",
       "    <tr>\n",
       "      <th>AACACACGTTGCTTGA-410_B05</th>\n",
       "      <td>AACACACGTTGCTTGA</td>\n",
       "      <td>410_B05</td>\n",
       "      <td>L8TX_201030_01_C12</td>\n",
       "      <td>WMB-10Xv3-HPF</td>\n",
       "      <td>cell</td>\n",
       "      <td>NaN</td>\n",
       "      <td>10Xv3</td>\n",
       "      <td>RHP</td>\n",
       "      <td>Snap25-IRES2-Cre;Ai14-550850</td>\n",
       "      <td>Ai14(RCL-tdT)/wt</td>\n",
       "      <td>...</td>\n",
       "      <td>WMB-10Xv3</td>\n",
       "      <td>23.472557</td>\n",
       "      <td>-2.992709</td>\n",
       "      <td>1</td>\n",
       "      <td>a0544e29-194f-4d34-9af4-13e7377b648f</td>\n",
       "      <td>Glut</td>\n",
       "      <td>01 IT-ET Glut</td>\n",
       "      <td>018 L2 IT PPP-APr Glut</td>\n",
       "      <td>0082 L2 IT PPP-APr Glut_3</td>\n",
       "      <td>0326 L2 IT PPP-APr Glut_3</td>\n",
       "    </tr>\n",
       "    <tr>\n",
       "      <th>CACAGATAGAGGCGGA-410_A05</th>\n",
       "      <td>CACAGATAGAGGCGGA</td>\n",
       "      <td>410_A05</td>\n",
       "      <td>L8TX_201029_01_A10</td>\n",
       "      <td>WMB-10Xv3-HPF</td>\n",
       "      <td>cell</td>\n",
       "      <td>NaN</td>\n",
       "      <td>10Xv3</td>\n",
       "      <td>RHP</td>\n",
       "      <td>Snap25-IRES2-Cre;Ai14-550850</td>\n",
       "      <td>Ai14(RCL-tdT)/wt</td>\n",
       "      <td>...</td>\n",
       "      <td>WMB-10Xv3</td>\n",
       "      <td>23.379622</td>\n",
       "      <td>-3.043442</td>\n",
       "      <td>1</td>\n",
       "      <td>c777ac0b-77e1-4d76-bf8e-2b3d9e08b253</td>\n",
       "      <td>Glut</td>\n",
       "      <td>01 IT-ET Glut</td>\n",
       "      <td>018 L2 IT PPP-APr Glut</td>\n",
       "      <td>0082 L2 IT PPP-APr Glut_3</td>\n",
       "      <td>0326 L2 IT PPP-APr Glut_3</td>\n",
       "    </tr>\n",
       "    <tr>\n",
       "      <th>AAAGTGAAGCATTTCG-410_B05</th>\n",
       "      <td>AAAGTGAAGCATTTCG</td>\n",
       "      <td>410_B05</td>\n",
       "      <td>L8TX_201030_01_C12</td>\n",
       "      <td>WMB-10Xv3-HPF</td>\n",
       "      <td>cell</td>\n",
       "      <td>NaN</td>\n",
       "      <td>10Xv3</td>\n",
       "      <td>RHP</td>\n",
       "      <td>Snap25-IRES2-Cre;Ai14-550850</td>\n",
       "      <td>Ai14(RCL-tdT)/wt</td>\n",
       "      <td>...</td>\n",
       "      <td>WMB-10Xv3</td>\n",
       "      <td>23.909480</td>\n",
       "      <td>-2.601536</td>\n",
       "      <td>1</td>\n",
       "      <td>49860925-e82b-46df-a228-fd2f97e75d39</td>\n",
       "      <td>Glut</td>\n",
       "      <td>01 IT-ET Glut</td>\n",
       "      <td>018 L2 IT PPP-APr Glut</td>\n",
       "      <td>0082 L2 IT PPP-APr Glut_3</td>\n",
       "      <td>0326 L2 IT PPP-APr Glut_3</td>\n",
       "    </tr>\n",
       "    <tr>\n",
       "      <th>...</th>\n",
       "      <td>...</td>\n",
       "      <td>...</td>\n",
       "      <td>...</td>\n",
       "      <td>...</td>\n",
       "      <td>...</td>\n",
       "      <td>...</td>\n",
       "      <td>...</td>\n",
       "      <td>...</td>\n",
       "      <td>...</td>\n",
       "      <td>...</td>\n",
       "      <td>...</td>\n",
       "      <td>...</td>\n",
       "      <td>...</td>\n",
       "      <td>...</td>\n",
       "      <td>...</td>\n",
       "      <td>...</td>\n",
       "      <td>...</td>\n",
       "      <td>...</td>\n",
       "      <td>...</td>\n",
       "      <td>...</td>\n",
       "      <td>...</td>\n",
       "    </tr>\n",
       "    <tr>\n",
       "      <th>GTGTGAGCAAACGCGA-1350_C05</th>\n",
       "      <td>GTGTGAGCAAACGCGA</td>\n",
       "      <td>1350_C05</td>\n",
       "      <td>L8XR_220728_01_A05</td>\n",
       "      <td>WMB-10XMulti</td>\n",
       "      <td>cell</td>\n",
       "      <td>NaN</td>\n",
       "      <td>10xRSeq_Mult</td>\n",
       "      <td>MB</td>\n",
       "      <td>C57BL6J-641405</td>\n",
       "      <td>wt/wt</td>\n",
       "      <td>...</td>\n",
       "      <td>WMB-10XMulti</td>\n",
       "      <td>-7.716915</td>\n",
       "      <td>0.223654</td>\n",
       "      <td>8861</td>\n",
       "      <td>ba1d0e38-bea7-4d4f-bfcd-49121938e743</td>\n",
       "      <td>GABA-Glyc</td>\n",
       "      <td>26 P GABA</td>\n",
       "      <td>278 NLL Gata3 Gly-Gaba</td>\n",
       "      <td>1074 NLL Gata3 Gly-Gaba_1</td>\n",
       "      <td>4804 NLL Gata3 Gly-Gaba_1</td>\n",
       "    </tr>\n",
       "    <tr>\n",
       "      <th>TTAGCAATCCCTGTTA-1350_C05</th>\n",
       "      <td>TTAGCAATCCCTGTTA</td>\n",
       "      <td>1350_C05</td>\n",
       "      <td>L8XR_220728_01_A05</td>\n",
       "      <td>WMB-10XMulti</td>\n",
       "      <td>cell</td>\n",
       "      <td>NaN</td>\n",
       "      <td>10xRSeq_Mult</td>\n",
       "      <td>MB</td>\n",
       "      <td>C57BL6J-641405</td>\n",
       "      <td>wt/wt</td>\n",
       "      <td>...</td>\n",
       "      <td>WMB-10XMulti</td>\n",
       "      <td>-3.115098</td>\n",
       "      <td>-3.024478</td>\n",
       "      <td>8215</td>\n",
       "      <td>342bd0bb-cbe5-479b-9c70-fef59a730255</td>\n",
       "      <td>Glut</td>\n",
       "      <td>19 MB Glut</td>\n",
       "      <td>157 RN Spp1 Glut</td>\n",
       "      <td>0682 RN Spp1 Glut_1</td>\n",
       "      <td>2761 RN Spp1 Glut_1</td>\n",
       "    </tr>\n",
       "    <tr>\n",
       "      <th>TTTGGCTGTCGCGCAA-1350_C05</th>\n",
       "      <td>TTTGGCTGTCGCGCAA</td>\n",
       "      <td>1350_C05</td>\n",
       "      <td>L8XR_220728_01_A05</td>\n",
       "      <td>WMB-10XMulti</td>\n",
       "      <td>cell</td>\n",
       "      <td>NaN</td>\n",
       "      <td>10xRSeq_Mult</td>\n",
       "      <td>MB</td>\n",
       "      <td>C57BL6J-641405</td>\n",
       "      <td>wt/wt</td>\n",
       "      <td>...</td>\n",
       "      <td>WMB-10XMulti</td>\n",
       "      <td>-7.950964</td>\n",
       "      <td>0.409335</td>\n",
       "      <td>8798</td>\n",
       "      <td>4634de09-d8e0-4e40-a49b-eba311de08b5</td>\n",
       "      <td>GABA-Glyc</td>\n",
       "      <td>26 P GABA</td>\n",
       "      <td>278 NLL Gata3 Gly-Gaba</td>\n",
       "      <td>1076 NLL Gata3 Gly-Gaba_3</td>\n",
       "      <td>4806 NLL Gata3 Gly-Gaba_3</td>\n",
       "    </tr>\n",
       "    <tr>\n",
       "      <th>ATCCACCTCACAGACT-1320_B04</th>\n",
       "      <td>ATCCACCTCACAGACT</td>\n",
       "      <td>1320_B04</td>\n",
       "      <td>L8XR_220630_02_B10</td>\n",
       "      <td>WMB-10XMulti</td>\n",
       "      <td>cell</td>\n",
       "      <td>NaN</td>\n",
       "      <td>10xRSeq_Mult</td>\n",
       "      <td>OLF</td>\n",
       "      <td>C57BL6J-625156</td>\n",
       "      <td>wt/wt</td>\n",
       "      <td>...</td>\n",
       "      <td>WMB-10XMulti</td>\n",
       "      <td>4.579441</td>\n",
       "      <td>12.135833</td>\n",
       "      <td>8798</td>\n",
       "      <td>5b3061de-1cb8-47b6-9368-52824e1031ce</td>\n",
       "      <td>GABA-Glyc</td>\n",
       "      <td>26 P GABA</td>\n",
       "      <td>278 NLL Gata3 Gly-Gaba</td>\n",
       "      <td>1076 NLL Gata3 Gly-Gaba_3</td>\n",
       "      <td>4806 NLL Gata3 Gly-Gaba_3</td>\n",
       "    </tr>\n",
       "    <tr>\n",
       "      <th>TCGTTAGCATTGTCCT-1320_B04</th>\n",
       "      <td>TCGTTAGCATTGTCCT</td>\n",
       "      <td>1320_B04</td>\n",
       "      <td>L8XR_220630_02_B10</td>\n",
       "      <td>WMB-10XMulti</td>\n",
       "      <td>cell</td>\n",
       "      <td>NaN</td>\n",
       "      <td>10xRSeq_Mult</td>\n",
       "      <td>OLF</td>\n",
       "      <td>C57BL6J-625156</td>\n",
       "      <td>wt/wt</td>\n",
       "      <td>...</td>\n",
       "      <td>WMB-10XMulti</td>\n",
       "      <td>4.643559</td>\n",
       "      <td>12.206171</td>\n",
       "      <td>8798</td>\n",
       "      <td>88332ec5-20b7-483f-a4e5-7a89100c84b4</td>\n",
       "      <td>GABA-Glyc</td>\n",
       "      <td>26 P GABA</td>\n",
       "      <td>278 NLL Gata3 Gly-Gaba</td>\n",
       "      <td>1076 NLL Gata3 Gly-Gaba_3</td>\n",
       "      <td>4806 NLL Gata3 Gly-Gaba_3</td>\n",
       "    </tr>\n",
       "  </tbody>\n",
       "</table>\n",
       "<p>4042976 rows × 21 columns</p>\n",
       "</div>"
      ],
      "text/plain": [
       "                               cell_barcode barcoded_cell_sample_label  \\\n",
       "cell_label                                                               \n",
       "GCGAGAAGTTAAGGGC-410_B05   GCGAGAAGTTAAGGGC                    410_B05   \n",
       "AATGGCTCAGCTCCTT-411_B06   AATGGCTCAGCTCCTT                    411_B06   \n",
       "AACACACGTTGCTTGA-410_B05   AACACACGTTGCTTGA                    410_B05   \n",
       "CACAGATAGAGGCGGA-410_A05   CACAGATAGAGGCGGA                    410_A05   \n",
       "AAAGTGAAGCATTTCG-410_B05   AAAGTGAAGCATTTCG                    410_B05   \n",
       "...                                     ...                        ...   \n",
       "GTGTGAGCAAACGCGA-1350_C05  GTGTGAGCAAACGCGA                   1350_C05   \n",
       "TTAGCAATCCCTGTTA-1350_C05  TTAGCAATCCCTGTTA                   1350_C05   \n",
       "TTTGGCTGTCGCGCAA-1350_C05  TTTGGCTGTCGCGCAA                   1350_C05   \n",
       "ATCCACCTCACAGACT-1320_B04  ATCCACCTCACAGACT                   1320_B04   \n",
       "TCGTTAGCATTGTCCT-1320_B04  TCGTTAGCATTGTCCT                   1320_B04   \n",
       "\n",
       "                                library_label feature_matrix_label entity  \\\n",
       "cell_label                                                                  \n",
       "GCGAGAAGTTAAGGGC-410_B05   L8TX_201030_01_C12        WMB-10Xv3-HPF   cell   \n",
       "AATGGCTCAGCTCCTT-411_B06   L8TX_201029_01_E10        WMB-10Xv3-HPF   cell   \n",
       "AACACACGTTGCTTGA-410_B05   L8TX_201030_01_C12        WMB-10Xv3-HPF   cell   \n",
       "CACAGATAGAGGCGGA-410_A05   L8TX_201029_01_A10        WMB-10Xv3-HPF   cell   \n",
       "AAAGTGAAGCATTTCG-410_B05   L8TX_201030_01_C12        WMB-10Xv3-HPF   cell   \n",
       "...                                       ...                  ...    ...   \n",
       "GTGTGAGCAAACGCGA-1350_C05  L8XR_220728_01_A05         WMB-10XMulti   cell   \n",
       "TTAGCAATCCCTGTTA-1350_C05  L8XR_220728_01_A05         WMB-10XMulti   cell   \n",
       "TTTGGCTGTCGCGCAA-1350_C05  L8XR_220728_01_A05         WMB-10XMulti   cell   \n",
       "ATCCACCTCACAGACT-1320_B04  L8XR_220630_02_B10         WMB-10XMulti   cell   \n",
       "TCGTTAGCATTGTCCT-1320_B04  L8XR_220630_02_B10         WMB-10XMulti   cell   \n",
       "\n",
       "                           brain_section_label library_method  \\\n",
       "cell_label                                                      \n",
       "GCGAGAAGTTAAGGGC-410_B05                   NaN          10Xv3   \n",
       "AATGGCTCAGCTCCTT-411_B06                   NaN          10Xv3   \n",
       "AACACACGTTGCTTGA-410_B05                   NaN          10Xv3   \n",
       "CACAGATAGAGGCGGA-410_A05                   NaN          10Xv3   \n",
       "AAAGTGAAGCATTTCG-410_B05                   NaN          10Xv3   \n",
       "...                                        ...            ...   \n",
       "GTGTGAGCAAACGCGA-1350_C05                  NaN   10xRSeq_Mult   \n",
       "TTAGCAATCCCTGTTA-1350_C05                  NaN   10xRSeq_Mult   \n",
       "TTTGGCTGTCGCGCAA-1350_C05                  NaN   10xRSeq_Mult   \n",
       "ATCCACCTCACAGACT-1320_B04                  NaN   10xRSeq_Mult   \n",
       "TCGTTAGCATTGTCCT-1320_B04                  NaN   10xRSeq_Mult   \n",
       "\n",
       "                          region_of_interest_acronym  \\\n",
       "cell_label                                             \n",
       "GCGAGAAGTTAAGGGC-410_B05                         RHP   \n",
       "AATGGCTCAGCTCCTT-411_B06                         RHP   \n",
       "AACACACGTTGCTTGA-410_B05                         RHP   \n",
       "CACAGATAGAGGCGGA-410_A05                         RHP   \n",
       "AAAGTGAAGCATTTCG-410_B05                         RHP   \n",
       "...                                              ...   \n",
       "GTGTGAGCAAACGCGA-1350_C05                         MB   \n",
       "TTAGCAATCCCTGTTA-1350_C05                         MB   \n",
       "TTTGGCTGTCGCGCAA-1350_C05                         MB   \n",
       "ATCCACCTCACAGACT-1320_B04                        OLF   \n",
       "TCGTTAGCATTGTCCT-1320_B04                        OLF   \n",
       "\n",
       "                                            donor_label    donor_genotype  \\\n",
       "cell_label                                                                  \n",
       "GCGAGAAGTTAAGGGC-410_B05   Snap25-IRES2-Cre;Ai14-550850  Ai14(RCL-tdT)/wt   \n",
       "AATGGCTCAGCTCCTT-411_B06   Snap25-IRES2-Cre;Ai14-550851  Ai14(RCL-tdT)/wt   \n",
       "AACACACGTTGCTTGA-410_B05   Snap25-IRES2-Cre;Ai14-550850  Ai14(RCL-tdT)/wt   \n",
       "CACAGATAGAGGCGGA-410_A05   Snap25-IRES2-Cre;Ai14-550850  Ai14(RCL-tdT)/wt   \n",
       "AAAGTGAAGCATTTCG-410_B05   Snap25-IRES2-Cre;Ai14-550850  Ai14(RCL-tdT)/wt   \n",
       "...                                                 ...               ...   \n",
       "GTGTGAGCAAACGCGA-1350_C05                C57BL6J-641405             wt/wt   \n",
       "TTAGCAATCCCTGTTA-1350_C05                C57BL6J-641405             wt/wt   \n",
       "TTTGGCTGTCGCGCAA-1350_C05                C57BL6J-641405             wt/wt   \n",
       "ATCCACCTCACAGACT-1320_B04                C57BL6J-625156             wt/wt   \n",
       "TCGTTAGCATTGTCCT-1320_B04                C57BL6J-625156             wt/wt   \n",
       "\n",
       "                           ... dataset_label          x          y  \\\n",
       "cell_label                 ...                                       \n",
       "GCGAGAAGTTAAGGGC-410_B05   ...     WMB-10Xv3  23.146826  -3.086639   \n",
       "AATGGCTCAGCTCCTT-411_B06   ...     WMB-10Xv3  23.138481  -3.022000   \n",
       "AACACACGTTGCTTGA-410_B05   ...     WMB-10Xv3  23.472557  -2.992709   \n",
       "CACAGATAGAGGCGGA-410_A05   ...     WMB-10Xv3  23.379622  -3.043442   \n",
       "AAAGTGAAGCATTTCG-410_B05   ...     WMB-10Xv3  23.909480  -2.601536   \n",
       "...                        ...           ...        ...        ...   \n",
       "GTGTGAGCAAACGCGA-1350_C05  ...  WMB-10XMulti  -7.716915   0.223654   \n",
       "TTAGCAATCCCTGTTA-1350_C05  ...  WMB-10XMulti  -3.115098  -3.024478   \n",
       "TTTGGCTGTCGCGCAA-1350_C05  ...  WMB-10XMulti  -7.950964   0.409335   \n",
       "ATCCACCTCACAGACT-1320_B04  ...  WMB-10XMulti   4.579441  12.135833   \n",
       "TCGTTAGCATTGTCCT-1320_B04  ...  WMB-10XMulti   4.643559  12.206171   \n",
       "\n",
       "                           cluster_alias  \\\n",
       "cell_label                                 \n",
       "GCGAGAAGTTAAGGGC-410_B05               1   \n",
       "AATGGCTCAGCTCCTT-411_B06               1   \n",
       "AACACACGTTGCTTGA-410_B05               1   \n",
       "CACAGATAGAGGCGGA-410_A05               1   \n",
       "AAAGTGAAGCATTTCG-410_B05               1   \n",
       "...                                  ...   \n",
       "GTGTGAGCAAACGCGA-1350_C05           8861   \n",
       "TTAGCAATCCCTGTTA-1350_C05           8215   \n",
       "TTTGGCTGTCGCGCAA-1350_C05           8798   \n",
       "ATCCACCTCACAGACT-1320_B04           8798   \n",
       "TCGTTAGCATTGTCCT-1320_B04           8798   \n",
       "\n",
       "                                                  abc_sample_id  \\\n",
       "cell_label                                                        \n",
       "GCGAGAAGTTAAGGGC-410_B05   484be5df-5d44-4bfe-9652-7b5bc739c211   \n",
       "AATGGCTCAGCTCCTT-411_B06   5638505d-e1e8-457f-9e5b-59e3e2302417   \n",
       "AACACACGTTGCTTGA-410_B05   a0544e29-194f-4d34-9af4-13e7377b648f   \n",
       "CACAGATAGAGGCGGA-410_A05   c777ac0b-77e1-4d76-bf8e-2b3d9e08b253   \n",
       "AAAGTGAAGCATTTCG-410_B05   49860925-e82b-46df-a228-fd2f97e75d39   \n",
       "...                                                         ...   \n",
       "GTGTGAGCAAACGCGA-1350_C05  ba1d0e38-bea7-4d4f-bfcd-49121938e743   \n",
       "TTAGCAATCCCTGTTA-1350_C05  342bd0bb-cbe5-479b-9c70-fef59a730255   \n",
       "TTTGGCTGTCGCGCAA-1350_C05  4634de09-d8e0-4e40-a49b-eba311de08b5   \n",
       "ATCCACCTCACAGACT-1320_B04  5b3061de-1cb8-47b6-9368-52824e1031ce   \n",
       "TCGTTAGCATTGTCCT-1320_B04  88332ec5-20b7-483f-a4e5-7a89100c84b4   \n",
       "\n",
       "                          neurotransmitter          class  \\\n",
       "cell_label                                                  \n",
       "GCGAGAAGTTAAGGGC-410_B05              Glut  01 IT-ET Glut   \n",
       "AATGGCTCAGCTCCTT-411_B06              Glut  01 IT-ET Glut   \n",
       "AACACACGTTGCTTGA-410_B05              Glut  01 IT-ET Glut   \n",
       "CACAGATAGAGGCGGA-410_A05              Glut  01 IT-ET Glut   \n",
       "AAAGTGAAGCATTTCG-410_B05              Glut  01 IT-ET Glut   \n",
       "...                                    ...            ...   \n",
       "GTGTGAGCAAACGCGA-1350_C05        GABA-Glyc      26 P GABA   \n",
       "TTAGCAATCCCTGTTA-1350_C05             Glut     19 MB Glut   \n",
       "TTTGGCTGTCGCGCAA-1350_C05        GABA-Glyc      26 P GABA   \n",
       "ATCCACCTCACAGACT-1320_B04        GABA-Glyc      26 P GABA   \n",
       "TCGTTAGCATTGTCCT-1320_B04        GABA-Glyc      26 P GABA   \n",
       "\n",
       "                                         subclass                  supertype  \\\n",
       "cell_label                                                                     \n",
       "GCGAGAAGTTAAGGGC-410_B05   018 L2 IT PPP-APr Glut  0082 L2 IT PPP-APr Glut_3   \n",
       "AATGGCTCAGCTCCTT-411_B06   018 L2 IT PPP-APr Glut  0082 L2 IT PPP-APr Glut_3   \n",
       "AACACACGTTGCTTGA-410_B05   018 L2 IT PPP-APr Glut  0082 L2 IT PPP-APr Glut_3   \n",
       "CACAGATAGAGGCGGA-410_A05   018 L2 IT PPP-APr Glut  0082 L2 IT PPP-APr Glut_3   \n",
       "AAAGTGAAGCATTTCG-410_B05   018 L2 IT PPP-APr Glut  0082 L2 IT PPP-APr Glut_3   \n",
       "...                                           ...                        ...   \n",
       "GTGTGAGCAAACGCGA-1350_C05  278 NLL Gata3 Gly-Gaba  1074 NLL Gata3 Gly-Gaba_1   \n",
       "TTAGCAATCCCTGTTA-1350_C05        157 RN Spp1 Glut        0682 RN Spp1 Glut_1   \n",
       "TTTGGCTGTCGCGCAA-1350_C05  278 NLL Gata3 Gly-Gaba  1076 NLL Gata3 Gly-Gaba_3   \n",
       "ATCCACCTCACAGACT-1320_B04  278 NLL Gata3 Gly-Gaba  1076 NLL Gata3 Gly-Gaba_3   \n",
       "TCGTTAGCATTGTCCT-1320_B04  278 NLL Gata3 Gly-Gaba  1076 NLL Gata3 Gly-Gaba_3   \n",
       "\n",
       "                                             cluster  \n",
       "cell_label                                            \n",
       "GCGAGAAGTTAAGGGC-410_B05   0326 L2 IT PPP-APr Glut_3  \n",
       "AATGGCTCAGCTCCTT-411_B06   0326 L2 IT PPP-APr Glut_3  \n",
       "AACACACGTTGCTTGA-410_B05   0326 L2 IT PPP-APr Glut_3  \n",
       "CACAGATAGAGGCGGA-410_A05   0326 L2 IT PPP-APr Glut_3  \n",
       "AAAGTGAAGCATTTCG-410_B05   0326 L2 IT PPP-APr Glut_3  \n",
       "...                                              ...  \n",
       "GTGTGAGCAAACGCGA-1350_C05  4804 NLL Gata3 Gly-Gaba_1  \n",
       "TTAGCAATCCCTGTTA-1350_C05        2761 RN Spp1 Glut_1  \n",
       "TTTGGCTGTCGCGCAA-1350_C05  4806 NLL Gata3 Gly-Gaba_3  \n",
       "ATCCACCTCACAGACT-1320_B04  4806 NLL Gata3 Gly-Gaba_3  \n",
       "TCGTTAGCATTGTCCT-1320_B04  4806 NLL Gata3 Gly-Gaba_3  \n",
       "\n",
       "[4042976 rows x 21 columns]"
      ]
     },
     "execution_count": 25,
     "metadata": {},
     "output_type": "execute_result"
    }
   ],
   "source": [
    "cell_extended"
   ]
  },
  {
   "cell_type": "code",
   "execution_count": 26,
   "id": "a2f84db9-a119-4ed7-8d46-5536d2d165b0",
   "metadata": {},
   "outputs": [
    {
     "data": {
      "text/plain": [
       "neurotransmitter\n",
       "Glut         2054137\n",
       "             1089152\n",
       "GABA          834601\n",
       "GABA-Glyc      36490\n",
       "Dopa            9396\n",
       "Glut-GABA       8989\n",
       "Chol            7582\n",
       "Sero            1469\n",
       "Nora             626\n",
       "Hist             534\n",
       "Name: count, dtype: int64"
      ]
     },
     "execution_count": 26,
     "metadata": {},
     "output_type": "execute_result"
    }
   ],
   "source": [
    "cell_extended[\"neurotransmitter\"].value_counts()"
   ]
  },
  {
   "cell_type": "code",
   "execution_count": 27,
   "id": "9109306d-c72a-40c6-82ce-0b8be574cc1a",
   "metadata": {},
   "outputs": [
    {
     "data": {
      "text/plain": [
       "class\n",
       "01 IT-ET Glut        1095484\n",
       "31 OPC-Oligo          545179\n",
       "02 NP-CT-L6b Glut     310198\n",
       "30 Astro-Epen         308681\n",
       "29 CB Glut            141106\n",
       "06 CTX-CGE GABA       139032\n",
       "33 Vascular           137493\n",
       "07 CTX-MGE GABA       122085\n",
       "19 MB Glut            120552\n",
       "18 TH Glut            115401\n",
       "09 CNU-LGE GABA       115160\n",
       "05 OB-IMN GABA        107502\n",
       "34 Immune              92580\n",
       "12 HY GABA             90376\n",
       "04 DG-IMN Glut         84352\n",
       "20 MB GABA             82032\n",
       "11 CNU-HYa GABA        78482\n",
       "14 HY Glut             66984\n",
       "28 CB GABA             51226\n",
       "13 CNU-HYa Glut        45685\n",
       "27 MY GABA             33311\n",
       "10 LSX GABA            30313\n",
       "24 MY Glut             27543\n",
       "23 P Glut              25303\n",
       "26 P GABA              20206\n",
       "08 CNU-MGE GABA        18849\n",
       "16 HY MM Glut          13730\n",
       "17 MH-LH Glut          10770\n",
       "03 OB-CR Glut           4767\n",
       "21 MB Dopa              4301\n",
       "22 MB-HB Sero           2466\n",
       "32 OEC                  1132\n",
       "25 Pineal Glut           504\n",
       "15 HY Gnrh1 Glut         191\n",
       "Name: count, dtype: int64"
      ]
     },
     "execution_count": 27,
     "metadata": {},
     "output_type": "execute_result"
    }
   ],
   "source": [
    "cell_extended[\"class\"].value_counts()"
   ]
  },
  {
   "cell_type": "code",
   "execution_count": 28,
   "id": "e25dc50f-b05e-48ba-9334-a9674ef1286e",
   "metadata": {},
   "outputs": [
    {
     "name": "stdout",
     "output_type": "stream",
     "text": [
      "Cells missing neuro: 0\n"
     ]
    }
   ],
   "source": [
    "print(f\"Cells missing neuro: {cell_extended['neurotransmitter'].isna().sum()}\")"
   ]
  },
  {
   "cell_type": "code",
   "execution_count": 29,
   "id": "33569835-ee89-4ac1-88ab-feabb9b3aa4d",
   "metadata": {},
   "outputs": [
    {
     "data": {
      "text/plain": [
       "Index(['GCGAGAAGTTAAGGGC-410_B05', 'AATGGCTCAGCTCCTT-411_B06',\n",
       "       'AACACACGTTGCTTGA-410_B05', 'CACAGATAGAGGCGGA-410_A05',\n",
       "       'AAAGTGAAGCATTTCG-410_B05', 'GATCGTATCGAATCCA-411_B06',\n",
       "       'AGATGAAAGGACCCAA-410_A05', 'TCTCACGGTCAGGAGT-411_A06',\n",
       "       'GATTCTTGTTCGCGTG-410_B05', 'TTTCGATAGTAAAGCT-410_B05',\n",
       "       ...\n",
       "       'TGTCCTTCATCTAGCA-1320_D04', 'TTAACTGAGTCAGGCC-1320_D04',\n",
       "       'TGGTTCTGTCTATCGT-1315_A01', 'ATCATGTCATCATGGC-1350_C05',\n",
       "       'ATTCCTCCAGCCAGAA-1350_C05', 'GTGTGAGCAAACGCGA-1350_C05',\n",
       "       'TTAGCAATCCCTGTTA-1350_C05', 'TTTGGCTGTCGCGCAA-1350_C05',\n",
       "       'ATCCACCTCACAGACT-1320_B04', 'TCGTTAGCATTGTCCT-1320_B04'],\n",
       "      dtype='object', name='cell_label', length=4042976)"
      ]
     },
     "execution_count": 29,
     "metadata": {},
     "output_type": "execute_result"
    }
   ],
   "source": [
    "cell_extended.index"
   ]
  },
  {
   "cell_type": "code",
   "execution_count": null,
   "id": "9c991b8c-a007-4d11-af15-0ecf1fe9d30b",
   "metadata": {},
   "outputs": [],
   "source": [
    "# adata = adata[cell_extended.index, :]"
   ]
  },
  {
   "cell_type": "code",
   "execution_count": 60,
   "id": "c3821eb5-6ed7-422d-b3a1-c21bb0c105b4",
   "metadata": {},
   "outputs": [
    {
     "data": {
      "text/plain": [
       "AnnData object with n_obs × n_vars = 741624 × 32285\n",
       "    obs: 'cell_barcode', 'library_label', 'anatomical_division_label', 'neurotransmitter'"
      ]
     },
     "execution_count": 60,
     "metadata": {},
     "output_type": "execute_result"
    }
   ],
   "source": [
    "# adata"
   ]
  },
  {
   "cell_type": "code",
   "execution_count": 30,
   "id": "7eadb471-1d01-43b7-a710-d326bfa6064e",
   "metadata": {},
   "outputs": [],
   "source": [
    "adata.obs['neurotransmitter'] = cell_extended['neurotransmitter']"
   ]
  },
  {
   "cell_type": "code",
   "execution_count": 31,
   "id": "f27a64f8-16e9-4f18-8683-6dd5dc4fe2f2",
   "metadata": {},
   "outputs": [
    {
     "data": {
      "text/plain": [
       "cell_label\n",
       "GCACTAAGTACAAGTA-399_B02    Glut\n",
       "CAGAGCCGTCCTGGTG-399_A02    Glut\n",
       "CGCCATTCACGACAGA-403_A06    Glut\n",
       "GGGTTTATCCGATCGG-399_B02    Glut\n",
       "GTGTGATCAGACAAAT-399_B02    Glut\n",
       "                            ... \n",
       "TTTGTTGTCCGGTTCT-346_C06        \n",
       "TTTGTTGTCGGAACTT-417_B03        \n",
       "TTTGTTGTCGGTAAGG-454_B03        \n",
       "TTTGTTGTCTACTGAG-577_B03        \n",
       "TTTGTTGTCTATGTGG-415_C01        \n",
       "Name: neurotransmitter, Length: 741624, dtype: object"
      ]
     },
     "execution_count": 31,
     "metadata": {},
     "output_type": "execute_result"
    }
   ],
   "source": [
    "adata.obs['neurotransmitter']"
   ]
  },
  {
   "cell_type": "code",
   "execution_count": 32,
   "id": "ad63d969-117b-40fb-867d-aa67520881c1",
   "metadata": {},
   "outputs": [
    {
     "name": "stdout",
     "output_type": "stream",
     "text": [
      "identical (incl NaNs): True\n",
      "real mismatches: 0\n",
      "subset cells not found in cell_extended index: 2635\n",
      "present but neurotransmitter is NaN in global: 0\n"
     ]
    }
   ],
   "source": [
    "s_assigned = adata.obs[\"neurotransmitter\"]\n",
    "s_expected = cell_extended[\"neurotransmitter\"].reindex(adata.obs_names)\n",
    "\n",
    "# 1) Quick truth: are they identical (treats NaNs in the same spots as equal)?\n",
    "print(\"identical (incl NaNs):\", s_assigned.equals(s_expected))\n",
    "\n",
    "# 2) Count *real* mismatches (ignore rows where both are NaN)\n",
    "real_mismatch = (s_assigned != s_expected) & ~(s_assigned.isna() & s_expected.isna())\n",
    "print(\"real mismatches:\", int(real_mismatch.sum()))\n",
    "\n",
    "# 3) Diagnose why you have NaNs\n",
    "not_in_global = ~adata.obs_names.isin(cell_extended.index)\n",
    "print(\"subset cells not found in cell_extended index:\", int(not_in_global.sum()))\n",
    "\n",
    "present_idx = adata.obs_names[~not_in_global]\n",
    "nan_in_global = cell_extended.loc[present_idx, \"neurotransmitter\"].isna().sum()\n",
    "print(\"present but neurotransmitter is NaN in global:\", int(nan_in_global))"
   ]
  },
  {
   "cell_type": "code",
   "execution_count": 33,
   "id": "10610269-5742-4baf-b987-f24182faf532",
   "metadata": {},
   "outputs": [],
   "source": [
    "adata.obs['class'] = cell_extended['class']\n",
    "adata.obs['subclass'] = cell_extended['subclass']\n",
    "adata.obs['supertype'] = cell_extended['supertype']\n",
    "adata.obs['cluster'] = cell_extended['cluster']"
   ]
  },
  {
   "cell_type": "code",
   "execution_count": 34,
   "id": "f92ba34c-d406-4f07-adab-f90298b073da",
   "metadata": {},
   "outputs": [
    {
     "data": {
      "text/plain": [
       "AnnData object with n_obs × n_vars = 741624 × 32285\n",
       "    obs: 'cell_barcode', 'library_label', 'anatomical_division_label', 'neurotransmitter', 'class', 'subclass', 'supertype', 'cluster'"
      ]
     },
     "execution_count": 34,
     "metadata": {},
     "output_type": "execute_result"
    }
   ],
   "source": [
    "adata"
   ]
  },
  {
   "cell_type": "code",
   "execution_count": 35,
   "id": "7fb60f0b-5c1e-40cd-9fcf-2cd2d6abf908",
   "metadata": {},
   "outputs": [
    {
     "data": {
      "text/plain": [
       "cell_label\n",
       "GCACTAAGTACAAGTA-399_B02    Glut\n",
       "CAGAGCCGTCCTGGTG-399_A02    Glut\n",
       "CGCCATTCACGACAGA-403_A06    Glut\n",
       "GGGTTTATCCGATCGG-399_B02    Glut\n",
       "GTGTGATCAGACAAAT-399_B02    Glut\n",
       "                            ... \n",
       "TTTGTTGTCCGGTTCT-346_C06        \n",
       "TTTGTTGTCGGAACTT-417_B03        \n",
       "TTTGTTGTCGGTAAGG-454_B03        \n",
       "TTTGTTGTCTACTGAG-577_B03        \n",
       "TTTGTTGTCTATGTGG-415_C01        \n",
       "Name: neurotransmitter, Length: 741624, dtype: object"
      ]
     },
     "execution_count": 35,
     "metadata": {},
     "output_type": "execute_result"
    }
   ],
   "source": [
    "adata.obs[\"neurotransmitter\"]"
   ]
  },
  {
   "cell_type": "code",
   "execution_count": 36,
   "id": "6ccb9db6-5f7f-41e8-bd35-44719b400def",
   "metadata": {},
   "outputs": [
    {
     "data": {
      "text/plain": [
       "cell_label\n",
       "GCACTAAGTACAAGTA-399_B02    01 IT-ET Glut\n",
       "CAGAGCCGTCCTGGTG-399_A02    01 IT-ET Glut\n",
       "CGCCATTCACGACAGA-403_A06    01 IT-ET Glut\n",
       "GGGTTTATCCGATCGG-399_B02    01 IT-ET Glut\n",
       "GTGTGATCAGACAAAT-399_B02    01 IT-ET Glut\n",
       "                                ...      \n",
       "TTTGTTGTCCGGTTCT-346_C06        34 Immune\n",
       "TTTGTTGTCGGAACTT-417_B03      33 Vascular\n",
       "TTTGTTGTCGGTAAGG-454_B03      33 Vascular\n",
       "TTTGTTGTCTACTGAG-577_B03      33 Vascular\n",
       "TTTGTTGTCTATGTGG-415_C01      33 Vascular\n",
       "Name: class, Length: 741624, dtype: object"
      ]
     },
     "execution_count": 36,
     "metadata": {},
     "output_type": "execute_result"
    }
   ],
   "source": [
    "adata.obs[\"class\"]"
   ]
  },
  {
   "cell_type": "code",
   "execution_count": 37,
   "id": "298a020b-50d1-48e2-8515-e2a6d0af914b",
   "metadata": {},
   "outputs": [
    {
     "data": {
      "text/plain": [
       "neurotransmitter\n",
       "Glut         289785\n",
       "             249656\n",
       "GABA         198680\n",
       "Glut-GABA       453\n",
       "Chol            382\n",
       "Dopa             30\n",
       "Hist              1\n",
       "Nora              1\n",
       "GABA-Glyc         1\n",
       "Name: count, dtype: int64"
      ]
     },
     "execution_count": 37,
     "metadata": {},
     "output_type": "execute_result"
    }
   ],
   "source": [
    "adata.obs[\"neurotransmitter\"].value_counts()"
   ]
  },
  {
   "cell_type": "code",
   "execution_count": 38,
   "id": "2b8b2d74-4543-4cc8-9236-eeea56961f87",
   "metadata": {},
   "outputs": [
    {
     "data": {
      "text/plain": [
       "class\n",
       "01 IT-ET Glut        202054\n",
       "30 Astro-Epen         90255\n",
       "31 OPC-Oligo          80103\n",
       "09 CNU-LGE GABA       78589\n",
       "02 NP-CT-L6b Glut     65425\n",
       "11 CNU-HYa GABA       40201\n",
       "33 Vascular           40049\n",
       "34 Immune             37720\n",
       "10 LSX GABA           29176\n",
       "06 CTX-CGE GABA       24102\n",
       "13 CNU-HYa Glut       20304\n",
       "07 CTX-MGE GABA       19366\n",
       "08 CNU-MGE GABA        5266\n",
       "05 OB-IMN GABA         4824\n",
       "03 OB-CR Glut           620\n",
       "04 DG-IMN Glut          344\n",
       "14 HY Glut              265\n",
       "12 HY GABA              147\n",
       "18 TH Glut               63\n",
       "32 OEC                   46\n",
       "16 HY MM Glut            23\n",
       "25 Pineal Glut           19\n",
       "19 MB Glut               10\n",
       "20 MB GABA                5\n",
       "29 CB Glut                5\n",
       "15 HY Gnrh1 Glut          2\n",
       "24 MY Glut                2\n",
       "17 MH-LH Glut             2\n",
       "27 MY GABA                1\n",
       "21 MB Dopa                1\n",
       "Name: count, dtype: int64"
      ]
     },
     "execution_count": 38,
     "metadata": {},
     "output_type": "execute_result"
    }
   ],
   "source": [
    "adata.obs[\"class\"].value_counts()"
   ]
  },
  {
   "cell_type": "code",
   "execution_count": 39,
   "id": "0def5a99-3304-47da-a3b5-68f9af5d7ed7",
   "metadata": {},
   "outputs": [
    {
     "name": "stdout",
     "output_type": "stream",
     "text": [
      "741624\n",
      "2635\n",
      "Dropped 2635 unlabeled cells; 741624 → 738989\n",
      "neurotransmitter\n",
      "Glut         289785\n",
      "no-name      249656\n",
      "GABA         198680\n",
      "Glut-GABA       453\n",
      "Chol            382\n",
      "Dopa             30\n",
      "Hist              1\n",
      "Nora              1\n",
      "GABA-Glyc         1\n",
      "Name: count, dtype: int64\n"
     ]
    }
   ],
   "source": [
    "col = \"neurotransmitter\"\n",
    "\n",
    "n_before = adata.n_obs\n",
    "n_nan = int(adata.obs[col].isna().sum()) # 2635\n",
    "print(n_before)\n",
    "print(n_nan)\n",
    "\n",
    "adata = adata[~adata.obs[col].isna()].copy()\n",
    "s = adata.obs[col].astype(\"string\")\n",
    "adata.obs.loc[s.str.strip().eq(\"\"), col] = \"no-name\"\n",
    "\n",
    "print(f\"Dropped {n_nan} unlabeled cells; {n_before} → {adata.n_obs}\")\n",
    "print(adata.obs[col].value_counts(dropna=False))"
   ]
  },
  {
   "cell_type": "code",
   "execution_count": 40,
   "id": "3fa5b090-71fc-4c1f-8490-dd793ea545c6",
   "metadata": {},
   "outputs": [],
   "source": [
    "def print_stats(anndata, level):\n",
    "    unique_celltype_sub = anndata.obs[level].unique()\n",
    "    print(unique_celltype_sub)\n",
    "    num_unique_celltype_sub = anndata.obs[level].nunique()\n",
    "    print(f\"Number of unique sub cell types: {num_unique_celltype_sub}\")\n",
    "    print()"
   ]
  },
  {
   "cell_type": "code",
   "execution_count": 41,
   "id": "453ed664-648b-4aac-ac13-ab5e17c75651",
   "metadata": {},
   "outputs": [
    {
     "name": "stdout",
     "output_type": "stream",
     "text": [
      "['Glut' 'GABA' 'no-name' 'Dopa' 'Hist' 'Chol' 'Nora' 'GABA-Glyc'\n",
      " 'Glut-GABA']\n",
      "Number of unique sub cell types: 9\n",
      "\n",
      "['01 IT-ET Glut' '11 CNU-HYa GABA' '05 OB-IMN GABA' '09 CNU-LGE GABA'\n",
      " '07 CTX-MGE GABA' '02 NP-CT-L6b Glut' '04 DG-IMN Glut' '12 HY GABA'\n",
      " '15 HY Gnrh1 Glut' '13 CNU-HYa Glut' '14 HY Glut' '03 OB-CR Glut'\n",
      " '16 HY MM Glut' '24 MY Glut' '27 MY GABA' '25 Pineal Glut'\n",
      " '30 Astro-Epen' '08 CNU-MGE GABA' '31 OPC-Oligo' '32 OEC' '33 Vascular'\n",
      " '34 Immune' '06 CTX-CGE GABA' '10 LSX GABA' '20 MB GABA' '19 MB Glut'\n",
      " '21 MB Dopa' '17 MH-LH Glut' '18 TH Glut' '29 CB Glut']\n",
      "Number of unique sub cell types: 30\n",
      "\n"
     ]
    }
   ],
   "source": [
    "print_stats(adata, \"neurotransmitter\")\n",
    "print_stats(adata, \"class\")"
   ]
  },
  {
   "cell_type": "code",
   "execution_count": 42,
   "id": "09518a3e-5f18-43cb-82b9-e8fd17fc4096",
   "metadata": {},
   "outputs": [
    {
     "data": {
      "text/plain": [
       "cluster\n",
       "5225 Astro-TE NN_3                         60004\n",
       "0109 L2/3 IT CTX Glut_2                    40156\n",
       "5312 Microglia NN_1                        35218\n",
       "5285 MOL NN_4                              33538\n",
       "5269 OPC NN_1                              29289\n",
       "                                           ...  \n",
       "2546 PH-SUM Foxa1 Glut_3                       1\n",
       "2542 PH-SUM Foxa1 Glut_2                       1\n",
       "2559 PH-SUM Foxa1 Glut_6                       1\n",
       "2608 LH Pou4f1 Sox1 Glut_3                     1\n",
       "3656 LGv-SPFp-SPFm Nkx2-2 Tcf7l2 Gaba_4        1\n",
       "Name: count, Length: 1799, dtype: int64"
      ]
     },
     "execution_count": 42,
     "metadata": {},
     "output_type": "execute_result"
    }
   ],
   "source": [
    "adata.obs[\"cluster\"].value_counts()"
   ]
  },
  {
   "cell_type": "code",
   "execution_count": 43,
   "id": "b3a3255a-c7c3-47a9-b5d8-46b1df1ead97",
   "metadata": {},
   "outputs": [
    {
     "name": "stdout",
     "output_type": "stream",
     "text": [
      "Dropping 880 cells from 479 rare labels: ['1283 MEA-BST Lhx6 Nfib Gaba_1', '0584 OB Dopa-Gaba_1', '0577 OB-out Frmd7 Gaba_2', '0574 OB-out Frmd7 Gaba_1', '0022 IT EP-CLA Glut_4', '0337 L2/3 IT PPP Glut_3', '1266 MEA-BST Lhx6 Sp9 Gaba_7', '0892 NDB-SI-MA-STRv Lhx8 Gaba_4', '1307 MEA-BST Lhx6 Nfib Gaba_5', '0520 OB Meis2 Thsd7b Gaba_1', '0010 IT EP-CLA Glut_1', '0328 L2 IT PPP-APr Glut_4', '2574 MM Foxb1 Glut_2', '1540 BST-MPN Six3 Nrgn Gaba_2', '0705 RHP-COA Ndnf Gaba_6', '2186 SI-MA-LPO-LHA Skor1 Glut_6', '0924 PAL-STR Gaba-Chol_1', '0198 MEA Slc17a7 Glut_1', '0553 OB-in Frmd7 Gaba_3', '2238 MPN-MPO-PVpo Hmx2 Glut_1', '1989 BST-po Iigp1 Glut_1', '1600 RT-ZI Gnb3 Gaba_5', '2202 SI-MA-LPO-LHA Skor1 Glut_8', '1526 PVR Six3 Sox3 Gaba_7', '0403 L6b EPd Glut_1', '5197 CB Granule Glut_1', '5222 Astro-TE NN_2', '0630 Vip Gaba_2', '5290 OEC NN_1', '1481 MPO-ADP Lhx8 Gaba_5', '0406 L6b EPd Glut_2', '0934 PAL-STR Gaba-Chol_3', '0866 NDB-SI-MA-STRv Lhx8 Gaba_1', '2072 MS-SF Bsx Glut_1', '2054 MS-SF Bsx Glut_1', '5252 Ependymal NN_1', '0515 DG-PIR Ex IMN_2', '2065 MS-SF Bsx Glut_1', '0622 OB-STR-CTX Inh IMN_7', '0827 Sst Gaba_19', '1498 BST Tac2 Gaba_1', '1455 SI-MPO-LPO Lhx8 Gaba_5', '1906 PVpo-VMPO-MPN Hmx2 Gaba_3', '1450 SI-MPO-LPO Lhx8 Gaba_4', '1524 PVR Six3 Sox3 Gaba_7', '1383 ACB-BST-FS D1 Gaba_3', '5216 Astro-NT NN_2', '1245 MEA-BST Lhx6 Sp9 Gaba_2', '0335 L2/3 IT PPP Glut_2', '2505 PH-LHA Foxb1 Glut_2', '1018 IA Mgp Gaba_1', '0184 IT AON-TT-DP Glut_5', '0514 DG-PIR Ex IMN_2', '0021 IT EP-CLA Glut_4', '2113 ADP-MPO Trp73 Glut_1', '0527 OB Meis2 Thsd7b Gaba_5', '0737 Pvalb Gaba_2', '0541 OB-in Frmd7 Gaba_1', '1593 RT-ZI Gnb3 Gaba_3', '0873 NDB-SI-MA-STRv Lhx8 Gaba_2', '0556 OB-in Frmd7 Gaba_4', '2315 VMH Nr5a1 Glut_4', '2097 AVPV-MEPO-SFO Tbr1 Glut_5', '1724 ZI Pax6 Gaba_1', '1585 RT-ZI Gnb3 Gaba_1', '2161 SI-MA-LPO-LHA Skor1 Glut_3', '0496 OB Eomes Ms4a15 Glut_5', '0523 OB Meis2 Thsd7b Gaba_2', '1446 SI-MPO-LPO Lhx8 Gaba_4', '0160 L2/3 IT PIR-ENTl Glut_4', '0017 IT EP-CLA Glut_2', '0576 OB-out Frmd7 Gaba_2', '2570 MM-ant Foxb1 Glut_1', '2567 MM-ant Foxb1 Glut_1', '1263 MEA-BST Lhx6 Sp9 Gaba_7', '0582 OB Dopa-Gaba_1', '0415 L6b/CT ENT Glut_2', '0536 OB-in Frmd7 Gaba_1', '0732 Pvalb chandelier Gaba_1', '0161 L2/3 IT PIR-ENTl Glut_5', '5289 OEC NN_1', '0174 IT AON-TT-DP Glut_2', '0554 OB-in Frmd7 Gaba_3', '2001 MEA-COA-BMA Ccdc42 Glut_1', '0014 IT EP-CLA Glut_2', '0585 OB Dopa-Gaba_1', '0481 NP SUB Glut_2', '0513 DG-PIR Ex IMN_2', '0696 RHP-COA Ndnf Gaba_3', '0129 L2/3 IT ENT Glut_3', '2000 MEA-COA-BMA Ccdc42 Glut_1', '1463 MPO-ADP Lhx8 Gaba_2', '2141 SI-MA-LPO-LHA Skor1 Glut_1', '0928 PAL-STR Gaba-Chol_1', '5233 Astro-OLF NN_2', '5212 Astro-NT NN_1', '2659 TH Prkcd Grin2c Glut_6', '0649 Vip Gaba_7', '2062 MS-SF Bsx Glut_1', '0228 LA-BLA-BMA-PA Glut_1', '5235 Astro-OLF NN_3', '0180 IT AON-TT-DP Glut_4', '2165 SI-MA-LPO-LHA Skor1 Glut_4', '0491 OB Eomes Ms4a15 Glut_2', '0487 OB Eomes Ms4a15 Glut_1', '2140 SI-MA-LPO-LHA Skor1 Glut_1', '0896 NDB-SI-MA-STRv Lhx8 Gaba_5', '0606 OB-STR-CTX Inh IMN_2', '0130 L2/3 IT ENT Glut_4', '1024 IA Mgp Gaba_4', '5242 Astroependymal NN_3', '0319 L2 IT PPP-APr Glut_1', '0725 Lamp5 Lhx6 Gaba_1', '2119 ADP-MPO Trp73 Glut_1', '0510 DG Glut_4', '1431 SI-MPO-LPO Lhx8 Gaba_2', '1437 SI-MPO-LPO Lhx8 Gaba_2', '1971 ARH-PVp Tbx3 Gaba_3', '2270 DMH Hmx2 Glut_1', '0217 COAp Grxcr2 Glut_2', '0145 L2/3 IT PIR-ENTl Glut_2', '0164 L2/3 IT PIR-ENTl Glut_7', '0592 OB Dopa-Gaba_4', '0570 OB-out Frmd7 Gaba_1', '1884 PVpo-VMPO-MPN Hmx2 Gaba_1', '1659 AHN-SBPV-PVHd Pdrm12 Gaba_3', '1465 MPO-ADP Lhx8 Gaba_2', '2564 HY Gnrh1 Glut_1', '0016 IT EP-CLA Glut_2', '0338 L2/3 IT PPP Glut_3', '0872 NDB-SI-MA-STRv Lhx8 Gaba_2', '0749 Pvalb Gaba_5', '2343 AHN-RCH-LHA Otp Fezf1 Glut_1', '2309 VMH Nr5a1 Glut_2', '0380 L5 ET CTX Glut_6', '1790 DMH-LHA Gsx1 Gaba_1', '2121 ADP-MPO Trp73 Glut_2', '2513 PH-LHA Foxb1 Glut_3', '1861 TMd-DMH Foxd2 Gaba_1', '2509 PH-LHA Foxb1 Glut_3', '1810 DMH-LHA Gsx1 Gaba_3', '1590 RT-ZI Gnb3 Gaba_2', '2038 COAa-PAA-MEA Barhl2 Glut_6', '0539 OB-in Frmd7 Gaba_1', '1588 RT-ZI Gnb3 Gaba_2', '1536 PVR Six3 Sox3 Gaba_9', '1448 SI-MPO-LPO Lhx8 Gaba_4', '1462 MPO-ADP Lhx8 Gaba_2', '0140 L2/3 IT PIR-ENTl Glut_1', '5302 VLMC NN_3', '2635 CM-IAD-CL-PCN Sema5b Glut_1', '0695 RHP-COA Ndnf Gaba_3', '1506 PVR Six3 Sox3 Gaba_1', '5236 Astro-OLF NN_3', '0762 Sst Gaba_2', '0763 Sst Gaba_2', '5241 Astroependymal NN_3', '2109 LHA Barhl2 Glut_2', '2379 PVH-SO-PVa Otp Glut_4', '2376 PVH-SO-PVa Otp Glut_3', '0581 OB-mi Frmd7 Gaba_1', '0880 NDB-SI-MA-STRv Lhx8 Gaba_3', '0888 NDB-SI-MA-STRv Lhx8 Gaba_3', '1641 PVHd-SBPV Six3 Prox1 Gaba_3', '0905 NDB-SI-MA-STRv Lhx8 Gaba_7', '1876 PVpo-VMPO-MPN Hmx2 Gaba_1', '1993 TRS-BAC Sln Glut_2', '0183 IT AON-TT-DP Glut_5', '2571 MM Foxb1 Glut_1', '0418 L6b/CT ENT Glut_3', '1840 TU-ARH Otp Six6 Gaba_1', '1967 ARH-PVp Tbx3 Gaba_2', '0925 PAL-STR Gaba-Chol_1', '1759 ZI Pax6 Gaba_7', '1666 AHN-SBPV-PVHd Pdrm12 Gaba_4', '2914 PRC-PAG Tcf7l2 Irx2 Glut_2', '0236 LA-BLA-BMA-PA Glut_3', '0786 Sst Gaba_6', '1244 MEA-BST Lhx6 Sp9 Gaba_2', '1521 PVR Six3 Sox3 Gaba_5', '3438 SNr-VTA Pax5 Npas1 Gaba_1', '0244 LA-BLA-BMA-PA Glut_4', '2103 LHA Barhl2 Glut_1', '0220 COAp Grxcr2 Glut_2', '1764 ZI Pax6 Gaba_7', '2039 COAa-PAA-MEA Barhl2 Glut_6', '2033 COAa-PAA-MEA Barhl2 Glut_4', '0135 L2/3 IT ENT Glut_5', '1458 MPO-ADP Lhx8 Gaba_1', '1970 ARH-PVp Tbx3 Gaba_3', '2337 LHA-AHN-PVH Otp Trh Glut_4', '2107 LHA Barhl2 Glut_2', '2117 ADP-MPO Trp73 Glut_1', '0774 Sst Gaba_3', '0704 RHP-COA Ndnf Gaba_6', '0681 Sncg Gaba_5', '0458 CT SUB Glut_1', '0772 Sst Gaba_3', '0613 OB-STR-CTX Inh IMN_4', '0517 DG-PIR Ex IMN_3', '1614 SCH Six6 Cdc14a Gaba_2', '1634 PVHd-SBPV Six3 Prox1 Gaba_2', '1625 PVHd Gsc Gaba_1', '2650 TH Prkcd Grin2c Glut_2', '1246 MEA-BST Lhx6 Sp9 Gaba_2', '5232 Astro-OLF NN_1', '0005 CLA-EPd-CTX Car3 Glut_2', '5261 Ependymal NN_2', '5274 COP NN_1', '0785 Sst Gaba_6', '1607 SCH Six6 Cdc14a Gaba_1', '1642 PVHd-SBPV Six3 Prox1 Gaba_4', '1515 PVR Six3 Sox3 Gaba_4', '0321 L2 IT PPP-APr Glut_1', '2339 LHA-AHN-PVH Otp Trh Glut_5', '2336 LHA-AHN-PVH Otp Trh Glut_3', '2345 AHN-RCH-LHA Otp Fezf1 Glut_2', '2347 AHN-RCH-LHA Otp Fezf1 Glut_2', '1845 TU-ARH Otp Six6 Gaba_2', '2545 PH-SUM Foxa1 Glut_3', '3838 SNc-VTA-RAmb Foxa1 Dopa_1', '2405 PH-ant-LHA Otp Bsx Glut_3', '2414 PH-ant-LHA Otp Bsx Glut_5', '1619 DMH Prdm13 Gaba_1', '1624 DMH Prdm13 Gaba_2', '2225 DMH Nkx2-4 Glut_1', '2511 PH-LHA Foxb1 Glut_3', '0422 L6b/CT ENT Glut_4', '4535 NTS Dbh Glut_2', '0484 NP PPP Glut_1', '2353 AHN-RCH-LHA Otp Fezf1 Glut_3', '2087 AVPV-MEPO-SFO Tbr1 Glut_3', '2390 PH-ant-LHA Otp Bsx Glut_1', '2760 MB-ant-ve Dmrta2 Glut_1', '3005 SPA-SPFm-SPFp-POL-PIL-PoT Sp9 Glut_12', '2485 PH Pitx2 Glut_2', '2482 PH Pitx2 Glut_1', '2454 STN-PSTN Pitx2 Glut_5', '2293 VMH Fezf1 Glut_1', '1576 TMv-PMv Tbx3 Hist-Gaba_1', '1862 TMd-DMH Foxd2 Gaba_1', '1867 TMd-DMH Foxd2 Gaba_1', '1945 DMH Hmx2 Gaba_3', '2435 STN-PSTN Pitx2 Glut_1', '2439 STN-PSTN Pitx2 Glut_2', '2098 AVPV-MEPO-SFO Tbr1 Glut_5', '2086 AVPV-MEPO-SFO Tbr1 Glut_3', '0274 CA1-ProS Glut_2', '0269 CA1-ProS Glut_1', '0304 CA3 Glut_2', '0315 CA3 Glut_4', '0312 CA3 Glut_3', '0330 L2/3 IT PPP Glut_1', '4986 PAS-MV Ebf2 Gly-Gaba_2', '1848 TU-ARH Otp Six6 Gaba_2', '2696 RE-Xi Nox4 Glut_2', '2662 TH Prkcd Grin2c Glut_6', '2683 TH Prkcd Grin2c Glut_13', '2712 PF Fzd5 Glut_1', '1565 BST-MPN Six3 Nrgn Gaba_7', '1566 BST-MPN Six3 Nrgn Gaba_7', '1882 PVpo-VMPO-MPN Hmx2 Gaba_1', '1505 PVR Six3 Sox3 Gaba_1', '5251 Ependymal NN_1', '5244 Tanycyte NN_1', '5243 Tanycyte NN_1', '0828 Sst Gaba_19', '5234 Astro-OLF NN_2', '5237 Astroependymal NN_1', '2675 TH Prkcd Grin2c Glut_9', '2678 TH Prkcd Grin2c Glut_10', '1690 SBPV-PVa Six6 Satb2 Gaba_2', '0245 LA-BLA-BMA-PA Glut_5', '3133 PAG Pou4f1 Ebf2 Glut_5', '2844 APN C1ql2 Glut_1', '2997 SPA-SPFm-SPFp-POL-PIL-PoT Sp9 Glut_9', '1461 MPO-ADP Lhx8 Gaba_2', '1476 MPO-ADP Lhx8 Gaba_4', '2459 STN-PSTN Pitx2 Glut_7', '1743 ZI Pax6 Gaba_4', '1766 ZI Pax6 Gaba_8', '1768 ZI Pax6 Gaba_8', '1638 PVHd-SBPV Six3 Prox1 Gaba_3', '1639 PVHd-SBPV Six3 Prox1 Gaba_3', '1712 AHN Onecut3 Gaba_3', '1701 AHN Onecut3 Gaba_1', '1703 AHN Onecut3 Gaba_1', '2577 MM Foxb1 Glut_2', '2102 LHA Barhl2 Glut_1', '2139 SI-MA-LPO-LHA Skor1 Glut_1', '0148 L2/3 IT PIR-ENTl Glut_2', '2144 SI-MA-LPO-LHA Skor1 Glut_1', '0143 L2/3 IT PIR-ENTl Glut_1', '2530 PMd-LHA Foxb1 Glut_2', '2476 PH-an Pitx2 Glut_2', '0486 OB Eomes Ms4a15 Glut_1', '0488 OB Eomes Ms4a15 Glut_2', '2593 MH Tac2 Glut_3', '2565 MM-ant Foxb1 Glut_1', '2573 MM Foxb1 Glut_1', '2519 PH-LHA Foxb1 Glut_6', '2566 MM-ant Foxb1 Glut_1', '0172 IT AON-TT-DP Glut_2', '2369 PVH-SO-PVa Otp Glut_2', '2289 DMH-LHA Vgll2 Glut_4', '2271 DMH Hmx2 Glut_1', '2279 ARH-PVp Tbx3 Glut_2', '2281 ARH-PVp Tbx3 Glut_3', '1961 ARH-PVp Tbx3 Gaba_1', '1837 TU-ARH Otp Six6 Gaba_1', '1994 TRS-BAC Sln Glut_2', '1509 PVR Six3 Sox3 Gaba_2', '1610 SCH Six6 Cdc14a Gaba_1', '0791 Sst Gaba_6', '0650 Vip Gaba_7', '0699 RHP-COA Ndnf Gaba_5', '0687 RHP-COA Ndnf Gaba_1', '2365 PVH-SO-PVa Otp Glut_1', '2346 AHN-RCH-LHA Otp Fezf1 Glut_2', '1586 RT-ZI Gnb3 Gaba_2', '1583 RT-ZI Gnb3 Gaba_1', '1844 TU-ARH Otp Six6 Gaba_2', '1936 DMH Hmx2 Gaba_2', '1969 ARH-PVp Tbx3 Gaba_3', '0495 OB Eomes Ms4a15 Glut_5', '1735 ZI Pax6 Gaba_3', '1980 LGv-ZI Otx2 Gaba_4', '1895 PVpo-VMPO-MPN Hmx2 Gaba_2', '1597 RT-ZI Gnb3 Gaba_4', '1598 RT-ZI Gnb3 Gaba_4', '1499 BST Tac2 Gaba_2', '2172 SI-MA-LPO-LHA Skor1 Glut_5', '1979 LGv-ZI Otx2 Gaba_3', '1978 LGv-ZI Otx2 Gaba_2', '3552 PAG-ND-PCG Onecut1 Gaba_3', '0881 NDB-SI-MA-STRv Lhx8 Gaba_3', '0886 NDB-SI-MA-STRv Lhx8 Gaba_3', '1675 AHN-SBPV-PVHd Pdrm12 Gaba_6', '1545 BST-MPN Six3 Nrgn Gaba_3', '0727 Lamp5 Lhx6 Gaba_1', '0728 Lamp5 Lhx6 Gaba_1', '0904 NDB-SI-MA-STRv Lhx8 Gaba_7', '0409 L6b EPd Glut_3', '2375 PVH-SO-PVa Otp Glut_3', '0186 L2 IT ENT-po Glut_1', '2383 PVH-SO-PVa Otp Glut_5', '0550 OB-in Frmd7 Gaba_3', '0557 OB-in Frmd7 Gaba_4', '0611 OB-STR-CTX Inh IMN_4', '0579 OB-mi Frmd7 Gaba_1', '0864 NDB-SI-MA-STRv Lhx8 Gaba_1', '2308 VMH Nr5a1 Glut_2', '1959 DMH Hmx2 Gaba_6', '1941 DMH Hmx2 Gaba_3', '1956 DMH Hmx2 Gaba_5', '2252 MPN-MPO-PVpo Hmx2 Glut_4', '2256 MPN-MPO-PVpo Hmx2 Glut_4', '2242 MPN-MPO-PVpo Hmx2 Glut_2', '2259 MPN-MPO-PVpo Hmx2 Glut_5', '1605 SCH Six6 Cdc14a Gaba_1', '1420 SI-MPO-LPO Lhx8 Gaba_1', '1951 DMH Hmx2 Gaba_4', '1788 DMH-LHA Gsx1 Gaba_1', '1789 DMH-LHA Gsx1 Gaba_1', '1797 DMH-LHA Gsx1 Gaba_2', '1804 DMH-LHA Gsx1 Gaba_2', '2314 VMH Nr5a1 Glut_4', '1445 SI-MPO-LPO Lhx8 Gaba_3', '1447 SI-MPO-LPO Lhx8 Gaba_4', '1430 SI-MPO-LPO Lhx8 Gaba_2', '1432 SI-MPO-LPO Lhx8 Gaba_2', '1433 SI-MPO-LPO Lhx8 Gaba_2', '1441 SI-MPO-LPO Lhx8 Gaba_3', '1449 SI-MPO-LPO Lhx8 Gaba_4', '1534 PVR Six3 Sox3 Gaba_9', '1683 SBPV-PVa Six6 Satb2 Gaba_1', '1685 SBPV-PVa Six6 Satb2 Gaba_1', '1697 SBPV-PVa Six6 Satb2 Gaba_3', '1686 SBPV-PVa Six6 Satb2 Gaba_1', '1687 SBPV-PVa Six6 Satb2 Gaba_1', '1571 ARH-PVi Six6 Dopa-Gaba_1', '1648 AHN-SBPV-PVHd Pdrm12 Gaba_1', '1662 AHN-SBPV-PVHd Pdrm12 Gaba_3', '0524 OB Meis2 Thsd7b Gaba_2', '0875 NDB-SI-MA-STRv Lhx8 Gaba_2', '1636 PVHd-SBPV Six3 Prox1 Gaba_2', '1684 SBPV-PVa Six6 Satb2 Gaba_1', '0339 L2/3 IT PPP Glut_3', '0398 L5 PPP Glut_1', '0263 CA1-ProS Glut_1', '0273 CA1-ProS Glut_2', '0168 IT AON-TT-DP Glut_1', '1664 AHN-SBPV-PVHd Pdrm12 Gaba_4', '2101 LHA Barhl2 Glut_1', '0419 L6b/CT ENT Glut_3', '1674 AHN-SBPV-PVHd Pdrm12 Gaba_6', '1544 BST-MPN Six3 Nrgn Gaba_3', '1561 BST-MPN Six3 Nrgn Gaba_6', '0019 IT EP-CLA Glut_3', '1916 PVpo-VMPO-MPN Hmx2 Gaba_5', '2241 MPN-MPO-PVpo Hmx2 Glut_2', '2236 MPN-MPO-PVpo Hmx2 Glut_1', '2265 DMH Hmx2 Glut_1', '2280 ARH-PVp Tbx3 Glut_2', '0591 OB Dopa-Gaba_3', '0575 OB-out Frmd7 Gaba_2', '0578 OB-out Frmd7 Gaba_3', '2283 ARH-PVp Tbx3 Glut_4', '1870 PVpo-VMPO-MPN Hmx2 Gaba_1', '1893 PVpo-VMPO-MPN Hmx2 Gaba_2', '1913 PVpo-VMPO-MPN Hmx2 Gaba_5', '1910 PVpo-VMPO-MPN Hmx2 Gaba_4', '1875 PVpo-VMPO-MPN Hmx2 Gaba_1', '1911 PVpo-VMPO-MPN Hmx2 Gaba_4', '1877 PVpo-VMPO-MPN Hmx2 Gaba_1', '1036 NDB-SI-ant Prdm12 Gaba_1', '1035 NDB-SI-ant Prdm12 Gaba_1', '0482 NP SUB Glut_2', '2621 PVT-PT Ntrk1 Glut_2', '2229 DMH Nkx2-4 Glut_2', '2080 AVPV-MEPO-SFO Tbr1 Glut_2', '2122 ADP-MPO Trp73 Glut_2', '2364 PVH-SO-PVa Otp Glut_1', '4469 CU-ECU-SPVI Foxb1 Glut_2', '1306 MEA-BST Lhx6 Nfib Gaba_5', '0891 NDB-SI-MA-STRv Lhx8 Gaba_4', '2663 TH Prkcd Grin2c Glut_6', '2317 VMH Nr5a1 Glut_5', '0480 NP SUB Glut_2', '0262 CA1-ProS Glut_1', '1623 DMH Prdm13 Gaba_2', '2350 AHN-RCH-LHA Otp Fezf1 Glut_2', '2385 PVH-SO-PVa Otp Glut_6', '2313 VMH Nr5a1 Glut_3', '2307 VMH Nr5a1 Glut_2', '0123 L2/3 IT ENT Glut_1', '1620 DMH Prdm13 Gaba_1', '0125 L2/3 IT ENT Glut_2', '0126 L2/3 IT ENT Glut_2', '2360 AHN-RCH-LHA Otp Fezf1 Glut_5', '2543 PH-SUM Foxa1 Glut_3', '0206 MEA Slc17a7 Glut_2', '0215 COAp Grxcr2 Glut_1', '0162 L2/3 IT PIR-ENTl Glut_6', '2491 PH Pitx2 Glut_2', '2481 PH Pitx2 Glut_1', '2484 PH Pitx2 Glut_1', '1750 ZI Pax6 Gaba_5', '1777 ZI Pax6 Gaba_9', '1772 ZI Pax6 Gaba_8', '1773 ZI Pax6 Gaba_8', '1778 ZI Pax6 Gaba_9', '1985 LGv-ZI Otx2 Gaba_5', '0216 COAp Grxcr2 Glut_2', '1719 ZI Pax6 Gaba_1', '2949 SPA-SPFm-SPFp-POL-PIL-PoT Sp9 Glut_3', '2977 SPA-SPFm-SPFp-POL-PIL-PoT Sp9 Glut_6', '2934 SPA-SPFm-SPFp-POL-PIL-PoT Sp9 Glut_1', '2613 AD Serpinb7 Glut_1', '2671 TH Prkcd Grin2c Glut_8', '2136 SI-MA-LPO-LHA Skor1 Glut_1', '2162 SI-MA-LPO-LHA Skor1 Glut_3', '2497 PH Pitx2 Glut_2', '3800 SCsg Gabrr2 Gaba_1', '0302 CA3 Glut_2', '1464 MPO-ADP Lhx8 Gaba_2', '1482 MPO-ADP Lhx8 Gaba_5', '2665 TH Prkcd Grin2c Glut_7', '2349 AHN-RCH-LHA Otp Fezf1 Glut_2', '1472 MPO-ADP Lhx8 Gaba_4', '0247 LA-BLA-BMA-PA Glut_5', '2367 PVH-SO-PVa Otp Glut_1', '2111 LHA Barhl2 Glut_2', '2527 PMd-LHA Foxb1 Glut_2', '2546 PH-SUM Foxa1 Glut_3', '2542 PH-SUM Foxa1 Glut_2', '2559 PH-SUM Foxa1 Glut_6', '2608 LH Pou4f1 Sox1 Glut_3', '3656 LGv-SPFp-SPFm Nkx2-2 Tcf7l2 Gaba_4']\n"
     ]
    }
   ],
   "source": [
    "level = \"cluster\"\n",
    "min_count = 6\n",
    "\n",
    "# drop rare classes (<6 cells b/c we are doing 80/20 split twice, so 6->5,1, 5->4,1)\n",
    "s = adata.obs[level]\n",
    "counts = s.value_counts()\n",
    "rare_labels = counts[counts < min_count].index\n",
    "keep_mask = ~s.isin(rare_labels)\n",
    "\n",
    "print(f\"Dropping {(~keep_mask).sum()} cells from {len(rare_labels)} rare labels: {list(rare_labels)}\")\n",
    "adata = adata[keep_mask].copy()"
   ]
  },
  {
   "cell_type": "code",
   "execution_count": 44,
   "id": "17c6025f-bfda-4106-8249-edccba27e290",
   "metadata": {},
   "outputs": [
    {
     "data": {
      "text/plain": [
       "cluster\n",
       "5225 Astro-TE NN_3                 60004\n",
       "0109 L2/3 IT CTX Glut_2            40156\n",
       "5312 Microglia NN_1                35218\n",
       "5285 MOL NN_4                      33538\n",
       "5269 OPC NN_1                      29289\n",
       "                                   ...  \n",
       "2036 COAa-PAA-MEA Barhl2 Glut_5        6\n",
       "1494 BST Tac2 Gaba_1                   6\n",
       "2037 COAa-PAA-MEA Barhl2 Glut_5        6\n",
       "0775 Sst Gaba_3                        6\n",
       "5320 ILC NN_2                          6\n",
       "Name: count, Length: 1320, dtype: int64"
      ]
     },
     "execution_count": 44,
     "metadata": {},
     "output_type": "execute_result"
    }
   ],
   "source": [
    "adata.obs[\"cluster\"].value_counts()"
   ]
  },
  {
   "cell_type": "code",
   "execution_count": 45,
   "id": "27039d60-43cb-4b86-9930-922c97bbb4be",
   "metadata": {},
   "outputs": [],
   "source": [
    "adata.obs['feature_matrix_label'] = cell_extended['feature_matrix_label']"
   ]
  },
  {
   "cell_type": "code",
   "execution_count": 46,
   "id": "6da06268-a264-40b4-ac48-766f5e99e548",
   "metadata": {},
   "outputs": [
    {
     "data": {
      "text/plain": [
       "feature_matrix_label\n",
       "WMB-10Xv3-STR            283132\n",
       "WMB-10Xv3-Isocortex-2    227534\n",
       "WMB-10Xv3-Isocortex-1    227443\n",
       "Name: count, dtype: int64"
      ]
     },
     "execution_count": 46,
     "metadata": {},
     "output_type": "execute_result"
    }
   ],
   "source": [
    "adata.obs['feature_matrix_label'].value_counts()"
   ]
  },
  {
   "cell_type": "code",
   "execution_count": 47,
   "id": "a276e304-24b8-4019-b160-8b48a1fa95db",
   "metadata": {},
   "outputs": [],
   "source": [
    "sc.pp.highly_variable_genes(adata, n_top_genes=3500, batch_key='feature_matrix_label')"
   ]
  },
  {
   "cell_type": "code",
   "execution_count": 48,
   "id": "c2471ea4-52bf-405e-ac92-47743502ba06",
   "metadata": {},
   "outputs": [
    {
     "data": {
      "text/plain": [
       "AnnData object with n_obs × n_vars = 738109 × 32285\n",
       "    obs: 'cell_barcode', 'library_label', 'anatomical_division_label', 'neurotransmitter', 'class', 'subclass', 'supertype', 'cluster', 'feature_matrix_label'\n",
       "    var: 'highly_variable', 'means', 'dispersions', 'dispersions_norm', 'highly_variable_nbatches', 'highly_variable_intersection'\n",
       "    uns: 'hvg'"
      ]
     },
     "execution_count": 48,
     "metadata": {},
     "output_type": "execute_result"
    }
   ],
   "source": [
    "adata"
   ]
  },
  {
   "cell_type": "code",
   "execution_count": 49,
   "id": "c9c35a41-8039-4dac-8811-d16351ff9dbd",
   "metadata": {},
   "outputs": [],
   "source": [
    "mouse_whole_brain_anndata = adata"
   ]
  },
  {
   "cell_type": "code",
   "execution_count": 50,
   "id": "02bfd8b7-84e7-437a-9c74-94fc9bededbe",
   "metadata": {},
   "outputs": [],
   "source": [
    "mouse_whole_brain_anndata.write(\"/gpfs/scratch/blukacsy/abc_atlas/data/mouse_whole_brain_anndata.h5ad\")"
   ]
  },
  {
   "cell_type": "code",
   "execution_count": 51,
   "id": "ea5a8ccd-cbe1-4796-b36d-890a6f9542c4",
   "metadata": {},
   "outputs": [],
   "source": [
    "mouse_whole_brain_anndata = anndata.read_h5ad(\"/gpfs/scratch/blukacsy/abc_atlas/data/mouse_whole_brain_anndata.h5ad\")"
   ]
  },
  {
   "cell_type": "code",
   "execution_count": 52,
   "id": "cedabe41-de3c-47a7-8687-88f87e9fa2a1",
   "metadata": {},
   "outputs": [
    {
     "data": {
      "text/plain": [
       "AnnData object with n_obs × n_vars = 738109 × 32285\n",
       "    obs: 'cell_barcode', 'library_label', 'anatomical_division_label', 'neurotransmitter', 'class', 'subclass', 'supertype', 'cluster', 'feature_matrix_label'\n",
       "    var: 'highly_variable', 'means', 'dispersions', 'dispersions_norm', 'highly_variable_nbatches', 'highly_variable_intersection'\n",
       "    uns: 'hvg'"
      ]
     },
     "execution_count": 52,
     "metadata": {},
     "output_type": "execute_result"
    }
   ],
   "source": [
    "mouse_whole_brain_anndata"
   ]
  },
  {
   "cell_type": "code",
   "execution_count": 53,
   "id": "7a14cc42-74fa-4f91-89b7-8ebf4e6e80a4",
   "metadata": {},
   "outputs": [
    {
     "name": "stdout",
     "output_type": "stream",
     "text": [
      "Renamed 1663 in supertype → 0001 CLA-EPd-CTX Car3 Glut_1_broad\n",
      "Renamed 78 in cluster  → 0001 CLA-EPd-CTX Car3 Glut_1_fine\n"
     ]
    },
    {
     "name": "stderr",
     "output_type": "stream",
     "text": [
      "/tmp/ipykernel_504870/723809566.py:18: DeprecationWarning: is_categorical_dtype is deprecated and will be removed in a future version. Use isinstance(dtype, pd.CategoricalDtype) instead\n",
      "  if is_categorical_dtype(ad.obs[parent_col]):\n",
      "/tmp/ipykernel_504870/723809566.py:20: DeprecationWarning: is_categorical_dtype is deprecated and will be removed in a future version. Use isinstance(dtype, pd.CategoricalDtype) instead\n",
      "  if is_categorical_dtype(ad.obs[child_col]):\n",
      "/tmp/ipykernel_504870/723809566.py:26: DeprecationWarning: is_categorical_dtype is deprecated and will be removed in a future version. Use isinstance(dtype, pd.CategoricalDtype) instead\n",
      "  if is_categorical_dtype(ad.obs[parent_col]):\n",
      "/tmp/ipykernel_504870/723809566.py:28: DeprecationWarning: is_categorical_dtype is deprecated and will be removed in a future version. Use isinstance(dtype, pd.CategoricalDtype) instead\n",
      "  if is_categorical_dtype(ad.obs[child_col]):\n"
     ]
    }
   ],
   "source": [
    "from pandas.api.types import is_categorical_dtype\n",
    "\n",
    "label = \"0001 CLA-EPd-CTX Car3 Glut_1\"\n",
    "parent_col = \"supertype\"\n",
    "child_col = \"cluster\"\n",
    "\n",
    "parent_new = f\"{label}_broad\"\n",
    "child_new  = f\"{label}_fine\"\n",
    "\n",
    "def explicit_rename(ad, parent_col, child_col, old, new_parent, new_child):\n",
    "    \n",
    "    s_parent = ad.obs[parent_col].astype(\"string\")\n",
    "    s_child  = ad.obs[child_col].astype(\"string\")\n",
    "\n",
    "    n_parent = int((s_parent == old).sum())\n",
    "    n_child  = int((s_child  == old).sum())\n",
    "\n",
    "    if is_categorical_dtype(ad.obs[parent_col]):\n",
    "        ad.obs[parent_col] = ad.obs[parent_col].cat.add_categories([new_parent])\n",
    "    if is_categorical_dtype(ad.obs[child_col]):\n",
    "        ad.obs[child_col] = ad.obs[child_col].cat.add_categories([new_child])\n",
    "\n",
    "    ad.obs.loc[s_parent == old, parent_col] = new_parent\n",
    "    ad.obs.loc[s_child  == old, child_col]  = new_child\n",
    "\n",
    "    if is_categorical_dtype(ad.obs[parent_col]):\n",
    "        ad.obs[parent_col] = ad.obs[parent_col].cat.remove_unused_categories()\n",
    "    if is_categorical_dtype(ad.obs[child_col]):\n",
    "        ad.obs[child_col] = ad.obs[child_col].cat.remove_unused_categories()\n",
    "\n",
    "    print(f\"Renamed {n_parent} in {parent_col} → {new_parent}\")\n",
    "    print(f\"Renamed {n_child} in {child_col}  → {new_child}\")\n",
    "\n",
    "explicit_rename(mouse_whole_brain_anndata, parent_col, child_col, label, parent_new, child_new)"
   ]
  },
  {
   "cell_type": "code",
   "execution_count": 54,
   "id": "5ea0097f-79b9-45dc-bf2d-aa7b9d6e9e7a",
   "metadata": {},
   "outputs": [],
   "source": [
    "mouse_whole_brain_anndata.write(\"/gpfs/scratch/blukacsy/abc_atlas/data/mouse_whole_brain_anndata.h5ad\")"
   ]
  },
  {
   "cell_type": "code",
   "execution_count": 55,
   "id": "cd6aff99-7a61-4ae7-a7a1-de805d35e792",
   "metadata": {},
   "outputs": [],
   "source": [
    "def holdout_subset(name, anndata, split, seed):\n",
    "    train_anndata, test_anndata = train_test_split(anndata.obs.index, test_size=split, random_state=seed, stratify=anndata.obs[\"cluster\"].values)\n",
    "    print(f'{name}_train_anndata shape', train_anndata.shape)\n",
    "    print(f'{name}_test_anndata shape', test_anndata.shape)\n",
    "    print()\n",
    "\n",
    "    train_anndata = anndata[train_anndata].copy()\n",
    "    test_anndata = anndata[test_anndata].copy()\n",
    "\n",
    "    train_anndata.write(f\"/gpfs/scratch/blukacsy/abc_atlas/data/{name}_train_anndata.h5ad\")\n",
    "    test_anndata.write(f\"/gpfs/scratch/blukacsy/abc_atlas/data/{name}_test_anndata.h5ad\")"
   ]
  },
  {
   "cell_type": "code",
   "execution_count": 56,
   "id": "52b7fdd2-e4b6-4041-95d1-f19f3e16b745",
   "metadata": {
    "scrolled": true
   },
   "outputs": [
    {
     "name": "stdout",
     "output_type": "stream",
     "text": [
      "mouse_whole_brain_train_anndata shape (590487,)\n",
      "mouse_whole_brain_test_anndata shape (147622,)\n",
      "\n"
     ]
    }
   ],
   "source": [
    "seed = 8653\n",
    "split = 0.2\n",
    "holdout_subset(\"mouse_whole_brain\", mouse_whole_brain_anndata, split, seed)"
   ]
  },
  {
   "cell_type": "code",
   "execution_count": 57,
   "id": "9fcd58f1-b6ab-4aac-86cd-36f38b6e5642",
   "metadata": {},
   "outputs": [],
   "source": [
    "mouse_whole_brain_train_anndata = anndata.read_h5ad(\"/gpfs/scratch/blukacsy/abc_atlas/data/mouse_whole_brain_train_anndata.h5ad\")\n",
    "mouse_whole_brain_test_anndata = anndata.read_h5ad(\"/gpfs/scratch/blukacsy/abc_atlas/data/mouse_whole_brain_test_anndata.h5ad\")"
   ]
  },
  {
   "cell_type": "code",
   "execution_count": 58,
   "id": "745f068e-96e2-430c-831a-56794ae637cd",
   "metadata": {
    "scrolled": true
   },
   "outputs": [
    {
     "name": "stdout",
     "output_type": "stream",
     "text": [
      "['0953 STR D1 Gaba_4', '1279 MEA-BST Lhx6 Nr2e1 Gaba_2', '5227 Astro-TE NN_3', '5284 MOL NN_4', '1291 MEA-BST Lhx6 Nfib Gaba_2', ..., '0869 NDB-SI-MA-STRv Lhx8 Gaba_1', '2191 SI-MA-LPO-LHA Skor1 Glut_6', '0401 CA2-FC-IG Glut_2', '0868 NDB-SI-MA-STRv Lhx8 Gaba_1', '1286 MEA-BST Lhx6 Nfib Gaba_1']\n",
      "Length: 1320\n",
      "Categories (1320, object): ['0002 CLA-EPd-CTX Car3 Glut_1', '0003 CLA-EPd-CTX Car3 Glut_1', '0004 CLA-EPd-CTX Car3 Glut_1', '0006 IT EP-CLA Glut_1', ..., '5320 ILC NN_2', '5321 NK cells NN_3', '5322 T cells NN_4', '0001 CLA-EPd-CTX Car3 Glut_1_fine']\n",
      "Number of unique sub cell types: 1320\n",
      "\n",
      "['5311 Endo NN_1', '0116 L2/3 IT CTX Glut_3', '0962 STR D1 Gaba_8', '0612 OB-STR-CTX Inh IMN_4', '1384 CEA-BST Ebf1 Pdyn Gaba_1', ..., '0694 RHP-COA Ndnf Gaba_3', '0564 OB-in Frmd7 Gaba_5', '0869 NDB-SI-MA-STRv Lhx8 Gaba_1', '1021 IA Mgp Gaba_3', '0525 OB Meis2 Thsd7b Gaba_3']\n",
      "Length: 1320\n",
      "Categories (1320, object): ['0002 CLA-EPd-CTX Car3 Glut_1', '0003 CLA-EPd-CTX Car3 Glut_1', '0004 CLA-EPd-CTX Car3 Glut_1', '0006 IT EP-CLA Glut_1', ..., '5320 ILC NN_2', '5321 NK cells NN_3', '5322 T cells NN_4', '0001 CLA-EPd-CTX Car3 Glut_1_fine']\n",
      "Number of unique sub cell types: 1320\n",
      "\n"
     ]
    }
   ],
   "source": [
    "print_stats(mouse_whole_brain_train_anndata, \"cluster\")\n",
    "print_stats(mouse_whole_brain_test_anndata, \"cluster\")"
   ]
  },
  {
   "cell_type": "code",
   "execution_count": 59,
   "id": "24ccb8c4-8215-46fd-aa81-a3443631cb64",
   "metadata": {},
   "outputs": [
    {
     "data": {
      "text/plain": [
       "cluster\n",
       "5225 Astro-TE NN_3                    48003\n",
       "0109 L2/3 IT CTX Glut_2               32125\n",
       "5312 Microglia NN_1                   28174\n",
       "5285 MOL NN_4                         26830\n",
       "5269 OPC NN_1                         23431\n",
       "                                      ...  \n",
       "1522 PVR Six3 Sox3 Gaba_5                 5\n",
       "1489 MPN-MPO-LPO Lhx6 Zfhx3 Gaba_2        5\n",
       "0560 OB-in Frmd7 Gaba_5                   5\n",
       "0568 OB-out Frmd7 Gaba_1                  5\n",
       "5320 ILC NN_2                             5\n",
       "Name: count, Length: 1320, dtype: int64"
      ]
     },
     "execution_count": 59,
     "metadata": {},
     "output_type": "execute_result"
    }
   ],
   "source": [
    "mouse_whole_brain_train_anndata.obs[\"cluster\"].value_counts()"
   ]
  },
  {
   "cell_type": "code",
   "execution_count": 60,
   "id": "8e3a12cb-60d1-495d-a922-e7475eac6adb",
   "metadata": {},
   "outputs": [
    {
     "data": {
      "text/plain": [
       "cluster\n",
       "5225 Astro-TE NN_3              12001\n",
       "0109 L2/3 IT CTX Glut_2          8031\n",
       "5312 Microglia NN_1              7044\n",
       "5285 MOL NN_4                    6708\n",
       "5269 OPC NN_1                    5858\n",
       "                                ...  \n",
       "0147 L2/3 IT PIR-ENTl Glut_2        1\n",
       "0152 L2/3 IT PIR-ENTl Glut_3        1\n",
       "0158 L2/3 IT PIR-ENTl Glut_4        1\n",
       "0654 Vip Gaba_9                     1\n",
       "5320 ILC NN_2                       1\n",
       "Name: count, Length: 1320, dtype: int64"
      ]
     },
     "execution_count": 60,
     "metadata": {},
     "output_type": "execute_result"
    }
   ],
   "source": [
    "mouse_whole_brain_test_anndata.obs[\"cluster\"].value_counts()"
   ]
  },
  {
   "cell_type": "code",
   "execution_count": 61,
   "id": "4697b471-a951-4b28-a85a-dcf1bf43dea6",
   "metadata": {},
   "outputs": [],
   "source": [
    "hierarchy = ['class', 'subclass', 'supertype', 'cluster']"
   ]
  },
  {
   "cell_type": "code",
   "execution_count": 62,
   "id": "873ba1b2-094f-4be8-b31f-960bb002e683",
   "metadata": {},
   "outputs": [],
   "source": [
    "mouse_whole_brain_hierarchy_dict = {}"
   ]
  },
  {
   "cell_type": "code",
   "execution_count": 63,
   "id": "84b266ad-74f3-4961-bf1e-5d7991cf3776",
   "metadata": {},
   "outputs": [],
   "source": [
    "def add_path(root, path):\n",
    "    global count\n",
    "    node = root\n",
    "    prev = None \n",
    "    for label in path:\n",
    "        if (label == prev): continue\n",
    "        node = node.setdefault(label, {})\n",
    "        prev = label\n",
    "\n",
    "def create_hierarchy_dict(anndata, hierarchy_dict):\n",
    "    unique_paths = anndata.obs[hierarchy].drop_duplicates().values\n",
    "    for path in unique_paths: add_path(hierarchy_dict, path)"
   ]
  },
  {
   "cell_type": "code",
   "execution_count": 64,
   "id": "227277e1-fbcf-4457-a315-f15641ff996b",
   "metadata": {},
   "outputs": [],
   "source": [
    "create_hierarchy_dict(mouse_whole_brain_train_anndata, mouse_whole_brain_hierarchy_dict)"
   ]
  },
  {
   "cell_type": "code",
   "execution_count": 65,
   "id": "406425bd-eac7-455f-8700-5dea5accda6a",
   "metadata": {},
   "outputs": [],
   "source": [
    "import json\n",
    "def save_hierarchy_dict(name, hierarchy_dict):\n",
    "    with open(f\"/gpfs/scratch/blukacsy/abc_atlas/data/{name}_hierarchy_dict.json\", \"w\") as file:\n",
    "        json.dump(hierarchy_dict, file, indent=4)"
   ]
  },
  {
   "cell_type": "code",
   "execution_count": 66,
   "id": "0f6df607-161a-4555-afdc-2dac16f1e490",
   "metadata": {},
   "outputs": [],
   "source": [
    "save_hierarchy_dict(\"mouse_whole_brain\", mouse_whole_brain_hierarchy_dict)"
   ]
  },
  {
   "cell_type": "code",
   "execution_count": 67,
   "id": "62f05924-5f3b-4378-a578-33bd21c9e838",
   "metadata": {},
   "outputs": [],
   "source": [
    "import re\n",
    "def create_name(input): return re.sub(r\"[^A-Za-z0-9]+\", \"_\", input).strip(\"_\").lower()"
   ]
  },
  {
   "cell_type": "code",
   "execution_count": 68,
   "id": "6ee0a3f5-58b2-4561-9b73-c53764e6c8a4",
   "metadata": {},
   "outputs": [],
   "source": [
    "def get_leaves(tree):\n",
    "    res = []\n",
    "    for key, value in tree.items():\n",
    "        if value: res.extend(get_leaves(value))\n",
    "        else: res.append(key)\n",
    "    return res"
   ]
  },
  {
   "cell_type": "code",
   "execution_count": 69,
   "id": "fa585c7d-5ed9-455a-88d0-8d4c98d5c671",
   "metadata": {},
   "outputs": [],
   "source": [
    "def preprocess_node(cell_name, dataset_name, node, anndata, split, seed):\n",
    "    sub_dict = {key: get_leaves(value) if value else [key] for key, value in node.items()}\n",
    "    int_mapping = {key: idx for idx, key in enumerate(sub_dict)}\n",
    "\n",
    "    cell_name = create_name(cell_name)\n",
    "    with open(f\"/gpfs/scratch/blukacsy/abc_atlas/data/{dataset_name}_int_mapping_{cell_name}.json\", \"w\") as file:\n",
    "        json.dump(int_mapping, file, indent=4)\n",
    "\n",
    "    reverse_mapping = {value: key for key, values in sub_dict.items() for value in values}\n",
    "    \n",
    "    finest_level = hierarchy[-1]\n",
    "    anndata_subset = anndata[anndata.obs[finest_level].isin(reverse_mapping)].copy()\n",
    "    anndata_subset.obs[\"cell_names\"] = anndata_subset.obs[finest_level].map(reverse_mapping)\n",
    "    anndata_subset.obs[\"cell_integers\"] = anndata_subset.obs[\"cell_names\"].map(int_mapping)\n",
    "    anndata_subset_hvg = anndata_subset[:, anndata_subset.var['highly_variable']].copy()\n",
    "\n",
    "    if scipy.sparse.issparse(anndata_subset_hvg.X):\n",
    "        X = anndata_subset_hvg.X.toarray()\n",
    "    else:\n",
    "        X = anndata_subset_hvg.X\n",
    "    \n",
    "    y = anndata_subset_hvg.obs[\"cell_integers\"].values\n",
    "\n",
    "    train_features, val_features, train_labels, val_labels = train_test_split(X, y, test_size=split, random_state=seed, stratify=y)\n",
    "    weights = compute_class_weight(class_weight='balanced', classes=np.unique(train_labels), y=train_labels)\n",
    "\n",
    "    train_features = np.array(train_features)\n",
    "    val_features = np.array(val_features)\n",
    "    train_labels = np.array(train_labels)\n",
    "    val_labels = np.array(val_labels)\n",
    "    weights = np.array(weights)\n",
    "\n",
    "    np.save(f'/gpfs/scratch/blukacsy/abc_atlas/arrays/{dataset_name}_train_features_hvg_{cell_name}.npy', train_features)\n",
    "    np.save(f'/gpfs/scratch/blukacsy/abc_atlas/arrays/{dataset_name}_val_features_hvg_{cell_name}.npy', val_features)\n",
    "    np.save(f'/gpfs/scratch/blukacsy/abc_atlas/arrays/{dataset_name}_train_labels_hvg_{cell_name}.npy', train_labels)\n",
    "    np.save(f'/gpfs/scratch/blukacsy/abc_atlas/arrays/{dataset_name}_val_labels_hvg_{cell_name}.npy', val_labels)\n",
    "    np.save(f'/gpfs/scratch/blukacsy/abc_atlas/arrays/{dataset_name}_weights_hvg_{cell_name}.npy', weights)\n",
    "\n",
    "    anndata_subset_hvg.write(f\"/gpfs/scratch/blukacsy/abc_atlas/data/{dataset_name}_train_anndata_hvg_{cell_name}.h5ad\")"
   ]
  },
  {
   "cell_type": "code",
   "execution_count": 70,
   "id": "ee642450-b350-454c-90f8-f49a71e0c9a7",
   "metadata": {},
   "outputs": [],
   "source": [
    "def preprocess_leaf(cell_name, dataset_name, leaf, anndata, split, seed):\n",
    "    int_mapping = {key: idx for idx, key in enumerate(leaf)}\n",
    "\n",
    "    cell_name = create_name(cell_name)\n",
    "    with open(f\"/gpfs/scratch/blukacsy/abc_atlas/data/{dataset_name}_int_mapping_{cell_name}.json\", \"w\") as file:\n",
    "        json.dump(int_mapping, file, indent=4)\n",
    "\n",
    "    finest_level = hierarchy[-1]\n",
    "    anndata_subset = anndata[anndata.obs[finest_level].isin(leaf)].copy()\n",
    "    anndata_subset.obs[\"cell_integers\"] = anndata_subset.obs[finest_level].map(int_mapping)\n",
    "    anndata_subset_hvg = anndata_subset[:, anndata_subset.var['highly_variable']].copy()\n",
    "\n",
    "    if scipy.sparse.issparse(anndata_subset_hvg.X):\n",
    "        X = anndata_subset_hvg.X.toarray()\n",
    "    else:\n",
    "        X = anndata_subset_hvg.X\n",
    "    \n",
    "    y = anndata_subset_hvg.obs[\"cell_integers\"].values\n",
    "\n",
    "    train_features, val_features, train_labels, val_labels = train_test_split(X, y, test_size=split, random_state=seed, stratify=y)\n",
    "    weights = compute_class_weight(class_weight='balanced', classes=np.unique(train_labels), y=train_labels)\n",
    "\n",
    "    train_features = np.array(train_features)\n",
    "    val_features = np.array(val_features)\n",
    "    train_labels = np.array(train_labels)\n",
    "    val_labels = np.array(val_labels)\n",
    "    weights = np.array(weights)\n",
    "\n",
    "    np.save(f'/gpfs/scratch/blukacsy/abc_atlas/arrays/{dataset_name}_train_features_hvg_{cell_name}.npy', train_features)\n",
    "    np.save(f'/gpfs/scratch/blukacsy/abc_atlas/arrays/{dataset_name}_val_features_hvg_{cell_name}.npy', val_features)\n",
    "    np.save(f'/gpfs/scratch/blukacsy/abc_atlas/arrays/{dataset_name}_train_labels_hvg_{cell_name}.npy', train_labels)\n",
    "    np.save(f'/gpfs/scratch/blukacsy/abc_atlas/arrays/{dataset_name}_val_labels_hvg_{cell_name}.npy', val_labels)\n",
    "    np.save(f'/gpfs/scratch/blukacsy/abc_atlas/arrays/{dataset_name}_weights_hvg_{cell_name}.npy', weights)\n",
    "\n",
    "    anndata_subset_hvg.write(f\"/gpfs/scratch/blukacsy/abc_atlas/data/{dataset_name}_train_anndata_hvg_{cell_name}.h5ad\")"
   ]
  },
  {
   "cell_type": "code",
   "execution_count": 71,
   "id": "39df11c3-9526-4afd-8448-e9f8113c101b",
   "metadata": {},
   "outputs": [],
   "source": [
    "def hierarchical_classification(cell_name, dataset_name, dict, anndata, split, seed):\n",
    "    children = list(dict)\n",
    "    if (not children): return\n",
    "\n",
    "    if all(not dict[child] for child in children):\n",
    "        preprocess_leaf(cell_name, dataset_name, children, anndata, split, seed)\n",
    "        return\n",
    "    \n",
    "    preprocess_node(cell_name, dataset_name, dict, anndata, split, seed)\n",
    "    for child in children: hierarchical_classification(child, dataset_name, dict[child], anndata, split, seed)"
   ]
  },
  {
   "cell_type": "code",
   "execution_count": 72,
   "id": "094183dd-faad-482e-8175-3a8d638df343",
   "metadata": {},
   "outputs": [
    {
     "name": "stdout",
     "output_type": "stream",
     "text": [
      "done\n"
     ]
    }
   ],
   "source": [
    "seed = 6296\n",
    "split = 0.2\n",
    "hierarchical_classification(\"class\", \"mouse_whole_brain\", mouse_whole_brain_hierarchy_dict, mouse_whole_brain_train_anndata, split, seed)\n",
    "print(\"done\")"
   ]
  },
  {
   "cell_type": "code",
   "execution_count": 73,
   "id": "1979e9e7-0e61-492d-ba0f-716d35691055",
   "metadata": {},
   "outputs": [],
   "source": [
    "def flat_classification(dataset_name, anndata, split, seed, level):\n",
    "    finest_level = level # hierarchy[-1]\n",
    "    cell_types = sorted(anndata.obs[finest_level].unique())\n",
    "\n",
    "    int_mapping = {groups: i for i, groups in enumerate(cell_types)}\n",
    "    with open(f\"/gpfs/scratch/blukacsy/abc_atlas/data/{dataset_name}_{level}_int_mapping_flat.json\", \"w\") as file:\n",
    "        json.dump(int_mapping, file, indent=4)\n",
    "\n",
    "    anndata.obs[\"cell_integers\"] = anndata.obs[finest_level].map(int_mapping)\n",
    "\n",
    "    anndata_hvg = anndata[:, anndata.var['highly_variable']].copy()\n",
    "\n",
    "    if scipy.sparse.issparse(anndata_hvg.X):\n",
    "        X = anndata_hvg.X.toarray()\n",
    "    else:\n",
    "        X = anndata_hvg.X\n",
    "    \n",
    "    y = anndata_hvg.obs[\"cell_integers\"].values\n",
    "\n",
    "    train_features, val_features, train_labels, val_labels = train_test_split(X, y, test_size=split, random_state=seed, stratify=y)\n",
    "    weights = compute_class_weight(class_weight='balanced', classes=np.unique(train_labels), y=train_labels)\n",
    "\n",
    "    train_features = np.array(train_features)\n",
    "    val_features = np.array(val_features)\n",
    "    train_labels = np.array(train_labels)\n",
    "    val_labels = np.array(val_labels)\n",
    "    weights = np.array(weights)\n",
    "\n",
    "    np.save(f'/gpfs/scratch/blukacsy/abc_atlas/arrays/{dataset_name}_{level}_train_features_hvg_flat.npy', train_features)\n",
    "    np.save(f'/gpfs/scratch/blukacsy/abc_atlas/arrays/{dataset_name}_{level}_val_features_hvg_flat.npy', val_features)\n",
    "    np.save(f'/gpfs/scratch/blukacsy/abc_atlas/arrays/{dataset_name}_{level}_train_labels_hvg_flat.npy', train_labels)\n",
    "    np.save(f'/gpfs/scratch/blukacsy/abc_atlas/arrays/{dataset_name}_{level}_val_labels_hvg_flat.npy', val_labels)\n",
    "    np.save(f'/gpfs/scratch/blukacsy/abc_atlas/arrays/{dataset_name}_{level}_weights_hvg_flat.npy', weights)\n",
    "\n",
    "    anndata_hvg.write(f\"/gpfs/scratch/blukacsy/abc_atlas/data/{dataset_name}_{level}_train_anndata_hvg_flat.h5ad\")"
   ]
  },
  {
   "cell_type": "code",
   "execution_count": 74,
   "id": "463ab059-8c68-4039-8b1a-aa818edc77cc",
   "metadata": {},
   "outputs": [
    {
     "name": "stdout",
     "output_type": "stream",
     "text": [
      "boo\n"
     ]
    }
   ],
   "source": [
    "seed = 6296\n",
    "split = 0.2\n",
    "flat_classification(\"mouse_whole_brain\", mouse_whole_brain_train_anndata, split, seed, \"neurotransmitter\")\n",
    "flat_classification(\"mouse_whole_brain\", mouse_whole_brain_train_anndata, split, seed, \"class\")\n",
    "flat_classification(\"mouse_whole_brain\", mouse_whole_brain_train_anndata, split, seed, \"subclass\")\n",
    "flat_classification(\"mouse_whole_brain\", mouse_whole_brain_train_anndata, split, seed, \"supertype\")\n",
    "flat_classification(\"mouse_whole_brain\", mouse_whole_brain_train_anndata, split, seed, \"cluster\")\n",
    "print(\"boo\")"
   ]
  },
  {
   "cell_type": "code",
   "execution_count": 77,
   "id": "015dea1d-6237-4a14-9263-90eb6adaaed2",
   "metadata": {},
   "outputs": [
    {
     "name": "stdout",
     "output_type": "stream",
     "text": [
      "AnnData object with n_obs × n_vars = 36 × 3500\n",
      "    obs: 'cell_barcode', 'library_label', 'anatomical_division_label', 'neurotransmitter', 'class', 'subclass', 'supertype', 'cluster', 'feature_matrix_label', 'cell_names', 'cell_integers'\n",
      "    var: 'highly_variable', 'means', 'dispersions', 'dispersions_norm', 'highly_variable_nbatches', 'highly_variable_intersection'\n",
      "    uns: 'hvg'\n",
      "\n",
      "cluster\n",
      "2651 TH Prkcd Grin2c Glut_3    22\n",
      "2616 AV Col27a1 Glut_1         14\n",
      "Name: count, dtype: int64\n",
      "['2651 TH Prkcd Grin2c Glut_3', '2616 AV Col27a1 Glut_1']\n",
      "Categories (2, object): ['2616 AV Col27a1 Glut_1', '2651 TH Prkcd Grin2c Glut_3']\n",
      "\n",
      "cell_names\n",
      "151 TH Prkcd Grin2c Glut    22\n",
      "148 AV Col27a1 Glut         14\n",
      "Name: count, dtype: int64\n",
      "['151 TH Prkcd Grin2c Glut', '148 AV Col27a1 Glut']\n",
      "Categories (2, object): ['148 AV Col27a1 Glut', '151 TH Prkcd Grin2c Glut']\n",
      "\n",
      "cell_integers\n",
      "0    22\n",
      "1    14\n",
      "Name: count, dtype: int64\n",
      "[0, 1]\n",
      "Categories (2, int64): [1, 0]\n",
      "\n",
      "train features shape: (28, 3500)\n",
      "val features shape: (8, 3500)\n",
      "train labels shape: (28,)\n",
      "val labels shape: (8,)\n",
      "weights shape: (2,)\n",
      "\n",
      "{0: np.float64(0.8235294117647058), 1: np.float64(1.2727272727272727)}\n"
     ]
    }
   ],
   "source": [
    "# look at data to confirm\n",
    "\n",
    "cell_name = create_name(\"18_th_glut\")\n",
    "dataset_name = \"mouse_whole_brain\"\n",
    "\n",
    "anndata = sc.read_h5ad(f\"/gpfs/scratch/blukacsy/abc_atlas/data/{dataset_name}_train_anndata_hvg_{cell_name}.h5ad\")\n",
    "\n",
    "print(anndata)\n",
    "print()\n",
    "print(anndata.obs[hierarchy[-1]].value_counts())\n",
    "print(anndata.obs[hierarchy[-1]].unique())\n",
    "print()\n",
    "print(anndata.obs[\"cell_names\"].value_counts())\n",
    "print(anndata.obs[\"cell_names\"].unique())\n",
    "print()\n",
    "print(anndata.obs[\"cell_integers\"].value_counts())\n",
    "print(anndata.obs[\"cell_integers\"].unique())\n",
    "print()\n",
    "\n",
    "train_features = np.load(f\"/gpfs/scratch/blukacsy/abc_atlas/arrays/{dataset_name}_train_features_hvg_{cell_name}.npy\")\n",
    "val_features = np.load(f\"/gpfs/scratch/blukacsy/abc_atlas/arrays/{dataset_name}_val_features_hvg_{cell_name}.npy\")\n",
    "train_labels = np.load(f\"/gpfs/scratch/blukacsy/abc_atlas/arrays/{dataset_name}_train_labels_hvg_{cell_name}.npy\")\n",
    "val_labels = np.load(f\"/gpfs/scratch/blukacsy/abc_atlas/arrays/{dataset_name}_val_labels_hvg_{cell_name}.npy\")\n",
    "weights = np.load(f\"/gpfs/scratch/blukacsy/abc_atlas/arrays/{dataset_name}_weights_hvg_{cell_name}.npy\")\n",
    "\n",
    "print('train features shape:', train_features.shape)\n",
    "print('val features shape:', val_features.shape)\n",
    "print('train labels shape:', train_labels.shape)\n",
    "print('val labels shape:', val_labels.shape)\n",
    "print('weights shape:', weights.shape)\n",
    "print()\n",
    "\n",
    "class_weights = dict(enumerate(weights))\n",
    "print(class_weights)"
   ]
  },
  {
   "cell_type": "code",
   "execution_count": 39,
   "id": "22f93910-a236-48ec-b7d5-987758672570",
   "metadata": {},
   "outputs": [
    {
     "name": "stdout",
     "output_type": "stream",
     "text": [
      "AnnData object with n_obs × n_vars = 590487 × 3500\n",
      "    obs: 'cell_barcode', 'library_label', 'anatomical_division_label', 'neurotransmitter', 'class', 'subclass', 'supertype', 'cluster', 'feature_matrix_label', 'cell_integers'\n",
      "    var: 'highly_variable', 'means', 'dispersions', 'dispersions_norm', 'highly_variable_nbatches', 'highly_variable_intersection'\n",
      "    uns: 'hvg'\n",
      "\n",
      "class\n",
      "01 IT-ET Glut        161547\n",
      "30 Astro-Epen         72176\n",
      "31 OPC-Oligo          64081\n",
      "09 CNU-LGE GABA       62862\n",
      "02 NP-CT-L6b Glut     52318\n",
      "11 CNU-HYa GABA       32076\n",
      "33 Vascular           32037\n",
      "34 Immune             30176\n",
      "10 LSX GABA           23341\n",
      "06 CTX-CGE GABA       19259\n",
      "13 CNU-HYa Glut       16174\n",
      "07 CTX-MGE GABA       15468\n",
      "08 CNU-MGE GABA        4178\n",
      "05 OB-IMN GABA         3801\n",
      "03 OB-CR Glut           487\n",
      "04 DG-IMN Glut          263\n",
      "14 HY Glut              142\n",
      "18 TH Glut               36\n",
      "32 OEC                   31\n",
      "25 Pineal Glut           15\n",
      "12 HY GABA               14\n",
      "16 HY MM Glut             5\n",
      "Name: count, dtype: int64\n",
      "['09 CNU-LGE GABA', '11 CNU-HYa GABA', '30 Astro-Epen', '31 OPC-Oligo', '01 IT-ET Glut', ..., '18 TH Glut', '16 HY MM Glut', '12 HY GABA', '25 Pineal Glut', '32 OEC']\n",
      "Length: 22\n",
      "Categories (22, object): ['01 IT-ET Glut', '02 NP-CT-L6b Glut', '03 OB-CR Glut', '04 DG-IMN Glut', ..., '31 OPC-Oligo', '32 OEC', '33 Vascular', '34 Immune']\n",
      "\n",
      "cell_integers\n",
      "0     161547\n",
      "17     72176\n",
      "18     64081\n",
      "8      62862\n",
      "1      52318\n",
      "10     32076\n",
      "20     32037\n",
      "21     30176\n",
      "9      23341\n",
      "5      19259\n",
      "12     16174\n",
      "6      15468\n",
      "7       4178\n",
      "4       3801\n",
      "2        487\n",
      "3        263\n",
      "13       142\n",
      "15        36\n",
      "19        31\n",
      "16        15\n",
      "11        14\n",
      "14         5\n",
      "Name: count, dtype: int64\n",
      "[8, 10, 17, 18, 0, ..., 15, 14, 11, 16, 19]\n",
      "Length: 22\n",
      "Categories (22, int64): [0, 1, 2, 3, ..., 18, 19, 20, 21]\n",
      "\n",
      "train features shape: (472389, 3500)\n",
      "val features shape: (118098, 3500)\n",
      "train labels shape: (472389,)\n",
      "val labels shape: (118098,)\n",
      "weights shape: (22,)\n",
      "\n",
      "{0: np.float64(0.166146128993456), 1: np.float64(0.5130268856674935), 2: np.float64(55.056993006993004), 3: np.float64(102.24870129870129), 4: np.float64(7.060909987743266), 5: np.float64(1.3936669872608083), 6: np.float64(1.7352697003981956), 7: np.float64(6.424963277297209), 8: np.float64(0.4269766205875494), 9: np.float64(1.149907742340667), 10: np.float64(0.8367650236829146), 11: np.float64(1952.0206611570247), 12: np.float64(1.6594966591488733), 13: np.float64(188.35287081339712), 14: np.float64(5368.056818181818), 15: np.float64(740.4216300940438), 16: np.float64(1789.3522727272727), 17: np.float64(0.3718714132544859), 18: np.float64(0.41884769867799226), 19: np.float64(858.8890909090909), 20: np.float64(0.8377771077927145), 21: np.float64(0.8894506140063491)}\n"
     ]
    }
   ],
   "source": [
    "level = \"class\"\n",
    "anndata = sc.read_h5ad(f\"/gpfs/scratch/blukacsy/abc_atlas/data/{dataset_name}_{level}_train_anndata_hvg_flat.h5ad\")\n",
    "\n",
    "print(anndata)\n",
    "print()\n",
    "print(anndata.obs[level].value_counts())\n",
    "print(anndata.obs[level].unique())\n",
    "print()\n",
    "print(anndata.obs[\"cell_integers\"].value_counts())\n",
    "print(anndata.obs[\"cell_integers\"].unique())\n",
    "print()\n",
    "\n",
    "train_features = np.load(f\"/gpfs/scratch/blukacsy/abc_atlas/arrays/{dataset_name}_{level}_train_features_hvg_flat.npy\")\n",
    "val_features = np.load(f\"/gpfs/scratch/blukacsy/abc_atlas/arrays/{dataset_name}_{level}_val_features_hvg_flat.npy\")\n",
    "train_labels = np.load(f\"/gpfs/scratch/blukacsy/abc_atlas/arrays/{dataset_name}_{level}_train_labels_hvg_flat.npy\")\n",
    "val_labels = np.load(f\"/gpfs/scratch/blukacsy/abc_atlas/arrays/{dataset_name}_{level}_val_labels_hvg_flat.npy\")\n",
    "weights = np.load(f\"/gpfs/scratch/blukacsy/abc_atlas/arrays/{dataset_name}_{level}_weights_hvg_flat.npy\")\n",
    "\n",
    "print('train features shape:', train_features.shape)\n",
    "print('val features shape:', val_features.shape)\n",
    "print('train labels shape:', train_labels.shape)\n",
    "print('val labels shape:', val_labels.shape)\n",
    "print('weights shape:', weights.shape)\n",
    "print()\n",
    "\n",
    "class_weights = dict(enumerate(weights))\n",
    "print(class_weights)"
   ]
  },
  {
   "cell_type": "code",
   "execution_count": 86,
   "id": "55b8552b-f937-464e-80a1-f6db222cab67",
   "metadata": {},
   "outputs": [
    {
     "name": "stdout",
     "output_type": "stream",
     "text": [
      "Unmapped rows: 62\n",
      "class\n",
      "01 IT-ET Glut        62\n",
      "02 NP-CT-L6b Glut     0\n",
      "03 OB-CR Glut         0\n",
      "04 DG-IMN Glut        0\n",
      "05 OB-IMN GABA        0\n",
      "06 CTX-CGE GABA       0\n",
      "07 CTX-MGE GABA       0\n",
      "08 CNU-MGE GABA       0\n",
      "09 CNU-LGE GABA       0\n",
      "10 LSX GABA           0\n",
      "Name: count, dtype: int64\n",
      "                                    class                   subclass  \\\n",
      "cell_label                                                             \n",
      "ATGCATGTCTATCACT-390_D02    01 IT-ET Glut  001 CLA-EPd-CTX Car3 Glut   \n",
      "TGGAACTTCGTTCGCT-075.2_A01  01 IT-ET Glut  001 CLA-EPd-CTX Car3 Glut   \n",
      "GAAGAATCAGAGTTCT-117_C01    01 IT-ET Glut  001 CLA-EPd-CTX Car3 Glut   \n",
      "CTGTGGGCATGGGCAA-117_D01    01 IT-ET Glut  001 CLA-EPd-CTX Car3 Glut   \n",
      "TGTAGACTCCACAAGT-382_B03    01 IT-ET Glut  001 CLA-EPd-CTX Car3 Glut   \n",
      "CTGCAGGAGAATGTTG-391_C03    01 IT-ET Glut  001 CLA-EPd-CTX Car3 Glut   \n",
      "GAGATGGAGTACTCGT-381_B02    01 IT-ET Glut  001 CLA-EPd-CTX Car3 Glut   \n",
      "CCCTCTCAGGAGAGTA-117_A01    01 IT-ET Glut  001 CLA-EPd-CTX Car3 Glut   \n",
      "GTTACAGAGGTTACAA-116_D01    01 IT-ET Glut  001 CLA-EPd-CTX Car3 Glut   \n",
      "GTTTGGAGTTCAGTAC-075.2_A01  01 IT-ET Glut  001 CLA-EPd-CTX Car3 Glut   \n",
      "\n",
      "                                               supertype  \\\n",
      "cell_label                                                 \n",
      "ATGCATGTCTATCACT-390_D02    0001 CLA-EPd-CTX Car3 Glut_1   \n",
      "TGGAACTTCGTTCGCT-075.2_A01  0001 CLA-EPd-CTX Car3 Glut_1   \n",
      "GAAGAATCAGAGTTCT-117_C01    0001 CLA-EPd-CTX Car3 Glut_1   \n",
      "CTGTGGGCATGGGCAA-117_D01    0001 CLA-EPd-CTX Car3 Glut_1   \n",
      "TGTAGACTCCACAAGT-382_B03    0001 CLA-EPd-CTX Car3 Glut_1   \n",
      "CTGCAGGAGAATGTTG-391_C03    0001 CLA-EPd-CTX Car3 Glut_1   \n",
      "GAGATGGAGTACTCGT-381_B02    0001 CLA-EPd-CTX Car3 Glut_1   \n",
      "CCCTCTCAGGAGAGTA-117_A01    0001 CLA-EPd-CTX Car3 Glut_1   \n",
      "GTTACAGAGGTTACAA-116_D01    0001 CLA-EPd-CTX Car3 Glut_1   \n",
      "GTTTGGAGTTCAGTAC-075.2_A01  0001 CLA-EPd-CTX Car3 Glut_1   \n",
      "\n",
      "                                                 cluster  \n",
      "cell_label                                                \n",
      "ATGCATGTCTATCACT-390_D02    0001 CLA-EPd-CTX Car3 Glut_1  \n",
      "TGGAACTTCGTTCGCT-075.2_A01  0001 CLA-EPd-CTX Car3 Glut_1  \n",
      "GAAGAATCAGAGTTCT-117_C01    0001 CLA-EPd-CTX Car3 Glut_1  \n",
      "CTGTGGGCATGGGCAA-117_D01    0001 CLA-EPd-CTX Car3 Glut_1  \n",
      "TGTAGACTCCACAAGT-382_B03    0001 CLA-EPd-CTX Car3 Glut_1  \n",
      "CTGCAGGAGAATGTTG-391_C03    0001 CLA-EPd-CTX Car3 Glut_1  \n",
      "GAGATGGAGTACTCGT-381_B02    0001 CLA-EPd-CTX Car3 Glut_1  \n",
      "CCCTCTCAGGAGAGTA-117_A01    0001 CLA-EPd-CTX Car3 Glut_1  \n",
      "GTTACAGAGGTTACAA-116_D01    0001 CLA-EPd-CTX Car3 Glut_1  \n",
      "GTTTGGAGTTCAGTAC-075.2_A01  0001 CLA-EPd-CTX Car3 Glut_1  \n"
     ]
    }
   ],
   "source": [
    "# # Flatten all cluster leaves from the tree (across all classes)\n",
    "# def all_leaves(tree):\n",
    "#     out = []\n",
    "#     for k, v in tree.items():\n",
    "#         if v:\n",
    "#             out.extend(all_leaves(v))\n",
    "#         else:\n",
    "#             out.append(k)\n",
    "#     return out\n",
    "\n",
    "# leaves = set(all_leaves(mouse_whole_brain_hierarchy_dict))  # expected cluster names\n",
    "\n",
    "# df = mouse_whole_brain_train_anndata.obs[['class','subclass','supertype','cluster']].copy()\n",
    "\n",
    "# # rows that FAIL membership in your leaf set (these are currently being dropped)\n",
    "# bad_mask = ~df['cluster'].isin(leaves)\n",
    "# print(\"Unmapped rows:\", int(bad_mask.sum()))\n",
    "# print(df.loc[bad_mask, 'class'].value_counts().head(10))\n",
    "# print(df.loc[bad_mask].head(10))"
   ]
  },
  {
   "cell_type": "code",
   "execution_count": 87,
   "id": "a19a038d-a2a6-41be-8e72-729d0c7a3306",
   "metadata": {},
   "outputs": [
    {
     "name": "stdout",
     "output_type": "stream",
     "text": [
      "False\n"
     ]
    }
   ],
   "source": [
    "# def all_leaves(tree):\n",
    "#     out = []\n",
    "#     for k, v in tree.items():\n",
    "#         out.extend(all_leaves(v) if v else [k])\n",
    "#     return out\n",
    "\n",
    "# leaves = set(all_leaves(mouse_whole_brain_hierarchy_dict))\n",
    "# target = \"0001 CLA-EPd-CTX Car3 Glut_1\"\n",
    "# print(target in leaves)  # -> False right now"
   ]
  },
  {
   "cell_type": "code",
   "execution_count": 75,
   "id": "5bea5cad-45e5-40a7-a070-e201f6b6b591",
   "metadata": {},
   "outputs": [
    {
     "name": "stdout",
     "output_type": "stream",
     "text": [
      "mouse_whole_brain 0021_l5_it_ctx_glut_4\n",
      "mouse_whole_brain 0137_dg_glut_2\n",
      "mouse_whole_brain 0122_l5_np_ctx_glut_1\n",
      "mouse_whole_brain 0369_cea_bst_six3_cyp26b1_gaba_3\n",
      "mouse_whole_brain 0510_coaa_paa_mea_barhl2_glut_2\n",
      "mouse_whole_brain 056_sst_chodl_gaba\n",
      "mouse_whole_brain 0218_sst_gaba_5\n",
      "mouse_whole_brain 0382_acb_bst_fs_d1_gaba_2\n",
      "mouse_whole_brain 0346_mea_bst_sox6_gaba_10\n",
      "mouse_whole_brain 0015_l6_it_ctx_glut_3\n",
      "mouse_whole_brain 055_str_lhx8_gaba\n",
      "mouse_whole_brain 330_vlmc_nn\n",
      "mouse_whole_brain 0151_ob_in_frmd7_gaba_2\n",
      "mouse_whole_brain 0277_str_d2_gaba_4\n",
      "mouse_whole_brain 0177_vip_gaba_5\n",
      "mouse_whole_brain 0252_ndb_si_ma_strv_lhx8_gaba_9\n",
      "mouse_whole_brain 0302_lsx_otx2_gaba_2\n",
      "mouse_whole_brain 0362_mea_bst_lhx6_nfib_gaba_6\n",
      "mouse_whole_brain 0358_mea_bst_lhx6_nfib_gaba_2\n",
      "mouse_whole_brain 0322_lsx_prdm12_slit2_gaba_6\n",
      "mouse_whole_brain 0297_ndb_si_ant_prdm12_gaba_3\n",
      "mouse_whole_brain 0235_str_prox1_lhx6_gaba_3\n",
      "mouse_whole_brain 1188_vlmc_nn_2\n",
      "mouse_whole_brain 0368_cea_bst_six3_cyp26b1_gaba_2\n",
      "mouse_whole_brain 0003_it_ep_cla_glut_1\n",
      "mouse_whole_brain 0323_lsx_prdm12_slit2_gaba_7\n",
      "mouse_whole_brain 0180_vip_gaba_8\n",
      "mouse_whole_brain 0345_mea_bst_sox6_gaba_9\n",
      "mouse_whole_brain 0041_l2_3_it_pir_entl_glut_3\n",
      "mouse_whole_brain 0310_lsx_nkx2_1_gaba_5\n",
      "mouse_whole_brain 0305_lsx_otx2_gaba_5\n",
      "mouse_whole_brain 0210_pvalb_gaba_6\n",
      "mouse_whole_brain 319_astro_te_nn\n",
      "mouse_whole_brain 058_pal_str_gaba_chol\n",
      "mouse_whole_brain 0132_ob_eomes_ms4a15_glut_3\n",
      "mouse_whole_brain 0355_mea_bst_lhx6_nr2e1_gaba_2\n",
      "mouse_whole_brain 078_si_ma_acb_ebf1_bnc2_gaba\n",
      "mouse_whole_brain 18_th_glut\n",
      "mouse_whole_brain 0509_coaa_paa_mea_barhl2_glut_1\n",
      "mouse_whole_brain 0020_l5_it_ctx_glut_3\n",
      "mouse_whole_brain 0534_si_ma_lpo_lha_skor1_glut_5\n",
      "mouse_whole_brain 1187_vlmc_nn_1\n",
      "mouse_whole_brain 327_oligo_nn\n",
      "mouse_whole_brain 089_pvr_six3_sox3_gaba\n",
      "mouse_whole_brain 0415_pvr_six3_sox3_gaba_5\n",
      "mouse_whole_brain 0513_coaa_paa_mea_barhl2_glut_5\n",
      "mouse_whole_brain 0026_l4_5_it_ctx_glut_4\n",
      "mouse_whole_brain 0238_sst_chodl_gaba_1\n",
      "mouse_whole_brain 0381_acb_bst_fs_d1_gaba_1\n",
      "mouse_whole_brain 0313_lsx_nkx2_1_gaba_8\n",
      "mouse_whole_brain 0208_pvalb_gaba_4\n",
      "mouse_whole_brain 086_mpo_adp_lhx8_gaba\n",
      "mouse_whole_brain 0007_l5_6_it_tpe_ent_glut_1\n",
      "mouse_whole_brain 072_lsx_sall3_lmo1_gaba\n",
      "mouse_whole_brain 0397_si_mpo_lpo_lhx8_gaba_2\n",
      "mouse_whole_brain 318_astro_nt_nn\n",
      "mouse_whole_brain 0289_str_pal_chst9_gaba_5\n",
      "mouse_whole_brain 13_cnu_hya_glut\n",
      "mouse_whole_brain 0135_hpf_cr_glut_1\n",
      "mouse_whole_brain 01_it_et_glut\n",
      "mouse_whole_brain 067_lsx_sall3_pax6_gaba\n",
      "mouse_whole_brain 0124_l5_np_ctx_glut_3\n",
      "mouse_whole_brain 068_lsx_otx2_gaba\n",
      "mouse_whole_brain 0530_si_ma_lpo_lha_skor1_glut_1\n",
      "mouse_whole_brain 0116_l6_ct_ctx_glut_3\n",
      "mouse_whole_brain 0290_ia_mgp_gaba_1\n",
      "mouse_whole_brain 1159_astro_nt_nn_1\n",
      "mouse_whole_brain 0240_sst_chodl_gaba_3\n",
      "mouse_whole_brain 0169_ob_str_ctx_inh_imn_4\n",
      "mouse_whole_brain 0192_sncg_gaba_8\n",
      "mouse_whole_brain 079_cea_bst_six3_cyp26b1_gaba\n",
      "mouse_whole_brain 0344_mea_bst_sox6_gaba_8\n",
      "mouse_whole_brain 087_mpn_mpo_lpo_lhx6_zfhx3_gaba\n",
      "mouse_whole_brain 1165_astro_te_nn_5\n",
      "mouse_whole_brain 0111_l6b_ctx_glut_2\n",
      "mouse_whole_brain 0363_cea_bst_gal_avp_gaba_1\n",
      "mouse_whole_brain 075_mea_bst_lhx6_nr2e1_gaba\n",
      "mouse_whole_brain 0512_coaa_paa_mea_barhl2_glut_4\n",
      "mouse_whole_brain 0337_mea_bst_sox6_gaba_1\n",
      "mouse_whole_brain 0055_mea_slc17a7_glut_1\n",
      "mouse_whole_brain 065_ia_mgp_gaba\n",
      "mouse_whole_brain 028_l6b_ct_ent_glut\n",
      "mouse_whole_brain 0394_bst_si_aaa_six3_slc22a3_gaba_1\n",
      "mouse_whole_brain 0231_sst_gaba_18\n",
      "mouse_whole_brain 0014_l6_it_ctx_glut_2\n",
      "mouse_whole_brain 0115_l6_ct_ctx_glut_2\n",
      "mouse_whole_brain 022_l5_et_ctx_glut\n",
      "mouse_whole_brain 0227_sst_gaba_14\n",
      "mouse_whole_brain 338_lymphoid_nn\n",
      "mouse_whole_brain 0106_l6b_ct_ent_glut_1\n",
      "mouse_whole_brain 0286_str_pal_chst9_gaba_2\n",
      "mouse_whole_brain 0352_mea_bst_lhx6_sp9_gaba_6\n",
      "mouse_whole_brain 0320_lsx_prdm12_slit2_gaba_4\n",
      "mouse_whole_brain 0168_ob_str_ctx_inh_imn_3\n",
      "mouse_whole_brain 0118_l6_ct_ctx_glut_5\n",
      "mouse_whole_brain 0025_l4_5_it_ctx_glut_3\n",
      "mouse_whole_brain 0247_ndb_si_ma_strv_lhx8_gaba_4\n",
      "mouse_whole_brain 0357_mea_bst_lhx6_nfib_gaba_1\n",
      "mouse_whole_brain 0110_l6b_ctx_glut_1\n",
      "mouse_whole_brain 0409_bst_tac2_gaba_1\n",
      "mouse_whole_brain 0183_vip_gaba_11\n",
      "mouse_whole_brain 0328_lsx_prdm12_zeb2_gaba_3\n",
      "mouse_whole_brain 11_cnu_hya_gaba\n",
      "mouse_whole_brain 0275_str_d2_gaba_2\n",
      "mouse_whole_brain 0203_lamp5_lhx6_gaba_1\n",
      "mouse_whole_brain 0284_str_d1_sema5a_gaba_4\n",
      "mouse_whole_brain 0294_ia_mgp_gaba_5\n",
      "mouse_whole_brain 0193_rhp_coa_ndnf_gaba_1\n",
      "mouse_whole_brain 064_str_pal_chst9_gaba\n",
      "mouse_whole_brain 0349_mea_bst_lhx6_sp9_gaba_3\n",
      "mouse_whole_brain 0264_ot_d3_folh1_gaba_3\n",
      "mouse_whole_brain 057_ndb_si_ma_strv_lhx8_gaba\n",
      "mouse_whole_brain 1197_dc_nn_1\n",
      "mouse_whole_brain 0333_lsx_sall3_lmo1_gaba_3\n",
      "mouse_whole_brain 073_mea_bst_sox6_gaba\n",
      "mouse_whole_brain 0046_it_aon_tt_dp_glut_1\n",
      "mouse_whole_brain 004_l6_it_ctx_glut\n",
      "mouse_whole_brain 0507_mea_coa_bma_ccdc42_glut_3\n",
      "mouse_whole_brain 003_l5_6_it_tpe_ent_glut\n",
      "mouse_whole_brain 0228_sst_gaba_15\n",
      "mouse_whole_brain 0224_sst_gaba_11\n",
      "mouse_whole_brain 0207_pvalb_gaba_3\n",
      "mouse_whole_brain 0216_sst_gaba_3\n",
      "mouse_whole_brain 0149_ob_trdn_gaba_2\n",
      "mouse_whole_brain 1184_mol_nn_4\n",
      "mouse_whole_brain 0395_bst_si_aaa_six3_slc22a3_gaba_2\n",
      "mouse_whole_brain 039_ob_meis2_thsd7b_gaba\n",
      "mouse_whole_brain 0385_cea_bst_ebf1_pdyn_gaba_2\n",
      "mouse_whole_brain 0371_cea_bst_six3_cyp26b1_gaba_5\n",
      "mouse_whole_brain 02_np_ct_l6b_glut\n",
      "mouse_whole_brain 0158_ob_out_frmd7_gaba_1\n",
      "mouse_whole_brain 1160_astro_nt_nn_2\n",
      "mouse_whole_brain 0199_lamp5_gaba_1\n",
      "mouse_whole_brain 0300_lsx_sall3_pax6_gaba_2\n",
      "mouse_whole_brain 0028_l4_5_it_ctx_glut_6\n",
      "mouse_whole_brain 0359_mea_bst_lhx6_nfib_gaba_3\n",
      "mouse_whole_brain 0265_str_d1_gaba_1\n",
      "mouse_whole_brain 0380_cea_aaa_bst_six3_sp9_gaba_8\n",
      "mouse_whole_brain 070_lsx_prdm12_slit2_gaba\n",
      "mouse_whole_brain 0292_ia_mgp_gaba_3\n",
      "mouse_whole_brain 085_si_mpo_lpo_lhx8_gaba\n",
      "mouse_whole_brain 0393_cea_bst_rai14_pdyn_crh_gaba_2\n",
      "mouse_whole_brain 05_ob_imn_gaba\n",
      "mouse_whole_brain 0537_si_ma_lpo_lha_skor1_glut_8\n",
      "mouse_whole_brain 0376_cea_aaa_bst_six3_sp9_gaba_4\n",
      "mouse_whole_brain 0321_lsx_prdm12_slit2_gaba_5\n",
      "mouse_whole_brain 0195_rhp_coa_ndnf_gaba_3\n",
      "mouse_whole_brain 082_cea_bst_ebf1_pdyn_gaba\n",
      "mouse_whole_brain 0396_si_mpo_lpo_lhx8_gaba_1\n",
      "mouse_whole_brain 0366_si_ma_acb_ebf1_bnc2_gaba_3\n",
      "mouse_whole_brain 006_l4_5_it_ctx_glut\n",
      "mouse_whole_brain 0178_vip_gaba_6\n",
      "mouse_whole_brain 0185_sncg_gaba_1\n",
      "mouse_whole_brain 081_acb_bst_fs_d1_gaba\n",
      "mouse_whole_brain 069_lsx_nkx2_1_gaba\n",
      "mouse_whole_brain 0387_cea_bst_ebf1_pdyn_gaba_4\n",
      "mouse_whole_brain 0261_pal_str_gaba_chol_3\n",
      "mouse_whole_brain 0279_str_d2_gaba_6\n",
      "mouse_whole_brain 035_ob_eomes_ms4a15_glut\n",
      "mouse_whole_brain 0425_bst_mpn_six3_nrgn_gaba_6\n",
      "mouse_whole_brain 0187_sncg_gaba_3\n",
      "mouse_whole_brain 0229_sst_gaba_16\n",
      "mouse_whole_brain 121_mea_bst_otp_zic2_glut\n",
      "mouse_whole_brain 0230_sst_gaba_17\n",
      "mouse_whole_brain 093_rt_zi_gnb3_gaba\n",
      "mouse_whole_brain 0225_sst_gaba_12\n",
      "mouse_whole_brain 0332_lsx_sall3_lmo1_gaba_2\n",
      "mouse_whole_brain 0112_l6b_ctx_glut_3\n",
      "mouse_whole_brain 0574_lha_ahn_pvh_otp_trh_glut_1\n",
      "mouse_whole_brain 0511_coaa_paa_mea_barhl2_glut_3\n",
      "mouse_whole_brain 0336_lsx_sall3_lmo1_gaba_6\n",
      "mouse_whole_brain 0202_lamp5_gaba_4\n",
      "mouse_whole_brain 0092_l5_et_ctx_glut_3\n",
      "mouse_whole_brain 0126_l5_np_ctx_glut_5\n",
      "mouse_whole_brain 0039_l2_3_it_pir_entl_glut_1\n",
      "mouse_whole_brain 0370_cea_bst_six3_cyp26b1_gaba_4\n",
      "mouse_whole_brain 0016_l6_it_ctx_glut_4\n",
      "mouse_whole_brain 1182_nfol_nn_2\n",
      "mouse_whole_brain 0258_gpe_si_sox6_cyp26b1_gaba_2\n",
      "mouse_whole_brain 10_lsx_gaba\n",
      "mouse_whole_brain 0535_si_ma_lpo_lha_skor1_glut_6\n",
      "mouse_whole_brain 0056_mea_slc17a7_glut_2\n",
      "mouse_whole_brain 118_adp_mpo_trp73_glut\n",
      "mouse_whole_brain 0143_ob_meis2_thsd7b_gaba_1\n",
      "mouse_whole_brain 0304_lsx_otx2_gaba_4\n",
      "mouse_whole_brain 0272_str_d1_gaba_8\n",
      "mouse_whole_brain 0407_mpn_mpo_lpo_lhx6_zfhx3_gaba_1\n",
      "mouse_whole_brain 0266_str_d1_gaba_2\n",
      "mouse_whole_brain 0267_str_d1_gaba_3\n",
      "mouse_whole_brain 0389_cea_bst_ebf1_pdyn_gaba_6\n",
      "mouse_whole_brain 038_dg_pir_ex_imn\n",
      "mouse_whole_brain 048_rhp_coa_ndnf_gaba\n",
      "mouse_whole_brain 0270_str_d1_gaba_6\n",
      "mouse_whole_brain 0101_ca2_fc_ig_glut_2\n",
      "mouse_whole_brain 0222_sst_gaba_9\n",
      "mouse_whole_brain 029_l6b_ctx_glut\n",
      "mouse_whole_brain 0588_pvh_so_pva_otp_glut_4\n",
      "mouse_whole_brain 054_str_prox1_lhx6_gaba\n",
      "mouse_whole_brain 0536_si_ma_lpo_lha_skor1_glut_7\n",
      "mouse_whole_brain 0223_sst_gaba_10\n",
      "mouse_whole_brain 326_opc_nn\n",
      "mouse_whole_brain 0312_lsx_nkx2_1_gaba_7\n",
      "mouse_whole_brain 0162_ob_dopa_gaba_1\n",
      "mouse_whole_brain 0288_str_pal_chst9_gaba_4\n",
      "mouse_whole_brain 061_str_d1_gaba\n",
      "mouse_whole_brain 014_la_bla_bma_pa_glut\n",
      "mouse_whole_brain 0505_mea_coa_bma_ccdc42_glut_1\n",
      "mouse_whole_brain 084_bst_si_aaa_six3_slc22a3_gaba\n",
      "mouse_whole_brain 0167_ob_str_ctx_inh_imn_2\n",
      "mouse_whole_brain 0205_pvalb_gaba_1\n",
      "mouse_whole_brain 0542_lha_mea_otp_glut_1\n",
      "mouse_whole_brain 007_l2_3_it_ctx_glut\n",
      "mouse_whole_brain 0091_l5_et_ctx_glut_2\n",
      "mouse_whole_brain 0248_ndb_si_ma_strv_lhx8_gaba_5\n",
      "mouse_whole_brain 0221_sst_gaba_8\n",
      "mouse_whole_brain 0331_lsx_sall3_lmo1_gaba_1\n",
      "mouse_whole_brain 0278_str_d2_gaba_5\n",
      "mouse_whole_brain 1191_peri_nn_1\n",
      "mouse_whole_brain 131_lha_ahn_pvh_otp_trh_glut\n",
      "mouse_whole_brain 0253_ndb_si_ma_strv_lhx8_gaba_10\n",
      "mouse_whole_brain 0392_cea_bst_rai14_pdyn_crh_gaba_1\n",
      "mouse_whole_brain 0173_vip_gaba_1\n",
      "mouse_whole_brain 0533_si_ma_lpo_lha_skor1_glut_4\n",
      "mouse_whole_brain 053_sst_gaba\n",
      "mouse_whole_brain 0215_sst_gaba_2\n",
      "mouse_whole_brain 052_pvalb_gaba\n",
      "mouse_whole_brain 0244_ndb_si_ma_strv_lhx8_gaba_1\n",
      "mouse_whole_brain 0365_si_ma_acb_ebf1_bnc2_gaba_2\n",
      "mouse_whole_brain 0287_str_pal_chst9_gaba_3\n",
      "mouse_whole_brain 0414_pvr_six3_sox3_gaba_4\n",
      "mouse_whole_brain 0237_str_lhx8_gaba_2\n",
      "mouse_whole_brain 1192_smc_nn_1\n",
      "mouse_whole_brain 119_si_ma_lpo_lha_skor1_glut\n",
      "mouse_whole_brain 0364_si_ma_acb_ebf1_bnc2_gaba_1\n",
      "mouse_whole_brain 0515_coaa_paa_mea_barhl2_glut_7\n",
      "mouse_whole_brain 0330_lsx_prdm12_zeb2_gaba_5\n",
      "mouse_whole_brain 08_cnu_mge_gaba\n",
      "mouse_whole_brain 0384_cea_bst_ebf1_pdyn_gaba_1\n",
      "mouse_whole_brain 0186_sncg_gaba_2\n",
      "mouse_whole_brain 0354_mea_bst_lhx6_nr2e1_gaba_1\n",
      "mouse_whole_brain 113_mea_coa_bma_ccdc42_glut\n",
      "mouse_whole_brain 0057_mea_slc17a7_glut_3\n",
      "mouse_whole_brain 1186_abc_nn_1\n",
      "mouse_whole_brain 037_dg_glut\n",
      "mouse_whole_brain 0027_l4_5_it_ctx_glut_5\n",
      "mouse_whole_brain 0234_str_prox1_lhx6_gaba_2\n",
      "mouse_whole_brain 088_bst_tac2_gaba\n",
      "mouse_whole_brain 020_l2_3_it_rsp_glut\n",
      "mouse_whole_brain 0093_l5_et_ctx_glut_4\n",
      "mouse_whole_brain 046_vip_gaba\n",
      "mouse_whole_brain 062_str_d2_gaba\n",
      "mouse_whole_brain 0326_lsx_prdm12_zeb2_gaba_1\n",
      "mouse_whole_brain 0391_cea_bst_ebf1_pdyn_gaba_8\n",
      "mouse_whole_brain 0088_l2_3_it_rsp_glut_2\n",
      "mouse_whole_brain 0030_l2_3_it_ctx_glut_2\n",
      "mouse_whole_brain 0236_str_lhx8_gaba_1\n",
      "mouse_whole_brain 059_gpe_si_sox6_cyp26b1_gaba\n",
      "mouse_whole_brain 0340_mea_bst_sox6_gaba_4\n",
      "mouse_whole_brain 0373_cea_aaa_bst_six3_sp9_gaba_1\n",
      "mouse_whole_brain 0319_lsx_prdm12_slit2_gaba_3\n",
      "mouse_whole_brain 060_ot_d3_folh1_gaba\n",
      "mouse_whole_brain 07_ctx_mge_gaba\n",
      "mouse_whole_brain 027_l6b_epd_glut\n",
      "mouse_whole_brain 0019_l5_it_ctx_glut_2\n",
      "mouse_whole_brain 0339_mea_bst_sox6_gaba_3\n",
      "mouse_whole_brain 0114_l6_ct_ctx_glut_1\n",
      "mouse_whole_brain 041_ob_in_frmd7_gaba\n",
      "mouse_whole_brain 122_lha_mea_otp_glut\n",
      "mouse_whole_brain 0245_ndb_si_ma_strv_lhx8_gaba_2\n",
      "mouse_whole_brain 0170_ob_str_ctx_inh_imn_5\n",
      "mouse_whole_brain 080_cea_aaa_bst_six3_sp9_gaba\n",
      "mouse_whole_brain 0013_l6_it_ctx_glut_1\n",
      "mouse_whole_brain 1193_endo_nn_1\n",
      "mouse_whole_brain 0274_str_d2_gaba_1\n",
      "mouse_whole_brain 1169_astroependymal_nn_1\n",
      "mouse_whole_brain 0239_sst_chodl_gaba_2\n",
      "mouse_whole_brain 0024_l4_5_it_ctx_glut_2\n",
      "mouse_whole_brain 005_l5_it_ctx_glut\n",
      "mouse_whole_brain 044_ob_dopa_gaba\n",
      "mouse_whole_brain 0291_ia_mgp_gaba_2\n",
      "mouse_whole_brain 0329_lsx_prdm12_zeb2_gaba_4\n",
      "mouse_whole_brain 0318_lsx_prdm12_slit2_gaba_2\n",
      "mouse_whole_brain 010_it_aon_tt_dp_glut\n",
      "mouse_whole_brain 0023_l4_5_it_ctx_glut_1\n",
      "mouse_whole_brain 0528_adp_mpo_trp73_glut_2\n",
      "mouse_whole_brain 0242_sst_chodl_gaba_5\n",
      "mouse_whole_brain 0031_l2_3_it_ctx_glut_3\n",
      "mouse_whole_brain 0540_mea_bst_otp_zic2_glut_2\n",
      "mouse_whole_brain 063_str_d1_sema5a_gaba\n",
      "mouse_whole_brain 0259_pal_str_gaba_chol_1\n",
      "mouse_whole_brain 06_ctx_cge_gaba\n",
      "mouse_whole_brain 0176_vip_gaba_4\n",
      "mouse_whole_brain 0282_str_d1_sema5a_gaba_2\n",
      "mouse_whole_brain 0309_lsx_nkx2_1_gaba_4\n",
      "mouse_whole_brain 009_l2_3_it_pir_entl_glut\n",
      "mouse_whole_brain 0062_la_bla_bma_pa_glut_3\n",
      "mouse_whole_brain 1163_astro_te_nn_3\n",
      "mouse_whole_brain 0090_l5_et_ctx_glut_1\n",
      "mouse_whole_brain 0214_sst_gaba_1\n",
      "mouse_whole_brain 0307_lsx_nkx2_1_gaba_2\n",
      "mouse_whole_brain 0189_sncg_gaba_5\n",
      "mouse_whole_brain 0372_cea_bst_six3_cyp26b1_gaba_6\n",
      "mouse_whole_brain 0281_str_d1_sema5a_gaba_1\n",
      "mouse_whole_brain 0531_si_ma_lpo_lha_skor1_glut_2\n",
      "mouse_whole_brain 09_cnu_lge_gaba\n",
      "mouse_whole_brain 0220_sst_gaba_7\n",
      "mouse_whole_brain 0295_ndb_si_ant_prdm12_gaba_1\n",
      "mouse_whole_brain 0094_l5_et_ctx_glut_5\n",
      "mouse_whole_brain 0233_str_prox1_lhx6_gaba_1\n",
      "mouse_whole_brain 0029_l2_3_it_ctx_glut_1\n",
      "mouse_whole_brain 0306_lsx_nkx2_1_gaba_1\n",
      "mouse_whole_brain 0125_l5_np_ctx_glut_4\n",
      "mouse_whole_brain 032_l5_np_ctx_glut\n",
      "mouse_whole_brain 133_pvh_so_pva_otp_glut\n",
      "mouse_whole_brain 0353_mea_bst_lhx6_sp9_gaba_7\n",
      "mouse_whole_brain 0532_si_ma_lpo_lha_skor1_glut_3\n",
      "mouse_whole_brain 1195_bam_nn_1\n",
      "mouse_whole_brain 0181_vip_gaba_9\n",
      "mouse_whole_brain 0251_ndb_si_ma_strv_lhx8_gaba_8\n",
      "mouse_whole_brain 0042_l2_3_it_pir_entl_glut_4\n",
      "mouse_whole_brain 0001_cla_epd_ctx_car3_glut_1_broad\n",
      "mouse_whole_brain 0367_cea_bst_six3_cyp26b1_gaba_1\n",
      "mouse_whole_brain 0424_bst_mpn_six3_nrgn_gaba_5\n",
      "mouse_whole_brain 0283_str_d1_sema5a_gaba_3\n",
      "mouse_whole_brain 34_immune\n",
      "mouse_whole_brain 0311_lsx_nkx2_1_gaba_6\n",
      "mouse_whole_brain 0327_lsx_prdm12_zeb2_gaba_2\n",
      "mouse_whole_brain 0226_sst_gaba_13\n",
      "mouse_whole_brain 0201_lamp5_gaba_3\n",
      "mouse_whole_brain 0408_mpn_mpo_lpo_lhx6_zfhx3_gaba_2\n",
      "mouse_whole_brain 0268_str_d1_gaba_4\n",
      "mouse_whole_brain 31_opc_oligo\n",
      "mouse_whole_brain 1185_oec_nn_1\n",
      "mouse_whole_brain 012_mea_slc17a7_glut\n",
      "mouse_whole_brain 0200_lamp5_gaba_2\n",
      "mouse_whole_brain 0524_lha_barhl2_glut_1\n",
      "mouse_whole_brain 0249_ndb_si_ma_strv_lhx8_gaba_6\n",
      "mouse_whole_brain 0269_str_d1_gaba_5\n",
      "mouse_whole_brain 0123_l5_np_ctx_glut_2\n",
      "mouse_whole_brain 0308_lsx_nkx2_1_gaba_3\n",
      "mouse_whole_brain 0032_l2_3_it_ctx_glut_4\n",
      "mouse_whole_brain 0316_lsx_nkx2_1_gaba_11\n",
      "mouse_whole_brain 0301_lsx_otx2_gaba_1\n",
      "mouse_whole_brain 040_ob_trdn_gaba\n",
      "mouse_whole_brain 04_dg_imn_glut\n",
      "mouse_whole_brain 1161_astro_te_nn_1\n",
      "mouse_whole_brain 0095_l5_et_ctx_glut_6\n",
      "mouse_whole_brain 0508_mea_coa_bma_ccdc42_glut_4\n",
      "mouse_whole_brain 0342_mea_bst_sox6_gaba_6\n",
      "mouse_whole_brain 0338_mea_bst_sox6_gaba_2\n",
      "mouse_whole_brain 0008_l5_6_it_tpe_ent_glut_2\n",
      "mouse_whole_brain 1179_opc_nn_1\n",
      "mouse_whole_brain 0502_trs_bac_sln_glut_1\n",
      "mouse_whole_brain 0241_sst_chodl_gaba_4\n",
      "mouse_whole_brain 0350_mea_bst_lhx6_sp9_gaba_4\n",
      "mouse_whole_brain 30_astro_epen\n",
      "mouse_whole_brain 33_vascular\n",
      "mouse_whole_brain 0089_l4_rsp_aca_glut_1\n",
      "mouse_whole_brain 0047_it_aon_tt_dp_glut_2\n",
      "mouse_whole_brain 0375_cea_aaa_bst_six3_sp9_gaba_3\n",
      "mouse_whole_brain 0351_mea_bst_lhx6_sp9_gaba_5\n",
      "mouse_whole_brain 0136_dg_glut_1\n",
      "mouse_whole_brain 0260_pal_str_gaba_chol_2\n",
      "mouse_whole_brain 074_mea_bst_lhx6_sp9_gaba\n",
      "mouse_whole_brain 0518_ms_sf_bsx_glut_1\n",
      "mouse_whole_brain 0174_vip_gaba_2\n",
      "mouse_whole_brain 0299_lsx_sall3_pax6_gaba_1\n",
      "mouse_whole_brain 0538_mea_otp_foxp2_glut_1\n",
      "mouse_whole_brain 0341_mea_bst_sox6_gaba_5\n",
      "mouse_whole_brain 0383_acb_bst_fs_d1_gaba_3\n",
      "mouse_whole_brain 0150_ob_in_frmd7_gaba_1\n",
      "mouse_whole_brain 0388_cea_bst_ebf1_pdyn_gaba_5\n",
      "mouse_whole_brain 030_l6_ct_ctx_glut\n",
      "mouse_whole_brain 0347_mea_bst_lhx6_sp9_gaba_1\n",
      "mouse_whole_brain 0049_it_aon_tt_dp_glut_4\n",
      "mouse_whole_brain 047_sncg_gaba\n",
      "mouse_whole_brain 0184_vip_gaba_12\n",
      "mouse_whole_brain 066_ndb_si_ant_prdm12_gaba\n",
      "mouse_whole_brain 0303_lsx_otx2_gaba_3\n",
      "mouse_whole_brain 0175_vip_gaba_3\n",
      "mouse_whole_brain class\n",
      "mouse_whole_brain 114_coaa_paa_mea_barhl2_glut\n",
      "mouse_whole_brain 0166_ob_str_ctx_inh_imn_1\n",
      "mouse_whole_brain 0246_ndb_si_ma_strv_lhx8_gaba_3\n",
      "mouse_whole_brain 1175_ependymal_nn_1\n",
      "mouse_whole_brain 14_hy_glut\n",
      "mouse_whole_brain 0285_str_pal_chst9_gaba_1\n",
      "mouse_whole_brain 083_cea_bst_rai14_pdyn_crh_gaba\n",
      "mouse_whole_brain 0018_l5_it_ctx_glut_1\n",
      "mouse_whole_brain 0423_bst_mpn_six3_nrgn_gaba_4\n",
      "mouse_whole_brain 049_lamp5_gaba\n",
      "mouse_whole_brain 0335_lsx_sall3_lmo1_gaba_5\n",
      "mouse_whole_brain 03_ob_cr_glut\n",
      "mouse_whole_brain 1183_mfol_nn_3\n",
      "mouse_whole_brain 0516_coaa_paa_mea_barhl2_glut_8\n",
      "mouse_whole_brain 0017_l6_it_ctx_glut_5\n",
      "mouse_whole_brain 0194_rhp_coa_ndnf_gaba_2\n",
      "mouse_whole_brain 1181_cop_nn_1\n",
      "mouse_whole_brain 0374_cea_aaa_bst_six3_sp9_gaba_2\n",
      "mouse_whole_brain 0217_sst_gaba_4\n",
      "mouse_whole_brain 0539_mea_bst_otp_zic2_glut_1\n",
      "mouse_whole_brain 090_bst_mpn_six3_nrgn_gaba\n",
      "mouse_whole_brain 0154_ob_in_frmd7_gaba_5\n",
      "mouse_whole_brain 071_lsx_prdm12_zeb2_gaba\n",
      "mouse_whole_brain 045_ob_str_ctx_inh_imn\n",
      "mouse_whole_brain 076_mea_bst_lhx6_nfib_gaba\n",
      "mouse_whole_brain 0317_lsx_prdm12_slit2_gaba_1\n",
      "mouse_whole_brain 0410_bst_tac2_gaba_2\n",
      "mouse_whole_brain 0386_cea_bst_ebf1_pdyn_gaba_3\n",
      "\n",
      "num 409\n"
     ]
    }
   ],
   "source": [
    "import argparse\n",
    "from pathlib import Path\n",
    "import numpy as np\n",
    "\n",
    "total = []\n",
    "\n",
    "directory = Path(\"/gpfs/scratch/blukacsy/abc_atlas/arrays\")\n",
    "def print_trainable(dataset):\n",
    "    path = f\"{dataset}_train_labels_hvg*.npy\"\n",
    "    for array in directory.glob(path):\n",
    "        y = np.load(array)\n",
    "        if (len(np.unique(y)) < 2): continue\n",
    "        name = array.stem.removeprefix(f\"{dataset}_train_labels_hvg_\")\n",
    "        print(dataset + \" \" + name)\n",
    "        total.append(name)\n",
    "\n",
    "# ap = argparse.ArgumentParser()\n",
    "# ap.add_argument(\"--dataset\", required=True)\n",
    "# args = ap.parse_args()\n",
    "print_trainable(\"mouse_whole_brain\")\n",
    "print()\n",
    "print(\"num\", len(total))"
   ]
  },
  {
   "cell_type": "code",
   "execution_count": 76,
   "id": "0d73e80d-dba3-44d7-bcca-f61c34ea0898",
   "metadata": {},
   "outputs": [
    {
     "name": "stdout",
     "output_type": "stream",
     "text": [
      "mouse_whole_brain_neurotransmitter flat\n",
      "mouse_whole_brain_class flat\n",
      "mouse_whole_brain_subclass flat\n",
      "mouse_whole_brain_supertype flat\n",
      "mouse_whole_brain_cluster flat\n"
     ]
    }
   ],
   "source": [
    "import argparse\n",
    "from pathlib import Path\n",
    "import numpy as np\n",
    "\n",
    "directory = Path(\"/gpfs/scratch/blukacsy/abc_atlas/arrays\")\n",
    "def print_trainable(dataset, level):\n",
    "    path = f\"{dataset}_{level}_train_labels_hvg*.npy\"\n",
    "    for array in directory.glob(path):\n",
    "        y = np.load(array)\n",
    "        if (len(np.unique(y)) < 2): continue\n",
    "        print(dataset + \"_\" + level + \" flat\")\n",
    "\n",
    "# ap = argparse.ArgumentParser()\n",
    "# ap.add_argument(\"--dataset\", required=True)\n",
    "# args = ap.parse_args()\n",
    "print_trainable(\"mouse_whole_brain\", \"neurotransmitter\")\n",
    "print_trainable(\"mouse_whole_brain\", \"class\")\n",
    "print_trainable(\"mouse_whole_brain\", \"subclass\")\n",
    "print_trainable(\"mouse_whole_brain\", \"supertype\")\n",
    "print_trainable(\"mouse_whole_brain\", \"cluster\")"
   ]
  },
  {
   "cell_type": "code",
   "execution_count": 77,
   "id": "58838d8b-248a-4ddd-adf6-b6d7c0c05341",
   "metadata": {},
   "outputs": [
    {
     "data": {
      "text/plain": [
       "['09 CNU-LGE GABA', '11 CNU-HYa GABA', '30 Astro-Epen', '31 OPC-Oligo', '01 IT-ET Glut', ..., '18 TH Glut', '16 HY MM Glut', '12 HY GABA', '25 Pineal Glut', '32 OEC']\n",
       "Length: 22\n",
       "Categories (22, object): ['01 IT-ET Glut', '02 NP-CT-L6b Glut', '03 OB-CR Glut', '04 DG-IMN Glut', ..., '31 OPC-Oligo', '32 OEC', '33 Vascular', '34 Immune']"
      ]
     },
     "execution_count": 77,
     "metadata": {},
     "output_type": "execute_result"
    }
   ],
   "source": [
    "mouse_whole_brain_train_anndata.obs[\"class\"].unique()"
   ]
  },
  {
   "cell_type": "code",
   "execution_count": 78,
   "id": "94b56d5d-115f-4f59-a223-8c7e04e7119e",
   "metadata": {},
   "outputs": [
    {
     "name": "stdout",
     "output_type": "stream",
     "text": [
      "mouse_whole_brain 09_cnu_lge_gaba\n",
      "mouse_whole_brain 11_cnu_hya_gaba\n",
      "mouse_whole_brain 30_astro_epen\n",
      "mouse_whole_brain 31_opc_oligo\n",
      "mouse_whole_brain 01_it_et_glut\n",
      "mouse_whole_brain 34_immune\n",
      "mouse_whole_brain 10_lsx_gaba\n",
      "mouse_whole_brain 33_vascular\n",
      "mouse_whole_brain 13_cnu_hya_glut\n",
      "mouse_whole_brain 02_np_ct_l6b_glut\n",
      "mouse_whole_brain 06_ctx_cge_gaba\n",
      "mouse_whole_brain 08_cnu_mge_gaba\n",
      "mouse_whole_brain 07_ctx_mge_gaba\n",
      "mouse_whole_brain 05_ob_imn_gaba\n",
      "mouse_whole_brain 03_ob_cr_glut\n",
      "mouse_whole_brain 04_dg_imn_glut\n",
      "mouse_whole_brain 14_hy_glut\n",
      "mouse_whole_brain 18_th_glut\n",
      "mouse_whole_brain 16_hy_mm_glut\n",
      "mouse_whole_brain 12_hy_gaba\n",
      "mouse_whole_brain 25_pineal_glut\n",
      "mouse_whole_brain 32_oec\n"
     ]
    }
   ],
   "source": [
    "for x in mouse_whole_brain_train_anndata.obs[\"class\"].unique():\n",
    "    print(\"mouse_whole_brain\", create_name(x))"
   ]
  },
  {
   "cell_type": "code",
   "execution_count": null,
   "id": "ea99fd81-08c9-4802-80e3-2190a614591b",
   "metadata": {},
   "outputs": [],
   "source": []
  },
  {
   "cell_type": "code",
   "execution_count": 3,
   "id": "851dab60-5382-488a-837a-24425b0ffc0c",
   "metadata": {},
   "outputs": [
    {
     "name": "stderr",
     "output_type": "stream",
     "text": [
      "2025-10-01 09:27:16.580559: I tensorflow/core/util/port.cc:153] oneDNN custom operations are on. You may see slightly different numerical results due to floating-point round-off errors from different computation orders. To turn them off, set the environment variable `TF_ENABLE_ONEDNN_OPTS=0`.\n",
      "2025-10-01 09:27:16.787441: E external/local_xla/xla/stream_executor/cuda/cuda_fft.cc:467] Unable to register cuFFT factory: Attempting to register factory for plugin cuFFT when one has already been registered\n",
      "WARNING: All log messages before absl::InitializeLog() is called are written to STDERR\n",
      "E0000 00:00:1759325236.830497 2010299 cuda_dnn.cc:8579] Unable to register cuDNN factory: Attempting to register factory for plugin cuDNN when one has already been registered\n",
      "E0000 00:00:1759325236.840428 2010299 cuda_blas.cc:1407] Unable to register cuBLAS factory: Attempting to register factory for plugin cuBLAS when one has already been registered\n",
      "W0000 00:00:1759325236.922244 2010299 computation_placer.cc:177] computation placer already registered. Please check linkage and avoid linking the same target more than once.\n",
      "W0000 00:00:1759325236.922287 2010299 computation_placer.cc:177] computation placer already registered. Please check linkage and avoid linking the same target more than once.\n",
      "W0000 00:00:1759325236.922288 2010299 computation_placer.cc:177] computation placer already registered. Please check linkage and avoid linking the same target more than once.\n",
      "W0000 00:00:1759325236.922289 2010299 computation_placer.cc:177] computation placer already registered. Please check linkage and avoid linking the same target more than once.\n",
      "2025-10-01 09:27:16.929084: I tensorflow/core/platform/cpu_feature_guard.cc:210] This TensorFlow binary is optimized to use available CPU instructions in performance-critical operations.\n",
      "To enable the following instructions: AVX2 AVX512F AVX512_VNNI AVX512_BF16 AVX512_FP16 AVX_VNNI AMX_TILE AMX_INT8 AMX_BF16 FMA, in other operations, rebuild TensorFlow with the appropriate compiler flags.\n"
     ]
    }
   ],
   "source": [
    "import numpy as np\n",
    "import scanpy as sc\n",
    "import matplotlib.pyplot as plt\n",
    "import scipy.sparse\n",
    "from sklearn.model_selection import train_test_split\n",
    "from sklearn.utils.class_weight import compute_class_weight\n",
    "import keras as ks\n",
    "import sklearn.metrics as metrics\n",
    "import pandas as pd\n",
    "import re\n",
    "import json\n",
    "import os"
   ]
  },
  {
   "cell_type": "code",
   "execution_count": 4,
   "id": "fa2c4019-b54b-4f4f-8ba5-cbf5a724eba4",
   "metadata": {},
   "outputs": [
    {
     "name": "stdout",
     "output_type": "stream",
     "text": [
      "Requirement already satisfied: openpyxl==3.1.5 in /gpfs/home/blukacsy/.conda/envs/mckinnon_env/lib/python3.10/site-packages (3.1.5)\n",
      "Requirement already satisfied: et-xmlfile in /gpfs/home/blukacsy/.conda/envs/mckinnon_env/lib/python3.10/site-packages (from openpyxl==3.1.5) (2.0.0)\n"
     ]
    }
   ],
   "source": [
    "!pip install openpyxl==3.1.5"
   ]
  },
  {
   "cell_type": "code",
   "execution_count": 10,
   "id": "5652ad71-41ba-4d4e-a663-9e5732a58b91",
   "metadata": {},
   "outputs": [],
   "source": [
    "def flat_prediction(level):\n",
    "    test_anndata = sc.read_h5ad(f\"/gpfs/scratch/blukacsy/abc_atlas/data/mouse_whole_brain_test_anndata.h5ad\")\n",
    "    test_anndata_hvg = test_anndata[:, test_anndata.var['highly_variable'] ].copy()\n",
    "\n",
    "    model_path = f\"/gpfs/scratch/blukacsy/abc_atlas/models/mouse_whole_brain_{level}_hvg_flat_jax_v1.keras\"\n",
    "    model = ks.models.load_model(model_path, custom_objects={'LeakyReLU': ks.layers.LeakyReLU}, compile=False)\n",
    "\n",
    "    X = test_anndata_hvg.X\n",
    "\n",
    "    if scipy.sparse.issparse(X):\n",
    "        X = X.toarray()\n",
    "\n",
    "    logits = model.predict(X)\n",
    "    max_indices = np.argmax(logits, axis=1)\n",
    "\n",
    "    path = f\"/gpfs/scratch/blukacsy/abc_atlas/data/mouse_whole_brain_{level}_int_mapping_flat.json\"\n",
    "    with open(path) as file:\n",
    "        int_mapping = json.load(file)\n",
    "\n",
    "    inverse_dict = {i: j for j, i in int_mapping.items()}\n",
    "    predictions = [inverse_dict[i] for i in max_indices]\n",
    "\n",
    "    test_anndata_hvg.obs['predicted_cell_type'] = predictions\n",
    "    true = test_anndata_hvg.obs[level].values\n",
    "\n",
    "    per_class_accuracy = (pd.Series(predictions == true).groupby(pd.Series(true)).mean().to_dict())\n",
    "    \n",
    "    overall = {\n",
    "        'accuracy': metrics.accuracy_score(true, predictions),\n",
    "        'balanced_accuracy': metrics.balanced_accuracy_score(true, predictions),\n",
    "        'precision': metrics.precision_score(true, predictions, average='macro', zero_division=0),\n",
    "        'recall': metrics.recall_score(true, predictions, average='macro', zero_division=0),\n",
    "        'f1_score': metrics.f1_score(true, predictions, average='macro', zero_division=0),\n",
    "        'average_precision': metrics.average_precision_score(true, logits, average='macro')\n",
    "    }\n",
    "\n",
    "    class_report = metrics.classification_report(true, predictions, digits=2, zero_division=0, output_dict=True)\n",
    "\n",
    "    class_report_df = (pd.DataFrame(class_report).transpose().rename_axis(\"label\").reset_index())\n",
    "\n",
    "    df = pd.DataFrame({\n",
    "        \"cell_id\": test_anndata_hvg.obs_names.to_numpy(),\n",
    "        \"true_cell\": true,\n",
    "        \"predicted_cell\": predictions,\n",
    "    })\n",
    "\n",
    "    xlsx_path = f\"/gpfs/scratch/blukacsy/abc_atlas/results/mouse_whole_brain_{level}_flat_classification.xlsx\"\n",
    "    with pd.ExcelWriter(xlsx_path, engine=\"openpyxl\") as writer:\n",
    "        pd.Series(overall, name=\"value\").to_frame().to_excel(writer, sheet_name=\"overall_metrics\")\n",
    "        pd.Series(per_class_accuracy, name=\"accuracy\").to_frame().to_excel(writer, sheet_name=\"per_cell_accuracy\")\n",
    "        class_report_df.to_excel(writer, sheet_name=\"classification_report\", index=False)\n",
    "        df.to_excel(writer, sheet_name=\"predictions\", index=False)\n",
    "\n",
    "    print(f\"Excel written to `{xlsx_path}`\")\n",
    "\n",
    "    test_anndata_hvg.write(f\"/gpfs/scratch/blukacsy/abc_atlas/data/mouse_whole_brain_{level}_test_anndata_flat_predictions.h5ad\")"
   ]
  },
  {
   "cell_type": "code",
   "execution_count": 11,
   "id": "37dfe6ac-5cf1-4163-82ea-28db5d2c2bf4",
   "metadata": {},
   "outputs": [
    {
     "name": "stderr",
     "output_type": "stream",
     "text": [
      "2025-10-01 09:47:27.311713: E external/local_xla/xla/stream_executor/cuda/cuda_platform.cc:51] failed call to cuInit: INTERNAL: CUDA error: Failed call to cuInit: UNKNOWN ERROR (303)\n"
     ]
    },
    {
     "name": "stdout",
     "output_type": "stream",
     "text": [
      "\u001b[1m4614/4614\u001b[0m \u001b[32m━━━━━━━━━━━━━━━━━━━━\u001b[0m\u001b[37m\u001b[0m \u001b[1m27s\u001b[0m 6ms/step\n"
     ]
    },
    {
     "name": "stderr",
     "output_type": "stream",
     "text": [
      "/tmp/ipykernel_2010299/3170344244.py:26: FutureWarning: The default of observed=False is deprecated and will be changed to True in a future version of pandas. Pass observed=False to retain current behavior or observed=True to adopt the future default and silence this warning.\n",
      "  per_class_accuracy = (pd.Series(predictions == true).groupby(pd.Series(true)).mean().to_dict())\n"
     ]
    },
    {
     "name": "stdout",
     "output_type": "stream",
     "text": [
      "Excel written to `/gpfs/scratch/blukacsy/abc_atlas/results/mouse_whole_brain_neurotransmitter_flat_classification.xlsx`\n",
      "neuro done\n",
      "\u001b[1m4614/4614\u001b[0m \u001b[32m━━━━━━━━━━━━━━━━━━━━\u001b[0m\u001b[37m\u001b[0m \u001b[1m15s\u001b[0m 3ms/step\n"
     ]
    },
    {
     "name": "stderr",
     "output_type": "stream",
     "text": [
      "/tmp/ipykernel_2010299/3170344244.py:26: FutureWarning: The default of observed=False is deprecated and will be changed to True in a future version of pandas. Pass observed=False to retain current behavior or observed=True to adopt the future default and silence this warning.\n",
      "  per_class_accuracy = (pd.Series(predictions == true).groupby(pd.Series(true)).mean().to_dict())\n"
     ]
    },
    {
     "name": "stdout",
     "output_type": "stream",
     "text": [
      "Excel written to `/gpfs/scratch/blukacsy/abc_atlas/results/mouse_whole_brain_class_flat_classification.xlsx`\n",
      "class done\n",
      "\u001b[1m4614/4614\u001b[0m \u001b[32m━━━━━━━━━━━━━━━━━━━━\u001b[0m\u001b[37m\u001b[0m \u001b[1m26s\u001b[0m 6ms/step\n"
     ]
    },
    {
     "name": "stderr",
     "output_type": "stream",
     "text": [
      "/tmp/ipykernel_2010299/3170344244.py:26: FutureWarning: The default of observed=False is deprecated and will be changed to True in a future version of pandas. Pass observed=False to retain current behavior or observed=True to adopt the future default and silence this warning.\n",
      "  per_class_accuracy = (pd.Series(predictions == true).groupby(pd.Series(true)).mean().to_dict())\n"
     ]
    },
    {
     "name": "stdout",
     "output_type": "stream",
     "text": [
      "Excel written to `/gpfs/scratch/blukacsy/abc_atlas/results/mouse_whole_brain_subclass_flat_classification.xlsx`\n",
      "sub done\n",
      "\u001b[1m4614/4614\u001b[0m \u001b[32m━━━━━━━━━━━━━━━━━━━━\u001b[0m\u001b[37m\u001b[0m \u001b[1m29s\u001b[0m 6ms/step\n"
     ]
    },
    {
     "name": "stderr",
     "output_type": "stream",
     "text": [
      "/tmp/ipykernel_2010299/3170344244.py:26: FutureWarning: The default of observed=False is deprecated and will be changed to True in a future version of pandas. Pass observed=False to retain current behavior or observed=True to adopt the future default and silence this warning.\n",
      "  per_class_accuracy = (pd.Series(predictions == true).groupby(pd.Series(true)).mean().to_dict())\n"
     ]
    },
    {
     "name": "stdout",
     "output_type": "stream",
     "text": [
      "Excel written to `/gpfs/scratch/blukacsy/abc_atlas/results/mouse_whole_brain_supertype_flat_classification.xlsx`\n",
      "super done\n",
      "\u001b[1m4614/4614\u001b[0m \u001b[32m━━━━━━━━━━━━━━━━━━━━\u001b[0m\u001b[37m\u001b[0m \u001b[1m25s\u001b[0m 5ms/step\n"
     ]
    },
    {
     "name": "stderr",
     "output_type": "stream",
     "text": [
      "/tmp/ipykernel_2010299/3170344244.py:26: FutureWarning: The default of observed=False is deprecated and will be changed to True in a future version of pandas. Pass observed=False to retain current behavior or observed=True to adopt the future default and silence this warning.\n",
      "  per_class_accuracy = (pd.Series(predictions == true).groupby(pd.Series(true)).mean().to_dict())\n"
     ]
    },
    {
     "name": "stdout",
     "output_type": "stream",
     "text": [
      "Excel written to `/gpfs/scratch/blukacsy/abc_atlas/results/mouse_whole_brain_cluster_flat_classification.xlsx`\n",
      "clust done\n"
     ]
    }
   ],
   "source": [
    "flat_prediction(\"neurotransmitter\")\n",
    "print(\"neuro done\")\n",
    "flat_prediction(\"class\")\n",
    "print(\"class done\")\n",
    "flat_prediction(\"subclass\")\n",
    "print(\"sub done\")\n",
    "flat_prediction(\"supertype\")\n",
    "print(\"super done\")\n",
    "flat_prediction(\"cluster\")\n",
    "print(\"clust done\")"
   ]
  },
  {
   "cell_type": "code",
   "execution_count": 41,
   "id": "5f0253d7-2a04-4968-804d-c227ce8c19f5",
   "metadata": {},
   "outputs": [],
   "source": [
    "def create_name(input): return re.sub(r\"[^A-Za-z0-9]+\", \"_\", input).strip(\"_\").lower()"
   ]
  },
  {
   "cell_type": "code",
   "execution_count": 42,
   "id": "f8f956e1-e70b-484a-9933-78ecd8827465",
   "metadata": {},
   "outputs": [],
   "source": [
    "class Node:\n",
    "    def __init__(self, name, model, index_to_child, children):\n",
    "        self.name = name\n",
    "        self.model = model\n",
    "        self.index_to_child = index_to_child\n",
    "        self.children = children\n",
    "\n",
    "    def predict(self, gene):\n",
    "        \n",
    "        if (not self.children): return self.name\n",
    "\n",
    "        if ((self.model == None) or (len(self.children) == 1)):\n",
    "            child_node = next(iter(self.children.values()))\n",
    "            return child_node.predict(gene)\n",
    "\n",
    "        logits = self.model.predict(np.array([gene]), verbose=0)\n",
    "        max_index = np.argmax(logits, axis=1)[0]\n",
    "        child_name = self.index_to_child[max_index]\n",
    "\n",
    "        return self.children[child_name].predict(gene)"
   ]
  },
  {
   "cell_type": "code",
   "execution_count": 43,
   "id": "abf3cd3c-5aa9-4c31-886b-7aa9815b049f",
   "metadata": {},
   "outputs": [],
   "source": [
    "def create_tree(hierarchy_dict):\n",
    "    def recurse(node_name, subtree):\n",
    "\n",
    "        name = create_name(node_name)\n",
    "        model_path = f\"/gpfs/scratch/blukacsy/abc_atlas/models/mouse_whole_brain_hvg_{name}_jax_v1.keras\"\n",
    "        model = None\n",
    "        \n",
    "        if (os.path.exists(model_path)):\n",
    "            model = ks.models.load_model(model_path, custom_objects={'LeakyReLU': ks.layers.LeakyReLU}, compile=False)\n",
    "            \n",
    "        index_to_child = None\n",
    "        if subtree:\n",
    "            children = list(subtree)\n",
    "            int_mapping = f\"/gpfs/scratch/blukacsy/abc_atlas/data/mouse_whole_brain_int_mapping_{name}.json\"\n",
    "\n",
    "            if (os.path.exists(int_mapping)):\n",
    "                with open(int_mapping) as file:\n",
    "                    child_to_index = json.load(file)\n",
    "\n",
    "                index_to_child = {int(value): key for key, value in child_to_index.items()}\n",
    "\n",
    "            else: index_to_child = {i: child for i, child in enumerate(children)}\n",
    "            child_nodes = {child: recurse(child, subtree[child]) for child in children}\n",
    "        \n",
    "        else: child_nodes = {}\n",
    "        return Node(node_name, model, index_to_child, child_nodes)\n",
    "    \n",
    "    return recurse(\"class\", hierarchy_dict)"
   ]
  },
  {
   "cell_type": "code",
   "execution_count": 49,
   "id": "da62bffb-a91a-4942-9577-34267af4b04b",
   "metadata": {},
   "outputs": [],
   "source": [
    "def hierarchical_predictions(level, hierarchy_dict):\n",
    "    test_anndata = sc.read_h5ad(f\"/gpfs/scratch/blukacsy/abc_atlas/data/mouse_whole_brain_test_anndata.h5ad\")\n",
    "    test_anndata_hvg = test_anndata[:, test_anndata.var['highly_variable'] ].copy()\n",
    "\n",
    "    root = create_tree(hierarchy_dict)\n",
    "\n",
    "    X = test_anndata_hvg.X\n",
    "\n",
    "    if scipy.sparse.issparse(X):\n",
    "        X = X.toarray()\n",
    "\n",
    "    predictions = []\n",
    "    for gene in X:\n",
    "        predictions.append(root.predict(gene))\n",
    "\n",
    "    test_anndata_hvg.obs['predicted_cell_type'] = predictions\n",
    "    true = test_anndata_hvg.obs[level].values\n",
    "\n",
    "    per_class_accuracy = (pd.Series(predictions == true).groupby(pd.Series(true)).mean().to_dict())\n",
    "    \n",
    "    overall = {\n",
    "        'accuracy': metrics.accuracy_score(true, predictions),\n",
    "        'balanced_accuracy': metrics.balanced_accuracy_score(true, predictions),\n",
    "        'precision': metrics.precision_score(true, predictions, average='macro', zero_division=0),\n",
    "        'recall': metrics.recall_score(true, predictions, average='macro', zero_division=0),\n",
    "        'f1_score': metrics.f1_score(true, predictions, average='macro', zero_division=0),\n",
    "        'AUPRC': 'N/A'\n",
    "    }\n",
    "\n",
    "    class_report = metrics.classification_report(true, predictions, digits=2, zero_division=0, output_dict=True)\n",
    "\n",
    "    class_report_df = (pd.DataFrame(class_report).transpose().rename_axis(\"label\").reset_index())\n",
    "\n",
    "    df = pd.DataFrame({\n",
    "        \"cell_id\": test_anndata_hvg.obs_names.to_numpy(),\n",
    "        \"true_cell\": true,\n",
    "        \"predicted_cell\": predictions,\n",
    "    })\n",
    "\n",
    "    xlsx_path = f\"/gpfs/scratch/blukacsy/abc_atlas/results/mouse_whole_brain_{level}_hierarchical_classification.xlsx\"\n",
    "    with pd.ExcelWriter(xlsx_path, engine=\"openpyxl\") as writer:\n",
    "        pd.Series(overall, name=\"value\").to_frame().to_excel(writer, sheet_name=\"overall_metrics\")\n",
    "        pd.Series(per_class_accuracy, name=\"accuracy\").to_frame().to_excel(writer, sheet_name=\"per_cell_accuracy\")\n",
    "        class_report_df.to_excel(writer, sheet_name=\"classification_report\", index=False)\n",
    "        df.to_excel(writer, sheet_name=\"predictions\", index=False)\n",
    "\n",
    "    print(f\"Excel written to `{xlsx_path}`\")\n",
    "\n",
    "    test_anndata_hvg.write(f\"/gpfs/scratch/blukacsy/abc_atlas/data/mouse_whole_brain_{level}_test_anndata_hierarchy_predictions.h5ad\")"
   ]
  },
  {
   "cell_type": "code",
   "execution_count": 44,
   "id": "f1b3e5f4-edf8-4998-8f94-f7b866e239e5",
   "metadata": {},
   "outputs": [],
   "source": [
    "def load_hierarchy_dict(path):\n",
    "    with open(path, \"r\") as file:\n",
    "        return json.load(file)"
   ]
  },
  {
   "cell_type": "code",
   "execution_count": 45,
   "id": "356a4706-d73b-4cd2-bc57-b6fcb7acc16d",
   "metadata": {},
   "outputs": [],
   "source": [
    "def truncate_hierarchy(tree: dict, max_depth: int, _depth: int = 1) -> dict:\n",
    "    if not isinstance(tree, dict) or not tree:\n",
    "        return {}\n",
    "    if _depth == max_depth:\n",
    "        return {k: {} for k in tree}\n",
    "    return {k: truncate_hierarchy(v, max_depth, _depth + 1) for k, v in tree.items()}"
   ]
  },
  {
   "cell_type": "code",
   "execution_count": 46,
   "id": "d5acf9e6-1238-4ef6-a4f3-bc76f2985efb",
   "metadata": {},
   "outputs": [],
   "source": [
    "level_to_depth = {\n",
    "    \"class\": 1,\n",
    "    \"subclass\": 2,\n",
    "    \"supertype\": 3,\n",
    "    \"cluster\": 4,\n",
    "}"
   ]
  },
  {
   "cell_type": "code",
   "execution_count": 47,
   "id": "a9aff6fc-00dc-4e5b-8365-83511aabbc9f",
   "metadata": {},
   "outputs": [],
   "source": [
    "mouse_whole_brain_hierarchy_dict = load_hierarchy_dict(\"/gpfs/scratch/blukacsy/abc_atlas/data/mouse_whole_brain_hierarchy_dict.json\")"
   ]
  },
  {
   "cell_type": "code",
   "execution_count": 55,
   "id": "f050b0df-1526-4552-82b2-00435adddd52",
   "metadata": {},
   "outputs": [
    {
     "name": "stderr",
     "output_type": "stream",
     "text": [
      "/tmp/ipykernel_2010299/1741524489.py:19: FutureWarning: The default of observed=False is deprecated and will be changed to True in a future version of pandas. Pass observed=False to retain current behavior or observed=True to adopt the future default and silence this warning.\n",
      "  per_class_accuracy = (pd.Series(predictions == true).groupby(pd.Series(true)).mean().to_dict())\n"
     ]
    },
    {
     "name": "stdout",
     "output_type": "stream",
     "text": [
      "Excel written to `/gpfs/scratch/blukacsy/abc_atlas/results/mouse_whole_brain_class_hierarchical_classification.xlsx`\n",
      "class done\n",
      "WARNING:tensorflow:5 out of the last 147628 calls to <function TensorFlowTrainer.make_predict_function.<locals>.one_step_on_data_distributed at 0x7ffb1042d3f0> triggered tf.function retracing. Tracing is expensive and the excessive number of tracings could be due to (1) creating @tf.function repeatedly in a loop, (2) passing tensors with different shapes, (3) passing Python objects instead of tensors. For (1), please define your @tf.function outside of the loop. For (2), @tf.function has reduce_retracing=True option that can avoid unnecessary retracing. For (3), please refer to https://www.tensorflow.org/guide/function#controlling_retracing and https://www.tensorflow.org/api_docs/python/tf/function for  more details.\n",
      "WARNING:tensorflow:6 out of the last 147630 calls to <function TensorFlowTrainer.make_predict_function.<locals>.one_step_on_data_distributed at 0x7ffb1042d000> triggered tf.function retracing. Tracing is expensive and the excessive number of tracings could be due to (1) creating @tf.function repeatedly in a loop, (2) passing tensors with different shapes, (3) passing Python objects instead of tensors. For (1), please define your @tf.function outside of the loop. For (2), @tf.function has reduce_retracing=True option that can avoid unnecessary retracing. For (3), please refer to https://www.tensorflow.org/guide/function#controlling_retracing and https://www.tensorflow.org/api_docs/python/tf/function for  more details.\n"
     ]
    },
    {
     "name": "stderr",
     "output_type": "stream",
     "text": [
      "/tmp/ipykernel_2010299/1741524489.py:19: FutureWarning: The default of observed=False is deprecated and will be changed to True in a future version of pandas. Pass observed=False to retain current behavior or observed=True to adopt the future default and silence this warning.\n",
      "  per_class_accuracy = (pd.Series(predictions == true).groupby(pd.Series(true)).mean().to_dict())\n"
     ]
    },
    {
     "name": "stdout",
     "output_type": "stream",
     "text": [
      "Excel written to `/gpfs/scratch/blukacsy/abc_atlas/results/mouse_whole_brain_subclass_hierarchical_classification.xlsx`\n",
      "subclass done\n"
     ]
    },
    {
     "name": "stderr",
     "output_type": "stream",
     "text": [
      "/tmp/ipykernel_2010299/1741524489.py:19: FutureWarning: The default of observed=False is deprecated and will be changed to True in a future version of pandas. Pass observed=False to retain current behavior or observed=True to adopt the future default and silence this warning.\n",
      "  per_class_accuracy = (pd.Series(predictions == true).groupby(pd.Series(true)).mean().to_dict())\n"
     ]
    },
    {
     "name": "stdout",
     "output_type": "stream",
     "text": [
      "Excel written to `/gpfs/scratch/blukacsy/abc_atlas/results/mouse_whole_brain_supertype_hierarchical_classification.xlsx`\n",
      "supertype done\n"
     ]
    },
    {
     "name": "stderr",
     "output_type": "stream",
     "text": [
      "/tmp/ipykernel_2010299/1741524489.py:19: FutureWarning: The default of observed=False is deprecated and will be changed to True in a future version of pandas. Pass observed=False to retain current behavior or observed=True to adopt the future default and silence this warning.\n",
      "  per_class_accuracy = (pd.Series(predictions == true).groupby(pd.Series(true)).mean().to_dict())\n"
     ]
    },
    {
     "name": "stdout",
     "output_type": "stream",
     "text": [
      "Excel written to `/gpfs/scratch/blukacsy/abc_atlas/results/mouse_whole_brain_cluster_hierarchical_classification.xlsx`\n",
      "cluster done\n"
     ]
    }
   ],
   "source": [
    "for level in [\"class\", \"subclass\", \"supertype\", \"cluster\"]:\n",
    "    truncated = truncate_hierarchy(mouse_whole_brain_hierarchy_dict, level_to_depth[level])\n",
    "    hierarchical_predictions(level, truncated)\n",
    "    print(f\"{level} done\")"
   ]
  },
  {
   "cell_type": "code",
   "execution_count": null,
   "id": "7418a7ac-e964-4293-b4a9-9dfd77dbf1ac",
   "metadata": {},
   "outputs": [],
   "source": []
  },
  {
   "cell_type": "code",
   "execution_count": null,
   "id": "eedc5ff1-c6d9-4d35-9d5c-6fbfb953cefc",
   "metadata": {},
   "outputs": [],
   "source": []
  },
  {
   "cell_type": "code",
   "execution_count": 3,
   "id": "2cd075fc-d6bb-4a8a-8e83-028f3458c186",
   "metadata": {},
   "outputs": [],
   "source": [
    "striatum_clustered = sc.read_h5ad(\"/gpfs/scratch/blukacsy/striatum_clustered.h5ad\")"
   ]
  },
  {
   "cell_type": "code",
   "execution_count": 76,
   "id": "e9c0e40e-cba8-4207-90d1-65fd9ae165cd",
   "metadata": {},
   "outputs": [
    {
     "data": {
      "text/plain": [
       "AnnData object with n_obs × n_vars = 42043 × 21579\n",
       "    obs: 'doublet', 'doublet_score', 'doublet_bool', 'n_genes_by_counts', 'total_counts', 'type', 'sample', 'batch_type', 'batch', 'log1p_n_genes_by_counts', 'log1p_total_counts', 'pct_counts_in_top_50_genes', 'pct_counts_in_top_100_genes', 'pct_counts_in_top_200_genes', 'pct_counts_in_top_500_genes', 'total_counts_mt', 'pct_counts_mt', 'total_counts_ribo', 'pct_counts_ribo', 'total_counts_hb', 'pct_counts_hb', 'n_genes', 'n_counts', 'size_factors', 'leiden_0.2', 'leiden_0.3', 'leiden_0.4', 'leiden_0.6', 'leiden_0.8', 'leiden_1.0', 'leiden_1.4', 'leiden_1.7', 'leiden_2.0', 'leiden_2.5'\n",
       "    var: 'gene_ids', 'feature_types', 'n_cells-0', 'n_cells_by_counts-0', 'mean_counts-0', 'pct_dropout_by_counts-0', 'total_counts-0', 'n_cells-1', 'n_cells_by_counts-1', 'mean_counts-1', 'pct_dropout_by_counts-1', 'total_counts-1', 'n_cells-2', 'n_cells_by_counts-2', 'mean_counts-2', 'pct_dropout_by_counts-2', 'total_counts-2', 'n_cells-3', 'n_cells_by_counts-3', 'mean_counts-3', 'pct_dropout_by_counts-3', 'total_counts-3', 'n_cells-4', 'n_cells_by_counts-4', 'mean_counts-4', 'pct_dropout_by_counts-4', 'total_counts-4', 'n_cells-5', 'n_cells_by_counts-5', 'mean_counts-5', 'pct_dropout_by_counts-5', 'total_counts-5', 'n_cells_by_counts', 'mean_counts', 'log1p_mean_counts', 'pct_dropout_by_counts', 'total_counts', 'log1p_total_counts', 'mt', 'ribo', 'hb', 'n_cells', 'highly_variable', 'means', 'dispersions', 'dispersions_norm'\n",
       "    uns: 'dendrogram_leiden_1.0', 'hvg', 'leiden', 'leiden_0.2_colors', 'leiden_0.3_colors', 'leiden_0.4_colors', 'leiden_0.6_colors', 'leiden_0.8_colors', 'leiden_1.0_colors', 'leiden_1.4_colors', 'leiden_1.7_colors', 'leiden_2.0_colors', 'leiden_2.5_colors', 'log1p', 'neighbors', 'pca', 'sample_colors', 'umap'\n",
       "    obsm: 'X_pca', 'X_umap'\n",
       "    varm: 'PCs'\n",
       "    layers: 'counts'\n",
       "    obsp: 'connectivities', 'distances'"
      ]
     },
     "execution_count": 76,
     "metadata": {},
     "output_type": "execute_result"
    }
   ],
   "source": [
    "striatum_clustered"
   ]
  },
  {
   "cell_type": "code",
   "execution_count": 98,
   "id": "263c87ce-6950-41ac-a0f0-428679ab2396",
   "metadata": {
    "scrolled": true
   },
   "outputs": [
    {
     "data": {
      "text/plain": [
       "batch_type\n",
       "batch1    18544\n",
       "batch4    13269\n",
       "batch2    10230\n",
       "Name: count, dtype: int64"
      ]
     },
     "execution_count": 98,
     "metadata": {},
     "output_type": "execute_result"
    }
   ],
   "source": [
    "striatum_clustered.obs[\"batch_type\"].value_counts()"
   ]
  },
  {
   "cell_type": "code",
   "execution_count": null,
   "id": "95ebe9d1-df5d-4c38-ab86-652040c2e857",
   "metadata": {},
   "outputs": [],
   "source": []
  },
  {
   "cell_type": "code",
   "execution_count": 27,
   "id": "e65a2a3b-21c6-4d07-b961-a659f35e214e",
   "metadata": {},
   "outputs": [],
   "source": [
    "test = striatum_clustered[:, striatum_clustered.var['highly_variable'] ].copy()"
   ]
  },
  {
   "cell_type": "code",
   "execution_count": 28,
   "id": "e1ab04e3-e465-452c-8dd2-ad8113d761f8",
   "metadata": {},
   "outputs": [
    {
     "data": {
      "text/plain": [
       "AnnData object with n_obs × n_vars = 42043 × 2950\n",
       "    obs: 'doublet', 'doublet_score', 'doublet_bool', 'n_genes_by_counts', 'total_counts', 'type', 'sample', 'batch_type', 'batch', 'log1p_n_genes_by_counts', 'log1p_total_counts', 'pct_counts_in_top_50_genes', 'pct_counts_in_top_100_genes', 'pct_counts_in_top_200_genes', 'pct_counts_in_top_500_genes', 'total_counts_mt', 'pct_counts_mt', 'total_counts_ribo', 'pct_counts_ribo', 'total_counts_hb', 'pct_counts_hb', 'n_genes', 'n_counts', 'size_factors', 'leiden_0.2', 'leiden_0.3', 'leiden_0.4', 'leiden_0.6', 'leiden_0.8', 'leiden_1.0', 'leiden_1.4', 'leiden_1.7', 'leiden_2.0', 'leiden_2.5'\n",
       "    var: 'gene_ids', 'feature_types', 'n_cells-0', 'n_cells_by_counts-0', 'mean_counts-0', 'pct_dropout_by_counts-0', 'total_counts-0', 'n_cells-1', 'n_cells_by_counts-1', 'mean_counts-1', 'pct_dropout_by_counts-1', 'total_counts-1', 'n_cells-2', 'n_cells_by_counts-2', 'mean_counts-2', 'pct_dropout_by_counts-2', 'total_counts-2', 'n_cells-3', 'n_cells_by_counts-3', 'mean_counts-3', 'pct_dropout_by_counts-3', 'total_counts-3', 'n_cells-4', 'n_cells_by_counts-4', 'mean_counts-4', 'pct_dropout_by_counts-4', 'total_counts-4', 'n_cells-5', 'n_cells_by_counts-5', 'mean_counts-5', 'pct_dropout_by_counts-5', 'total_counts-5', 'n_cells_by_counts', 'mean_counts', 'log1p_mean_counts', 'pct_dropout_by_counts', 'total_counts', 'log1p_total_counts', 'mt', 'ribo', 'hb', 'n_cells', 'highly_variable', 'means', 'dispersions', 'dispersions_norm'\n",
       "    uns: 'dendrogram_leiden_1.0', 'hvg', 'leiden', 'leiden_0.2_colors', 'leiden_0.3_colors', 'leiden_0.4_colors', 'leiden_0.6_colors', 'leiden_0.8_colors', 'leiden_1.0_colors', 'leiden_1.4_colors', 'leiden_1.7_colors', 'leiden_2.0_colors', 'leiden_2.5_colors', 'log1p', 'neighbors', 'pca', 'sample_colors', 'umap'\n",
       "    obsm: 'X_pca', 'X_umap'\n",
       "    varm: 'PCs'\n",
       "    layers: 'counts'\n",
       "    obsp: 'connectivities', 'distances'"
      ]
     },
     "execution_count": 28,
     "metadata": {},
     "output_type": "execute_result"
    }
   ],
   "source": [
    "test"
   ]
  },
  {
   "cell_type": "code",
   "execution_count": 138,
   "id": "3c7fd5bd-8d16-47a1-896a-878db5dd8ba5",
   "metadata": {},
   "outputs": [],
   "source": [
    "res = sc.read_h5ad(\"/gpfs/scratch/blukacsy/abc_atlas/results/striatum_clustered_mwb_predictions.h5ad\")"
   ]
  },
  {
   "cell_type": "code",
   "execution_count": 139,
   "id": "259061f1-851b-42ff-929e-1fa799a6c195",
   "metadata": {},
   "outputs": [
    {
     "data": {
      "text/plain": [
       "AnnData object with n_obs × n_vars = 42043 × 21579\n",
       "    obs: 'doublet', 'doublet_score', 'doublet_bool', 'n_genes_by_counts', 'total_counts', 'type', 'sample', 'batch_type', 'batch', 'log1p_n_genes_by_counts', 'log1p_total_counts', 'pct_counts_in_top_50_genes', 'pct_counts_in_top_100_genes', 'pct_counts_in_top_200_genes', 'pct_counts_in_top_500_genes', 'total_counts_mt', 'pct_counts_mt', 'total_counts_ribo', 'pct_counts_ribo', 'total_counts_hb', 'pct_counts_hb', 'n_genes', 'n_counts', 'size_factors', 'leiden_0.2', 'leiden_0.3', 'leiden_0.4', 'leiden_0.6', 'leiden_0.8', 'leiden_1.0', 'leiden_1.4', 'leiden_1.7', 'leiden_2.0', 'leiden_2.5', 'pred_flat_neurotransmitter', 'pred_flat_class', 'pred_flat_subclass', 'pred_flat_supertype', 'pred_flat_cluster', 'pred_hier_class', 'pred_hier_subclass', 'pred_hier_supertype', 'pred_hier_cluster'\n",
       "    var: 'gene_ids', 'feature_types', 'n_cells-0', 'n_cells_by_counts-0', 'mean_counts-0', 'pct_dropout_by_counts-0', 'total_counts-0', 'n_cells-1', 'n_cells_by_counts-1', 'mean_counts-1', 'pct_dropout_by_counts-1', 'total_counts-1', 'n_cells-2', 'n_cells_by_counts-2', 'mean_counts-2', 'pct_dropout_by_counts-2', 'total_counts-2', 'n_cells-3', 'n_cells_by_counts-3', 'mean_counts-3', 'pct_dropout_by_counts-3', 'total_counts-3', 'n_cells-4', 'n_cells_by_counts-4', 'mean_counts-4', 'pct_dropout_by_counts-4', 'total_counts-4', 'n_cells-5', 'n_cells_by_counts-5', 'mean_counts-5', 'pct_dropout_by_counts-5', 'total_counts-5', 'n_cells_by_counts', 'mean_counts', 'log1p_mean_counts', 'pct_dropout_by_counts', 'total_counts', 'log1p_total_counts', 'mt', 'ribo', 'hb', 'n_cells', 'highly_variable', 'means', 'dispersions', 'dispersions_norm'\n",
       "    uns: 'dendrogram_leiden_1.0', 'hvg', 'leiden', 'leiden_0.2_colors', 'leiden_0.3_colors', 'leiden_0.4_colors', 'leiden_0.6_colors', 'leiden_0.8_colors', 'leiden_1.0_colors', 'leiden_1.4_colors', 'leiden_1.7_colors', 'leiden_2.0_colors', 'leiden_2.5_colors', 'log1p', 'mwb_prediction_levels', 'neighbors', 'pca', 'sample_colors', 'umap'\n",
       "    obsm: 'X_pca', 'X_umap'\n",
       "    varm: 'PCs'\n",
       "    layers: 'counts'\n",
       "    obsp: 'connectivities', 'distances'"
      ]
     },
     "execution_count": 139,
     "metadata": {},
     "output_type": "execute_result"
    }
   ],
   "source": [
    "res"
   ]
  },
  {
   "cell_type": "code",
   "execution_count": 140,
   "id": "65d11974-052e-4f94-99d1-bee6e6d42162",
   "metadata": {},
   "outputs": [
    {
     "data": {
      "text/plain": [
       "array([[ 1.1843488e+00, -2.6635351e-02, -1.2202565e-02, ...,\n",
       "        -1.2682188e-04,  3.6168651e-05,  7.7891731e-01],\n",
       "       [ 9.6031862e-01,  8.3774239e-01,  3.9538506e-01, ...,\n",
       "        -1.2682188e-04,  3.6168651e-05,  1.0415727e+00],\n",
       "       [ 9.0260506e-01, -2.6635351e-02, -1.2202565e-02, ...,\n",
       "        -1.2682188e-04,  3.6168651e-05,  9.7604543e-01],\n",
       "       ...,\n",
       "       [ 7.0522428e-03, -9.9165067e-03, -4.5041265e-03, ...,\n",
       "         1.6537460e-04, -1.6345401e-04,  1.7385267e+00],\n",
       "       [ 7.0522428e-03, -9.9165067e-03, -4.5041265e-03, ...,\n",
       "         1.6537460e-04, -1.6345401e-04,  1.3682370e+00],\n",
       "       [ 7.0522428e-03, -9.9165067e-03, -4.5041265e-03, ...,\n",
       "         1.6537460e-04, -1.6345401e-04,  1.6115695e-01]], dtype=float32)"
      ]
     },
     "execution_count": 140,
     "metadata": {},
     "output_type": "execute_result"
    }
   ],
   "source": [
    "res.X"
   ]
  },
  {
   "cell_type": "code",
   "execution_count": 148,
   "id": "591091cd-6a26-4620-983b-0964c62cac58",
   "metadata": {},
   "outputs": [
    {
     "data": {
      "text/plain": [
       "np.float32(-0.7174092)"
      ]
     },
     "execution_count": 148,
     "metadata": {},
     "output_type": "execute_result"
    }
   ],
   "source": [
    "res.X.min()"
   ]
  },
  {
   "cell_type": "code",
   "execution_count": 149,
   "id": "42532189-a800-4309-ac20-226d60616d73",
   "metadata": {},
   "outputs": [
    {
     "data": {
      "text/plain": [
       "np.float32(7.474733)"
      ]
     },
     "execution_count": 149,
     "metadata": {},
     "output_type": "execute_result"
    }
   ],
   "source": [
    "res.X.max()"
   ]
  },
  {
   "cell_type": "code",
   "execution_count": 141,
   "id": "3ff22e44-c0ab-4f00-9870-d2e99cafe6ba",
   "metadata": {},
   "outputs": [],
   "source": [
    "boo = sc.read_h5ad(\"/gpfs/scratch/blukacsy/abc_atlas/data/mouse_whole_brain_train_anndata.h5ad\")"
   ]
  },
  {
   "cell_type": "code",
   "execution_count": 142,
   "id": "dfef2f7e-ed0f-4bf4-b025-665a5b85e6cf",
   "metadata": {},
   "outputs": [
    {
     "data": {
      "text/plain": [
       "AnnData object with n_obs × n_vars = 590487 × 32285\n",
       "    obs: 'cell_barcode', 'library_label', 'anatomical_division_label', 'neurotransmitter', 'class', 'subclass', 'supertype', 'cluster', 'feature_matrix_label'\n",
       "    var: 'highly_variable', 'means', 'dispersions', 'dispersions_norm', 'highly_variable_nbatches', 'highly_variable_intersection'\n",
       "    uns: 'hvg'"
      ]
     },
     "execution_count": 142,
     "metadata": {},
     "output_type": "execute_result"
    }
   ],
   "source": [
    "boo"
   ]
  },
  {
   "cell_type": "code",
   "execution_count": 143,
   "id": "d1f6a0c7-66be-4889-b2a7-771284e36d1d",
   "metadata": {},
   "outputs": [],
   "source": [
    "mwb_hvg = boo[:, boo.var['highly_variable'] ].copy()"
   ]
  },
  {
   "cell_type": "code",
   "execution_count": 144,
   "id": "2e93d12b-4e70-4d1d-95fa-474b6bc08e67",
   "metadata": {},
   "outputs": [
    {
     "data": {
      "text/plain": [
       "AnnData object with n_obs × n_vars = 590487 × 3500\n",
       "    obs: 'cell_barcode', 'library_label', 'anatomical_division_label', 'neurotransmitter', 'class', 'subclass', 'supertype', 'cluster', 'feature_matrix_label'\n",
       "    var: 'highly_variable', 'means', 'dispersions', 'dispersions_norm', 'highly_variable_nbatches', 'highly_variable_intersection'\n",
       "    uns: 'hvg'"
      ]
     },
     "execution_count": 144,
     "metadata": {},
     "output_type": "execute_result"
    }
   ],
   "source": [
    "mwb_hvg"
   ]
  },
  {
   "cell_type": "code",
   "execution_count": 146,
   "id": "7c9ed46b-5244-4457-8c89-56eb6ac49cd8",
   "metadata": {},
   "outputs": [
    {
     "data": {
      "text/plain": [
       "array([[0., 0., 0., ..., 0., 0., 0.],\n",
       "       [0., 0., 0., ..., 0., 0., 0.],\n",
       "       [0., 0., 0., ..., 0., 0., 0.],\n",
       "       ...,\n",
       "       [0., 0., 0., ..., 0., 0., 0.],\n",
       "       [0., 0., 0., ..., 0., 0., 0.],\n",
       "       [0., 0., 0., ..., 0., 0., 0.]], dtype=float32)"
      ]
     },
     "execution_count": 146,
     "metadata": {},
     "output_type": "execute_result"
    }
   ],
   "source": [
    "mwb_hvg.X.toarray()"
   ]
  },
  {
   "cell_type": "code",
   "execution_count": 150,
   "id": "42e00b00-f60a-442e-8d5b-111e82df6e8b",
   "metadata": {},
   "outputs": [
    {
     "data": {
      "text/plain": [
       "np.float32(0.0)"
      ]
     },
     "execution_count": 150,
     "metadata": {},
     "output_type": "execute_result"
    }
   ],
   "source": [
    "mwb_hvg.X.toarray().min()"
   ]
  },
  {
   "cell_type": "code",
   "execution_count": 151,
   "id": "9d3db1fa-6066-439d-992d-377d6bda8e24",
   "metadata": {},
   "outputs": [
    {
     "data": {
      "text/plain": [
       "np.float32(18.62102)"
      ]
     },
     "execution_count": 151,
     "metadata": {},
     "output_type": "execute_result"
    }
   ],
   "source": [
    "mwb_hvg.X.toarray().max()"
   ]
  },
  {
   "cell_type": "code",
   "execution_count": 90,
   "id": "938c2fc3-9605-444a-aa73-afe306de5a38",
   "metadata": {},
   "outputs": [
    {
     "data": {
      "text/plain": [
       "6"
      ]
     },
     "execution_count": 90,
     "metadata": {},
     "output_type": "execute_result"
    }
   ],
   "source": [
    "mwb_hvg.obs[\"neurotransmitter\"].nunique()"
   ]
  },
  {
   "cell_type": "code",
   "execution_count": 91,
   "id": "ebac4aa1-47b2-4020-94cb-bf598b77be12",
   "metadata": {},
   "outputs": [
    {
     "data": {
      "text/plain": [
       "22"
      ]
     },
     "execution_count": 91,
     "metadata": {},
     "output_type": "execute_result"
    }
   ],
   "source": [
    "mwb_hvg.obs[\"class\"].nunique()"
   ]
  },
  {
   "cell_type": "code",
   "execution_count": 92,
   "id": "52c44a24-0975-45e4-9c50-7ebf367f058a",
   "metadata": {},
   "outputs": [
    {
     "data": {
      "text/plain": [
       "117"
      ]
     },
     "execution_count": 92,
     "metadata": {},
     "output_type": "execute_result"
    }
   ],
   "source": [
    "mwb_hvg.obs[\"subclass\"].nunique()"
   ]
  },
  {
   "cell_type": "code",
   "execution_count": 93,
   "id": "ff110632-6ba9-4b55-9a3b-30639e21c753",
   "metadata": {},
   "outputs": [
    {
     "data": {
      "text/plain": [
       "412"
      ]
     },
     "execution_count": 93,
     "metadata": {},
     "output_type": "execute_result"
    }
   ],
   "source": [
    "mwb_hvg.obs[\"supertype\"].nunique()"
   ]
  },
  {
   "cell_type": "code",
   "execution_count": 94,
   "id": "7580456c-69c4-4ecd-8137-764ba22018fe",
   "metadata": {},
   "outputs": [
    {
     "data": {
      "text/plain": [
       "1320"
      ]
     },
     "execution_count": 94,
     "metadata": {},
     "output_type": "execute_result"
    }
   ],
   "source": [
    "mwb_hvg.obs[\"cluster\"].nunique()"
   ]
  },
  {
   "cell_type": "code",
   "execution_count": 95,
   "id": "ae0800de-c5a3-4ec4-8174-d1ee1ed0e249",
   "metadata": {},
   "outputs": [
    {
     "name": "stderr",
     "output_type": "stream",
     "text": [
      "/tmp/ipykernel_1373630/743467667.py:4: DeprecationWarning: is_categorical_dtype is deprecated and will be removed in a future version. Use isinstance(dtype, pd.CategoricalDtype) instead\n",
      "  if pd.api.types.is_object_dtype(s) or pd.api.types.is_categorical_dtype(s):\n"
     ]
    },
    {
     "data": {
      "text/plain": [
       "[('type', 2),\n",
       " ('batch_type', 3),\n",
       " ('sample', 6),\n",
       " ('batch', 6),\n",
       " ('leiden_0.2', 14),\n",
       " ('leiden_0.3', 15),\n",
       " ('leiden_0.4', 15),\n",
       " ('leiden_0.6', 19),\n",
       " ('leiden_0.8', 20),\n",
       " ('leiden_1.0', 24),\n",
       " ('leiden_1.4', 28),\n",
       " ('leiden_1.7', 30),\n",
       " ('leiden_2.0', 33),\n",
       " ('leiden_2.5', 39)]"
      ]
     },
     "execution_count": 95,
     "metadata": {},
     "output_type": "execute_result"
    }
   ],
   "source": [
    "cands = []\n",
    "for col in striatum_clustered.obs.columns:\n",
    "    s = striatum_clustered.obs[col]\n",
    "    if pd.api.types.is_object_dtype(s) or pd.api.types.is_categorical_dtype(s):\n",
    "        nunq = s.nunique(dropna=True)\n",
    "        if 1 < nunq <= 200:\n",
    "            cands.append((col, nunq))\n",
    "sorted(cands, key=lambda x: x[1])"
   ]
  },
  {
   "cell_type": "code",
   "execution_count": 11,
   "id": "935a08fa-2a5f-4bcc-8f12-fdb581ea6bef",
   "metadata": {},
   "outputs": [
    {
     "data": {
      "text/plain": [
       "class\n",
       "01 IT-ET Glut        161547\n",
       "30 Astro-Epen         72176\n",
       "31 OPC-Oligo          64081\n",
       "09 CNU-LGE GABA       62862\n",
       "02 NP-CT-L6b Glut     52318\n",
       "11 CNU-HYa GABA       32076\n",
       "33 Vascular           32037\n",
       "34 Immune             30176\n",
       "10 LSX GABA           23341\n",
       "06 CTX-CGE GABA       19259\n",
       "13 CNU-HYa Glut       16174\n",
       "07 CTX-MGE GABA       15468\n",
       "08 CNU-MGE GABA        4178\n",
       "05 OB-IMN GABA         3801\n",
       "03 OB-CR Glut           487\n",
       "04 DG-IMN Glut          263\n",
       "14 HY Glut              142\n",
       "18 TH Glut               36\n",
       "32 OEC                   31\n",
       "25 Pineal Glut           15\n",
       "12 HY GABA               14\n",
       "16 HY MM Glut             5\n",
       "Name: count, dtype: int64"
      ]
     },
     "execution_count": 11,
     "metadata": {},
     "output_type": "execute_result"
    }
   ],
   "source": [
    "boo.obs[\"class\"].value_counts()"
   ]
  },
  {
   "cell_type": "code",
   "execution_count": null,
   "id": "52755dae-0a3c-4ab1-8143-b458ffc63c5b",
   "metadata": {},
   "outputs": [],
   "source": []
  },
  {
   "cell_type": "code",
   "execution_count": 74,
   "id": "059540c5-dc3b-471b-8080-49a53de61b66",
   "metadata": {},
   "outputs": [
    {
     "name": "stdout",
     "output_type": "stream",
     "text": [
      "[load] /gpfs/scratch/blukacsy/striatum_clustered.h5ad\n",
      "\n",
      "=== FLAT prediction level=neurotransmitter ===\n",
      "[align] target cells=42043 | source genes=3500 | via=gene_ids | present=2512 | padded=988\n",
      "\n",
      "=== FLAT prediction level=class ===\n",
      "[align] target cells=42043 | source genes=3500 | via=gene_ids | present=2512 | padded=988\n",
      "\n",
      "=== FLAT prediction level=subclass ===\n",
      "[align] target cells=42043 | source genes=3500 | via=gene_ids | present=2512 | padded=988\n",
      "\n",
      "=== FLAT prediction level=supertype ===\n",
      "[align] target cells=42043 | source genes=3500 | via=gene_ids | present=2512 | padded=988\n",
      "\n",
      "=== FLAT prediction level=cluster ===\n",
      "[align] target cells=42043 | source genes=3500 | via=gene_ids | present=2512 | padded=988\n",
      "\n",
      "=== HIERARCHICAL prediction level=class ===\n",
      "[align] target cells=42043 | source genes=3500 | via=gene_ids | present=2512 | padded=988\n",
      "[hier class] predicted 10000/42043\n",
      "[hier class] predicted 20000/42043\n",
      "[hier class] predicted 30000/42043\n",
      "[hier class] predicted 40000/42043\n",
      "\n",
      "=== HIERARCHICAL prediction level=subclass ===\n",
      "[align] target cells=42043 | source genes=3500 | via=gene_ids | present=2512 | padded=988\n",
      "[hier subclass] predicted 10000/42043\n",
      "[hier subclass] predicted 20000/42043\n",
      "[hier subclass] predicted 30000/42043\n",
      "[hier subclass] predicted 40000/42043\n",
      "\n",
      "=== HIERARCHICAL prediction level=supertype ===\n",
      "[align] target cells=42043 | source genes=3500 | via=gene_ids | present=2512 | padded=988\n",
      "[hier supertype] predicted 10000/42043\n",
      "[hier supertype] predicted 20000/42043\n",
      "[hier supertype] predicted 30000/42043\n",
      "[hier supertype] predicted 40000/42043\n",
      "\n",
      "=== HIERARCHICAL prediction level=cluster ===\n",
      "[align] target cells=42043 | source genes=3500 | via=gene_ids | present=2512 | padded=988\n",
      "WARNING:tensorflow:5 out of the last 125733 calls to <function TensorFlowTrainer.make_predict_function.<locals>.one_step_on_data_distributed at 0x7ffa238deef0> triggered tf.function retracing. Tracing is expensive and the excessive number of tracings could be due to (1) creating @tf.function repeatedly in a loop, (2) passing tensors with different shapes, (3) passing Python objects instead of tensors. For (1), please define your @tf.function outside of the loop. For (2), @tf.function has reduce_retracing=True option that can avoid unnecessary retracing. For (3), please refer to https://www.tensorflow.org/guide/function#controlling_retracing and https://www.tensorflow.org/api_docs/python/tf/function for  more details.\n",
      "[hier cluster] predicted 10000/42043\n",
      "[hier cluster] predicted 20000/42043\n",
      "[hier cluster] predicted 30000/42043\n",
      "[hier cluster] predicted 40000/42043\n",
      "\n",
      "[SAVED] /gpfs/scratch/blukacsy/abc_atlas/results/striatum_clustered_mwb_predictions.h5ad  (added obs columns: pred_flat_neurotransmitter, pred_flat_class, pred_flat_subclass, pred_flat_supertype, pred_flat_cluster, pred_hier_class, pred_hier_subclass, pred_hier_supertype, pred_hier_cluster)\n"
     ]
    }
   ],
   "source": [
    "import os, json, re, gc\n",
    "import numpy as np\n",
    "import pandas as pd\n",
    "import scanpy as sc\n",
    "import scipy.sparse as sp\n",
    "import keras as ks\n",
    "\n",
    "BASE = \"/gpfs/scratch/blukacsy/abc_atlas\"\n",
    "DATA_DIR = f\"{BASE}/data\"\n",
    "MODELS_DIR = f\"{BASE}/models\"\n",
    "RESULTS_DIR = f\"{BASE}/results\"\n",
    "\n",
    "SOURCE_BASE = \"mouse_whole_brain\"\n",
    "TARGET_PATH = \"/gpfs/scratch/blukacsy/striatum_clustered.h5ad\"\n",
    "\n",
    "LEVELS_FLAT = [\"neurotransmitter\", \"class\", \"subclass\", \"supertype\", \"cluster\"]\n",
    "LEVELS_HIER = [\"class\", \"subclass\", \"supertype\", \"cluster\"]\n",
    "\n",
    "def _flat_intmap_path(level: str) -> str:\n",
    "    return f\"{DATA_DIR}/{SOURCE_BASE}_{level}_int_mapping_flat.json\"\n",
    "\n",
    "def _flat_hvg_path(level: str) -> str:\n",
    "    return f\"{DATA_DIR}/{SOURCE_BASE}_{level}_train_anndata_hvg_flat.h5ad\"\n",
    "\n",
    "def _flat_model_path(level: str) -> str:\n",
    "    return f\"{MODELS_DIR}/{SOURCE_BASE}_{level}_hvg_flat_jax_v1.keras\"\n",
    "\n",
    "def _hierarchy_json_path() -> str:\n",
    "    return f\"{DATA_DIR}/{SOURCE_BASE}_hierarchy_dict.json\"\n",
    "\n",
    "def _load_hvgs_for_level(level: str) -> pd.Index:\n",
    "    p = _flat_hvg_path(level)\n",
    "    if not os.path.exists(p):\n",
    "        raise FileNotFoundError(f\"Missing HVG training file for level '{level}': {p}\")\n",
    "    ad = sc.read_h5ad(p)\n",
    "    return ad.var_names.copy()\n",
    "\n",
    "def _align_to_genes(ad_tgt: sc.AnnData, source_genes: pd.Index) -> np.ndarray:\n",
    "    \"\"\"\n",
    "    Dense float32 matrix with columns in source_genes order.\n",
    "    Tries multiple keys to match: var_names, var['gene_ids'], var['gene_ids'](no-version).\n",
    "    Chooses the best-hit mapping and logs it.\n",
    "    \"\"\"\n",
    "    import re\n",
    "    import numpy as np\n",
    "    import scipy.sparse as sp\n",
    "    import pandas as pd\n",
    "\n",
    "    def is_ensembl_like(names: pd.Index) -> bool:\n",
    "        pat = re.compile(r\"^ENSMUSG\\d+(?:\\.\\d+)?$\")\n",
    "        n = len(names)\n",
    "        if n == 0: return False\n",
    "        k = sum(1 for g in names[:min(5000, n)] if pat.match(str(g)))\n",
    "        return (k / min(5000, n)) >= 0.8\n",
    "\n",
    "    def strip_version(idx: pd.Index) -> pd.Index:\n",
    "        return idx.astype(str).str.replace(r\"\\.\\d+$\", \"\", regex=True)\n",
    "\n",
    "    n, m = ad_tgt.n_obs, len(source_genes)\n",
    "    Xfull = ad_tgt.X\n",
    "\n",
    "    # candidates: (label, index, dict_map)\n",
    "    candidates = []\n",
    "    names = pd.Index(ad_tgt.var_names.astype(str))\n",
    "    candidates.append((\"var_names\", names, {g:i for i,g in enumerate(names)}))\n",
    "\n",
    "    if \"gene_ids\" in ad_tgt.var.columns:\n",
    "        gids = pd.Index(ad_tgt.var[\"gene_ids\"].astype(str))\n",
    "        candidates.append((\"gene_ids\", gids, {g:i for i,g in enumerate(gids)}))\n",
    "        gids_nv = strip_version(gids)\n",
    "        candidates.append((\"gene_ids_novers\", gids_nv, {g:i for i,g in enumerate(gids_nv)}))\n",
    "\n",
    "    # prefer IDs when the source looks like Ensembl\n",
    "    src_is_ens = is_ensembl_like(source_genes)\n",
    "    label_order = [\"gene_ids\", \"gene_ids_novers\", \"var_names\"] if src_is_ens else [\"var_names\", \"gene_ids\", \"gene_ids_novers\"]\n",
    "\n",
    "    best = None\n",
    "    for wanted in label_order:\n",
    "        for label, idx_list, idx_map in candidates:\n",
    "            if label != wanted: \n",
    "                continue\n",
    "            hits = [(pos, idx_map[g]) for pos, g in enumerate(source_genes) if g in idx_map]\n",
    "            if best is None or len(hits) > len(best[2]):\n",
    "                best = (label, idx_map, hits)\n",
    "        if best and best[0] == wanted and len(best[2]) > 0:\n",
    "            break\n",
    "\n",
    "    hit_label, idx_map, hits = best if best is not None else (None, {}, [])\n",
    "    present = len(hits)\n",
    "\n",
    "    X = np.zeros((n, m), dtype=np.float32)\n",
    "    if present > 0:\n",
    "        src_pos, tgt_idx = zip(*hits)\n",
    "        Xp = Xfull[:, list(tgt_idx)]\n",
    "        Xp = Xp.toarray() if sp.issparse(Xp) else np.asarray(Xp)\n",
    "        X[:, list(src_pos)] = Xp.astype(np.float32, copy=False)\n",
    "\n",
    "    print(f\"[align] target cells={n} | source genes={m} | via={hit_label} | present={present} | padded={m-present}\")\n",
    "    return X\n",
    "\n",
    "def _predict_flat_level(ad_tgt: sc.AnnData, level: str) -> pd.Series:\n",
    "    hvgs = _load_hvgs_for_level(level)\n",
    "    mpath = _flat_model_path(level)\n",
    "    if not os.path.exists(mpath):\n",
    "        raise FileNotFoundError(f\"Flat model missing for level '{level}': {mpath}\")\n",
    "    model = ks.models.load_model(mpath, custom_objects={'LeakyReLU': ks.layers.LeakyReLU}, compile=False)\n",
    "\n",
    "    jmap = _flat_intmap_path(level)\n",
    "    if not os.path.exists(jmap):\n",
    "        raise FileNotFoundError(f\"Flat int mapping missing for level '{level}': {jmap}\")\n",
    "    with open(jmap) as f:\n",
    "        name_to_int = json.load(f)\n",
    "    int_to_name = {int(v): k for k, v in name_to_int.items()}\n",
    "\n",
    "    X = _align_to_genes(ad_tgt, hvgs)\n",
    "    logits = model.predict(X, verbose=0)\n",
    "    max_idx = np.argmax(logits, axis=1)\n",
    "    preds = pd.Series([int_to_name[int(i)] for i in max_idx], index=ad_tgt.obs_names, name=f\"pred_flat_{level}\")\n",
    "    \n",
    "    del model, X, logits; gc.collect()\n",
    "    return preds\n",
    "\n",
    "def _predict_hier_level(ad_tgt: sc.AnnData, level: str, hierarchy_dict: dict, level_to_depth: dict) -> pd.Series:\n",
    "    \n",
    "    depth = level_to_depth[level]\n",
    "    truncated = truncate_hierarchy(hierarchy_dict, max_depth=depth)\n",
    "\n",
    "    root = create_tree(truncated)\n",
    "\n",
    "    hvgs = _load_hvgs_for_level(level)\n",
    "    X = _align_to_genes(ad_tgt, hvgs)\n",
    "\n",
    "    out = []\n",
    "    for i in range(X.shape[0]):\n",
    "        out.append(root.predict(X[i, :]))\n",
    "        if (i + 1) % 10000 == 0:\n",
    "            print(f\"[hier {level}] predicted {i+1}/{X.shape[0]}\")\n",
    "    preds = pd.Series(out, index=ad_tgt.obs_names, name=f\"pred_hier_{level}\")\n",
    "    del X, out; gc.collect()\n",
    "    return preds\n",
    "\n",
    "def run_striatum_predictions_and_save():\n",
    "    print(f\"[load] {TARGET_PATH}\")\n",
    "    ad = sc.read_h5ad(TARGET_PATH)\n",
    "\n",
    "    for lvl in LEVELS_FLAT:\n",
    "        print(f\"\\n=== FLAT prediction level={lvl} ===\")\n",
    "        ad.obs[f\"pred_flat_{lvl}\"] = _predict_flat_level(ad, lvl).astype(\"category\")\n",
    "\n",
    "    hpath = _hierarchy_json_path()\n",
    "    if not os.path.exists(hpath):\n",
    "        raise FileNotFoundError(f\"Hierarchy dict missing: {hpath}\")\n",
    "    full_hierarchy = load_hierarchy_dict(hpath)\n",
    "\n",
    "    for lvl in LEVELS_HIER:\n",
    "        print(f\"\\n=== HIERARCHICAL prediction level={lvl} ===\")\n",
    "        ad.obs[f\"pred_hier_{lvl}\"] = _predict_hier_level(ad, lvl, full_hierarchy, level_to_depth).astype(\"category\")\n",
    "\n",
    "    ad.uns.setdefault(\"mwb_prediction_levels\", {})\n",
    "    ad.uns[\"mwb_prediction_levels\"][\"flat\"] = LEVELS_FLAT\n",
    "    ad.uns[\"mwb_prediction_levels\"][\"hier\"] = LEVELS_HIER\n",
    "    ad.uns[\"mwb_prediction_levels\"][\"source\"] = SOURCE_BASE\n",
    "\n",
    "    os.makedirs(RESULTS_DIR, exist_ok=True)\n",
    "    out_h5ad = f\"{RESULTS_DIR}/striatum_clustered_mwb_predictions.h5ad\"\n",
    "    ad.write(out_h5ad)\n",
    "    print(f\"\\n[SAVED] {out_h5ad}  (added obs columns: \"\n",
    "          + \", \".join([f\"pred_flat_{l}\" for l in LEVELS_FLAT] + [f\"pred_hier_{l}\" for l in LEVELS_HIER]) + \")\")\n",
    "\n",
    "run_striatum_predictions_and_save()"
   ]
  },
  {
   "cell_type": "code",
   "execution_count": 75,
   "id": "9b243dfa-3086-461c-b55b-90658c97fdac",
   "metadata": {},
   "outputs": [
    {
     "name": "stdout",
     "output_type": "stream",
     "text": [
      "foo\n"
     ]
    }
   ],
   "source": [
    "print(\"foo\")"
   ]
  },
  {
   "cell_type": "code",
   "execution_count": 99,
   "id": "465ffe2c-6708-4386-a2a3-e404ba2d94f1",
   "metadata": {},
   "outputs": [],
   "source": [
    "res = sc.read_h5ad(\"/gpfs/scratch/blukacsy/abc_atlas/results/striatum_clustered_mwb_predictions.h5ad\")"
   ]
  },
  {
   "cell_type": "code",
   "execution_count": 100,
   "id": "8247be92-62aa-4315-a869-4b2f94c4237a",
   "metadata": {},
   "outputs": [
    {
     "data": {
      "text/plain": [
       "AnnData object with n_obs × n_vars = 42043 × 21579\n",
       "    obs: 'doublet', 'doublet_score', 'doublet_bool', 'n_genes_by_counts', 'total_counts', 'type', 'sample', 'batch_type', 'batch', 'log1p_n_genes_by_counts', 'log1p_total_counts', 'pct_counts_in_top_50_genes', 'pct_counts_in_top_100_genes', 'pct_counts_in_top_200_genes', 'pct_counts_in_top_500_genes', 'total_counts_mt', 'pct_counts_mt', 'total_counts_ribo', 'pct_counts_ribo', 'total_counts_hb', 'pct_counts_hb', 'n_genes', 'n_counts', 'size_factors', 'leiden_0.2', 'leiden_0.3', 'leiden_0.4', 'leiden_0.6', 'leiden_0.8', 'leiden_1.0', 'leiden_1.4', 'leiden_1.7', 'leiden_2.0', 'leiden_2.5', 'pred_flat_neurotransmitter', 'pred_flat_class', 'pred_flat_subclass', 'pred_flat_supertype', 'pred_flat_cluster', 'pred_hier_class', 'pred_hier_subclass', 'pred_hier_supertype', 'pred_hier_cluster'\n",
       "    var: 'gene_ids', 'feature_types', 'n_cells-0', 'n_cells_by_counts-0', 'mean_counts-0', 'pct_dropout_by_counts-0', 'total_counts-0', 'n_cells-1', 'n_cells_by_counts-1', 'mean_counts-1', 'pct_dropout_by_counts-1', 'total_counts-1', 'n_cells-2', 'n_cells_by_counts-2', 'mean_counts-2', 'pct_dropout_by_counts-2', 'total_counts-2', 'n_cells-3', 'n_cells_by_counts-3', 'mean_counts-3', 'pct_dropout_by_counts-3', 'total_counts-3', 'n_cells-4', 'n_cells_by_counts-4', 'mean_counts-4', 'pct_dropout_by_counts-4', 'total_counts-4', 'n_cells-5', 'n_cells_by_counts-5', 'mean_counts-5', 'pct_dropout_by_counts-5', 'total_counts-5', 'n_cells_by_counts', 'mean_counts', 'log1p_mean_counts', 'pct_dropout_by_counts', 'total_counts', 'log1p_total_counts', 'mt', 'ribo', 'hb', 'n_cells', 'highly_variable', 'means', 'dispersions', 'dispersions_norm'\n",
       "    uns: 'dendrogram_leiden_1.0', 'hvg', 'leiden', 'leiden_0.2_colors', 'leiden_0.3_colors', 'leiden_0.4_colors', 'leiden_0.6_colors', 'leiden_0.8_colors', 'leiden_1.0_colors', 'leiden_1.4_colors', 'leiden_1.7_colors', 'leiden_2.0_colors', 'leiden_2.5_colors', 'log1p', 'mwb_prediction_levels', 'neighbors', 'pca', 'sample_colors', 'umap'\n",
       "    obsm: 'X_pca', 'X_umap'\n",
       "    varm: 'PCs'\n",
       "    layers: 'counts'\n",
       "    obsp: 'connectivities', 'distances'"
      ]
     },
     "execution_count": 100,
     "metadata": {},
     "output_type": "execute_result"
    }
   ],
   "source": [
    "res"
   ]
  },
  {
   "cell_type": "code",
   "execution_count": 137,
   "id": "30766ff6-9a81-45d1-bbcc-46ff4fa8dd29",
   "metadata": {},
   "outputs": [
    {
     "data": {
      "text/plain": [
       "array([[ 1.1843488e+00, -2.6635351e-02, -1.2202565e-02, ...,\n",
       "        -1.2682188e-04,  3.6168651e-05,  7.7891731e-01],\n",
       "       [ 9.6031862e-01,  8.3774239e-01,  3.9538506e-01, ...,\n",
       "        -1.2682188e-04,  3.6168651e-05,  1.0415727e+00],\n",
       "       [ 9.0260506e-01, -2.6635351e-02, -1.2202565e-02, ...,\n",
       "        -1.2682188e-04,  3.6168651e-05,  9.7604543e-01],\n",
       "       ...,\n",
       "       [ 7.0522428e-03, -9.9165067e-03, -4.5041265e-03, ...,\n",
       "         1.6537460e-04, -1.6345401e-04,  1.7385267e+00],\n",
       "       [ 7.0522428e-03, -9.9165067e-03, -4.5041265e-03, ...,\n",
       "         1.6537460e-04, -1.6345401e-04,  1.3682370e+00],\n",
       "       [ 7.0522428e-03, -9.9165067e-03, -4.5041265e-03, ...,\n",
       "         1.6537460e-04, -1.6345401e-04,  1.6115695e-01]], dtype=float32)"
      ]
     },
     "execution_count": 137,
     "metadata": {},
     "output_type": "execute_result"
    }
   ],
   "source": [
    "res.X"
   ]
  },
  {
   "cell_type": "code",
   "execution_count": 129,
   "id": "d638a60c-e79f-43f5-b7e6-fd53671875a0",
   "metadata": {},
   "outputs": [
    {
     "data": {
      "text/plain": [
       "pred_flat_cluster\n",
       "0096 L4/5 IT CTX Glut_5    41514\n",
       "0040 L6 IT CTX Glut_2        526\n",
       "5310 Endo NN_1                 3\n",
       "Name: count, dtype: int64"
      ]
     },
     "execution_count": 129,
     "metadata": {},
     "output_type": "execute_result"
    }
   ],
   "source": [
    "res.obs[\"pred_flat_cluster\"].value_counts()"
   ]
  },
  {
   "cell_type": "code",
   "execution_count": 136,
   "id": "24c32218-03e0-4286-8884-7ee3c10d1cc6",
   "metadata": {},
   "outputs": [
    {
     "data": {
      "text/plain": [
       "AAACCCAAGACCATAA_sc20_1    0601 OB-STR-CTX Inh IMN_2\n",
       "AAACCCAAGTCTTCCC_sc20_1    0601 OB-STR-CTX Inh IMN_2\n",
       "AAACCCACAGAGCCCT_sc20_1    0601 OB-STR-CTX Inh IMN_2\n",
       "AAACCCACATCAGTCA_sc20_1    0601 OB-STR-CTX Inh IMN_2\n",
       "AAACCCAGTCTTGGTA_sc20_1    0601 OB-STR-CTX Inh IMN_2\n",
       "                                     ...            \n",
       "TTTGTTGGTACTGGGA_sc41_2    0601 OB-STR-CTX Inh IMN_2\n",
       "TTTGTTGGTATCGTTG_sc41_2    0601 OB-STR-CTX Inh IMN_2\n",
       "TTTGTTGGTTGGCCGT_sc41_2    0601 OB-STR-CTX Inh IMN_2\n",
       "TTTGTTGGTTTCGACA_sc41_2    0601 OB-STR-CTX Inh IMN_2\n",
       "TTTGTTGTCCAGCCTT_sc41_2    0601 OB-STR-CTX Inh IMN_2\n",
       "Name: pred_hier_cluster, Length: 42043, dtype: category\n",
       "Categories (7, object): ['0601 OB-STR-CTX Inh IMN_2', '0605 OB-STR-CTX Inh IMN_2', '0607 OB-STR-CTX Inh IMN_2', '0616 OB-STR-CTX Inh IMN_5', '0618 OB-STR-CTX Inh IMN_5', '0621 OB-STR-CTX Inh IMN_6', '5310 Endo NN_1']"
      ]
     },
     "execution_count": 136,
     "metadata": {},
     "output_type": "execute_result"
    }
   ],
   "source": [
    "res.obs[\"pred_hier_cluster\"]"
   ]
  },
  {
   "cell_type": "code",
   "execution_count": null,
   "id": "f5f44be4-ba74-47f1-a640-18c3f472363e",
   "metadata": {},
   "outputs": [],
   "source": []
  },
  {
   "cell_type": "code",
   "execution_count": 135,
   "id": "504fdc3f-c9bc-4f0d-a34b-f8a5439b48b4",
   "metadata": {},
   "outputs": [
    {
     "name": "stdout",
     "output_type": "stream",
     "text": [
      "[load] /gpfs/scratch/blukacsy/abc_atlas/results/striatum_clustered_mwb_predictions.h5ad\n",
      "[saved] /gpfs/scratch/blukacsy/abc_atlas/results/umaps/striatum_umap_mwb_neurotransmitter_flat.png\n",
      "[saved] /gpfs/scratch/blukacsy/abc_atlas/results/umaps/striatum_umap_mwb_class_flat.png\n",
      "[saved] /gpfs/scratch/blukacsy/abc_atlas/results/umaps/striatum_umap_mwb_subclass_flat.png\n",
      "[saved] /gpfs/scratch/blukacsy/abc_atlas/results/umaps/striatum_umap_mwb_supertype_flat.png\n",
      "[saved] /gpfs/scratch/blukacsy/abc_atlas/results/umaps/striatum_umap_mwb_cluster_flat.png\n",
      "[saved] /gpfs/scratch/blukacsy/abc_atlas/results/umaps/striatum_umap_mwb_class_hier.png\n",
      "[saved] /gpfs/scratch/blukacsy/abc_atlas/results/umaps/striatum_umap_mwb_subclass_hier.png\n",
      "[saved] /gpfs/scratch/blukacsy/abc_atlas/results/umaps/striatum_umap_mwb_supertype_hier.png\n",
      "[saved] /gpfs/scratch/blukacsy/abc_atlas/results/umaps/striatum_umap_mwb_cluster_hier.png\n",
      "done\n"
     ]
    }
   ],
   "source": [
    "import os, re\n",
    "import numpy as np\n",
    "import pandas as pd\n",
    "import scanpy as sc\n",
    "import matplotlib.pyplot as plt\n",
    "\n",
    "BASE = \"/gpfs/scratch/blukacsy/abc_atlas\"\n",
    "DATA_DIR = f\"{BASE}/data\"\n",
    "RESULTS_DIR = f\"{BASE}/results\"\n",
    "\n",
    "PRED_FILE = f\"{RESULTS_DIR}/striatum_clustered_mwb_predictions.h5ad\"\n",
    "OUTDIR = f\"{RESULTS_DIR}/umaps\"\n",
    "os.makedirs(OUTDIR, exist_ok=True)\n",
    "\n",
    "LEVELS_FLAT = [\"neurotransmitter\", \"class\", \"subclass\", \"supertype\", \"cluster\"]\n",
    "LEVELS_HIER = [\"class\", \"subclass\", \"supertype\", \"cluster\"]\n",
    "\n",
    "def _abbrev(name: str):\n",
    "    s = re.sub(r\"\\(.*?\\)\", \"\", str(name))  # strip parentheticals\n",
    "\n",
    "    # remove one or more leading 2–4 digit blocks plus common separators\n",
    "    # e.g., \"0123 - 045  Inhibitory Neuron\" -> \"Inhibitory Neuron\"\n",
    "    s = re.sub(r\"^(?:\\s*\\d{2,4}[\\s_\\-:./]*)+\", \"\", s)\n",
    "\n",
    "    # split into tokens\n",
    "    words = [w for w in re.split(r\"[ /_\\-]+\", s.strip()) if w]\n",
    "\n",
    "    # drop numeric tokens at the very front (2–4 digits), just in case\n",
    "    while words and re.fullmatch(r\"\\d{2,4}\", words[0]):\n",
    "        words.pop(0)\n",
    "\n",
    "    # if the first remaining token still begins with 2–4 digits (e.g., \"1234Astro\"),\n",
    "    # strip those digits from that token\n",
    "    if words:\n",
    "        words[0] = re.sub(r\"^\\d{2,4}\", \"\", words[0])\n",
    "        if words[0] == \"\":\n",
    "            words.pop(0)\n",
    "\n",
    "    if not words:\n",
    "        return \"NA\"\n",
    "\n",
    "    if len(words) >= 3:\n",
    "        return \"\".join(w[0].upper() for w in words[:3])\n",
    "\n",
    "    if len(words) == 2:\n",
    "        first, second = words\n",
    "        return (first[:2] + second[:1]).upper() if len(first) > 1 else (first[:1] + second[:2]).upper()\n",
    "\n",
    "    # single word\n",
    "    return words[0][:3].upper()\n",
    "\n",
    "def _palette(categories):\n",
    "    import itertools\n",
    "    from matplotlib import rcParams\n",
    "    default_colors = rcParams['axes.prop_cycle'].by_key().get('color', [])\n",
    "    cyc = itertools.cycle(default_colors if default_colors else [\"#377eb8\",\"#4daf4a\",\"#984ea3\",\"#ff7f00\",\"#e41a1c\"])\n",
    "    return {c: next(cyc) for c in categories}\n",
    "\n",
    "def _ensure_umap(adata):\n",
    "    if \"X_umap\" in adata.obsm:\n",
    "        return\n",
    "    if \"X_pca\" in adata.obsm:\n",
    "        print(\"using PCA\")\n",
    "        sc.pp.neighbors(adata, use_rep=\"X_pca\")\n",
    "    else:\n",
    "        print(\"creating custom UMAP\")\n",
    "        sc.pp.pca(adata, n_comps=min(50, adata.n_vars))\n",
    "        sc.pp.neighbors(adata, n_pcs=min(50, adata.n_vars))\n",
    "    sc.tl.umap(adata, min_dist=0.5)\n",
    "\n",
    "def plot_pred_umap(adata, column, title, savepath, annotate_centroids=True, legend_max=40, s=2, alpha=0.7):\n",
    "    if column not in adata.obs:\n",
    "        print(f\"[WARN] missing {column}; skip\")\n",
    "        return\n",
    "    _ensure_umap(adata)\n",
    "\n",
    "    lab = adata.obs[column].astype(\"category\")\n",
    "    coords = pd.DataFrame(adata.obsm[\"X_umap\"], columns=[\"UMAP1\", \"UMAP2\"], index=adata.obs_names)\n",
    "    coords[\"label\"] = lab\n",
    "\n",
    "    cats = list(lab.cat.categories)\n",
    "    pal = _palette(cats)\n",
    "\n",
    "    counts = coords[\"label\"].value_counts()\n",
    "    show_cats = list(counts.head(40 if legend_max is None else legend_max).index)\n",
    "\n",
    "    fig, ax = plt.subplots(figsize=(9,8))\n",
    "    for cat, group in coords.groupby(\"label\", observed=True):\n",
    "        show_lbl = (cat in show_cats)\n",
    "        lbl = f\"{str(cat)} (n={len(group)})\" if show_lbl else None\n",
    "        ax.scatter(group[\"UMAP1\"], group[\"UMAP2\"], s=s, alpha=alpha, lw=0,\n",
    "                   color=pal.get(cat, \"#999999\"), label=lbl)\n",
    "        if annotate_centroids and show_lbl:\n",
    "            ax.text(group[\"UMAP1\"].mean(), group[\"UMAP2\"].mean(), _abbrev(cat),\n",
    "                    fontsize=7, fontweight=\"bold\", ha=\"center\", va=\"center\",\n",
    "                    color=\"black\",\n",
    "                    bbox=dict(facecolor=\"white\", alpha=0.7, edgecolor=\"none\", pad=1))\n",
    "\n",
    "    ax.set_title(title)\n",
    "    ax.set_xlabel(\"UMAP1\"); ax.set_ylabel(\"UMAP2\")\n",
    "    if show_cats:\n",
    "        ax.legend(\n",
    "            bbox_to_anchor=(1.02, 1),\n",
    "            loc=\"upper left\",\n",
    "            fontsize=8,\n",
    "            title=\"Predicted (n)\",\n",
    "            markerscale=4.0,\n",
    "            scatterpoints=1\n",
    "        )\n",
    "    plt.tight_layout()\n",
    "    plt.savefig(savepath, dpi=300, bbox_inches=\"tight\")\n",
    "    plt.close(fig)\n",
    "\n",
    "def make_all_umaps():\n",
    "    print(f\"[load] {PRED_FILE}\")\n",
    "    ad = sc.read_h5ad(PRED_FILE)\n",
    "\n",
    "    # 5 flat\n",
    "    for lvl in LEVELS_FLAT:\n",
    "        col = f\"pred_flat_{lvl}\"\n",
    "        title = f\"Striatum UMAP w/ MWB {lvl} flat preds\"\n",
    "        out = f\"{OUTDIR}/striatum_umap_mwb_{lvl}_flat.png\"\n",
    "        plot_pred_umap(ad, col, title, out,\n",
    "                       annotate_centroids=True,\n",
    "                       legend_max=(25 if lvl == \"cluster\" else 40),\n",
    "                       s=2, alpha=0.7)\n",
    "        print(f\"[saved] {out}\")\n",
    "\n",
    "    # 4 hierarchical\n",
    "    for lvl in LEVELS_HIER:\n",
    "        col = f\"pred_hier_{lvl}\"\n",
    "        title = f\"Striatum UMAP w/ MWB {lvl} hier preds\"\n",
    "        out = f\"{OUTDIR}/striatum_umap_mwb_{lvl}_hier.png\"\n",
    "        plot_pred_umap(ad, col, title, out,\n",
    "                       annotate_centroids=True,\n",
    "                       legend_max=(25 if lvl == \"cluster\" else 40),\n",
    "                       s=2, alpha=0.7)\n",
    "        print(f\"[saved] {out}\")\n",
    "\n",
    "    print(\"done\")\n",
    "\n",
    "# Uncomment to run immediately:\n",
    "make_all_umaps()"
   ]
  },
  {
   "cell_type": "code",
   "execution_count": null,
   "id": "f9d51536-3564-4604-895f-11ddfa9342e3",
   "metadata": {},
   "outputs": [],
   "source": []
  },
  {
   "cell_type": "code",
   "execution_count": null,
   "id": "d9a39b60-2f79-43c4-97dc-e98ae77dd01c",
   "metadata": {},
   "outputs": [],
   "source": []
  },
  {
   "cell_type": "code",
   "execution_count": 65,
   "id": "3ee78024-dafd-4dd0-92ef-9788e8420cb5",
   "metadata": {},
   "outputs": [
    {
     "name": "stdout",
     "output_type": "stream",
     "text": [
      "[load] striatum\n",
      "striatum vars: names=21579, gene_ids=21579\n",
      "\n",
      "[neurotransmitter] MWB HVGs = 3500 | ensembl_like=True\n",
      "  overlap vs striatum.var_names:   0 (0.00%)\n",
      "  overlap vs striatum.gene_ids:    2512 (71.77%)\n",
      "  overlap vs gene_ids(no-version): 2512 (71.77%)\n",
      "    e.g. (gene_ids): ['ENSMUSG00000025900', 'ENSMUSG00000002459', 'ENSMUSG00000033740', 'ENSMUSG00000079671', 'ENSMUSG00000097893', 'ENSMUSG00000042501', 'ENSMUSG00000048960', 'ENSMUSG00000016918']\n",
      "\n",
      "[class] MWB HVGs = 3500 | ensembl_like=True\n",
      "  overlap vs striatum.var_names:   0 (0.00%)\n",
      "  overlap vs striatum.gene_ids:    2512 (71.77%)\n",
      "  overlap vs gene_ids(no-version): 2512 (71.77%)\n",
      "    e.g. (gene_ids): ['ENSMUSG00000025900', 'ENSMUSG00000002459', 'ENSMUSG00000033740', 'ENSMUSG00000079671', 'ENSMUSG00000097893', 'ENSMUSG00000042501', 'ENSMUSG00000048960', 'ENSMUSG00000016918']\n",
      "\n",
      "[subclass] MWB HVGs = 3500 | ensembl_like=True\n",
      "  overlap vs striatum.var_names:   0 (0.00%)\n",
      "  overlap vs striatum.gene_ids:    2512 (71.77%)\n",
      "  overlap vs gene_ids(no-version): 2512 (71.77%)\n",
      "    e.g. (gene_ids): ['ENSMUSG00000025900', 'ENSMUSG00000002459', 'ENSMUSG00000033740', 'ENSMUSG00000079671', 'ENSMUSG00000097893', 'ENSMUSG00000042501', 'ENSMUSG00000048960', 'ENSMUSG00000016918']\n",
      "\n",
      "[supertype] MWB HVGs = 3500 | ensembl_like=True\n",
      "  overlap vs striatum.var_names:   0 (0.00%)\n",
      "  overlap vs striatum.gene_ids:    2512 (71.77%)\n",
      "  overlap vs gene_ids(no-version): 2512 (71.77%)\n",
      "    e.g. (gene_ids): ['ENSMUSG00000025900', 'ENSMUSG00000002459', 'ENSMUSG00000033740', 'ENSMUSG00000079671', 'ENSMUSG00000097893', 'ENSMUSG00000042501', 'ENSMUSG00000048960', 'ENSMUSG00000016918']\n",
      "\n",
      "[cluster] MWB HVGs = 3500 | ensembl_like=True\n",
      "  overlap vs striatum.var_names:   0 (0.00%)\n",
      "  overlap vs striatum.gene_ids:    2512 (71.77%)\n",
      "  overlap vs gene_ids(no-version): 2512 (71.77%)\n",
      "    e.g. (gene_ids): ['ENSMUSG00000025900', 'ENSMUSG00000002459', 'ENSMUSG00000033740', 'ENSMUSG00000079671', 'ENSMUSG00000097893', 'ENSMUSG00000042501', 'ENSMUSG00000048960', 'ENSMUSG00000016918']\n"
     ]
    }
   ],
   "source": [
    "import scanpy as sc\n",
    "import pandas as pd\n",
    "import numpy as np\n",
    "import re\n",
    "\n",
    "STRI = \"/gpfs/scratch/blukacsy/striatum_clustered.h5ad\"\n",
    "BASE = \"/gpfs/scratch/blukacsy/abc_atlas/data\"\n",
    "\n",
    "mwb_hvg_paths = {\n",
    "    \"neurotransmitter\": f\"{BASE}/mouse_whole_brain_neurotransmitter_train_anndata_hvg_flat.h5ad\",\n",
    "    \"class\":            f\"{BASE}/mouse_whole_brain_class_train_anndata_hvg_flat.h5ad\",\n",
    "    \"subclass\":         f\"{BASE}/mouse_whole_brain_subclass_train_anndata_hvg_flat.h5ad\",\n",
    "    \"supertype\":        f\"{BASE}/mouse_whole_brain_supertype_train_anndata_hvg_flat.h5ad\",\n",
    "    \"cluster\":          f\"{BASE}/mouse_whole_brain_cluster_train_anndata_hvg_flat.h5ad\",\n",
    "}\n",
    "\n",
    "def is_ensembl_like(names: pd.Index) -> bool:\n",
    "    # Heuristic: >80% look like ENSMUSG#########\n",
    "    pat = re.compile(r\"^ENSMUSG\\d+(?:\\.\\d+)?$\")\n",
    "    n = len(names)\n",
    "    if n == 0: return False\n",
    "    k = sum(1 for g in names[:min(5000, n)] if pat.match(str(g)))\n",
    "    return (k / min(5000, n)) >= 0.8\n",
    "\n",
    "def strip_version(ids: pd.Index) -> pd.Index:\n",
    "    return ids.astype(str).str.replace(r\"\\.\\d+$\", \"\", regex=True)\n",
    "\n",
    "print(\"[load] striatum\")\n",
    "ad_s = sc.read_h5ad(STRI)\n",
    "\n",
    "stri_names = pd.Index(ad_s.var_names.astype(str))\n",
    "stri_ids   = pd.Index(ad_s.var[\"gene_ids\"].astype(str)) if \"gene_ids\" in ad_s.var.columns else pd.Index([])\n",
    "stri_ids_novers = strip_version(stri_ids) if len(stri_ids) else pd.Index([])\n",
    "\n",
    "print(f\"striatum vars: names={len(stri_names)}, gene_ids={len(stri_ids)}\")\n",
    "\n",
    "for lvl, path in mwb_hvg_paths.items():\n",
    "    ad = sc.read_h5ad(path)\n",
    "    hvgs = pd.Index(ad.var_names.astype(str))\n",
    "\n",
    "    mwb_is_ens = is_ensembl_like(hvgs)\n",
    "    print(f\"\\n[{lvl}] MWB HVGs = {len(hvgs)} | ensembl_like={mwb_is_ens}\")\n",
    "\n",
    "    # direct vs var_names\n",
    "    direct = hvgs.intersection(stri_names)\n",
    "    # vs gene_ids (as-is)\n",
    "    ids_hit = hvgs.intersection(stri_ids) if len(stri_ids) else pd.Index([])\n",
    "    # vs gene_ids (no version)\n",
    "    ids_nv_hit = hvgs.intersection(stri_ids_novers) if len(stri_ids_novers) else pd.Index([])\n",
    "\n",
    "    def pct(x): return f\"{(100*len(x)/max(len(hvgs),1)):.2f}%\"\n",
    "\n",
    "    print(f\"  overlap vs striatum.var_names:   {len(direct)} ({pct(direct)})\")\n",
    "    if len(ids_hit):\n",
    "        print(f\"  overlap vs striatum.gene_ids:    {len(ids_hit)} ({pct(ids_hit)})\")\n",
    "    if len(ids_nv_hit):\n",
    "        print(f\"  overlap vs gene_ids(no-version): {len(ids_nv_hit)} ({pct(ids_nv_hit)})\")\n",
    "\n",
    "    # show a few examples if any overlap\n",
    "    for label, ix in [(\"names\", direct), (\"gene_ids\", ids_hit), (\"gene_ids_nover\", ids_nv_hit)]:\n",
    "        if len(ix) > 0:\n",
    "            print(f\"    e.g. ({label}): {list(ix[:8])}\")\n",
    "            break"
   ]
  },
  {
   "cell_type": "code",
   "execution_count": 67,
   "id": "f0ec08b4-f46e-4204-8212-ae80409cb86e",
   "metadata": {},
   "outputs": [
    {
     "data": {
      "text/plain": [
       "Index(['ENSMUSG00000051951', 'ENSMUSG00000089699', 'ENSMUSG00000102331',\n",
       "       'ENSMUSG00000102343', 'ENSMUSG00000025900', 'ENSMUSG00000025902',\n",
       "       'ENSMUSG00000104238', 'ENSMUSG00000104328', 'ENSMUSG00000033845',\n",
       "       'ENSMUSG00000025903',\n",
       "       ...\n",
       "       'ENSMUSG00000096550', 'ENSMUSG00000094172', 'ENSMUSG00000094887',\n",
       "       'ENSMUSG00000091585', 'ENSMUSG00000095763', 'ENSMUSG00000095523',\n",
       "       'ENSMUSG00000095475', 'ENSMUSG00000094855', 'ENSMUSG00000095019',\n",
       "       'ENSMUSG00000095041'],\n",
       "      dtype='object', name='gene_identifier', length=32285)"
      ]
     },
     "execution_count": 67,
     "metadata": {},
     "output_type": "execute_result"
    }
   ],
   "source": [
    "boo.var_names"
   ]
  },
  {
   "cell_type": "code",
   "execution_count": 68,
   "id": "257b85c8-4942-4199-8a5c-a3d1dfd57c4b",
   "metadata": {},
   "outputs": [
    {
     "data": {
      "text/plain": [
       "Index(['Xkr4', 'Gm1992', 'Gm19938', 'Rp1', 'Mrpl15', 'Lypla1', 'Tcea1',\n",
       "       'Rgs20', 'Gm16041', 'Atp6v1h',\n",
       "       ...\n",
       "       'AC168977.1', 'CAAA01118383.1', 'AC132444.5', 'Vamp7', 'Spry3', 'Tmlhe',\n",
       "       '4933409K07Rik', 'Gm10931', 'CAAA01147332.1', 'AC149090.1'],\n",
       "      dtype='object', length=21579)"
      ]
     },
     "execution_count": 68,
     "metadata": {},
     "output_type": "execute_result"
    }
   ],
   "source": [
    "striatum_clustered.var_names"
   ]
  },
  {
   "cell_type": "code",
   "execution_count": 70,
   "id": "62bf4a74-e905-44d1-b4d2-f6c602724ba6",
   "metadata": {},
   "outputs": [
    {
     "data": {
      "text/plain": [
       "AnnData object with n_obs × n_vars = 590487 × 32285\n",
       "    obs: 'cell_barcode', 'library_label', 'anatomical_division_label', 'neurotransmitter', 'class', 'subclass', 'supertype', 'cluster', 'feature_matrix_label'\n",
       "    var: 'highly_variable', 'means', 'dispersions', 'dispersions_norm', 'highly_variable_nbatches', 'highly_variable_intersection'\n",
       "    uns: 'hvg'"
      ]
     },
     "execution_count": 70,
     "metadata": {},
     "output_type": "execute_result"
    }
   ],
   "source": [
    "boo"
   ]
  },
  {
   "cell_type": "code",
   "execution_count": 73,
   "id": "f68c3a47-0117-4b6a-8876-81774573977a",
   "metadata": {},
   "outputs": [
    {
     "data": {
      "text/plain": [
       "Xkr4              ENSMUSG00000051951\n",
       "Gm1992            ENSMUSG00000089699\n",
       "Gm19938           ENSMUSG00000102331\n",
       "Rp1               ENSMUSG00000025900\n",
       "Mrpl15            ENSMUSG00000033845\n",
       "                         ...        \n",
       "Tmlhe             ENSMUSG00000079834\n",
       "4933409K07Rik     ENSMUSG00000095552\n",
       "Gm10931           ENSMUSG00000094350\n",
       "CAAA01147332.1    ENSMUSG00000095742\n",
       "AC149090.1        ENSMUSG00000095041\n",
       "Name: gene_ids, Length: 21579, dtype: object"
      ]
     },
     "execution_count": 73,
     "metadata": {},
     "output_type": "execute_result"
    }
   ],
   "source": [
    "striatum_clustered.var[\"gene_ids\"]"
   ]
  },
  {
   "cell_type": "code",
   "execution_count": null,
   "id": "81f96ee6-fe3a-4852-a787-cd3c9c94671e",
   "metadata": {},
   "outputs": [],
   "source": []
  },
  {
   "cell_type": "code",
   "execution_count": null,
   "id": "220a8348-f844-4011-8a1a-5a128f13e714",
   "metadata": {},
   "outputs": [],
   "source": []
  },
  {
   "cell_type": "code",
   "execution_count": 71,
   "id": "6b307418-34ab-46d6-a78c-2f08eceb7999",
   "metadata": {},
   "outputs": [],
   "source": [
    "def integer_mappings(group):\n",
    "    unique_groups = sorted(cell_extended[group].unique())\n",
    "    group_to_int = {groups: i for i, groups in enumerate(unique_groups)}\n",
    "\n",
    "    cell_subset = cell_extended.copy()\n",
    "    adata.obs[f'{group}_labels'] = cell_subset[group].map(group_to_int)\n",
    "    print(f'# unique groups: {len(unique_groups)}')\n",
    "\n",
    "    group_mapping = pd.DataFrame({\n",
    "        f'{group}': list(group_to_int.keys()),\n",
    "        'label': list(group_to_int.values())\n",
    "    })\n",
    "\n",
    "    return group_mapping"
   ]
  },
  {
   "cell_type": "code",
   "execution_count": 72,
   "id": "9ce99a96-5527-4618-a3d8-1a6f90e4bbfe",
   "metadata": {},
   "outputs": [
    {
     "name": "stdout",
     "output_type": "stream",
     "text": [
      "# unique groups: 34\n",
      "# unique groups: 338\n",
      "# unique groups: 1201\n",
      "# unique groups: 5322\n"
     ]
    }
   ],
   "source": [
    "class_mapping = integer_mappings('class')\n",
    "subclass_mapping = integer_mappings('subclass')\n",
    "supertype_mapping = integer_mappings('supertype')\n",
    "cluster_mapping = integer_mappings('cluster')"
   ]
  },
  {
   "cell_type": "code",
   "execution_count": 84,
   "id": "fcb6fff5-1719-43c4-97bf-38c016f36907",
   "metadata": {},
   "outputs": [
    {
     "data": {
      "text/plain": [
       "AnnData object with n_obs × n_vars = 4042976 × 32285\n",
       "    obs: 'cell_barcode', 'library_label', 'anatomical_division_label', 'class', 'subclass', 'supertype', 'cluster', 'class_labels', 'subclass_labels', 'supertype_labels', 'cluster_labels'"
      ]
     },
     "execution_count": 84,
     "metadata": {},
     "output_type": "execute_result"
    }
   ],
   "source": [
    "adata"
   ]
  },
  {
   "cell_type": "code",
   "execution_count": 85,
   "id": "1800fbed-2021-48de-85dc-870ca262c650",
   "metadata": {},
   "outputs": [],
   "source": [
    "adata.write(\"/gpfs/scratch/blukacsy/abc_atlas/data/adata.h5ad\")"
   ]
  },
  {
   "cell_type": "code",
   "execution_count": 8,
   "id": "8a49ed23-8858-477d-8eca-c56964d73926",
   "metadata": {},
   "outputs": [],
   "source": [
    "adata = anndata.read_h5ad(\"/gpfs/scratch/blukacsy/abc_atlas/data/adata.h5ad\")"
   ]
  },
  {
   "cell_type": "code",
   "execution_count": 9,
   "id": "6067a21a-5b8c-488f-ad17-d09e0fb3938f",
   "metadata": {},
   "outputs": [
    {
     "data": {
      "text/plain": [
       "AnnData object with n_obs × n_vars = 4042976 × 32285\n",
       "    obs: 'cell_barcode', 'library_label', 'anatomical_division_label', 'class', 'subclass', 'supertype', 'cluster', 'class_labels', 'subclass_labels', 'supertype_labels', 'cluster_labels'"
      ]
     },
     "execution_count": 9,
     "metadata": {},
     "output_type": "execute_result"
    }
   ],
   "source": [
    "adata"
   ]
  },
  {
   "cell_type": "code",
   "execution_count": 26,
   "id": "cc2d8e3e-62dc-4f55-bee2-644cd3259aff",
   "metadata": {},
   "outputs": [],
   "source": [
    "adata.obs['feature_matrix_label'] = cell_extended['feature_matrix_label']"
   ]
  },
  {
   "cell_type": "code",
   "execution_count": 32,
   "id": "54c5132d-c438-447f-81f6-38b369529d34",
   "metadata": {},
   "outputs": [],
   "source": [
    "sc.pp.highly_variable_genes(adata, n_top_genes=3500, batch_key='feature_matrix_label')"
   ]
  },
  {
   "cell_type": "code",
   "execution_count": 33,
   "id": "6e749d09-f7b6-47bb-abcc-df38fae2fdc2",
   "metadata": {},
   "outputs": [
    {
     "data": {
      "text/plain": [
       "AnnData object with n_obs × n_vars = 4042976 × 32285\n",
       "    obs: 'cell_barcode', 'library_label', 'anatomical_division_label', 'class', 'subclass', 'supertype', 'cluster', 'class_labels', 'subclass_labels', 'supertype_labels', 'cluster_labels', 'feature_matrix_label'\n",
       "    var: 'highly_variable', 'means', 'dispersions', 'dispersions_norm', 'highly_variable_nbatches', 'highly_variable_intersection'\n",
       "    uns: 'hvg'"
      ]
     },
     "execution_count": 33,
     "metadata": {},
     "output_type": "execute_result"
    }
   ],
   "source": [
    "adata"
   ]
  },
  {
   "cell_type": "code",
   "execution_count": 42,
   "id": "f916bcba-130a-41d6-9782-4f92d18e5643",
   "metadata": {},
   "outputs": [],
   "source": [
    "adata_hvg = adata[:, adata.var['highly_variable'] ].copy()"
   ]
  },
  {
   "cell_type": "code",
   "execution_count": 57,
   "id": "f757da48-cd86-4344-be44-d30a870a6f9a",
   "metadata": {},
   "outputs": [
    {
     "data": {
      "text/plain": [
       "AnnData object with n_obs × n_vars = 4042976 × 3500\n",
       "    obs: 'cell_barcode', 'library_label', 'anatomical_division_label', 'class', 'subclass', 'supertype', 'cluster', 'class_labels', 'subclass_labels', 'supertype_labels', 'cluster_labels', 'feature_matrix_label'\n",
       "    var: 'highly_variable', 'means', 'dispersions', 'dispersions_norm', 'highly_variable_nbatches', 'highly_variable_intersection'\n",
       "    uns: 'hvg'"
      ]
     },
     "execution_count": 57,
     "metadata": {},
     "output_type": "execute_result"
    }
   ],
   "source": [
    "adata_hvg"
   ]
  },
  {
   "cell_type": "code",
   "execution_count": 87,
   "id": "beb88c4f-b61a-4242-bf32-9c53a636010e",
   "metadata": {},
   "outputs": [],
   "source": [
    "def train_test_val_split(adata, dimension, group, seed1, seed2):\n",
    "    \n",
    "    if scipy.sparse.issparse(adata.X):\n",
    "        X = adata.X.toarray()\n",
    "    else:\n",
    "        X = adata.X\n",
    "\n",
    "    print(X.min())\n",
    "    print(X.max())\n",
    "\n",
    "    y = adata.obs[f'{group}_labels'].values\n",
    "\n",
    "    indices = adata.obs.index.to_numpy()\n",
    "    \n",
    "    train_features, test_features, train_labels, test_labels, train_index, test_index = train_test_split(X, y, indices, test_size = 0.2, random_state=seed1, stratify=y)\n",
    "    test_features, val_features, test_labels, val_labels, test_index, val_index = train_test_split(test_features, test_labels, test_index, test_size = 0.5, random_state=seed2, stratify=test_labels)\n",
    "    weights = compute_class_weight(class_weight='balanced', classes=np.unique(train_labels), y=train_labels)\n",
    "\n",
    "    train_features = np.array(train_features)\n",
    "    test_features = np.array(test_features)\n",
    "    val_features = np.array(val_features)\n",
    "    train_labels = np.array(train_labels)\n",
    "    test_labels = np.array(test_labels)\n",
    "    val_labels = np.array(val_labels)\n",
    "    weights = np.array(weights)\n",
    "    train_index = np.array(train_index)\n",
    "    test_index = np.array(test_index)\n",
    "    val_index = np.array(val_index)\n",
    "\n",
    "    print()\n",
    "    print('Train features shape:', train_features.shape)\n",
    "    print('Val features shape:', val_features.shape)\n",
    "    print('Test features shape:', test_features.shape)\n",
    "    print('Train labels shape:', train_labels.shape)\n",
    "    print('Val labels shape:', val_labels.shape)\n",
    "    print('Test labels shape:', test_labels.shape)\n",
    "    print('Weights shape:', weights.shape)\n",
    "    print()\n",
    "    print('Train index shape:', train_index.shape)\n",
    "    print('Test index shape:', test_index.shape)\n",
    "    print('Val index shape:', val_index.shape)\n",
    "    print()\n",
    "\n",
    "    np.save(f'/gpfs/scratch/blukacsy/abc_atlas/arrays/train_features_{dimension}_{group}.npy', train_features)\n",
    "    np.save(f'/gpfs/scratch/blukacsy/abc_atlas/arrays/test_features_{dimension}_{group}.npy', test_features)\n",
    "    np.save(f'/gpfs/scratch/blukacsy/abc_atlas/arrays/val_features_{dimension}_{group}.npy', val_features)\n",
    "    np.save(f'/gpfs/scratch/blukacsy/abc_atlas/arrays/train_labels_{dimension}_{group}.npy', train_labels)\n",
    "    np.save(f'/gpfs/scratch/blukacsy/abc_atlas/arrays/test_labels_{dimension}_{group}.npy', test_labels)\n",
    "    np.save(f'/gpfs/scratch/blukacsy/abc_atlas/arrays/val_labels_{dimension}_{group}.npy', val_labels)\n",
    "    np.save(f'/gpfs/scratch/blukacsy/abc_atlas/arrays/weights_{dimension}_{group}.npy', weights)\n",
    "    np.save(f'/gpfs/scratch/blukacsy/abc_atlas/arrays/train_index_{dimension}_{group}.npy', train_index)\n",
    "    np.save(f'/gpfs/scratch/blukacsy/abc_atlas/arrays/test_index_{dimension}_{group}.npy', test_index)\n",
    "    np.save(f'/gpfs/scratch/blukacsy/abc_atlas/arrays/val_index_{dimension}_{group}.npy', val_index)"
   ]
  },
  {
   "cell_type": "code",
   "execution_count": 83,
   "id": "c6d98775-6815-4f9e-b3e4-a8077160845e",
   "metadata": {},
   "outputs": [],
   "source": [
    "class_mapping.to_csv('/gpfs/scratch/blukacsy/abc_atlas/data/class_mapping.csv')\n",
    "subclass_mapping.to_csv('/gpfs/scratch/blukacsy/abc_atlas/data/subclass_mapping.csv')\n",
    "supertype_mapping.to_csv('/gpfs/scratch/blukacsy/abc_atlas/data/supertype_mapping.csv')\n",
    "cluster_mapping.to_csv('/gpfs/scratch/blukacsy/abc_atlas/data/cluster_mapping.csv')"
   ]
  },
  {
   "cell_type": "code",
   "execution_count": 84,
   "id": "5d7ee60f-2ca3-4fff-8129-034708680de5",
   "metadata": {},
   "outputs": [
    {
     "name": "stdout",
     "output_type": "stream",
     "text": [
      "done writing\n"
     ]
    }
   ],
   "source": [
    "adata.write(\"/gpfs/scratch/blukacsy/abc_atlas/data/adata.h5ad\")\n",
    "adata_hvg.write(\"/gpfs/scratch/blukacsy/abc_atlas/data/adata_hvg.h5ad\")\n",
    "print(\"done writing\")"
   ]
  },
  {
   "cell_type": "code",
   "execution_count": 85,
   "id": "dc3be2a9-63ea-4250-8e05-a78edd922312",
   "metadata": {},
   "outputs": [
    {
     "name": "stdout",
     "output_type": "stream",
     "text": [
      "0.0\n",
      "18.814487\n",
      "\n",
      "Train features shape: (3234380, 3500)\n",
      "Val features shape: (404298, 3500)\n",
      "Test features shape: (404298, 3500)\n",
      "Train labels shape: (3234380,)\n",
      "Val labels shape: (404298,)\n",
      "Test labels shape: (404298,)\n",
      "Weights shape: (34,)\n",
      "\n",
      "Train index shape: (3234380,)\n",
      "Test index shape: (404298,)\n",
      "Val index shape: (404298,)\n"
     ]
    }
   ],
   "source": [
    "train_test_val_split(adata_hvg, \"hvg\", \"class\", 7105, 3870)"
   ]
  },
  {
   "cell_type": "code",
   "execution_count": 88,
   "id": "8903df9e-8910-4607-afde-88b93cf9f511",
   "metadata": {},
   "outputs": [
    {
     "name": "stdout",
     "output_type": "stream",
     "text": [
      "0.0\n",
      "18.814487\n",
      "\n",
      "Train features shape: (3234380, 3500)\n",
      "Val features shape: (404298, 3500)\n",
      "Test features shape: (404298, 3500)\n",
      "Train labels shape: (3234380,)\n",
      "Val labels shape: (404298,)\n",
      "Test labels shape: (404298,)\n",
      "Weights shape: (338,)\n",
      "\n",
      "Train index shape: (3234380,)\n",
      "Test index shape: (404298,)\n",
      "Val index shape: (404298,)\n",
      "\n",
      "0.0\n",
      "18.814487\n",
      "\n",
      "Train features shape: (3234380, 3500)\n",
      "Val features shape: (404298, 3500)\n",
      "Test features shape: (404298, 3500)\n",
      "Train labels shape: (3234380,)\n",
      "Val labels shape: (404298,)\n",
      "Test labels shape: (404298,)\n",
      "Weights shape: (1201,)\n",
      "\n",
      "Train index shape: (3234380,)\n",
      "Test index shape: (404298,)\n",
      "Val index shape: (404298,)\n",
      "\n",
      "0.0\n",
      "18.814487\n",
      "\n",
      "Train features shape: (3234380, 3500)\n",
      "Val features shape: (404298, 3500)\n",
      "Test features shape: (404298, 3500)\n",
      "Train labels shape: (3234380,)\n",
      "Val labels shape: (404298,)\n",
      "Test labels shape: (404298,)\n",
      "Weights shape: (5322,)\n",
      "\n",
      "Train index shape: (3234380,)\n",
      "Test index shape: (404298,)\n",
      "Val index shape: (404298,)\n",
      "\n"
     ]
    }
   ],
   "source": [
    "train_test_val_split(adata_hvg, \"hvg\", \"subclass\", 7105, 3870)\n",
    "train_test_val_split(adata_hvg, \"hvg\", \"supertype\", 7105, 3870)\n",
    "train_test_val_split(adata_hvg, \"hvg\", \"cluster\", 7105, 3870)"
   ]
  },
  {
   "cell_type": "code",
   "execution_count": null,
   "id": "e4c813a6-8b9d-44ba-996d-b9e1ef4360ac",
   "metadata": {},
   "outputs": [
    {
     "name": "stdout",
     "output_type": "stream",
     "text": [
      "0.0\n",
      "18.814487\n"
     ]
    }
   ],
   "source": [
    "train_test_val_split(adata, \"original\", \"class\", 7105, 3870)"
   ]
  },
  {
   "cell_type": "code",
   "execution_count": null,
   "id": "5399d071-0e9b-446c-91e9-648cd7c1af7d",
   "metadata": {},
   "outputs": [],
   "source": []
  }
 ],
 "metadata": {
  "kernelspec": {
   "display_name": "Python 3 (ipykernel)",
   "language": "python",
   "name": "python3"
  },
  "language_info": {
   "codemirror_mode": {
    "name": "ipython",
    "version": 3
   },
   "file_extension": ".py",
   "mimetype": "text/x-python",
   "name": "python",
   "nbconvert_exporter": "python",
   "pygments_lexer": "ipython3",
   "version": "3.10.16"
  }
 },
 "nbformat": 4,
 "nbformat_minor": 5
}
