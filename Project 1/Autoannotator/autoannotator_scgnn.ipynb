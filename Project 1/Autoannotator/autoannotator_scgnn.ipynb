{
 "cells": [
  {
   "cell_type": "code",
   "execution_count": 2,
   "metadata": {},
   "outputs": [],
   "source": [
    "import numpy as np\n",
    "import scanpy as sc\n",
    "import matplotlib.pyplot as plt\n",
    "import scipy.sparse\n",
    "from sklearn.model_selection import train_test_split\n",
    "from sklearn.utils.class_weight import compute_sample_weight"
   ]
  },
  {
   "cell_type": "code",
   "execution_count": 3,
   "metadata": {},
   "outputs": [],
   "source": [
    "data = \"C:\\\\Users\\\\bence\\\\Projects\\\\BIO446\\\\McKinnon-Rosati-Laboratory\\\\Project 1\\\\Data\\\\scGNN_matrix.h5ad\""
   ]
  },
  {
   "cell_type": "code",
   "execution_count": 4,
   "metadata": {},
   "outputs": [
    {
     "name": "stdout",
     "output_type": "stream",
     "text": [
      "X matrix is sparse: False\n",
      "X size = (2000, 8013)\n"
     ]
    }
   ],
   "source": [
    "adata = sc.read_h5ad(data)\n",
    "print('X matrix is sparse:', scipy.sparse.issparse(adata.X))\n",
    "print('X size =', adata.X.shape)"
   ]
  },
  {
   "cell_type": "code",
   "execution_count": 5,
   "metadata": {},
   "outputs": [
    {
     "data": {
      "text/plain": [
       "AnnData object with n_obs × n_vars = 2000 × 8013\n",
       "    obs: 'my_clust_1'"
      ]
     },
     "execution_count": 5,
     "metadata": {},
     "output_type": "execute_result"
    }
   ],
   "source": [
    "adata"
   ]
  },
  {
   "cell_type": "code",
   "execution_count": 6,
   "metadata": {},
   "outputs": [
    {
     "name": "stdout",
     "output_type": "stream",
     "text": [
      "[[0.         0.         0.         ... 0.         0.         0.        ]\n",
      " [0.         0.         0.         ... 0.         0.         0.        ]\n",
      " [0.         0.         0.         ... 0.         0.         0.        ]\n",
      " ...\n",
      " [0.23346782 0.01299769 0.08607478 ... 0.08972513 0.         0.2212397 ]\n",
      " [0.2330591  0.         0.00645433 ... 0.         0.         0.22836858]\n",
      " [0.29366922 0.         0.05959742 ... 0.1592918  0.01173312 0.2759499 ]]\n",
      "(2000, 8013)\n",
      "<class 'numpy.ndarray'>\n",
      "float32\n"
     ]
    }
   ],
   "source": [
    "print(adata.X)\n",
    "print(adata.X.shape)\n",
    "print(type(adata.X))\n",
    "print(adata.X.dtype)"
   ]
  },
  {
   "cell_type": "code",
   "execution_count": 7,
   "metadata": {},
   "outputs": [],
   "source": [
    "cluster_type = 'my_clust_1'"
   ]
  },
  {
   "cell_type": "code",
   "execution_count": 8,
   "metadata": {},
   "outputs": [
    {
     "data": {
      "text/plain": [
       "TGCGTGGCATGACATC_sc69_1     5\n",
       "CAACCTCAGCTCTCGG_sc69_1     5\n",
       "TCGTACCCATCCCATC_sc72_1     5\n",
       "GTACTTTTCTAACGGT_sc69_1     5\n",
       "CCTAAAGCATAACCTG_sc72_1     5\n",
       "                           ..\n",
       "TTCTTAGTCTCGAGTA_sc72_1     5\n",
       "CATATGGCACACCGCA_sc69_1    17\n",
       "CTCCTAGGTTGGTAAA_sc69_1    17\n",
       "GGGTCTGAGGGCATGT_sc69_1    17\n",
       "CCTTCCCCACCTCGTT_sc69_1    17\n",
       "Name: my_clust_1, Length: 2000, dtype: category\n",
       "Categories (30, object): ['0', '10', '11', '11b', ..., '7c', '8', '9', '9b']"
      ]
     },
     "execution_count": 8,
     "metadata": {},
     "output_type": "execute_result"
    }
   ],
   "source": [
    "adata.obs[cluster_type]"
   ]
  },
  {
   "cell_type": "code",
   "execution_count": 9,
   "metadata": {},
   "outputs": [],
   "source": [
    "annotation_dict= {\n",
    "    '9': 'CAP1',\n",
    "    '24': 'CAP2',\n",
    "    '9b': 'VEC',\n",
    "    '27': 'LEC',\n",
    "        \n",
    "    '17': 'Ciliated',\n",
    "    '15': 'Secretory',\n",
    "    '22': 'AT1',\n",
    "    '6': 'AT2',\n",
    "    '12': 'AT2-t1',\n",
    "    '19': 'AT2-t2',\n",
    "        \n",
    "    '14': 'AF',\n",
    "    '25': 'Pericyte',\n",
    "        \n",
    "    '20': 'Mesothelial',\n",
    "        \n",
    "    '3': 'B1',\n",
    "    '3b': 'B2',\n",
    "        \n",
    "    '0': 'Th1',\n",
    "    '8': 'Tnaive',\n",
    "    '11': 'Tex',\n",
    "    '77': 'Treg',\n",
    "        \n",
    "    '11b': 'NK',\n",
    "        \n",
    "    '4a': 'AM',\n",
    "    '4': 'M-t1',\n",
    "    '10': 'M-lc',\n",
    "    '7': 'M-t2',\n",
    "    '7b': 'M-C1q',\n",
    "    '7c': 'iMon',\n",
    "        \n",
    "    '23': 'pDC',\n",
    "    '13': 'DC',\n",
    "    '5b': 'N1',\n",
    "    '5': 'N2',\n",
    "}"
   ]
  },
  {
   "cell_type": "code",
   "execution_count": 10,
   "metadata": {},
   "outputs": [
    {
     "name": "stdout",
     "output_type": "stream",
     "text": [
      "Keys in dictionary not in adata: ['24', '27', '12', '19', '3', '3b', '8', '11', '77', '11b', '4a', '4', '7b', '23', '13']\n",
      "Keys in adata not in dictionary: []\n"
     ]
    }
   ],
   "source": [
    "adata.obs['cell_type_edit'] = [annotation_dict[clust] for clust in adata.obs[cluster_type]]\n",
    "\n",
    "dict_list = list(annotation_dict.keys())\n",
    "adata_list = list(adata.obs[cluster_type].unique())\n",
    "print('Keys in dictionary not in adata:', [item for item in dict_list if item not in adata_list] )\n",
    "print('Keys in adata not in dictionary:', [item for item in adata_list if item not in dict_list] )"
   ]
  },
  {
   "cell_type": "code",
   "execution_count": 11,
   "metadata": {},
   "outputs": [
    {
     "data": {
      "text/plain": [
       "TGCGTGGCATGACATC_sc69_1          N2\n",
       "CAACCTCAGCTCTCGG_sc69_1          N2\n",
       "TCGTACCCATCCCATC_sc72_1          N2\n",
       "GTACTTTTCTAACGGT_sc69_1          N2\n",
       "CCTAAAGCATAACCTG_sc72_1          N2\n",
       "                             ...   \n",
       "TTCTTAGTCTCGAGTA_sc72_1          N2\n",
       "CATATGGCACACCGCA_sc69_1    Ciliated\n",
       "CTCCTAGGTTGGTAAA_sc69_1    Ciliated\n",
       "GGGTCTGAGGGCATGT_sc69_1    Ciliated\n",
       "CCTTCCCCACCTCGTT_sc69_1    Ciliated\n",
       "Name: cell_type_edit, Length: 2000, dtype: object"
      ]
     },
     "execution_count": 11,
     "metadata": {},
     "output_type": "execute_result"
    }
   ],
   "source": [
    "adata.obs['cell_type_edit']"
   ]
  },
  {
   "cell_type": "code",
   "execution_count": 12,
   "metadata": {},
   "outputs": [
    {
     "name": "stdout",
     "output_type": "stream",
     "text": [
      "['N2' 'M-lc' 'N1' 'Mesothelial' 'iMon' 'Ciliated' 'CAP1' 'M-t2' 'Th1'\n",
      " 'Secretory' 'AF' 'VEC' 'Pericyte' 'AT1' 'AT2']\n",
      "Number of unique sub cell types: 15\n"
     ]
    }
   ],
   "source": [
    "unique_celltype_sub = adata.obs['cell_type_edit'].unique()\n",
    "print(unique_celltype_sub)\n",
    "\n",
    "num_unique_celltype_sub = adata.obs['cell_type_edit'].nunique()\n",
    "print(f\"Number of unique sub cell types: {num_unique_celltype_sub}\")"
   ]
  },
  {
   "cell_type": "code",
   "execution_count": 13,
   "metadata": {},
   "outputs": [],
   "source": [
    "replacement_dict = {\n",
    "    'N2': 0,\n",
    "    'M-lc': 1,\n",
    "    'N1': 2,\n",
    "    'Mesothelial': 3,\n",
    "    'iMon': 4,\n",
    "    'Ciliated': 5,\n",
    "    'CAP1': 6,\n",
    "    'M-t2': 7,\n",
    "    'Th1': 8,\n",
    "    'Secretory': 9,\n",
    "    'AF': 10,\n",
    "    'VEC': 11,\n",
    "    'Pericyte': 12,\n",
    "    'AT1': 13,\n",
    "    'AT2': 14\n",
    "}"
   ]
  },
  {
   "cell_type": "code",
   "execution_count": 14,
   "metadata": {},
   "outputs": [
    {
     "name": "stderr",
     "output_type": "stream",
     "text": [
      "C:\\Users\\bence\\AppData\\Local\\Temp\\ipykernel_166084\\975682991.py:1: FutureWarning: Downcasting behavior in `replace` is deprecated and will be removed in a future version. To retain the old behavior, explicitly call `result.infer_objects(copy=False)`. To opt-in to the future behavior, set `pd.set_option('future.no_silent_downcasting', True)`\n",
      "  adata.obs['celltype'] = adata.obs['cell_type_edit'].replace(replacement_dict)\n"
     ]
    }
   ],
   "source": [
    "adata.obs['celltype'] = adata.obs['cell_type_edit'].replace(replacement_dict)"
   ]
  },
  {
   "cell_type": "code",
   "execution_count": 15,
   "metadata": {},
   "outputs": [
    {
     "data": {
      "text/plain": [
       "TGCGTGGCATGACATC_sc69_1    0\n",
       "CAACCTCAGCTCTCGG_sc69_1    0\n",
       "TCGTACCCATCCCATC_sc72_1    0\n",
       "GTACTTTTCTAACGGT_sc69_1    0\n",
       "CCTAAAGCATAACCTG_sc72_1    0\n",
       "                          ..\n",
       "TTCTTAGTCTCGAGTA_sc72_1    0\n",
       "CATATGGCACACCGCA_sc69_1    5\n",
       "CTCCTAGGTTGGTAAA_sc69_1    5\n",
       "GGGTCTGAGGGCATGT_sc69_1    5\n",
       "CCTTCCCCACCTCGTT_sc69_1    5\n",
       "Name: celltype, Length: 2000, dtype: int64"
      ]
     },
     "execution_count": 15,
     "metadata": {},
     "output_type": "execute_result"
    }
   ],
   "source": [
    "adata.obs['celltype']"
   ]
  },
  {
   "cell_type": "code",
   "execution_count": 16,
   "metadata": {},
   "outputs": [
    {
     "name": "stdout",
     "output_type": "stream",
     "text": [
      "Unique values in 'celltype' column after replacement: [ 0  1  2  3  4  5  6  7  8  9 10 11 12 13 14]\n"
     ]
    }
   ],
   "source": [
    "print(\"Unique values in 'celltype' column after replacement:\", adata.obs['celltype'].unique())"
   ]
  },
  {
   "cell_type": "code",
   "execution_count": 17,
   "metadata": {},
   "outputs": [
    {
     "name": "stdout",
     "output_type": "stream",
     "text": [
      "Number of cells in each cell type:\n",
      "cell_type_edit\n",
      "N2             1700\n",
      "N1              143\n",
      "Pericyte         36\n",
      "CAP1             28\n",
      "M-lc             26\n",
      "Ciliated         20\n",
      "AF               15\n",
      "AT1               8\n",
      "AT2               8\n",
      "Mesothelial       5\n",
      "VEC               4\n",
      "Secretory         3\n",
      "M-t2              2\n",
      "iMon              1\n",
      "Th1               1\n",
      "Name: count, dtype: int64\n"
     ]
    }
   ],
   "source": [
    "cell_type_counts = adata.obs['cell_type_edit'].value_counts()\n",
    "\n",
    "print(\"Number of cells in each cell type:\")\n",
    "print(cell_type_counts)"
   ]
  },
  {
   "cell_type": "code",
   "execution_count": 20,
   "metadata": {},
   "outputs": [
    {
     "data": {
      "image/png": "[encoded data removed]",
      "text/plain": [
       "<Figure size 1400x800 with 1 Axes>"
      ]
     },
     "metadata": {},
     "output_type": "display_data"
    }
   ],
   "source": [
    "# cell distribution with cell types\n",
    "y = adata.obs['cell_type_edit']\n",
    "plt.figure(figsize=(14, 8))\n",
    "plt.title('Cell Distribution with Cell Types')\n",
    "y.value_counts().plot(kind='bar', rot=0)\n",
    "plt.show()"
   ]
  },
  {
   "cell_type": "code",
   "execution_count": 19,
   "metadata": {},
   "outputs": [
    {
     "data": {
      "image/png": "[encoded data removed]",
      "text/plain": [
       "<Figure size 1400x800 with 1 Axes>"
      ]
     },
     "metadata": {},
     "output_type": "display_data"
    }
   ],
   "source": [
    "# cell distribution with int mappings\n",
    "y = adata.obs['celltype']\n",
    "plt.figure(figsize=(14, 8))\n",
    "plt.title('Cell Distribution with Integer Mappings')\n",
    "y.value_counts().plot(kind='bar', rot=0)\n",
    "plt.show()"
   ]
  },
  {
   "cell_type": "code",
   "execution_count": 22,
   "metadata": {},
   "outputs": [
    {
     "name": "stdout",
     "output_type": "stream",
     "text": [
      "Training features shape: (1200, 8013)\n",
      "Validation features shape: (400, 8013)\n",
      "Test features shape: (400, 8013)\n",
      "Training labels shape: (1200,)\n",
      "Validation labels shape: (400,)\n",
      "Test labels shape: (400,)\n",
      "Sample weights shape: (1200,)\n"
     ]
    }
   ],
   "source": [
    "X = adata.X\n",
    "y = adata.obs['celltype'].values\n",
    "\n",
    "train_features, test_features, train_labels, test_labels = train_test_split(X, y, test_size = 0.2, random_state=14)\n",
    "train_features, val_features, train_labels, val_labels = train_test_split(train_features, train_labels, test_size = 0.25, random_state=17)\n",
    "\n",
    "train_features = np.array(train_features)\n",
    "test_features = np.array(test_features)\n",
    "val_features = np.array(val_features)\n",
    "\n",
    "train_labels = np.array(train_labels)\n",
    "test_labels = np.array(test_labels)\n",
    "val_labels = np.array(val_labels)\n",
    "\n",
    "print('Training features shape:', train_features.shape)\n",
    "print('Validation features shape:', val_features.shape)\n",
    "print('Test features shape:', test_features.shape)\n",
    "\n",
    "print('Training labels shape:', train_labels.shape)\n",
    "print('Validation labels shape:', val_labels.shape)\n",
    "print('Test labels shape:', test_labels.shape)\n",
    "\n",
    "sample_weights = compute_sample_weight(\n",
    "    class_weight='balanced',\n",
    "    y=train_labels\n",
    ")\n",
    "\n",
    "print('Sample weights shape:', sample_weights.shape)\n",
    "\n",
    "np.save('../Arrays/train_features_scgnn.npy', train_features)\n",
    "np.save('../Arrays/test_features_scgnn.npy', test_features)\n",
    "np.save('../Arrays/val_features_scgnn.npy', val_features)\n",
    "np.save('../Arrays/train_labels_scgnn.npy', train_labels)\n",
    "np.save('../Arrays/test_labels_scgnn.npy', test_labels)\n",
    "np.save('../Arrays/val_labels_scgnn.npy', val_labels)\n",
    "np.save('../Arrays/sample_weights_scgnn.npy', sample_weights)"
   ]
  }
 ],
 "metadata": {
  "kernelspec": {
   "display_name": "env",
   "language": "python",
   "name": "python3"
  },
  "language_info": {
   "codemirror_mode": {
    "name": "ipython",
    "version": 3
   },
   "file_extension": ".py",
   "mimetype": "text/x-python",
   "name": "python",
   "nbconvert_exporter": "python",
   "pygments_lexer": "ipython3",
   "version": "3.11.3"
  }
 },
 "nbformat": 4,
 "nbformat_minor": 2
}
