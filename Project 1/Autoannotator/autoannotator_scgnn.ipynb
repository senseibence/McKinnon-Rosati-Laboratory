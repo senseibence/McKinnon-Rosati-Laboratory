{
 "cells": [
  {
   "cell_type": "code",
   "execution_count": 1,
   "metadata": {},
   "outputs": [
    {
     "name": "stderr",
     "output_type": "stream",
     "text": [
      "c:\\Users\\bence\\Projects\\BIO446\\McKinnon-Rosati-Laboratory\\env\\Lib\\site-packages\\anndata\\utils.py:429: FutureWarning: Importing read_csv from `anndata` is deprecated. Import anndata.io.read_csv instead.\n",
      "  warnings.warn(msg, FutureWarning)\n",
      "c:\\Users\\bence\\Projects\\BIO446\\McKinnon-Rosati-Laboratory\\env\\Lib\\site-packages\\anndata\\utils.py:429: FutureWarning: Importing read_excel from `anndata` is deprecated. Import anndata.io.read_excel instead.\n",
      "  warnings.warn(msg, FutureWarning)\n",
      "c:\\Users\\bence\\Projects\\BIO446\\McKinnon-Rosati-Laboratory\\env\\Lib\\site-packages\\anndata\\utils.py:429: FutureWarning: Importing read_hdf from `anndata` is deprecated. Import anndata.io.read_hdf instead.\n",
      "  warnings.warn(msg, FutureWarning)\n",
      "c:\\Users\\bence\\Projects\\BIO446\\McKinnon-Rosati-Laboratory\\env\\Lib\\site-packages\\anndata\\utils.py:429: FutureWarning: Importing read_loom from `anndata` is deprecated. Import anndata.io.read_loom instead.\n",
      "  warnings.warn(msg, FutureWarning)\n",
      "c:\\Users\\bence\\Projects\\BIO446\\McKinnon-Rosati-Laboratory\\env\\Lib\\site-packages\\anndata\\utils.py:429: FutureWarning: Importing read_mtx from `anndata` is deprecated. Import anndata.io.read_mtx instead.\n",
      "  warnings.warn(msg, FutureWarning)\n",
      "c:\\Users\\bence\\Projects\\BIO446\\McKinnon-Rosati-Laboratory\\env\\Lib\\site-packages\\anndata\\utils.py:429: FutureWarning: Importing read_text from `anndata` is deprecated. Import anndata.io.read_text instead.\n",
      "  warnings.warn(msg, FutureWarning)\n",
      "c:\\Users\\bence\\Projects\\BIO446\\McKinnon-Rosati-Laboratory\\env\\Lib\\site-packages\\anndata\\utils.py:429: FutureWarning: Importing read_umi_tools from `anndata` is deprecated. Import anndata.io.read_umi_tools instead.\n",
      "  warnings.warn(msg, FutureWarning)\n"
     ]
    }
   ],
   "source": [
    "import numpy as np\n",
    "import scanpy as sc\n",
    "import matplotlib.pyplot as plt\n",
    "import scipy.sparse\n",
    "from sklearn.model_selection import train_test_split\n",
    "from sklearn.utils.class_weight import compute_sample_weight"
   ]
  },
  {
   "cell_type": "code",
   "execution_count": 2,
   "metadata": {},
   "outputs": [],
   "source": [
    "data = \"../Data/scGNN_matrix.h5ad\""
   ]
  },
  {
   "cell_type": "code",
   "execution_count": 3,
   "metadata": {},
   "outputs": [
    {
     "name": "stdout",
     "output_type": "stream",
     "text": [
      "X matrix is sparse: False\n",
      "X size = (27603, 23693)\n"
     ]
    }
   ],
   "source": [
    "adata = sc.read_h5ad(data)\n",
    "print('X matrix is sparse:', scipy.sparse.issparse(adata.X))\n",
    "print('X size =', adata.X.shape)"
   ]
  },
  {
   "cell_type": "code",
   "execution_count": 4,
   "metadata": {},
   "outputs": [
    {
     "data": {
      "text/plain": [
       "AnnData object with n_obs × n_vars = 27603 × 23693\n",
       "    obs: 'celltype'"
      ]
     },
     "execution_count": 4,
     "metadata": {},
     "output_type": "execute_result"
    }
   ],
   "source": [
    "adata"
   ]
  },
  {
   "cell_type": "code",
   "execution_count": 5,
   "metadata": {},
   "outputs": [
    {
     "name": "stdout",
     "output_type": "stream",
     "text": [
      "[[0.0000000e+00 0.0000000e+00 0.0000000e+00 ... 0.0000000e+00\n",
      "  3.1264480e-02 4.9962458e-01]\n",
      " [0.0000000e+00 0.0000000e+00 0.0000000e+00 ... 0.0000000e+00\n",
      "  0.0000000e+00 1.3223546e-02]\n",
      " [0.0000000e+00 0.0000000e+00 0.0000000e+00 ... 0.0000000e+00\n",
      "  3.9397422e-02 6.4014697e-01]\n",
      " ...\n",
      " [0.0000000e+00 0.0000000e+00 0.0000000e+00 ... 0.0000000e+00\n",
      "  2.9884007e-02 7.8507602e-01]\n",
      " [0.0000000e+00 0.0000000e+00 0.0000000e+00 ... 0.0000000e+00\n",
      "  3.6549248e-02 1.0351356e+00]\n",
      " [0.0000000e+00 0.0000000e+00 6.6088885e-04 ... 0.0000000e+00\n",
      "  3.1275883e-02 3.8957477e-01]]\n",
      "(27603, 23693)\n",
      "<class 'numpy.ndarray'>\n",
      "float32\n"
     ]
    }
   ],
   "source": [
    "print(adata.X)\n",
    "print(adata.X.shape)\n",
    "print(type(adata.X))\n",
    "print(adata.X.dtype)"
   ]
  },
  {
   "cell_type": "code",
   "execution_count": 6,
   "metadata": {},
   "outputs": [
    {
     "data": {
      "text/plain": [
       "8.515175"
      ]
     },
     "execution_count": 6,
     "metadata": {},
     "output_type": "execute_result"
    }
   ],
   "source": [
    "adata.X.max()"
   ]
  },
  {
   "cell_type": "code",
   "execution_count": 7,
   "metadata": {},
   "outputs": [
    {
     "data": {
      "text/plain": [
       "AAACCTGAGCGTAGTG_sc69_1     0\n",
       "AAACCTGAGCTGATAA_sc69_1     1\n",
       "AAACCTGCAAATCCGT_sc69_1     2\n",
       "AAACCTGCAAGGGTCA_sc69_1     3\n",
       "AAACCTGCACATCCGG_sc69_1     2\n",
       "                           ..\n",
       "TTTGTCAGTTCAACCA_sc72_1     2\n",
       "TTTGTCAGTTCAGTAC_sc72_1    21\n",
       "TTTGTCATCACAAACC_sc72_1     2\n",
       "TTTGTCATCAGCACAT_sc72_1     2\n",
       "TTTGTCATCTCGAGTA_sc72_1    20\n",
       "Name: celltype, Length: 27603, dtype: int64"
      ]
     },
     "execution_count": 7,
     "metadata": {},
     "output_type": "execute_result"
    }
   ],
   "source": [
    "adata.obs['celltype']"
   ]
  },
  {
   "cell_type": "code",
   "execution_count": 8,
   "metadata": {},
   "outputs": [
    {
     "name": "stdout",
     "output_type": "stream",
     "text": [
      "Training features shape: (16561, 23693)\n",
      "Validation features shape: (5521, 23693)\n",
      "Test features shape: (5521, 23693)\n",
      "Training labels shape: (16561,)\n",
      "Validation labels shape: (5521,)\n",
      "Test labels shape: (5521,)\n",
      "Sample weights shape: (16561,)\n"
     ]
    }
   ],
   "source": [
    "X = adata.X\n",
    "y = adata.obs['celltype'].values\n",
    "\n",
    "train_features, test_features, train_labels, test_labels = train_test_split(X, y, test_size = 0.2, random_state=14)\n",
    "train_features, val_features, train_labels, val_labels = train_test_split(train_features, train_labels, test_size = 0.25, random_state=17)\n",
    "\n",
    "train_features = np.array(train_features)\n",
    "test_features = np.array(test_features)\n",
    "val_features = np.array(val_features)\n",
    "\n",
    "train_labels = np.array(train_labels)\n",
    "test_labels = np.array(test_labels)\n",
    "val_labels = np.array(val_labels)\n",
    "\n",
    "print('Training features shape:', train_features.shape)\n",
    "print('Validation features shape:', val_features.shape)\n",
    "print('Test features shape:', test_features.shape)\n",
    "\n",
    "print('Training labels shape:', train_labels.shape)\n",
    "print('Validation labels shape:', val_labels.shape)\n",
    "print('Test labels shape:', test_labels.shape)\n",
    "\n",
    "sample_weights = compute_sample_weight(\n",
    "    class_weight='balanced',\n",
    "    y=train_labels\n",
    ")\n",
    "\n",
    "print('Sample weights shape:', sample_weights.shape)\n",
    "\n",
    "np.save('../Arrays/train_features_scgnn.npy', train_features)\n",
    "np.save('../Arrays/test_features_scgnn.npy', test_features)\n",
    "np.save('../Arrays/val_features_scgnn.npy', val_features)\n",
    "np.save('../Arrays/train_labels_scgnn.npy', train_labels)\n",
    "np.save('../Arrays/test_labels_scgnn.npy', test_labels)\n",
    "np.save('../Arrays/val_labels_scgnn.npy', val_labels)\n",
    "np.save('../Arrays/sample_weights_scgnn.npy', sample_weights)"
   ]
  },
  {
   "cell_type": "code",
   "execution_count": 9,
   "metadata": {},
   "outputs": [],
   "source": [
    "# for umap display\n",
    "indices = train_test_split(adata.obs.index, test_size=0.2, random_state=14)[1]\n",
    "indices = np.array(indices)\n",
    "np.save('../Arrays/indices_scgnn.npy', indices)"
   ]
  }
 ],
 "metadata": {
  "kernelspec": {
   "display_name": "env",
   "language": "python",
   "name": "python3"
  },
  "language_info": {
   "codemirror_mode": {
    "name": "ipython",
    "version": 3
   },
   "file_extension": ".py",
   "mimetype": "text/x-python",
   "name": "python",
   "nbconvert_exporter": "python",
   "pygments_lexer": "ipython3",
   "version": "3.11.3"
  }
 },
 "nbformat": 4,
 "nbformat_minor": 2
}
